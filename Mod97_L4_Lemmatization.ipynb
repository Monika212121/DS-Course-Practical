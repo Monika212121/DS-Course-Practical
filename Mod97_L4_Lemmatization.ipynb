{
  "nbformat": 4,
  "nbformat_minor": 0,
  "metadata": {
    "colab": {
      "provenance": []
    },
    "kernelspec": {
      "name": "python3",
      "display_name": "Python 3"
    },
    "language_info": {
      "name": "python"
    }
  },
  "cells": [
    {
      "cell_type": "markdown",
      "source": [
        "# Lemmatization\n",
        "\n",
        "Lemmatization (or less commonly lemmatisation) in linguistics is the process of grouping together the inflected forms of a word so they can be analysed as a single item, identified by the word's lemma, or dictionary form."
      ],
      "metadata": {
        "id": "mO76HiyuK1sV"
      }
    },
    {
      "cell_type": "code",
      "execution_count": null,
      "metadata": {
        "id": "MdKtVSPJ9UhR"
      },
      "outputs": [],
      "source": [
        "import nltk\n",
        "from nltk.tokenize import word_tokenize\n",
        "from nltk.stem import WordNetLemmatizer"
      ]
    },
    {
      "cell_type": "code",
      "source": [
        "text = \"Lemmatization is a crucial technique for text processing. Lemmatization in linguistics is the process of grouping together the inflected forms of a word so they can be analysed as a single item, identified by the word's lemma, or dictionary form.\""
      ],
      "metadata": {
        "id": "KODgr_qaE06Z"
      },
      "execution_count": null,
      "outputs": []
    },
    {
      "cell_type": "code",
      "source": [
        "nltk.download('punkt_tab')"
      ],
      "metadata": {
        "colab": {
          "base_uri": "https://localhost:8080/"
        },
        "id": "TGAy-NxpL3kw",
        "outputId": "6776b3f9-7227-4868-f844-095adadc3a9e"
      },
      "execution_count": null,
      "outputs": [
        {
          "output_type": "stream",
          "name": "stderr",
          "text": [
            "[nltk_data] Downloading package punkt_tab to /root/nltk_data...\n",
            "[nltk_data]   Unzipping tokenizers/punkt_tab.zip.\n"
          ]
        },
        {
          "output_type": "execute_result",
          "data": {
            "text/plain": [
              "True"
            ]
          },
          "metadata": {},
          "execution_count": 4
        }
      ]
    },
    {
      "cell_type": "code",
      "source": [],
      "metadata": {
        "id": "orN1KbELNHeZ"
      },
      "execution_count": null,
      "outputs": []
    },
    {
      "cell_type": "markdown",
      "source": [
        "# Tokenize into words"
      ],
      "metadata": {
        "id": "y5A1-L7DLqAb"
      }
    },
    {
      "cell_type": "code",
      "source": [
        "words = word_tokenize(text)\n",
        "words"
      ],
      "metadata": {
        "colab": {
          "base_uri": "https://localhost:8080/"
        },
        "id": "BGwM1_-JE0_t",
        "outputId": "de8ef763-f4ba-4f26-aed9-214c4d8c8e99"
      },
      "execution_count": null,
      "outputs": [
        {
          "output_type": "execute_result",
          "data": {
            "text/plain": [
              "['Lemmatization',\n",
              " 'is',\n",
              " 'a',\n",
              " 'crucual',\n",
              " 'technique',\n",
              " 'for',\n",
              " 'text',\n",
              " 'processing',\n",
              " '.',\n",
              " 'Lemmatization',\n",
              " 'in',\n",
              " 'linguistics',\n",
              " 'is',\n",
              " 'the',\n",
              " 'process',\n",
              " 'of',\n",
              " 'grouping',\n",
              " 'together',\n",
              " 'the',\n",
              " 'inflected',\n",
              " 'forms',\n",
              " 'of',\n",
              " 'a',\n",
              " 'word',\n",
              " 'so',\n",
              " 'they',\n",
              " 'can',\n",
              " 'be',\n",
              " 'analysed',\n",
              " 'as',\n",
              " 'a',\n",
              " 'single',\n",
              " 'item',\n",
              " ',',\n",
              " 'identified',\n",
              " 'by',\n",
              " 'the',\n",
              " 'word',\n",
              " \"'s\",\n",
              " 'lemma',\n",
              " ',',\n",
              " 'or',\n",
              " 'dictionary',\n",
              " 'form',\n",
              " '.']"
            ]
          },
          "metadata": {},
          "execution_count": 5
        }
      ]
    },
    {
      "cell_type": "code",
      "source": [
        "len(words)"
      ],
      "metadata": {
        "colab": {
          "base_uri": "https://localhost:8080/"
        },
        "id": "BhOFeReaE1CZ",
        "outputId": "92ddb99a-e65d-4985-b6a8-75189359528d"
      },
      "execution_count": null,
      "outputs": [
        {
          "output_type": "execute_result",
          "data": {
            "text/plain": [
              "45"
            ]
          },
          "metadata": {},
          "execution_count": 6
        }
      ]
    },
    {
      "cell_type": "code",
      "source": [],
      "metadata": {
        "id": "zK9uF2LRE1E8"
      },
      "execution_count": null,
      "outputs": []
    },
    {
      "cell_type": "markdown",
      "source": [
        "# Initiate the Lemmatizer"
      ],
      "metadata": {
        "id": "MFFGQnQZMA_Z"
      }
    },
    {
      "cell_type": "code",
      "source": [
        "l = WordNetLemmatizer()\n",
        "l"
      ],
      "metadata": {
        "colab": {
          "base_uri": "https://localhost:8080/"
        },
        "id": "EYPizpjhE1Hw",
        "outputId": "8b791fbc-6acc-4948-cff2-611e890c6d65"
      },
      "execution_count": null,
      "outputs": [
        {
          "output_type": "execute_result",
          "data": {
            "text/plain": [
              "<WordNetLemmatizer>"
            ]
          },
          "metadata": {},
          "execution_count": 8
        }
      ]
    },
    {
      "cell_type": "code",
      "source": [
        "nltk.download('wordnet')"
      ],
      "metadata": {
        "colab": {
          "base_uri": "https://localhost:8080/"
        },
        "id": "bNedjBCGMb5-",
        "outputId": "00d94241-4fc4-4937-a8a5-ebf582baf929"
      },
      "execution_count": null,
      "outputs": [
        {
          "output_type": "stream",
          "name": "stderr",
          "text": [
            "[nltk_data] Downloading package wordnet to /root/nltk_data...\n"
          ]
        },
        {
          "output_type": "execute_result",
          "data": {
            "text/plain": [
              "True"
            ]
          },
          "metadata": {},
          "execution_count": 10
        }
      ]
    },
    {
      "cell_type": "code",
      "source": [
        "lemmatized_words = [l.lemmatize(word) for word in words]\n",
        "lemmatized_words"
      ],
      "metadata": {
        "colab": {
          "base_uri": "https://localhost:8080/"
        },
        "id": "C99EnpL0E1K9",
        "outputId": "6080d124-167f-4108-9746-1f93a70133cd"
      },
      "execution_count": null,
      "outputs": [
        {
          "output_type": "execute_result",
          "data": {
            "text/plain": [
              "['Lemmatization',\n",
              " 'is',\n",
              " 'a',\n",
              " 'crucual',\n",
              " 'technique',\n",
              " 'for',\n",
              " 'text',\n",
              " 'processing',\n",
              " '.',\n",
              " 'Lemmatization',\n",
              " 'in',\n",
              " 'linguistics',\n",
              " 'is',\n",
              " 'the',\n",
              " 'process',\n",
              " 'of',\n",
              " 'grouping',\n",
              " 'together',\n",
              " 'the',\n",
              " 'inflected',\n",
              " 'form',\n",
              " 'of',\n",
              " 'a',\n",
              " 'word',\n",
              " 'so',\n",
              " 'they',\n",
              " 'can',\n",
              " 'be',\n",
              " 'analysed',\n",
              " 'a',\n",
              " 'a',\n",
              " 'single',\n",
              " 'item',\n",
              " ',',\n",
              " 'identified',\n",
              " 'by',\n",
              " 'the',\n",
              " 'word',\n",
              " \"'s\",\n",
              " 'lemma',\n",
              " ',',\n",
              " 'or',\n",
              " 'dictionary',\n",
              " 'form',\n",
              " '.']"
            ]
          },
          "metadata": {},
          "execution_count": 12
        }
      ]
    },
    {
      "cell_type": "code",
      "source": [
        "len(lemmatized_words)"
      ],
      "metadata": {
        "colab": {
          "base_uri": "https://localhost:8080/"
        },
        "id": "PY_2dCy6E1Nm",
        "outputId": "415f12fa-ca4e-4056-9423-136e9cbd0f58"
      },
      "execution_count": null,
      "outputs": [
        {
          "output_type": "execute_result",
          "data": {
            "text/plain": [
              "45"
            ]
          },
          "metadata": {},
          "execution_count": 13
        }
      ]
    },
    {
      "cell_type": "code",
      "source": [],
      "metadata": {
        "id": "5HYZbsi6E1Rm"
      },
      "execution_count": null,
      "outputs": []
    },
    {
      "cell_type": "code",
      "source": [],
      "metadata": {
        "id": "oL6swn9kE1T6"
      },
      "execution_count": null,
      "outputs": []
    }
  ]
}
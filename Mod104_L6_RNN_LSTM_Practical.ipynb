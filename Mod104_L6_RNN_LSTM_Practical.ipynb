{
  "nbformat": 4,
  "nbformat_minor": 0,
  "metadata": {
    "colab": {
      "provenance": [],
      "gpuType": "T4"
    },
    "kernelspec": {
      "name": "python3",
      "display_name": "Python 3"
    },
    "language_info": {
      "name": "python"
    },
    "accelerator": "GPU"
  },
  "cells": [
    {
      "cell_type": "markdown",
      "source": [
        "# Fake news Classification using:\n",
        "\n",
        "1. RNN\n",
        "\n",
        "2. Bi-RNN\n",
        "\n",
        "3. LSTM\n",
        "\n",
        "4. Bi-LSTM"
      ],
      "metadata": {
        "id": "WjsdVLwH8JIB"
      }
    },
    {
      "cell_type": "code",
      "execution_count": null,
      "metadata": {
        "id": "Qj5U04U578r2"
      },
      "outputs": [],
      "source": [
        "import pandas as pd\n",
        "import numpy as np\n",
        "\n",
        "import nltk\n",
        "import re\n",
        "from nltk.corpus import stopwords\n",
        "from nltk.stem.porter import PorterStemmer\n",
        "from sklearn.model_selection import train_test_split\n",
        "from sklearn.metrics import confusion_matrix, accuracy_score, classification_report\n",
        "\n",
        "import tensorflow as tf\n",
        "from tensorflow.keras.models import Sequential\n",
        "from tensorflow.keras.layers import Dense, SimpleRNN, LSTM, Embedding, Bidirectional\n",
        "from tensorflow.keras.preprocessing.sequence import pad_sequences\n",
        "from tensorflow.keras.preprocessing.text import one_hot"
      ]
    },
    {
      "cell_type": "code",
      "source": [],
      "metadata": {
        "id": "iHQ9lbNw8G6B"
      },
      "execution_count": null,
      "outputs": []
    },
    {
      "cell_type": "markdown",
      "source": [
        "## Importing data"
      ],
      "metadata": {
        "id": "m7eY0Au49Qar"
      }
    },
    {
      "cell_type": "code",
      "source": [
        "from google.colab import files\n",
        "uploaded = files.upload()"
      ],
      "metadata": {
        "colab": {
          "base_uri": "https://localhost:8080/",
          "height": 73
        },
        "id": "_SNc2gX9L7ne",
        "outputId": "73c4c5b9-d667-48b7-9e89-8c3c2e5b8f8b"
      },
      "execution_count": null,
      "outputs": [
        {
          "output_type": "display_data",
          "data": {
            "text/plain": [
              "<IPython.core.display.HTML object>"
            ],
            "text/html": [
              "\n",
              "     <input type=\"file\" id=\"files-fbefd3ba-624e-4061-8c88-3ff014987d04\" name=\"files[]\" multiple disabled\n",
              "        style=\"border:none\" />\n",
              "     <output id=\"result-fbefd3ba-624e-4061-8c88-3ff014987d04\">\n",
              "      Upload widget is only available when the cell has been executed in the\n",
              "      current browser session. Please rerun this cell to enable.\n",
              "      </output>\n",
              "      <script>// Copyright 2017 Google LLC\n",
              "//\n",
              "// Licensed under the Apache License, Version 2.0 (the \"License\");\n",
              "// you may not use this file except in compliance with the License.\n",
              "// You may obtain a copy of the License at\n",
              "//\n",
              "//      http://www.apache.org/licenses/LICENSE-2.0\n",
              "//\n",
              "// Unless required by applicable law or agreed to in writing, software\n",
              "// distributed under the License is distributed on an \"AS IS\" BASIS,\n",
              "// WITHOUT WARRANTIES OR CONDITIONS OF ANY KIND, either express or implied.\n",
              "// See the License for the specific language governing permissions and\n",
              "// limitations under the License.\n",
              "\n",
              "/**\n",
              " * @fileoverview Helpers for google.colab Python module.\n",
              " */\n",
              "(function(scope) {\n",
              "function span(text, styleAttributes = {}) {\n",
              "  const element = document.createElement('span');\n",
              "  element.textContent = text;\n",
              "  for (const key of Object.keys(styleAttributes)) {\n",
              "    element.style[key] = styleAttributes[key];\n",
              "  }\n",
              "  return element;\n",
              "}\n",
              "\n",
              "// Max number of bytes which will be uploaded at a time.\n",
              "const MAX_PAYLOAD_SIZE = 100 * 1024;\n",
              "\n",
              "function _uploadFiles(inputId, outputId) {\n",
              "  const steps = uploadFilesStep(inputId, outputId);\n",
              "  const outputElement = document.getElementById(outputId);\n",
              "  // Cache steps on the outputElement to make it available for the next call\n",
              "  // to uploadFilesContinue from Python.\n",
              "  outputElement.steps = steps;\n",
              "\n",
              "  return _uploadFilesContinue(outputId);\n",
              "}\n",
              "\n",
              "// This is roughly an async generator (not supported in the browser yet),\n",
              "// where there are multiple asynchronous steps and the Python side is going\n",
              "// to poll for completion of each step.\n",
              "// This uses a Promise to block the python side on completion of each step,\n",
              "// then passes the result of the previous step as the input to the next step.\n",
              "function _uploadFilesContinue(outputId) {\n",
              "  const outputElement = document.getElementById(outputId);\n",
              "  const steps = outputElement.steps;\n",
              "\n",
              "  const next = steps.next(outputElement.lastPromiseValue);\n",
              "  return Promise.resolve(next.value.promise).then((value) => {\n",
              "    // Cache the last promise value to make it available to the next\n",
              "    // step of the generator.\n",
              "    outputElement.lastPromiseValue = value;\n",
              "    return next.value.response;\n",
              "  });\n",
              "}\n",
              "\n",
              "/**\n",
              " * Generator function which is called between each async step of the upload\n",
              " * process.\n",
              " * @param {string} inputId Element ID of the input file picker element.\n",
              " * @param {string} outputId Element ID of the output display.\n",
              " * @return {!Iterable<!Object>} Iterable of next steps.\n",
              " */\n",
              "function* uploadFilesStep(inputId, outputId) {\n",
              "  const inputElement = document.getElementById(inputId);\n",
              "  inputElement.disabled = false;\n",
              "\n",
              "  const outputElement = document.getElementById(outputId);\n",
              "  outputElement.innerHTML = '';\n",
              "\n",
              "  const pickedPromise = new Promise((resolve) => {\n",
              "    inputElement.addEventListener('change', (e) => {\n",
              "      resolve(e.target.files);\n",
              "    });\n",
              "  });\n",
              "\n",
              "  const cancel = document.createElement('button');\n",
              "  inputElement.parentElement.appendChild(cancel);\n",
              "  cancel.textContent = 'Cancel upload';\n",
              "  const cancelPromise = new Promise((resolve) => {\n",
              "    cancel.onclick = () => {\n",
              "      resolve(null);\n",
              "    };\n",
              "  });\n",
              "\n",
              "  // Wait for the user to pick the files.\n",
              "  const files = yield {\n",
              "    promise: Promise.race([pickedPromise, cancelPromise]),\n",
              "    response: {\n",
              "      action: 'starting',\n",
              "    }\n",
              "  };\n",
              "\n",
              "  cancel.remove();\n",
              "\n",
              "  // Disable the input element since further picks are not allowed.\n",
              "  inputElement.disabled = true;\n",
              "\n",
              "  if (!files) {\n",
              "    return {\n",
              "      response: {\n",
              "        action: 'complete',\n",
              "      }\n",
              "    };\n",
              "  }\n",
              "\n",
              "  for (const file of files) {\n",
              "    const li = document.createElement('li');\n",
              "    li.append(span(file.name, {fontWeight: 'bold'}));\n",
              "    li.append(span(\n",
              "        `(${file.type || 'n/a'}) - ${file.size} bytes, ` +\n",
              "        `last modified: ${\n",
              "            file.lastModifiedDate ? file.lastModifiedDate.toLocaleDateString() :\n",
              "                                    'n/a'} - `));\n",
              "    const percent = span('0% done');\n",
              "    li.appendChild(percent);\n",
              "\n",
              "    outputElement.appendChild(li);\n",
              "\n",
              "    const fileDataPromise = new Promise((resolve) => {\n",
              "      const reader = new FileReader();\n",
              "      reader.onload = (e) => {\n",
              "        resolve(e.target.result);\n",
              "      };\n",
              "      reader.readAsArrayBuffer(file);\n",
              "    });\n",
              "    // Wait for the data to be ready.\n",
              "    let fileData = yield {\n",
              "      promise: fileDataPromise,\n",
              "      response: {\n",
              "        action: 'continue',\n",
              "      }\n",
              "    };\n",
              "\n",
              "    // Use a chunked sending to avoid message size limits. See b/62115660.\n",
              "    let position = 0;\n",
              "    do {\n",
              "      const length = Math.min(fileData.byteLength - position, MAX_PAYLOAD_SIZE);\n",
              "      const chunk = new Uint8Array(fileData, position, length);\n",
              "      position += length;\n",
              "\n",
              "      const base64 = btoa(String.fromCharCode.apply(null, chunk));\n",
              "      yield {\n",
              "        response: {\n",
              "          action: 'append',\n",
              "          file: file.name,\n",
              "          data: base64,\n",
              "        },\n",
              "      };\n",
              "\n",
              "      let percentDone = fileData.byteLength === 0 ?\n",
              "          100 :\n",
              "          Math.round((position / fileData.byteLength) * 100);\n",
              "      percent.textContent = `${percentDone}% done`;\n",
              "\n",
              "    } while (position < fileData.byteLength);\n",
              "  }\n",
              "\n",
              "  // All done.\n",
              "  yield {\n",
              "    response: {\n",
              "      action: 'complete',\n",
              "    }\n",
              "  };\n",
              "}\n",
              "\n",
              "scope.google = scope.google || {};\n",
              "scope.google.colab = scope.google.colab || {};\n",
              "scope.google.colab._files = {\n",
              "  _uploadFiles,\n",
              "  _uploadFilesContinue,\n",
              "};\n",
              "})(self);\n",
              "</script> "
            ]
          },
          "metadata": {}
        },
        {
          "output_type": "stream",
          "name": "stdout",
          "text": [
            "Saving cleaned_fake_news_data.csv to cleaned_fake_news_data.csv\n"
          ]
        }
      ]
    },
    {
      "cell_type": "code",
      "source": [
        "df = pd.read_csv('cleaned_fake_news_data.csv',  encoding=\"ISO-8859-1\")\n",
        "df.head()"
      ],
      "metadata": {
        "colab": {
          "base_uri": "https://localhost:8080/",
          "height": 206
        },
        "id": "clTSmA3S-0M1",
        "outputId": "a44ad170-5ceb-4253-9071-93902355c786"
      },
      "execution_count": null,
      "outputs": [
        {
          "output_type": "execute_result",
          "data": {
            "text/plain": [
              "   id                                              title              author  \\\n",
              "0   0  House Dem Aide: We DidnÃ¢ÂÂt Even See ComeyÃ...       Darrell Lucus   \n",
              "1   1  FLYNN: Hillary Clinton, Big Woman on Campus - ...     Daniel J. Flynn   \n",
              "2   2                  Why the Truth Might Get You Fired  Consortiumnews.com   \n",
              "3   3  15 Civilians Killed In Single US Airstrike Hav...     Jessica Purkiss   \n",
              "4   4  Iranian woman jailed for fictional unpublished...      Howard Portnoy   \n",
              "\n",
              "                                                text  label  \n",
              "0  House Dem Aide: We DidnÃ¢ÂÂt Even See ComeyÃ...      1  \n",
              "1  Ever get the feeling your life circles the rou...      0  \n",
              "2  Why the Truth Might Get You Fired October 29, ...      1  \n",
              "3  Videos 15 Civilians Killed In Single US Airstr...      1  \n",
              "4  Print \\nAn Iranian woman has been sentenced to...      1  "
            ],
            "text/html": [
              "\n",
              "  <div id=\"df-0aad941b-4d7d-499f-a888-9838d0ebbb79\" class=\"colab-df-container\">\n",
              "    <div>\n",
              "<style scoped>\n",
              "    .dataframe tbody tr th:only-of-type {\n",
              "        vertical-align: middle;\n",
              "    }\n",
              "\n",
              "    .dataframe tbody tr th {\n",
              "        vertical-align: top;\n",
              "    }\n",
              "\n",
              "    .dataframe thead th {\n",
              "        text-align: right;\n",
              "    }\n",
              "</style>\n",
              "<table border=\"1\" class=\"dataframe\">\n",
              "  <thead>\n",
              "    <tr style=\"text-align: right;\">\n",
              "      <th></th>\n",
              "      <th>id</th>\n",
              "      <th>title</th>\n",
              "      <th>author</th>\n",
              "      <th>text</th>\n",
              "      <th>label</th>\n",
              "    </tr>\n",
              "  </thead>\n",
              "  <tbody>\n",
              "    <tr>\n",
              "      <th>0</th>\n",
              "      <td>0</td>\n",
              "      <td>House Dem Aide: We DidnÃ¢ÂÂt Even See ComeyÃ...</td>\n",
              "      <td>Darrell Lucus</td>\n",
              "      <td>House Dem Aide: We DidnÃ¢ÂÂt Even See ComeyÃ...</td>\n",
              "      <td>1</td>\n",
              "    </tr>\n",
              "    <tr>\n",
              "      <th>1</th>\n",
              "      <td>1</td>\n",
              "      <td>FLYNN: Hillary Clinton, Big Woman on Campus - ...</td>\n",
              "      <td>Daniel J. Flynn</td>\n",
              "      <td>Ever get the feeling your life circles the rou...</td>\n",
              "      <td>0</td>\n",
              "    </tr>\n",
              "    <tr>\n",
              "      <th>2</th>\n",
              "      <td>2</td>\n",
              "      <td>Why the Truth Might Get You Fired</td>\n",
              "      <td>Consortiumnews.com</td>\n",
              "      <td>Why the Truth Might Get You Fired October 29, ...</td>\n",
              "      <td>1</td>\n",
              "    </tr>\n",
              "    <tr>\n",
              "      <th>3</th>\n",
              "      <td>3</td>\n",
              "      <td>15 Civilians Killed In Single US Airstrike Hav...</td>\n",
              "      <td>Jessica Purkiss</td>\n",
              "      <td>Videos 15 Civilians Killed In Single US Airstr...</td>\n",
              "      <td>1</td>\n",
              "    </tr>\n",
              "    <tr>\n",
              "      <th>4</th>\n",
              "      <td>4</td>\n",
              "      <td>Iranian woman jailed for fictional unpublished...</td>\n",
              "      <td>Howard Portnoy</td>\n",
              "      <td>Print \\nAn Iranian woman has been sentenced to...</td>\n",
              "      <td>1</td>\n",
              "    </tr>\n",
              "  </tbody>\n",
              "</table>\n",
              "</div>\n",
              "    <div class=\"colab-df-buttons\">\n",
              "\n",
              "  <div class=\"colab-df-container\">\n",
              "    <button class=\"colab-df-convert\" onclick=\"convertToInteractive('df-0aad941b-4d7d-499f-a888-9838d0ebbb79')\"\n",
              "            title=\"Convert this dataframe to an interactive table.\"\n",
              "            style=\"display:none;\">\n",
              "\n",
              "  <svg xmlns=\"http://www.w3.org/2000/svg\" height=\"24px\" viewBox=\"0 -960 960 960\">\n",
              "    <path d=\"M120-120v-720h720v720H120Zm60-500h600v-160H180v160Zm220 220h160v-160H400v160Zm0 220h160v-160H400v160ZM180-400h160v-160H180v160Zm440 0h160v-160H620v160ZM180-180h160v-160H180v160Zm440 0h160v-160H620v160Z\"/>\n",
              "  </svg>\n",
              "    </button>\n",
              "\n",
              "  <style>\n",
              "    .colab-df-container {\n",
              "      display:flex;\n",
              "      gap: 12px;\n",
              "    }\n",
              "\n",
              "    .colab-df-convert {\n",
              "      background-color: #E8F0FE;\n",
              "      border: none;\n",
              "      border-radius: 50%;\n",
              "      cursor: pointer;\n",
              "      display: none;\n",
              "      fill: #1967D2;\n",
              "      height: 32px;\n",
              "      padding: 0 0 0 0;\n",
              "      width: 32px;\n",
              "    }\n",
              "\n",
              "    .colab-df-convert:hover {\n",
              "      background-color: #E2EBFA;\n",
              "      box-shadow: 0px 1px 2px rgba(60, 64, 67, 0.3), 0px 1px 3px 1px rgba(60, 64, 67, 0.15);\n",
              "      fill: #174EA6;\n",
              "    }\n",
              "\n",
              "    .colab-df-buttons div {\n",
              "      margin-bottom: 4px;\n",
              "    }\n",
              "\n",
              "    [theme=dark] .colab-df-convert {\n",
              "      background-color: #3B4455;\n",
              "      fill: #D2E3FC;\n",
              "    }\n",
              "\n",
              "    [theme=dark] .colab-df-convert:hover {\n",
              "      background-color: #434B5C;\n",
              "      box-shadow: 0px 1px 3px 1px rgba(0, 0, 0, 0.15);\n",
              "      filter: drop-shadow(0px 1px 2px rgba(0, 0, 0, 0.3));\n",
              "      fill: #FFFFFF;\n",
              "    }\n",
              "  </style>\n",
              "\n",
              "    <script>\n",
              "      const buttonEl =\n",
              "        document.querySelector('#df-0aad941b-4d7d-499f-a888-9838d0ebbb79 button.colab-df-convert');\n",
              "      buttonEl.style.display =\n",
              "        google.colab.kernel.accessAllowed ? 'block' : 'none';\n",
              "\n",
              "      async function convertToInteractive(key) {\n",
              "        const element = document.querySelector('#df-0aad941b-4d7d-499f-a888-9838d0ebbb79');\n",
              "        const dataTable =\n",
              "          await google.colab.kernel.invokeFunction('convertToInteractive',\n",
              "                                                    [key], {});\n",
              "        if (!dataTable) return;\n",
              "\n",
              "        const docLinkHtml = 'Like what you see? Visit the ' +\n",
              "          '<a target=\"_blank\" href=https://colab.research.google.com/notebooks/data_table.ipynb>data table notebook</a>'\n",
              "          + ' to learn more about interactive tables.';\n",
              "        element.innerHTML = '';\n",
              "        dataTable['output_type'] = 'display_data';\n",
              "        await google.colab.output.renderOutput(dataTable, element);\n",
              "        const docLink = document.createElement('div');\n",
              "        docLink.innerHTML = docLinkHtml;\n",
              "        element.appendChild(docLink);\n",
              "      }\n",
              "    </script>\n",
              "  </div>\n",
              "\n",
              "\n",
              "    <div id=\"df-8fc158fc-0d06-4093-bf1e-f0e246c6d8fe\">\n",
              "      <button class=\"colab-df-quickchart\" onclick=\"quickchart('df-8fc158fc-0d06-4093-bf1e-f0e246c6d8fe')\"\n",
              "                title=\"Suggest charts\"\n",
              "                style=\"display:none;\">\n",
              "\n",
              "<svg xmlns=\"http://www.w3.org/2000/svg\" height=\"24px\"viewBox=\"0 0 24 24\"\n",
              "     width=\"24px\">\n",
              "    <g>\n",
              "        <path d=\"M19 3H5c-1.1 0-2 .9-2 2v14c0 1.1.9 2 2 2h14c1.1 0 2-.9 2-2V5c0-1.1-.9-2-2-2zM9 17H7v-7h2v7zm4 0h-2V7h2v10zm4 0h-2v-4h2v4z\"/>\n",
              "    </g>\n",
              "</svg>\n",
              "      </button>\n",
              "\n",
              "<style>\n",
              "  .colab-df-quickchart {\n",
              "      --bg-color: #E8F0FE;\n",
              "      --fill-color: #1967D2;\n",
              "      --hover-bg-color: #E2EBFA;\n",
              "      --hover-fill-color: #174EA6;\n",
              "      --disabled-fill-color: #AAA;\n",
              "      --disabled-bg-color: #DDD;\n",
              "  }\n",
              "\n",
              "  [theme=dark] .colab-df-quickchart {\n",
              "      --bg-color: #3B4455;\n",
              "      --fill-color: #D2E3FC;\n",
              "      --hover-bg-color: #434B5C;\n",
              "      --hover-fill-color: #FFFFFF;\n",
              "      --disabled-bg-color: #3B4455;\n",
              "      --disabled-fill-color: #666;\n",
              "  }\n",
              "\n",
              "  .colab-df-quickchart {\n",
              "    background-color: var(--bg-color);\n",
              "    border: none;\n",
              "    border-radius: 50%;\n",
              "    cursor: pointer;\n",
              "    display: none;\n",
              "    fill: var(--fill-color);\n",
              "    height: 32px;\n",
              "    padding: 0;\n",
              "    width: 32px;\n",
              "  }\n",
              "\n",
              "  .colab-df-quickchart:hover {\n",
              "    background-color: var(--hover-bg-color);\n",
              "    box-shadow: 0 1px 2px rgba(60, 64, 67, 0.3), 0 1px 3px 1px rgba(60, 64, 67, 0.15);\n",
              "    fill: var(--button-hover-fill-color);\n",
              "  }\n",
              "\n",
              "  .colab-df-quickchart-complete:disabled,\n",
              "  .colab-df-quickchart-complete:disabled:hover {\n",
              "    background-color: var(--disabled-bg-color);\n",
              "    fill: var(--disabled-fill-color);\n",
              "    box-shadow: none;\n",
              "  }\n",
              "\n",
              "  .colab-df-spinner {\n",
              "    border: 2px solid var(--fill-color);\n",
              "    border-color: transparent;\n",
              "    border-bottom-color: var(--fill-color);\n",
              "    animation:\n",
              "      spin 1s steps(1) infinite;\n",
              "  }\n",
              "\n",
              "  @keyframes spin {\n",
              "    0% {\n",
              "      border-color: transparent;\n",
              "      border-bottom-color: var(--fill-color);\n",
              "      border-left-color: var(--fill-color);\n",
              "    }\n",
              "    20% {\n",
              "      border-color: transparent;\n",
              "      border-left-color: var(--fill-color);\n",
              "      border-top-color: var(--fill-color);\n",
              "    }\n",
              "    30% {\n",
              "      border-color: transparent;\n",
              "      border-left-color: var(--fill-color);\n",
              "      border-top-color: var(--fill-color);\n",
              "      border-right-color: var(--fill-color);\n",
              "    }\n",
              "    40% {\n",
              "      border-color: transparent;\n",
              "      border-right-color: var(--fill-color);\n",
              "      border-top-color: var(--fill-color);\n",
              "    }\n",
              "    60% {\n",
              "      border-color: transparent;\n",
              "      border-right-color: var(--fill-color);\n",
              "    }\n",
              "    80% {\n",
              "      border-color: transparent;\n",
              "      border-right-color: var(--fill-color);\n",
              "      border-bottom-color: var(--fill-color);\n",
              "    }\n",
              "    90% {\n",
              "      border-color: transparent;\n",
              "      border-bottom-color: var(--fill-color);\n",
              "    }\n",
              "  }\n",
              "</style>\n",
              "\n",
              "      <script>\n",
              "        async function quickchart(key) {\n",
              "          const quickchartButtonEl =\n",
              "            document.querySelector('#' + key + ' button');\n",
              "          quickchartButtonEl.disabled = true;  // To prevent multiple clicks.\n",
              "          quickchartButtonEl.classList.add('colab-df-spinner');\n",
              "          try {\n",
              "            const charts = await google.colab.kernel.invokeFunction(\n",
              "                'suggestCharts', [key], {});\n",
              "          } catch (error) {\n",
              "            console.error('Error during call to suggestCharts:', error);\n",
              "          }\n",
              "          quickchartButtonEl.classList.remove('colab-df-spinner');\n",
              "          quickchartButtonEl.classList.add('colab-df-quickchart-complete');\n",
              "        }\n",
              "        (() => {\n",
              "          let quickchartButtonEl =\n",
              "            document.querySelector('#df-8fc158fc-0d06-4093-bf1e-f0e246c6d8fe button');\n",
              "          quickchartButtonEl.style.display =\n",
              "            google.colab.kernel.accessAllowed ? 'block' : 'none';\n",
              "        })();\n",
              "      </script>\n",
              "    </div>\n",
              "\n",
              "    </div>\n",
              "  </div>\n"
            ],
            "application/vnd.google.colaboratory.intrinsic+json": {
              "type": "dataframe",
              "variable_name": "df",
              "summary": "{\n  \"name\": \"df\",\n  \"rows\": 429,\n  \"fields\": [\n    {\n      \"column\": \"id\",\n      \"properties\": {\n        \"dtype\": \"number\",\n        \"std\": 143,\n        \"min\": 0,\n        \"max\": 501,\n        \"num_unique_values\": 429,\n        \"samples\": [\n          491,\n          88,\n          208\n        ],\n        \"semantic_type\": \"\",\n        \"description\": \"\"\n      }\n    },\n    {\n      \"column\": \"title\",\n      \"properties\": {\n        \"dtype\": \"string\",\n        \"num_unique_values\": 429,\n        \"samples\": [\n          \"\\u00c3\\u00a2\\u00c2\\u0080\\u00c2\\u0098They Will Have to Die Now\\u00c3\\u00a2\\u00c2\\u0080\\u00c2\\u0099 - The New York Times\",\n          \"Fox Biz Reporter Can't Help But Bash Clinton\\u00c3\\u00a2\\u00c2\\u0080\\u00c2\\u0099s Rally After Covering Trump\\u00c3\\u00a2\\u00c2\\u0080\\u00c2\\u0099s Packed Event Day Before\",\n          \"Commissioner Starts to Press Cleveland Indians About Logo - The New York Times\"\n        ],\n        \"semantic_type\": \"\",\n        \"description\": \"\"\n      }\n    },\n    {\n      \"column\": \"author\",\n      \"properties\": {\n        \"dtype\": \"string\",\n        \"num_unique_values\": 322,\n        \"samples\": [\n          \"Andrew Ross Sorkin\",\n          \"runsinquicksand\",\n          \"Roger Aronoff\"\n        ],\n        \"semantic_type\": \"\",\n        \"description\": \"\"\n      }\n    },\n    {\n      \"column\": \"text\",\n      \"properties\": {\n        \"dtype\": \"string\",\n        \"num_unique_values\": 425,\n        \"samples\": [\n          \"Before dawn on a Sunday late last month, a battalion of pesh merga soldiers  \\u00c3\\u00a2\\u00c2\\u0080\\u00c2\\u0094   about 600 Kurdish men, along with a few women  \\u00c3\\u00a2\\u00c2\\u0080\\u00c2\\u0094   gathered in the shadow of Bashiqa Mountain, on the western edge of the autonomous region of Iraqi Kurdistan. They were sons, daughters, fathers, grandfathers. They wore an assortment of camouflage fatigues and traditional Kurdish flowing pants, waist sashes and head scarves. They carried antique Kalashnikovs and new assault rifles. Few had helmets, and fewer had body armor. Strapped to their backs and belts and legs were daggers, revolvers, axes. Some of them had received the call to duty only the day before and were driven to the front by family or rode overnight in taxis. With them was a column of vehicles new, old and very old: armored personnel carriers,     vehicles (MRAPs) Humvees, S. U. V. s, ambulances, Soviet tanks, backhoes, bulldozers,   sedans and a bestiary of retrofitted pickups and battlewagons, whose tenuous welding and argumentative suspensions told of the years Iraqi Kurds had spent fighting with    and homemade hardware in one war or another. At 7 a. m. the idling engines came to life, and cries went up: \\u00c3\\u00a2\\u00c2\\u0080\\u00c2\\u009cLong live pesh merga!\\u00c3\\u00a2\\u00c2\\u0080\\u00c2\\u009d \\u00c3\\u00a2\\u00c2\\u0080\\u00c2\\u009cDeath to ISIS!\\u00c3\\u00a2\\u00c2\\u0080\\u00c2\\u009d The troops started down an unpaved track that led southwest through the Tigris River valley toward the city of Mosul. As the march went on, villages gave way to occasional abandoned farmhouses, crop fields to dunes, and the sun made itself felt. A long dust cloud rose in the wake of the column, whose eventual destination was Bashiqa, a small city on the mountain\\u00c3\\u00a2\\u00c2\\u0080\\u00c2\\u0099s edge that was claimed by the Islamic State. The operation to retake Mosul had finally begun one week earlier on Oct. 16. The pesh merga led the charge toward the city, Iraq\\u00c3\\u00a2\\u00c2\\u0080\\u00c2\\u0099s   and ISIS\\u00c3\\u00a2\\u00c2\\u0080\\u00c2\\u0099 last citadel in the country. Mosul had become the focus of the world\\u00c3\\u00a2\\u00c2\\u0080\\u00c2\\u0099s attention, and the battle for it had been criticized even before it began. In the second presidential debate, Donald Trump complained that in revealing its designs on Mosul, the international   coalition was telegraphing its punches. This was inevitably true  \\u00c3\\u00a2\\u00c2\\u0080\\u00c2\\u0094   not even ISIS had ever doubted that Mosul would be invaded  \\u00c3\\u00a2\\u00c2\\u0080\\u00c2\\u0094   but it was also true that the first flurry of blows was too big to duck. Embedded in the column was a unit of American Special Forces, in a cluster of MRAPs. They were there, it was understood, to pick out targets for airstrikes. Rumbling in the distance, the bombs had deposited on the horizon a dome of inky vapor. While the pesh merga attacked ISIS from the north and the east, the Iraqi military was approaching from the south. The job of the battalion moving toward Bashiqa was to shore up the eastern front and extend a cordon around Mosul. The Iraqis\\u00c3\\u00a2\\u00c2\\u0080\\u00c2\\u0099 next moves would depend in part on the Kurds\\u00c3\\u00a2\\u00c2\\u0080\\u00c2\\u0099 success. For the moment, in other words, the progress of the central conflict in the Middle East had come down to this unlikely troop. The first ISIS mortar fire arrived in the midmorning with whizzes and thuds. It was off target, and the soldiers regarded the dirt plumes with indifference. The first incoming bullets soon followed and were cause for more alarm. They flew from a rambling,     house on the crest of a slope. The gunfire split the column in two. The back portion halted behind a berm about 12 feet high and about 300 yards downslope from the house. A few soldiers climbed up the dirt and took aim. The rest got out of their vehicles and pulled out phones and cigarettes. Group photos and selfies were snapped. \\u00c3\\u00a2\\u00c2\\u0080\\u00c2\\u009cLet\\u00c3\\u00a2\\u00c2\\u0080\\u00c2\\u0099s use the cannon,\\u00c3\\u00a2\\u00c2\\u0080\\u00c2\\u009d a commander suggested. A pickup mounted with an   gun pulled in front of the berm. The first shot fell short a second hit the house, leaving a disappointingly small hole in the facade. When there was a pause in the fighting, a group of trucks emerged from behind the berm, raced up the track and cut right onto a hillock that overlooked the house. Some pesh merga got out and gathered. They presented a clear target for snipers and artillery, but they didn\\u00c3\\u00a2\\u00c2\\u0080\\u00c2\\u0099t appear to mind. They chatted, laughed, smoked, checked their phones. More group photos, more selfies. Even after two mortar rounds landed in quick succession on either side of them  \\u00c3\\u00a2\\u00c2\\u0080\\u00c2\\u0094   a sign that a spotter was nearby, bracketing their position  \\u00c3\\u00a2\\u00c2\\u0080\\u00c2\\u0094   they remained unhurried. Eventually they got back into their vehicles and, under fire from the house, headed straight for it. The ISIS fighters had built their own berm beside the house\\u00c3\\u00a2\\u00c2\\u0080\\u00c2\\u0099s exterior wall. The Kurdish soldiers backed their trucks up to it, and one of them opened up on the house with a   machine gun. Others peeked over the berm, taking the occasional potshot. One walked up to a gap in the dirt and, with neither cover nor helmet, a cigarette dangling from his lips, emptied a magazine. The   jammed. The fighting subsided again. The soldiers reclined at the base of the berm. Out came the phones. More selfies. Texting. A man called his mother. Another watched a video of a firefight taking place on some other front around Mosul. None of them seemed eager to storm the house. \\u00c3\\u00a2\\u00c2\\u0080\\u00c2\\u009cI\\u00c3\\u00a2\\u00c2\\u0080\\u00c2\\u0099m deaf from that cannon!\\u00c3\\u00a2\\u00c2\\u0080\\u00c2\\u009d a soldier said. \\u00c3\\u00a2\\u00c2\\u0080\\u00c2\\u009cDid you take any photos of it being shot?\\u00c3\\u00a2\\u00c2\\u0080\\u00c2\\u009d another asked him. The gunner got into an argument with another soldier over whose responsibility it had been to make sure the   was working properly that morning. \\u00c3\\u00a2\\u00c2\\u0080\\u00c2\\u009cYou were supposed to fix it!\\u00c3\\u00a2\\u00c2\\u0080\\u00c2\\u009d \\u00c3\\u00a2\\u00c2\\u0080\\u00c2\\u009cIt\\u00c3\\u00a2\\u00c2\\u0080\\u00c2\\u0099s not my job!\\u00c3\\u00a2\\u00c2\\u0080\\u00c2\\u009d \\u00c3\\u00a2\\u00c2\\u0080\\u00c2\\u009cIt\\u00c3\\u00a2\\u00c2\\u0080\\u00c2\\u0099s not as if you had to build an airplane. It\\u00c3\\u00a2\\u00c2\\u0080\\u00c2\\u0099s simple. \\u00c3\\u00a2\\u00c2\\u0080\\u00c2\\u009d \\u00c3\\u00a2\\u00c2\\u0080\\u00c2\\u009cYou came all the way to the front in a taxi, and now all you do is talk. You just talk. \\u00c3\\u00a2\\u00c2\\u0080\\u00c2\\u009d Another burst of gunfire from the house, and a soldier climbed behind the   gun. \\u00c3\\u00a2\\u00c2\\u0080\\u00c2\\u009cCome help me,\\u00c3\\u00a2\\u00c2\\u0080\\u00c2\\u009d he instructed a colleague. \\u00c3\\u00a2\\u00c2\\u0080\\u00c2\\u009cI don\\u00c3\\u00a2\\u00c2\\u0080\\u00c2\\u0099t know how. \\u00c3\\u00a2\\u00c2\\u0080\\u00c2\\u009d \\u00c3\\u00a2\\u00c2\\u0080\\u00c2\\u009cIf you don\\u00c3\\u00a2\\u00c2\\u0080\\u00c2\\u0099t get up here and help me, I\\u00c3\\u00a2\\u00c2\\u0080\\u00c2\\u0099m going to do everything that\\u00c3\\u00a2\\u00c2\\u0080\\u00c2\\u0099s bad to you. \\u00c3\\u00a2\\u00c2\\u0080\\u00c2\\u009d The gun was loaded and fired. The backblast shattered a pickup\\u00c3\\u00a2\\u00c2\\u0080\\u00c2\\u0099s windshield. \\u00c3\\u00a2\\u00c2\\u0080\\u00c2\\u009cBazan, where are your cigarettes?\\u00c3\\u00a2\\u00c2\\u0080\\u00c2\\u009d Bazan ran to a truck and returned with a pack of cigarettes. \\u00c3\\u00a2\\u00c2\\u0080\\u00c2\\u009cWho wants a cigarette?\\u00c3\\u00a2\\u00c2\\u0080\\u00c2\\u009d The group lit up. \\u00c3\\u00a2\\u00c2\\u0080\\u00c2\\u009cEveryone here talks like a man,\\u00c3\\u00a2\\u00c2\\u0080\\u00c2\\u009d a soldier said, \\u00c3\\u00a2\\u00c2\\u0080\\u00c2\\u009cbut no one fights like one. \\u00c3\\u00a2\\u00c2\\u0080\\u00c2\\u009d There was a note of false modesty in this quip. In fact, for centuries Kurds have fought famously, taking on all comers: Persians, Ottomans, Arabs, British and the various governments of Iraq. A diffuse institution  \\u00c3\\u00a2\\u00c2\\u0080\\u00c2\\u0094   \\u00c3\\u00a2\\u00c2\\u0080\\u00c2\\u009cmore an attitude than an army,\\u00c3\\u00a2\\u00c2\\u0080\\u00c2\\u009d as one Kurd put it  \\u00c3\\u00a2\\u00c2\\u0080\\u00c2\\u0094   the pesh merga today contain anywhere from several tens of thousands to about a hundred thousand fighters, depending on who\\u00c3\\u00a2\\u00c2\\u0080\\u00c2\\u0099s counting and how proud he\\u00c3\\u00a2\\u00c2\\u0080\\u00c2\\u0099s feeling. Many are volunteers. Only some of them have training that would warrant the name in a major military. The one thing they all share is that they are willing to die for their land. If their tactics are negligible  \\u00c3\\u00a2\\u00c2\\u0080\\u00c2\\u0094   and sometimes as suicidal as those of the jihadists  \\u00c3\\u00a2\\u00c2\\u0080\\u00c2\\u0094   their bravery is not. The pesh merga are commanded by Massoud Barzani, president of the Kurdish regional government. When ISIS overran Mosul in June 2014, Barzani offered the help of his army to Prime Minister Nuri Kamal   who snubbed him. It was assumed Maliki worried that Barzani intended to annex whatever land his troops took. Maliki\\u00c3\\u00a2\\u00c2\\u0080\\u00c2\\u0099s successor, Haider   may have delayed the invasion of Mosul for the same reason. But earlier this year, Barzani, Abadi and the international coalition arrived at an agreement that called for the Kurdish forces to halt their advance at Bashiqa. About six miles from the eastern outskirts of Mosul, Bashiqa was inhabited largely by Christians, Kurds and members of the Yazidi minority, most of whom fled when ISIS arrived. The city presented an added political wrinkle in the war because it is in the \\u00c3\\u00a2\\u00c2\\u0080\\u00c2\\u009cdisputed territories,\\u00c3\\u00a2\\u00c2\\u0080\\u00c2\\u009d land claimed by both Iraq and the Kurdish regional government. Certain Kurds, mainly older ones, consider Mosul theirs, too. Partly for this reason  \\u00c3\\u00a2\\u00c2\\u0080\\u00c2\\u0094   but more because they\\u00c3\\u00a2\\u00c2\\u0080\\u00c2\\u0099re accustomed to fighting against the Iraqi military, not alongside it  \\u00c3\\u00a2\\u00c2\\u0080\\u00c2\\u0094   some pesh merga worried they would be attacked, or at least mistreated, by Iraqi soldiers when the two forces met on the front lines. Speculation about a sequel war between Kurdistan and Iraq was (and still is) commonplace. But so far relations were cordial, and the Iraqi military, knowing it would have its hands full with the close combat in Mosul\\u00c3\\u00a2\\u00c2\\u0080\\u00c2\\u0099s ancient streets, was content to leave the Bashiqa campaign to the Kurds. \\u00c3\\u00a2\\u00c2\\u0080\\u00c2\\u009cThis war is very different for us Kurds,\\u00c3\\u00a2\\u00c2\\u0080\\u00c2\\u009d Barzani\\u00c3\\u00a2\\u00c2\\u0080\\u00c2\\u0099s brother, Sihad Barzani, explained several days after the campaign began. \\u00c3\\u00a2\\u00c2\\u0080\\u00c2\\u009cThis is the first time we\\u00c3\\u00a2\\u00c2\\u0080\\u00c2\\u0099ve seen airstrikes that we\\u00c3\\u00a2\\u00c2\\u0080\\u00c2\\u0099re not afraid of. This is the first time the Iraqi Army is not trying to kill us  \\u00c3\\u00a2\\u00c2\\u0080\\u00c2\\u0094   and we\\u00c3\\u00a2\\u00c2\\u0080\\u00c2\\u0099re not trying to kill them. We hope it stays this way. \\u00c3\\u00a2\\u00c2\\u0080\\u00c2\\u009d He was in a large abandoned house that the pesh merga had commandeered and turned into a field headquarters on the periphery of Bashiqa. The march had brought them to the limits of the city. They had not yet entered, but they had it surrounded. \\u00c3\\u00a2\\u00c2\\u0080\\u00c2\\u009cISIS has no escape. They will have to die now. \\u00c3\\u00a2\\u00c2\\u0080\\u00c2\\u009d The Barzanis are de facto royalty in Kurdistan. Massoud and Sihad\\u00c3\\u00a2\\u00c2\\u0080\\u00c2\\u0099s father, Mustafa, the patriarch of the incipient Iraqi Kurdish republic, led its revolution against Iraq until his death in 1979. It\\u00c3\\u00a2\\u00c2\\u0080\\u00c2\\u0099s common to meet pesh merga with tattoos of Mustafa\\u00c3\\u00a2\\u00c2\\u0080\\u00c2\\u0099s portrait. As Sihad stepped from the house, a young soldier lifted up his shirt to reveal the face of Mustafa, with his thick black mustache and checkered red head scarf, sprawled across his back. Sihad looked on approvingly. Asked how many of his own family members were fighting ISIS, he gestured at the soldiers gathered in the courtyard and said, \\u00c3\\u00a2\\u00c2\\u0080\\u00c2\\u009cThey\\u00c3\\u00a2\\u00c2\\u0080\\u00c2\\u0099re all my family. \\u00c3\\u00a2\\u00c2\\u0080\\u00c2\\u009d The Tigris River valley is dotted with villages and olive groves. The ISIS fighters inhabiting it were experienced and disciplined. What they lacked in munitions they made up for in patience, as the pesh merga had learned. Some Kurds had developed a reluctant respect for their adversary. \\u00c3\\u00a2\\u00c2\\u0080\\u00c2\\u009cThey fight as if they want to die,\\u00c3\\u00a2\\u00c2\\u0080\\u00c2\\u009d it was often said. The night before, the jihadists had told the residents of Buharbuq, an   village near Bashiqa, to be ready to leave at 6 a. m. for Mosul. The intent was obvious: They would be used as human shields. In the middle of the night, the village fled en masse. After leaving the headquarters, Barzani\\u00c3\\u00a2\\u00c2\\u0080\\u00c2\\u0099s convoy passed the refugee caravan, 80 or so cars and trucks stretched along a roadside. The residents of Buharbuq had taken everyone and everything they could: children, mattresses, blankets, grandmothers, pots, buckets, sheep, chickens. One truck contained a motorized wheelchair, another seven newborn lambs. The women were still dressed according to ISIS decree, fully covered in black hijabs and abayas. Officers with the Asayish, a Kurdish internal security agency, met the villagers on the road with a fleet of buses that would take them to a   camp. A soldier pulled up with a freight truck full of crackers and water. \\u00c3\\u00a2\\u00c2\\u0080\\u00c2\\u009cAll of our life is wasted in this ISIS mess,\\u00c3\\u00a2\\u00c2\\u0080\\u00c2\\u009d a woman waiting in line said to her husband. \\u00c3\\u00a2\\u00c2\\u0080\\u00c2\\u009cI feel a hundred years old. I hope ISIS goes to hell, then rots in hell. \\u00c3\\u00a2\\u00c2\\u0080\\u00c2\\u009d \\u00c3\\u00a2\\u00c2\\u0080\\u00c2\\u009cI\\u00c3\\u00a2\\u00c2\\u0080\\u00c2\\u0099m so tired,\\u00c3\\u00a2\\u00c2\\u0080\\u00c2\\u009d her husband replied. There were heartsick roadside reunions. Two old classmates, one a pesh merga who had fled Buharbuq, the other a shop owner who had stayed, hugged for the first time in two years. \\u00c3\\u00a2\\u00c2\\u0080\\u00c2\\u009cLife was very bitter,\\u00c3\\u00a2\\u00c2\\u0080\\u00c2\\u009d the shop owner told his friend. He pulled from his pocket a   note, less than a dollar. \\u00c3\\u00a2\\u00c2\\u0080\\u00c2\\u009cThis is all my money. \\u00c3\\u00a2\\u00c2\\u0080\\u00c2\\u009d A young man found his mother. She clung to his neck and wept and kissed his face again and again. \\u00c3\\u00a2\\u00c2\\u0080\\u00c2\\u009cThank God,\\u00c3\\u00a2\\u00c2\\u0080\\u00c2\\u009d she muttered. \\u00c3\\u00a2\\u00c2\\u0080\\u00c2\\u009cThank God. \\u00c3\\u00a2\\u00c2\\u0080\\u00c2\\u009d Perhaps the bravest pesh merga are the drivers of earthmovers, who toil mere yards from ISIS positions. They are bombed, mortared, rocketed and sniped, all the while doing astonishingly fast work. Within two days of setting off toward Bashiqa, they had turned the valley into a grid of berms and trenches that prevented an ISIS breakout and cut off the group\\u00c3\\u00a2\\u00c2\\u0080\\u00c2\\u0099s supply lines. About 4, 000 Kurdish soldiers now occupied 100 positions and small encampments. The main camp was presided over by Barham Arif, one of the youngest and most respected generals in the pesh merga. Tall and taciturn, he led his men into battle in a jaunty     MRAP with a GoPro camera   to the hood. \\u00c3\\u00a2\\u00c2\\u0080\\u00c2\\u009cISIS is not smart and not brave, but they brainwash stupid people,\\u00c3\\u00a2\\u00c2\\u0080\\u00c2\\u009d Arif said. \\u00c3\\u00a2\\u00c2\\u0080\\u00c2\\u009cThey give drugs to their fighters. They fight for 20 minutes and then run away. \\u00c3\\u00a2\\u00c2\\u0080\\u00c2\\u009d For months, Arif had lived with his men on the pesh merga\\u00c3\\u00a2\\u00c2\\u0080\\u00c2\\u0099s stalemated front line, on the ridge of Bashiqa Mountain, overlooking the valley. A modest cult of personality had formed around the general, and his camp was home to foreign volunteers and soldiers of fortune. There were American medics, a Brazilian and Czech videographer couple and, constantly at Arif\\u00c3\\u00a2\\u00c2\\u0080\\u00c2\\u0099s side, a   Scottish   sniper in spectacles. On Facebook, under employer, he listed \\u00c3\\u00a2\\u00c2\\u0080\\u00c2\\u009cpesh merga. \\u00c3\\u00a2\\u00c2\\u0080\\u00c2\\u009d Generations of Kurds also converged in the camp. A few soldiers were in their 20s. Most were in their 30s, 40s and 50s. One soldier who had come down from the mountain with Arif was Kaefe Ahmed. Ahmed\\u00c3\\u00a2\\u00c2\\u0080\\u00c2\\u0099s father, also a pesh merga fighter, was killed by Iraqi soldiers when Ahmed was 4. Ten other family members had died in war. Ahmed refused to wear a camouflage uniform because, he said, \\u00c3\\u00a2\\u00c2\\u0080\\u00c2\\u009cfor decades the Iraqi Army destroyed our land with these uniforms. \\u00c3\\u00a2\\u00c2\\u0080\\u00c2\\u009d He had fought for more than 20 of his 37 years: in the Kurdish civil war, against Saddam Hussein\\u00c3\\u00a2\\u00c2\\u0080\\u00c2\\u0099s forces and now against ISIS. He and his cousin Robar Ali were in a unit with a   group of men, some of them related. When ISIS entered Mosul, they fought on its outskirts, before the pesh merga were ordered to withdraw. Had ISIS stopped there, Ahmed and Ali, like most Iraqi Kurds, wouldn\\u00c3\\u00a2\\u00c2\\u0080\\u00c2\\u0099t have worried much about the jihadists living nearby. This was a conflict among Arabs, they felt, and at first ISIS was better than Saddam\\u00c3\\u00a2\\u00c2\\u0080\\u00c2\\u0099s Baathists ever were. \\u00c3\\u00a2\\u00c2\\u0080\\u00c2\\u009cIn the beginning, the ISIS fighters were generally good with people,\\u00c3\\u00a2\\u00c2\\u0080\\u00c2\\u009d Ahmed said. But then ISIS pushed into Kurdistan. Ahmed and Ali fought them in Sinjar, and then in Bashiqa, before it was overrun. The fighting there was particularly bitter. \\u00c3\\u00a2\\u00c2\\u0080\\u00c2\\u009cThey\\u00c3\\u00a2\\u00c2\\u0080\\u00c2\\u0099re suicidal,\\u00c3\\u00a2\\u00c2\\u0080\\u00c2\\u009d he said. The oldest soldier in the camp, as far as anyone knew, was a man named Jamil Rashid. When asked about his age, he first said, \\u00c3\\u00a2\\u00c2\\u0080\\u00c2\\u009cA lot. \\u00c3\\u00a2\\u00c2\\u0080\\u00c2\\u009d Later offerings ranged from 61 to 78. Asked how many battles he\\u00c3\\u00a2\\u00c2\\u0080\\u00c2\\u0099d fought in over the years, he said, \\u00c3\\u00a2\\u00c2\\u0080\\u00c2\\u009cThat notebook does not have enough paper to write them all down. \\u00c3\\u00a2\\u00c2\\u0080\\u00c2\\u009d He ate what food local   brought to the camp and slept wrapped in a thin blanket in a ditch. Five of his sons were in the pesh merga. One had recently been killed by ISIS. He had more grandchildren than he cared to count. \\u00c3\\u00a2\\u00c2\\u0080\\u00c2\\u009cISIS is nothing  \\u00c3\\u00a2\\u00c2\\u0080\\u00c2\\u0094   they\\u00c3\\u00a2\\u00c2\\u0080\\u00c2\\u0099ve been around for two years,\\u00c3\\u00a2\\u00c2\\u0080\\u00c2\\u009d said Rashid, who was fond of listing, in the profanest terms possible, the Iraqi premiers whose regimes he\\u00c3\\u00a2\\u00c2\\u0080\\u00c2\\u0099d fought against. \\u00c3\\u00a2\\u00c2\\u0080\\u00c2\\u009cAbd   Qasim\\u00c3\\u00a2\\u00c2\\u0080\\u00c2\\u009d  \\u00c3\\u00a2\\u00c2\\u0080\\u00c2\\u0094   the Iraqi prime minister of the early 1960s. \\u00c3\\u00a2\\u00c2\\u0080\\u00c2\\u009cI screwed his mother. Then there was Ahmed Hassan   and then Saddam, and then Nuri  . He was a bad guy. And now  \\u00c3\\u00a2\\u00c2\\u0080\\u00c2\\u0094   what\\u00c3\\u00a2\\u00c2\\u0080\\u00c2\\u0099s his name again?\\u00c3\\u00a2\\u00c2\\u0080\\u00c2\\u009d \\u00c3\\u00a2\\u00c2\\u0080\\u00c2\\u009cAbadi,\\u00c3\\u00a2\\u00c2\\u0080\\u00c2\\u009d a young soldier said. \\u00c3\\u00a2\\u00c2\\u0080\\u00c2\\u009cRight, Abadi. I fought all of them on this holy ground  \\u00c3\\u00a2\\u00c2\\u0080\\u00c2\\u0094   for this holy ground. Our mud is holy. Whoever doesn\\u00c3\\u00a2\\u00c2\\u0080\\u00c2\\u0099t fight for his land takes it in the [expletive]. This land is so precious. \\u00c3\\u00a2\\u00c2\\u0080\\u00c2\\u009d \\u00c3\\u00a2\\u00c2\\u0080\\u00c2\\u009cWhy are you talking about history, Jamil?\\u00c3\\u00a2\\u00c2\\u0080\\u00c2\\u009d another young soldier asked him. \\u00c3\\u00a2\\u00c2\\u0080\\u00c2\\u009cWe\\u00c3\\u00a2\\u00c2\\u0080\\u00c2\\u0099re supposed to be discussing now. \\u00c3\\u00a2\\u00c2\\u0080\\u00c2\\u009d \\u00c3\\u00a2\\u00c2\\u0080\\u00c2\\u009cSo what if I talk about history?\\u00c3\\u00a2\\u00c2\\u0080\\u00c2\\u009d Rashid said. \\u00c3\\u00a2\\u00c2\\u0080\\u00c2\\u009cIt\\u00c3\\u00a2\\u00c2\\u0080\\u00c2\\u0099s all the same, history and now. \\u00c3\\u00a2\\u00c2\\u0080\\u00c2\\u009d On Tuesday morning, Arif\\u00c3\\u00a2\\u00c2\\u0080\\u00c2\\u0099s men prepared to assault Omar Qapchi, a village barely a   from his camp that was still under ISIS control. A commander had got hold of some villagers on a cellphone and was telling them what to do when the fighting started. \\u00c3\\u00a2\\u00c2\\u0080\\u00c2\\u009cStay together, don\\u00c3\\u00a2\\u00c2\\u0080\\u00c2\\u0099t separate,\\u00c3\\u00a2\\u00c2\\u0080\\u00c2\\u009d he said. \\u00c3\\u00a2\\u00c2\\u0080\\u00c2\\u009cIf you see any ISIS, call this number. Take care of yourselves. We\\u00c3\\u00a2\\u00c2\\u0080\\u00c2\\u0099re coming. \\u00c3\\u00a2\\u00c2\\u0080\\u00c2\\u009d The armored personnel carriers and tanks and trucks filled up in moments. Far more soldiers wanted to take part in the assault than there was space in vehicles. Omar Qapchi, spreading about a mile down a slope that ended in an arterial road at the foot of Bashiqa Mountain, was made up of tightly packed   and   homes. Near its western gate, the column split into three smaller convoys. Arif\\u00c3\\u00a2\\u00c2\\u0080\\u00c2\\u0099s convoy cut across a field toward the road. Though the ground was known to be full of I. E. D. s, some pesh merga cut one another off as they careered over suspicious patches of dirt and objects, racing to get into the action. When the convoy reached the road, muzzle flashes appeared in windows, and bullets whizzed by. The pesh merga strafed the buildings with   fire and grenades. At the eastern gate, the convoy hooked into the village. The streets were empty. From the residents who had phoned, it was known that about a dozen ISIS fighters were somewhere in the village. The convoy raced into the village center and suddenly found itself in a firefight with a contingent of ISIS gunmen, who, surrounded, had taken a stand at one end of a short, wide alley. The soldiers, on the other end, jumped from their vehicles, piled into the alley  \\u00c3\\u00a2\\u00c2\\u0080\\u00c2\\u0094   directly in the line of fire  \\u00c3\\u00a2\\u00c2\\u0080\\u00c2\\u0094   and began shooting back. There was little aiming but a lot of yelling. One man stepped into the alley with a grenade launcher. He pulled the trigger. Nothing happened. He held the rocket inches from his nose and looked at it quizzically. As bullets hit the dirt near his feet, he slowly peeled off a piece of plastic wrapping, then lifted the launcher back onto his shoulder and tried again. This time it fired. The ISIS fighters took to their heels, and the soldiers, among them Ahmed, gave chase, eventually cornering several jihadists in a mosque. One detonated a suicide vest another was sheared in half by a rocket. By the end of the day, eight of them had died, three had escaped and one was captured. Three pesh merga sustained minor wounds. Rather than going on foot from house to house to make sure the village was cleared, they gathered outside it and celebrated. \\u00c3\\u00a2\\u00c2\\u0080\\u00c2\\u009cI think I killed someone,\\u00c3\\u00a2\\u00c2\\u0080\\u00c2\\u009d Rashid said. \\u00c3\\u00a2\\u00c2\\u0080\\u00c2\\u009cIt would be a shame if I shot my rifle and didn\\u00c3\\u00a2\\u00c2\\u0080\\u00c2\\u0099t kill anyone. \\u00c3\\u00a2\\u00c2\\u0080\\u00c2\\u009d Two days later, the wind at their backs, Arif\\u00c3\\u00a2\\u00c2\\u0080\\u00c2\\u0099s men moved on Faziliya, a neighboring village. The road to the village was littered with I. E. D. s, which sent up showers of gravel and tarmac. On the wall of a kiosk at the entrance to the village was  : \\u00c3\\u00a2\\u00c2\\u0080\\u00c2\\u009cEvery ISIS man who dies goes to paradise. \\u00c3\\u00a2\\u00c2\\u0080\\u00c2\\u009d An ISIS flag fluttered on a fence post, but the roofs of the houses, which ranged steeply up the foot of the mountain, bore newly hung white flags: The town\\u00c3\\u00a2\\u00c2\\u0080\\u00c2\\u0099s residents were eagerly awaiting the pesh merga\\u00c3\\u00a2\\u00c2\\u0080\\u00c2\\u0099s arrival. Then gun and rocket fire erupted from a small, windowed spire on a building near the road. A tank reduced the building to smoking rubble. The people of Faziliya streamed from their homes and into the streets. They patted their heads  \\u00c3\\u00a2\\u00c2\\u0080\\u00c2\\u0094   a Kurdish gesture of welcome  \\u00c3\\u00a2\\u00c2\\u0080\\u00c2\\u0094   and kissed the soldiers. Children chanted: \\u00c3\\u00a2\\u00c2\\u0080\\u00c2\\u009cLong live pesh merga! Long live pesh merga!\\u00c3\\u00a2\\u00c2\\u0080\\u00c2\\u009d In the village square, a group of boys tore down an ISIS billboard. Soldiers shot off celebratory rounds. \\u00c3\\u00a2\\u00c2\\u0080\\u00c2\\u009cWho has cigarettes?\\u00c3\\u00a2\\u00c2\\u0080\\u00c2\\u009d a man asked the soldiers. \\u00c3\\u00a2\\u00c2\\u0080\\u00c2\\u009cWe want to smoke!\\u00c3\\u00a2\\u00c2\\u0080\\u00c2\\u009d A soldier found his wife and children  \\u00c3\\u00a2\\u00c2\\u0080\\u00c2\\u0094   their first meeting in more than two years. His mother emerged. She took hold of her son. They sank to the ground in an embrace, their tears streaming together. Back at Omar Qapchi, the few residents who had remained for the battle were gathered outside the village next to a caged soccer pitch, where they awaited interrogation by the soldiers and Asayish officers. An elderly woman wanted to know where her brother was. A rocket had destroyed his house, and he was nowhere to be seen. \\u00c3\\u00a2\\u00c2\\u0080\\u00c2\\u009cHe\\u00c3\\u00a2\\u00c2\\u0080\\u00c2\\u0099s dead,\\u00c3\\u00a2\\u00c2\\u0080\\u00c2\\u009d a neighbor of hers explained, out of earshot, \\u00c3\\u00a2\\u00c2\\u0080\\u00c2\\u009cbut she hasn\\u00c3\\u00a2\\u00c2\\u0080\\u00c2\\u0099t found out yet. \\u00c3\\u00a2\\u00c2\\u0080\\u00c2\\u009d An officer had already determined that one resident was allied with ISIS. The man was dragged from the group, his hands bound behind his back with a scarf. A green knit face mask was pulled down over his eyes, and he was forced to the ground. He pleaded his innocence. \\u00c3\\u00a2\\u00c2\\u0080\\u00c2\\u009cShut up, you imbecile!\\u00c3\\u00a2\\u00c2\\u0080\\u00c2\\u009d a soldier yelled at him. \\u00c3\\u00a2\\u00c2\\u0080\\u00c2\\u009cIt\\u00c3\\u00a2\\u00c2\\u0080\\u00c2\\u0099s obvious he\\u00c3\\u00a2\\u00c2\\u0080\\u00c2\\u0099s ISIS,\\u00c3\\u00a2\\u00c2\\u0080\\u00c2\\u009d another soldier said. \\u00c3\\u00a2\\u00c2\\u0080\\u00c2\\u009cJust look at his color. He\\u00c3\\u00a2\\u00c2\\u0080\\u00c2\\u0099s taken on the jihadists\\u00c3\\u00a2\\u00c2\\u0080\\u00c2\\u0099 color. \\u00c3\\u00a2\\u00c2\\u0080\\u00c2\\u009d \\u00c3\\u00a2\\u00c2\\u0080\\u00c2\\u009cI\\u00c3\\u00a2\\u00c2\\u0080\\u00c2\\u0099m not with ISIS, I swear!\\u00c3\\u00a2\\u00c2\\u0080\\u00c2\\u009d the prisoner said. \\u00c3\\u00a2\\u00c2\\u0080\\u00c2\\u009cI\\u00c3\\u00a2\\u00c2\\u0080\\u00c2\\u0099m a Kurd!\\u00c3\\u00a2\\u00c2\\u0080\\u00c2\\u009d \\u00c3\\u00a2\\u00c2\\u0080\\u00c2\\u009cShut up or I\\u00c3\\u00a2\\u00c2\\u0080\\u00c2\\u0099ll stuff this down your throat!\\u00c3\\u00a2\\u00c2\\u0080\\u00c2\\u009d the first soldier said, jabbing his rifle\\u00c3\\u00a2\\u00c2\\u0080\\u00c2\\u0099s stock in the man\\u00c3\\u00a2\\u00c2\\u0080\\u00c2\\u0099s face. The officer was from Omar Qapchi and had fled the village as ISIS approached it in 2014. From his friends who had stayed, he had heard that the prisoner had driven an ambulance for the jihadists. His son, they said, was with ISIS, too. \\u00c3\\u00a2\\u00c2\\u0080\\u00c2\\u009cI haven\\u00c3\\u00a2\\u00c2\\u0080\\u00c2\\u0099t done anything!\\u00c3\\u00a2\\u00c2\\u0080\\u00c2\\u009d the prisoner protested. \\u00c3\\u00a2\\u00c2\\u0080\\u00c2\\u009cI was just told to drive somewhere. \\u00c3\\u00a2\\u00c2\\u0080\\u00c2\\u009d \\u00c3\\u00a2\\u00c2\\u0080\\u00c2\\u009cHit him already,\\u00c3\\u00a2\\u00c2\\u0080\\u00c2\\u009d another soldier said. The prisoner\\u00c3\\u00a2\\u00c2\\u0080\\u00c2\\u0099s son, his hands also bound and face covered, was pushed down beside his father. \\u00c3\\u00a2\\u00c2\\u0080\\u00c2\\u009cMy son is a student in Bashiqa,\\u00c3\\u00a2\\u00c2\\u0080\\u00c2\\u009d the father said. \\u00c3\\u00a2\\u00c2\\u0080\\u00c2\\u009cI\\u00c3\\u00a2\\u00c2\\u0080\\u00c2\\u0099ll tell you anything about him. Please don\\u00c3\\u00a2\\u00c2\\u0080\\u00c2\\u0099t put the gun to his head. \\u00c3\\u00a2\\u00c2\\u0080\\u00c2\\u009d \\u00c3\\u00a2\\u00c2\\u0080\\u00c2\\u009cI\\u00c3\\u00a2\\u00c2\\u0080\\u00c2\\u0099m just following orders,\\u00c3\\u00a2\\u00c2\\u0080\\u00c2\\u009d the soldier said. \\u00c3\\u00a2\\u00c2\\u0080\\u00c2\\u009cDon\\u00c3\\u00a2\\u00c2\\u0080\\u00c2\\u0099t worry,\\u00c3\\u00a2\\u00c2\\u0080\\u00c2\\u009d said an Asayish commander who had arrived on the scene. \\u00c3\\u00a2\\u00c2\\u0080\\u00c2\\u009cWe don\\u00c3\\u00a2\\u00c2\\u0080\\u00c2\\u0099t know if he\\u00c3\\u00a2\\u00c2\\u0080\\u00c2\\u0099s ISIS. We have to investigate. \\u00c3\\u00a2\\u00c2\\u0080\\u00c2\\u009d \\u00c3\\u00a2\\u00c2\\u0080\\u00c2\\u009cYou\\u00c3\\u00a2\\u00c2\\u0080\\u00c2\\u0099ve humiliated my son!\\u00c3\\u00a2\\u00c2\\u0080\\u00c2\\u009d \\u00c3\\u00a2\\u00c2\\u0080\\u00c2\\u009cSo are you saying your son is ISIS or not?\\u00c3\\u00a2\\u00c2\\u0080\\u00c2\\u009d the soldier asked. \\u00c3\\u00a2\\u00c2\\u0080\\u00c2\\u009cHe\\u00c3\\u00a2\\u00c2\\u0080\\u00c2\\u0099s a student! He\\u00c3\\u00a2\\u00c2\\u0080\\u00c2\\u0099s in ninth grade!\\u00c3\\u00a2\\u00c2\\u0080\\u00c2\\u009d They were bundled into the bed of a pickup and driven away. The Islamic State, the pesh merga knew, hadn\\u00c3\\u00a2\\u00c2\\u0080\\u00c2\\u0099t conquered such large swaths of the country with weapons alone. It had won sympathy among many Sunni Muslims who felt neglected by Iraq\\u00c3\\u00a2\\u00c2\\u0080\\u00c2\\u0099s   national government and abused by security forces. ISIS promised them protection and pride. Many of them saw ISIS as a way out of an already miserable existence. In a   camp near Khazer, another   town, an elderly farmer who\\u00c3\\u00a2\\u00c2\\u0080\\u00c2\\u0099d fled the village of Topzawa, not far from Bashiqa, which the Iraqi military had taken a few days before, talked about the jihadists fondly. \\u00c3\\u00a2\\u00c2\\u0080\\u00c2\\u009cMost of the young men who joined ISIS were poor,\\u00c3\\u00a2\\u00c2\\u0080\\u00c2\\u009d he said. \\u00c3\\u00a2\\u00c2\\u0080\\u00c2\\u009cThey needed the money. They had no other options. \\u00c3\\u00a2\\u00c2\\u0080\\u00c2\\u009d He confessed that he had come to know some of the ISIS men in Topzawa well. They weren\\u00c3\\u00a2\\u00c2\\u0080\\u00c2\\u0099t foreigners, but Iraqis, ordinary ones. They were kind. They allowed him to travel wherever he wanted to sell his produce. He didn\\u00c3\\u00a2\\u00c2\\u0080\\u00c2\\u0099t mind that the women in his family had to put on more clothing, and he wore a beard anyway. They treated his wife and daughters with the respect that Islam required. \\u00c3\\u00a2\\u00c2\\u0080\\u00c2\\u009cAt the beginning of Islam, with Muhammad, there were good rules. But with democracy, there are no rules. I\\u00c3\\u00a2\\u00c2\\u0080\\u00c2\\u0099m a fair person. I believe in justice. But there are rules in Islam. No one can change them. Not you, not me, not anyone. \\u00c3\\u00a2\\u00c2\\u0080\\u00c2\\u009cISIS treated us as though we were free,\\u00c3\\u00a2\\u00c2\\u0080\\u00c2\\u009d he went on. \\u00c3\\u00a2\\u00c2\\u0080\\u00c2\\u009cWe felt secure under them. In the final battle, they conducted themselves honorably. They fought until they died. \\u00c3\\u00a2\\u00c2\\u0080\\u00c2\\u009d The Iraqi Army, by contrast, relied on foreign airstrikes. The bombs had killed 20 of his sheep, 10 of his chickens and 10 dogs, and when the soldiers finally arrived, they were \\u00c3\\u00a2\\u00c2\\u0080\\u00c2\\u009cvery, very bad. \\u00c3\\u00a2\\u00c2\\u0080\\u00c2\\u009d They forced him from his home and made him come to this camp, where he endured humiliations. His hands were bound. \\u00c3\\u00a2\\u00c2\\u0080\\u00c2\\u009cThey attacked my honor. They told me my wife and daughters had been raped by ISIS. I was disgraced. I wanted to kill myself. \\u00c3\\u00a2\\u00c2\\u0080\\u00c2\\u009d Two weeks after the Bashiqa campaign began, President Barzani still hadn\\u00c3\\u00a2\\u00c2\\u0080\\u00c2\\u0099t given the order to attack the city itself. Rumors about what would be found in it expanded by the day. The number of ISIS fighters supposedly hiding out there crept upward. There would be no end of I. E. D. s, people said, of suicide   of snipers. There would be tunnels everywhere. At General Arif\\u00c3\\u00a2\\u00c2\\u0080\\u00c2\\u0099s camp, the berms had grown taller and the foxholes deeper. ISIS fighters had attacked by night, and by day they lobbed in mortar rounds and handcrafted missiles. Jamil Rashid spoke with a group of younger soldiers as gunfire rang out. \\u00c3\\u00a2\\u00c2\\u0080\\u00c2\\u009cThis is nothing,\\u00c3\\u00a2\\u00c2\\u0080\\u00c2\\u009d he said. \\u00c3\\u00a2\\u00c2\\u0080\\u00c2\\u009cIt\\u00c3\\u00a2\\u00c2\\u0080\\u00c2\\u0099s air. I like the sound of it. \\u00c3\\u00a2\\u00c2\\u0080\\u00c2\\u009d Finally, the order was given. The night before the assault, Arif\\u00c3\\u00a2\\u00c2\\u0080\\u00c2\\u0099s troops gathered on the mountain above Bashiqa, in their old position. Ahmed and his cousin Ali were part of group of about 30 men who would descend the slope and enter Bashiqa on foot. In the morning, an armored column collected on a road outside the city. Sihad Barzani arrived to wish them luck. \\u00c3\\u00a2\\u00c2\\u0080\\u00c2\\u009cWe must move, but slowly,\\u00c3\\u00a2\\u00c2\\u0080\\u00c2\\u009d he said. For six hours, the column crept toward the city, while airstrikes and artillery pummeled it. As they waited, soldiers checked for news of the American election, the next day, on their phones. Word came down that a sniper was holed up somewhere inside. He had already killed one soldier and wounded four. On the access road into the city\\u00c3\\u00a2\\u00c2\\u0080\\u00c2\\u0099s east end, which climbed up the mountainside, the column drove by a pesh merga bulldozer in flames, the driver incinerated in the cab. As in Omar Qapchi, the streets were quiet. But as the vehicles turned by a small park, a   grenade flew at it. Its orange fireball and white smoke trail, visible for less than a second, were terribly beautiful. The rocket exploded against the low concrete wall of the park. Another quickly followed behind it. The column made it to a central plaza. A handsome old church with a suspicious tower was peppered with   fire and artillery. Jamil Rashid hopped from the front seat of a truck and took up a position outside the church. Standing in the open, his rifle dangling by his leg, he looked around and breathed in the scent of gun smoke, beaming. The column turned back along the same road it had entered. But now there was an empty white sedan in the middle of an intersection. Was this a car bomb? A roadblock? Had some innocent tried to flee and suffered a breakdown? The driver of the lead tank stuck his head from the turret hatch. A shot cracked the air, its tone higher and sharper than that of a Kalashnikov. Blood sprayed from the driver\\u00c3\\u00a2\\u00c2\\u0080\\u00c2\\u0099s head. He slumped over the turret. His crew mates began screaming and crying. Panic passed down the line. \\u00c3\\u00a2\\u00c2\\u0080\\u00c2\\u009cSniper! Sniper!\\u00c3\\u00a2\\u00c2\\u0080\\u00c2\\u009d The column reversed course, honking and   and labored back to the plaza. The tank sped from the city by a different route. At the staging point, the driver\\u00c3\\u00a2\\u00c2\\u0080\\u00c2\\u0099s body was lifted out and put in an ambulance. His friends bent over the tank\\u00c3\\u00a2\\u00c2\\u0080\\u00c2\\u0099s side skirt and knelt in the dirt, weeping. Before the driver was shot, Ahmed, Ali and their detachment had descended into the same side of the city on foot. They came under fire, retreated back uphill and took up a position. A   crack. Ali lurched forward, falling over Ahmed\\u00c3\\u00a2\\u00c2\\u0080\\u00c2\\u0099s leg. Ahmed thought his cousin had tripped. Then he saw the blood. Three days later, Ahmed was worrying a string of wooden prayer beads in a mosque in his and Ali\\u00c3\\u00a2\\u00c2\\u0080\\u00c2\\u0099s hometown, Rawanduz, in Kurdistan\\u00c3\\u00a2\\u00c2\\u0080\\u00c2\\u0099s eastern mountains. He sat by the muezzin, who sang a death prayer for Ali, a Quran open before him on a desk stand. Old pesh merga in traditional dress and younger ones in suits and jeans filed in. They greeted Ali\\u00c3\\u00a2\\u00c2\\u0080\\u00c2\\u0099s father and Ahmed, their hands to their chests, saying: \\u00c3\\u00a2\\u00c2\\u0080\\u00c2\\u009cMay he rest in peace\\u00c3\\u00a2\\u00c2\\u0080\\u00c2\\u009d and \\u00c3\\u00a2\\u00c2\\u0080\\u00c2\\u009cMay God forgive him his sins. \\u00c3\\u00a2\\u00c2\\u0080\\u00c2\\u009d After the service, long rugs were spread on the floor, and Ahmed and the men from his unit sat down to lunch. Their part in the fight against ISIS was over, for now. Bashiqa was liberated, and the Kurdish line stopped there. But the war against ISIS was not going well for the Iraqi Army, which was still stuck on Mosul\\u00c3\\u00a2\\u00c2\\u0080\\u00c2\\u0099s outskirts, taking a lot of casualties. \\u00c3\\u00a2\\u00c2\\u0080\\u00c2\\u009cIt will be a heavy fight,\\u00c3\\u00a2\\u00c2\\u0080\\u00c2\\u009d one man said. Ahmed and his friends would fight in Mosul if they were ordered to, they agreed, but they wouldn\\u00c3\\u00a2\\u00c2\\u0080\\u00c2\\u0099t like it. They were not among the Kurds who considered the city part of the homeland. \\u00c3\\u00a2\\u00c2\\u0080\\u00c2\\u009cIs it fair that a Kurd should die for an Arab?\\u00c3\\u00a2\\u00c2\\u0080\\u00c2\\u009d Ahmed said. Anyway, history had taught them that another war would come soon enough. \\u00c3\\u00a2\\u00c2\\u0080\\u00c2\\u009cOnce you finish one fight, they prepare another one for you,\\u00c3\\u00a2\\u00c2\\u0080\\u00c2\\u009d a soldier said. \\u00c3\\u00a2\\u00c2\\u0080\\u00c2\\u009cIt makes you tired. \\u00c3\\u00a2\\u00c2\\u0080\\u00c2\\u009d\",\n          \"Share on Twitter \\nThe battle of campaign rallies has been going strong throughout the 2016 presidential election, with both candidates amassing pretty large crowds. \\nJust last month, the Washington Post compared two separate September rallies for both Donald Trump and Hillary Clinton. \\nTrump's had a crowd of 15,000, at his Sept. 27th rally in Melbourne, Florida: Unbelievable evening in Melbourne, Florida w/ 15,000 supporters- and an additional 12,000 who could not get in. Thank you! #TrumpTrain #MAGA pic.twitter.com/2N3Xq7AGmx \\u00c3\\u00a2\\u00c2\\u0080\\u00c2\\u0094 Donald J. Trump (@realDonaldTrump) September 28, 2016 \\n...while Clinton had a crowd of roughly 1,400 people in Raleigh, North Carolina, that same day: Hillary Clinton rallies in Raleigh, NC the day after the debate pic.twitter.com/pvWndH0zlK \\u00c3\\u00a2\\u00c2\\u0080\\u00c2\\u0094 Sabrina Siddiqui (@SabrinaSiddiqui) September 27, 2016 \\nIt appears as though Fox Business reporter Adam Shapiro felt the need to compare Trump and Hillary's crowd attendance, too. \\nAt a West Palm Beach rally Wednesday, Shapiro said there appeared to be roughly a thousand Hillary supporters at Palm Beach State College, which was a sizable difference to Trump's rally the day before: \\n\\\"It's nowhere near the size of the crowd we saw in Sanford, Florida yesterday for Mr. Trump \\u00c3\\u00a2\\u00c2\\u0080\\u00c2\\u0094 15,000. \\nTake a look, Stewart [camera pans crowd]. \\nThere's maybe 1,000 to 2,000 people here today. The Clinton rallies tend to be much smaller and you can see there's empty space here.\\\" Image Credit: Screenshot/ YouTube \\nHe just couldn't stop talking about it, adding that if they were covering a Trump rally, the room would be \\u00c3\\u00a2\\u00c2\\u0080\\u00c2\\u009cpacked.\\u00c3\\u00a2\\u00c2\\u0080\\u00c2\\u009d \\nThough Shapiro took a dig at the Democratic nominee for her apparently \\u00c3\\u00a2\\u00c2\\u0080\\u00c2\\u009cempty\\u00c3\\u00a2\\u00c2\\u0080\\u00c2\\u009d rally, those who were in attendance still sang \\u00c3\\u00a2\\u00c2\\u0080\\u00c2\\u009cHappy Birthday\\u00c3\\u00a2\\u00c2\\u0080\\u00c2\\u009d to her. \",\n          \"CLEVELAND  \\u00c3\\u00a2\\u00c2\\u0080\\u00c2\\u0094   The Cleveland Indians returned home to Progressive Field on Tuesday for the first time since an agonizing Game 7 defeat to the Chicago Cubs in the World Series. They raised the 2016 American League pennant and handed out rings before the focus turned back to the current season. It is a season in which the Indians may again be one of the top teams in baseball, but it is also one in which they may have to wrestle increasingly with the issue of Chief Wahoo, the smiling caricature that has long been an Indians logo but has come to be seen as offensive and wildly outdated. Among those who think it is time for the club to decisively move away from the logo is the Major League Baseball commissioner, Rob Manfred, who in continuing discussions with the team\\u00c3\\u00a2\\u00c2\\u0080\\u00c2\\u0099s ownership is beginning to apply a little bit of pressure on the club to come up with a plan of action. In a statement to The New York Times, Pat Courtney, a spokesman for Major League Baseball, said Manfred, in his talks with the Indians\\u00c3\\u00a2\\u00c2\\u0080\\u00c2\\u0099 owners, had made clear his \\u00c3\\u00a2\\u00c2\\u0080\\u00c2\\u009cdesire to transition away from the Chief Wahoo logo. \\u00c3\\u00a2\\u00c2\\u0080\\u00c2\\u0099\\u00c3\\u00a2\\u00c2\\u0080\\u00c2\\u0099 \\u00c3\\u00a2\\u00c2\\u0080\\u00c2\\u009cWe have specific steps in an identified process and are making progress,\\u00c3\\u00a2\\u00c2\\u0080\\u00c2\\u0099\\u00c3\\u00a2\\u00c2\\u0080\\u00c2\\u0099 Courtney added. \\u00c3\\u00a2\\u00c2\\u0080\\u00c2\\u009cWe are confident that a positive resolution will be reached that will be good for the game and the club. \\u00c3\\u00a2\\u00c2\\u0080\\u00c2\\u0099\\u00c3\\u00a2\\u00c2\\u0080\\u00c2\\u0099 Although Manfred had previously acknowledged a willingness to engage in talks with the Indians about the logo, Courtney\\u00c3\\u00a2\\u00c2\\u0080\\u00c2\\u0099s statement appears to be the first time that Manfred is identified as having staked out a clear position on the issue. It is an issue, however, that may not be that easy to resolve. Although many people, including baseball fans around the country, would welcome the removal of Chief Wahoo, there is a significant segment of the Indians\\u00c3\\u00a2\\u00c2\\u0080\\u00c2\\u0099 fan base that still cherishes the logo, which has existed in various forms since 1947. \\u00c3\\u00a2\\u00c2\\u0080\\u00c2\\u009cChief Wahoo is the Cleveland Indians,\\u00c3\\u00a2\\u00c2\\u0080\\u00c2\\u009d said Karen Hale, a local Indians fan who was outside the stadium before Tuesday\\u00c3\\u00a2\\u00c2\\u0080\\u00c2\\u0099s game. \\u00c3\\u00a2\\u00c2\\u0080\\u00c2\\u009cI think there comes a time when you have to take a stand for what you believe in. I don\\u00c3\\u00a2\\u00c2\\u0080\\u00c2\\u0099t think it\\u00c3\\u00a2\\u00c2\\u0080\\u00c2\\u0099s hurting anybody. \\u00c3\\u00a2\\u00c2\\u0080\\u00c2\\u009d Philip Yenyo, the executive director of the American Indian Movement of Ohio, has been protesting at the Indians\\u00c3\\u00a2\\u00c2\\u0080\\u00c2\\u0099 opening day games for years and vehemently disagrees with Hale and others with similar views. He would prefer the team eliminate the logo, and the Indians name as well, but he would be happy for the club to start with the logo. During this year\\u00c3\\u00a2\\u00c2\\u0080\\u00c2\\u0099s protest, Yenyo engaged in a cordial conversation with a team employee. And Yenyo said that over the years the Indians had been very cooperative in arranging for security to protect the two dozen or so protesters who do show up outside the stadium. Still, as Yenyo spoke through a megaphone at Tuesday\\u00c3\\u00a2\\u00c2\\u0080\\u00c2\\u0099s demonstration, a man barreled through the protesters and yelled at him: \\u00c3\\u00a2\\u00c2\\u0080\\u00c2\\u009cIt\\u00c3\\u00a2\\u00c2\\u0080\\u00c2\\u0099s a caricature. Get over it. \\u00c3\\u00a2\\u00c2\\u0080\\u00c2\\u009d Bob DiBiasio, the Indians\\u00c3\\u00a2\\u00c2\\u0080\\u00c2\\u0099 senior vice president for public affairs, said during Tuesday\\u00c3\\u00a2\\u00c2\\u0080\\u00c2\\u0099s home opener that the club understood the passion on both sides of the issue and that in some ways the team was caught in the middle, trying to find an amicable solution. \\u00c3\\u00a2\\u00c2\\u0080\\u00c2\\u009cWe certainly understand the sensitivities of the logo, those who find it insensitive and also those fans who have a longstanding attachment to its place in the history of the team,\\u00c3\\u00a2\\u00c2\\u0080\\u00c2\\u009d he said. DiBiasio called the continuing talks productive between Manfred and Paul Dolan, the Indians\\u00c3\\u00a2\\u00c2\\u0080\\u00c2\\u0099 chairman and chief executive. With their sights set on a return to the World Series, the Indians would prefer to address Chief Wahoo after the season to avoid any distractions that could alienate a large swath of fans while games are being played. \\u00c3\\u00a2\\u00c2\\u0080\\u00c2\\u009cOur primary focus right now is on the team,\\u00c3\\u00a2\\u00c2\\u0080\\u00c2\\u0099\\u00c3\\u00a2\\u00c2\\u0080\\u00c2\\u0099 he said. And it may be a really good team, especially with the addition of Edwin Encarnacion, the   slugger who left Toronto to sign a   $60 million contract with the Indians. The club has already sold 1. 3 million tickets for the 2017 season, DiBiasio said, noting that it did not reach that mark until the end of July last year. In 2016, Cleveland\\u00c3\\u00a2\\u00c2\\u0080\\u00c2\\u0099s attendance was 28th out of 30 teams with 1. 59 million tickets sold, but in the wake of the Indians\\u00c3\\u00a2\\u00c2\\u0080\\u00c2\\u0099 2016 postseason run, that number is now likely to soar. Manager Terry Francona noted Tuesday that his team seemed to thrive when the stadium was full, as it was Tuesday, when the Indians prevailed in extra innings against the Chicago White Sox. And sure enough, many of the fans in attendance wore the Chief Wahoo logo on their hats and shirts. The move to do away with the logo appeared to begin when Mark Shapiro, who is now running the Blue Jays, was the Indians\\u00c3\\u00a2\\u00c2\\u0080\\u00c2\\u0099 team president for baseball operations. Shapiro was the driving force behind   the block C logo, which has been seen on Cleveland caps since 1902 and has recently become more prominent on various uniform and cap combinations the Indians use, as well as around the stadium. During last year\\u00c3\\u00a2\\u00c2\\u0080\\u00c2\\u0099s American League Championship Series between the Blue Jays and Indians, Shapiro said that he was personally troubled by the Wahoo logo and suggested that its days were numbered. \\u00c3\\u00a2\\u00c2\\u0080\\u00c2\\u009cI think there will be a day, whenever that is, that the people that are making decisions here decide that Chief Wahoo is no longer fitting,\\u00c3\\u00a2\\u00c2\\u0080\\u00c2\\u009d he said then. When the   Jays playoff series moved to Toronto last October, an indigenous Canadian citizen filed for an injunction to prevent Cleveland from using the Wahoo logo while in Canada. Major League Baseball joined the Indians in opposing the injunction, which was not granted. But in its statement at the time baseball said it also welcomed dialogue about the logo. That dialogue began in the weeks after the World Series and will most likely continue until a resolution is reached. At Tuesday\\u00c3\\u00a2\\u00c2\\u0080\\u00c2\\u0099s game, the Chief Wahoo logo could not be seen anywhere on the stadium building or on the field, but it was on the left sleeves of the blue jerseys worn by the Indians players and on their caps. And it was on the white uniform shirts worn by the Cleveland sports legends Jim Brown, Austin Carr and Jim Thome when they went to the mound to throw out the celebratory first pitches before the game. The logo could also be found on many items in the team souvenir shop, along with stickers depicting an even harsher representation of Chief Wahoo from an earlier period. For now, at least, the logo still survives and even thrives.\"\n        ],\n        \"semantic_type\": \"\",\n        \"description\": \"\"\n      }\n    },\n    {\n      \"column\": \"label\",\n      \"properties\": {\n        \"dtype\": \"number\",\n        \"std\": 0,\n        \"min\": 0,\n        \"max\": 1,\n        \"num_unique_values\": 2,\n        \"samples\": [\n          0,\n          1\n        ],\n        \"semantic_type\": \"\",\n        \"description\": \"\"\n      }\n    }\n  ]\n}"
            }
          },
          "metadata": {},
          "execution_count": 4
        }
      ]
    },
    {
      "cell_type": "code",
      "source": [
        "df.tail()"
      ],
      "metadata": {
        "colab": {
          "base_uri": "https://localhost:8080/",
          "height": 206
        },
        "id": "akiAlrHLKZdQ",
        "outputId": "3bf42639-6d28-416b-ccf2-5c60804094a9"
      },
      "execution_count": null,
      "outputs": [
        {
          "output_type": "execute_result",
          "data": {
            "text/plain": [
              "      id                                              title  \\\n",
              "424  495  Contaminated Food from China Now Entering the ...   \n",
              "425  496  Ten Famous People on What to Read This Summer ...   \n",
              "426  498  Hillary Clinton KNEW 5 years ago Anthony Weine...   \n",
              "427  500  A $150 Million Stairway to Nowhere on the Far ...   \n",
              "428  501  Cyber War ÃÂ From Trifle to Catastrophe     ...   \n",
              "\n",
              "                                    author  \\\n",
              "424  noreply@blogger.com (Alexander Light)   \n",
              "425                             T Magazine   \n",
              "426               The European Union Times   \n",
              "427                               Ted Loos   \n",
              "428                       Ernest Partridge   \n",
              "\n",
              "                                                  text  label  \n",
              "424  Contaminated Food from China Now Entering the ...      1  \n",
              "425  For his bookshop and website One Grand Books, ...      0  \n",
              "426  \\nA WikiLeakÃ¢ÂÂs email released on Monday r...      1  \n",
              "427  By the look of the renderings officially unvei...      0  \n",
              "428   Cyber War - From Trifle to Catastrophe By Ern...      1  "
            ],
            "text/html": [
              "\n",
              "  <div id=\"df-2ff286d1-cf88-4dcb-ae90-5973012632a3\" class=\"colab-df-container\">\n",
              "    <div>\n",
              "<style scoped>\n",
              "    .dataframe tbody tr th:only-of-type {\n",
              "        vertical-align: middle;\n",
              "    }\n",
              "\n",
              "    .dataframe tbody tr th {\n",
              "        vertical-align: top;\n",
              "    }\n",
              "\n",
              "    .dataframe thead th {\n",
              "        text-align: right;\n",
              "    }\n",
              "</style>\n",
              "<table border=\"1\" class=\"dataframe\">\n",
              "  <thead>\n",
              "    <tr style=\"text-align: right;\">\n",
              "      <th></th>\n",
              "      <th>id</th>\n",
              "      <th>title</th>\n",
              "      <th>author</th>\n",
              "      <th>text</th>\n",
              "      <th>label</th>\n",
              "    </tr>\n",
              "  </thead>\n",
              "  <tbody>\n",
              "    <tr>\n",
              "      <th>424</th>\n",
              "      <td>495</td>\n",
              "      <td>Contaminated Food from China Now Entering the ...</td>\n",
              "      <td>noreply@blogger.com (Alexander Light)</td>\n",
              "      <td>Contaminated Food from China Now Entering the ...</td>\n",
              "      <td>1</td>\n",
              "    </tr>\n",
              "    <tr>\n",
              "      <th>425</th>\n",
              "      <td>496</td>\n",
              "      <td>Ten Famous People on What to Read This Summer ...</td>\n",
              "      <td>T Magazine</td>\n",
              "      <td>For his bookshop and website One Grand Books, ...</td>\n",
              "      <td>0</td>\n",
              "    </tr>\n",
              "    <tr>\n",
              "      <th>426</th>\n",
              "      <td>498</td>\n",
              "      <td>Hillary Clinton KNEW 5 years ago Anthony Weine...</td>\n",
              "      <td>The European Union Times</td>\n",
              "      <td>\\nA WikiLeakÃ¢ÂÂs email released on Monday r...</td>\n",
              "      <td>1</td>\n",
              "    </tr>\n",
              "    <tr>\n",
              "      <th>427</th>\n",
              "      <td>500</td>\n",
              "      <td>A $150 Million Stairway to Nowhere on the Far ...</td>\n",
              "      <td>Ted Loos</td>\n",
              "      <td>By the look of the renderings officially unvei...</td>\n",
              "      <td>0</td>\n",
              "    </tr>\n",
              "    <tr>\n",
              "      <th>428</th>\n",
              "      <td>501</td>\n",
              "      <td>Cyber War ÃÂ From Trifle to Catastrophe     ...</td>\n",
              "      <td>Ernest Partridge</td>\n",
              "      <td>Cyber War - From Trifle to Catastrophe By Ern...</td>\n",
              "      <td>1</td>\n",
              "    </tr>\n",
              "  </tbody>\n",
              "</table>\n",
              "</div>\n",
              "    <div class=\"colab-df-buttons\">\n",
              "\n",
              "  <div class=\"colab-df-container\">\n",
              "    <button class=\"colab-df-convert\" onclick=\"convertToInteractive('df-2ff286d1-cf88-4dcb-ae90-5973012632a3')\"\n",
              "            title=\"Convert this dataframe to an interactive table.\"\n",
              "            style=\"display:none;\">\n",
              "\n",
              "  <svg xmlns=\"http://www.w3.org/2000/svg\" height=\"24px\" viewBox=\"0 -960 960 960\">\n",
              "    <path d=\"M120-120v-720h720v720H120Zm60-500h600v-160H180v160Zm220 220h160v-160H400v160Zm0 220h160v-160H400v160ZM180-400h160v-160H180v160Zm440 0h160v-160H620v160ZM180-180h160v-160H180v160Zm440 0h160v-160H620v160Z\"/>\n",
              "  </svg>\n",
              "    </button>\n",
              "\n",
              "  <style>\n",
              "    .colab-df-container {\n",
              "      display:flex;\n",
              "      gap: 12px;\n",
              "    }\n",
              "\n",
              "    .colab-df-convert {\n",
              "      background-color: #E8F0FE;\n",
              "      border: none;\n",
              "      border-radius: 50%;\n",
              "      cursor: pointer;\n",
              "      display: none;\n",
              "      fill: #1967D2;\n",
              "      height: 32px;\n",
              "      padding: 0 0 0 0;\n",
              "      width: 32px;\n",
              "    }\n",
              "\n",
              "    .colab-df-convert:hover {\n",
              "      background-color: #E2EBFA;\n",
              "      box-shadow: 0px 1px 2px rgba(60, 64, 67, 0.3), 0px 1px 3px 1px rgba(60, 64, 67, 0.15);\n",
              "      fill: #174EA6;\n",
              "    }\n",
              "\n",
              "    .colab-df-buttons div {\n",
              "      margin-bottom: 4px;\n",
              "    }\n",
              "\n",
              "    [theme=dark] .colab-df-convert {\n",
              "      background-color: #3B4455;\n",
              "      fill: #D2E3FC;\n",
              "    }\n",
              "\n",
              "    [theme=dark] .colab-df-convert:hover {\n",
              "      background-color: #434B5C;\n",
              "      box-shadow: 0px 1px 3px 1px rgba(0, 0, 0, 0.15);\n",
              "      filter: drop-shadow(0px 1px 2px rgba(0, 0, 0, 0.3));\n",
              "      fill: #FFFFFF;\n",
              "    }\n",
              "  </style>\n",
              "\n",
              "    <script>\n",
              "      const buttonEl =\n",
              "        document.querySelector('#df-2ff286d1-cf88-4dcb-ae90-5973012632a3 button.colab-df-convert');\n",
              "      buttonEl.style.display =\n",
              "        google.colab.kernel.accessAllowed ? 'block' : 'none';\n",
              "\n",
              "      async function convertToInteractive(key) {\n",
              "        const element = document.querySelector('#df-2ff286d1-cf88-4dcb-ae90-5973012632a3');\n",
              "        const dataTable =\n",
              "          await google.colab.kernel.invokeFunction('convertToInteractive',\n",
              "                                                    [key], {});\n",
              "        if (!dataTable) return;\n",
              "\n",
              "        const docLinkHtml = 'Like what you see? Visit the ' +\n",
              "          '<a target=\"_blank\" href=https://colab.research.google.com/notebooks/data_table.ipynb>data table notebook</a>'\n",
              "          + ' to learn more about interactive tables.';\n",
              "        element.innerHTML = '';\n",
              "        dataTable['output_type'] = 'display_data';\n",
              "        await google.colab.output.renderOutput(dataTable, element);\n",
              "        const docLink = document.createElement('div');\n",
              "        docLink.innerHTML = docLinkHtml;\n",
              "        element.appendChild(docLink);\n",
              "      }\n",
              "    </script>\n",
              "  </div>\n",
              "\n",
              "\n",
              "    <div id=\"df-76e0eddf-1d82-4c28-9f98-abf3d4675a60\">\n",
              "      <button class=\"colab-df-quickchart\" onclick=\"quickchart('df-76e0eddf-1d82-4c28-9f98-abf3d4675a60')\"\n",
              "                title=\"Suggest charts\"\n",
              "                style=\"display:none;\">\n",
              "\n",
              "<svg xmlns=\"http://www.w3.org/2000/svg\" height=\"24px\"viewBox=\"0 0 24 24\"\n",
              "     width=\"24px\">\n",
              "    <g>\n",
              "        <path d=\"M19 3H5c-1.1 0-2 .9-2 2v14c0 1.1.9 2 2 2h14c1.1 0 2-.9 2-2V5c0-1.1-.9-2-2-2zM9 17H7v-7h2v7zm4 0h-2V7h2v10zm4 0h-2v-4h2v4z\"/>\n",
              "    </g>\n",
              "</svg>\n",
              "      </button>\n",
              "\n",
              "<style>\n",
              "  .colab-df-quickchart {\n",
              "      --bg-color: #E8F0FE;\n",
              "      --fill-color: #1967D2;\n",
              "      --hover-bg-color: #E2EBFA;\n",
              "      --hover-fill-color: #174EA6;\n",
              "      --disabled-fill-color: #AAA;\n",
              "      --disabled-bg-color: #DDD;\n",
              "  }\n",
              "\n",
              "  [theme=dark] .colab-df-quickchart {\n",
              "      --bg-color: #3B4455;\n",
              "      --fill-color: #D2E3FC;\n",
              "      --hover-bg-color: #434B5C;\n",
              "      --hover-fill-color: #FFFFFF;\n",
              "      --disabled-bg-color: #3B4455;\n",
              "      --disabled-fill-color: #666;\n",
              "  }\n",
              "\n",
              "  .colab-df-quickchart {\n",
              "    background-color: var(--bg-color);\n",
              "    border: none;\n",
              "    border-radius: 50%;\n",
              "    cursor: pointer;\n",
              "    display: none;\n",
              "    fill: var(--fill-color);\n",
              "    height: 32px;\n",
              "    padding: 0;\n",
              "    width: 32px;\n",
              "  }\n",
              "\n",
              "  .colab-df-quickchart:hover {\n",
              "    background-color: var(--hover-bg-color);\n",
              "    box-shadow: 0 1px 2px rgba(60, 64, 67, 0.3), 0 1px 3px 1px rgba(60, 64, 67, 0.15);\n",
              "    fill: var(--button-hover-fill-color);\n",
              "  }\n",
              "\n",
              "  .colab-df-quickchart-complete:disabled,\n",
              "  .colab-df-quickchart-complete:disabled:hover {\n",
              "    background-color: var(--disabled-bg-color);\n",
              "    fill: var(--disabled-fill-color);\n",
              "    box-shadow: none;\n",
              "  }\n",
              "\n",
              "  .colab-df-spinner {\n",
              "    border: 2px solid var(--fill-color);\n",
              "    border-color: transparent;\n",
              "    border-bottom-color: var(--fill-color);\n",
              "    animation:\n",
              "      spin 1s steps(1) infinite;\n",
              "  }\n",
              "\n",
              "  @keyframes spin {\n",
              "    0% {\n",
              "      border-color: transparent;\n",
              "      border-bottom-color: var(--fill-color);\n",
              "      border-left-color: var(--fill-color);\n",
              "    }\n",
              "    20% {\n",
              "      border-color: transparent;\n",
              "      border-left-color: var(--fill-color);\n",
              "      border-top-color: var(--fill-color);\n",
              "    }\n",
              "    30% {\n",
              "      border-color: transparent;\n",
              "      border-left-color: var(--fill-color);\n",
              "      border-top-color: var(--fill-color);\n",
              "      border-right-color: var(--fill-color);\n",
              "    }\n",
              "    40% {\n",
              "      border-color: transparent;\n",
              "      border-right-color: var(--fill-color);\n",
              "      border-top-color: var(--fill-color);\n",
              "    }\n",
              "    60% {\n",
              "      border-color: transparent;\n",
              "      border-right-color: var(--fill-color);\n",
              "    }\n",
              "    80% {\n",
              "      border-color: transparent;\n",
              "      border-right-color: var(--fill-color);\n",
              "      border-bottom-color: var(--fill-color);\n",
              "    }\n",
              "    90% {\n",
              "      border-color: transparent;\n",
              "      border-bottom-color: var(--fill-color);\n",
              "    }\n",
              "  }\n",
              "</style>\n",
              "\n",
              "      <script>\n",
              "        async function quickchart(key) {\n",
              "          const quickchartButtonEl =\n",
              "            document.querySelector('#' + key + ' button');\n",
              "          quickchartButtonEl.disabled = true;  // To prevent multiple clicks.\n",
              "          quickchartButtonEl.classList.add('colab-df-spinner');\n",
              "          try {\n",
              "            const charts = await google.colab.kernel.invokeFunction(\n",
              "                'suggestCharts', [key], {});\n",
              "          } catch (error) {\n",
              "            console.error('Error during call to suggestCharts:', error);\n",
              "          }\n",
              "          quickchartButtonEl.classList.remove('colab-df-spinner');\n",
              "          quickchartButtonEl.classList.add('colab-df-quickchart-complete');\n",
              "        }\n",
              "        (() => {\n",
              "          let quickchartButtonEl =\n",
              "            document.querySelector('#df-76e0eddf-1d82-4c28-9f98-abf3d4675a60 button');\n",
              "          quickchartButtonEl.style.display =\n",
              "            google.colab.kernel.accessAllowed ? 'block' : 'none';\n",
              "        })();\n",
              "      </script>\n",
              "    </div>\n",
              "\n",
              "    </div>\n",
              "  </div>\n"
            ],
            "application/vnd.google.colaboratory.intrinsic+json": {
              "type": "dataframe",
              "summary": "{\n  \"name\": \"df\",\n  \"rows\": 5,\n  \"fields\": [\n    {\n      \"column\": \"id\",\n      \"properties\": {\n        \"dtype\": \"number\",\n        \"std\": 2,\n        \"min\": 495,\n        \"max\": 501,\n        \"num_unique_values\": 5,\n        \"samples\": [\n          496,\n          501,\n          498\n        ],\n        \"semantic_type\": \"\",\n        \"description\": \"\"\n      }\n    },\n    {\n      \"column\": \"title\",\n      \"properties\": {\n        \"dtype\": \"string\",\n        \"num_unique_values\": 5,\n        \"samples\": [\n          \"Ten Famous People on What to Read This Summer - The New York Times\",\n          \"Cyber War \\u00c3\\u0082\\u00c2\\u0097 From Trifle to Catastrophe     : Information\",\n          \"Hillary Clinton KNEW 5 years ago Anthony Weiner was a Pedophile - Wikileaks\"\n        ],\n        \"semantic_type\": \"\",\n        \"description\": \"\"\n      }\n    },\n    {\n      \"column\": \"author\",\n      \"properties\": {\n        \"dtype\": \"string\",\n        \"num_unique_values\": 5,\n        \"samples\": [\n          \"T Magazine\",\n          \"Ernest Partridge\",\n          \"The European Union Times\"\n        ],\n        \"semantic_type\": \"\",\n        \"description\": \"\"\n      }\n    },\n    {\n      \"column\": \"text\",\n      \"properties\": {\n        \"dtype\": \"string\",\n        \"num_unique_values\": 5,\n        \"samples\": [\n          \"For his bookshop and website One Grand Books, the editor Aaron Hicklin asked people to name the 10 books they\\u00c3\\u00a2\\u00c2\\u0080\\u00c2\\u0099d take with them if they were marooned on a desert island. Every Friday for the last year, we\\u00c3\\u00a2\\u00c2\\u0080\\u00c2\\u0099ve run one of those lists on TMagazine. com. So many books have been recommended  \\u00c3\\u00a2\\u00c2\\u0080\\u00c2\\u0094   by everyone from James Franco to Alice Waters  \\u00c3\\u00a2\\u00c2\\u0080\\u00c2\\u0094   that it might feel like you need a lifetime (and then another one) to read them all. So, in honor of the July 4th weekend, we\\u00c3\\u00a2\\u00c2\\u0080\\u00c2\\u0099re giving you that time to catch up  \\u00c3\\u00a2\\u00c2\\u0080\\u00c2\\u0094   or at least pick a good book to bring along to the beach. Here, excerpts from 10 of the individuals who have recommended titles over the last several months. Click the link beneath each name to read their whole list. Enjoy! \\u00c3\\u00a2\\u00c2\\u0080\\u00c2\\u009cThe Better Angels of Our Nature,\\u00c3\\u00a2\\u00c2\\u0080\\u00c2\\u009d Steven Pinker Proof that the world is becoming more peaceful. It\\u00c3\\u00a2\\u00c2\\u0080\\u00c2\\u0099s not just a question for historians, but a profound statement about human nature and the possibility for a better future. This book may have shaped my outlook more than any other. See more of Bill Gates\\u00c3\\u00a2\\u00c2\\u0080\\u00c2\\u0099s favorite books.  \\u00c3\\u00a2\\u00c2\\u0080\\u00c2\\u009cThe Color Purple,\\u00c3\\u00a2\\u00c2\\u0080\\u00c2\\u009d Alice Walker Because she makes the invisible visible, and redeems people who seem irredeemable, she makes every reader feel visible and redeemable, too. See more of Gloria Steinem\\u00c3\\u00a2\\u00c2\\u0080\\u00c2\\u0099s favorite books.  \\u00c3\\u00a2\\u00c2\\u0080\\u00c2\\u009cYou\\u00c3\\u00a2\\u00c2\\u0080\\u00c2\\u0099ve Got To Read This: Contemporary American Writers Introduce Stories That Held Them in Awe,\\u00c3\\u00a2\\u00c2\\u0080\\u00c2\\u009d Ron Hansen This anthology is like one of those fateful   nights where you met a boyfriend, a best friend and got a lead on a job. It introduced me to Jim Shepard and Donald Barthelme. I often think of Amy Tan\\u00c3\\u00a2\\u00c2\\u0080\\u00c2\\u0099s introduction of Molly Giles\\u00c3\\u00a2\\u00c2\\u0080\\u00c2\\u0099s story, \\u00c3\\u00a2\\u00c2\\u0080\\u00c2\\u009cPie Dance. \\u00c3\\u00a2\\u00c2\\u0080\\u00c2\\u009d Tan writes that upon hearing Giles read the story, she felt she didn\\u00c3\\u00a2\\u00c2\\u0080\\u00c2\\u0099t yet have what it took to be a writer but she \\u00c3\\u00a2\\u00c2\\u0080\\u00c2\\u009calso knew  \\u00c3\\u00a2\\u00c2\\u0080\\u00c2\\u0094   as deeply as you can know something about yourself  \\u00c3\\u00a2\\u00c2\\u0080\\u00c2\\u0094   that it would be worth a lifetime to try. \\u00c3\\u00a2\\u00c2\\u0080\\u00c2\\u009d That\\u00c3\\u00a2\\u00c2\\u0080\\u00c2\\u0099s one of the most genuine things I\\u00c3\\u00a2\\u00c2\\u0080\\u00c2\\u0099ve ever heard a writer say about another writer. See more of Sloane Crosley\\u00c3\\u00a2\\u00c2\\u0080\\u00c2\\u0099s favorite books. \\u00c3\\u00a2\\u00c2\\u0080\\u00c2\\u009cA Pattern Language: Towns, Buildings, Construction,\\u00c3\\u00a2\\u00c2\\u0080\\u00c2\\u009d Christopher Alexander, Sara Ishikawa and Murray Silverstein Who needs a big place to live in? You need a front porch, you need a busy street, you need neighbors to say hello and good night to and you need a bedroom to restore yourself. This is a book you can open on any page. You might find a drawing of the narrow streets of Ethiopia, or a chapter titled \\u00c3\\u00a2\\u00c2\\u0080\\u00c2\\u009cDancing in the Streets,\\u00c3\\u00a2\\u00c2\\u0080\\u00c2\\u009d which is something people have done forever. See more of Alice Waters\\u00c3\\u00a2\\u00c2\\u0080\\u00c2\\u0099s favorite books.  \\u00c3\\u00a2\\u00c2\\u0080\\u00c2\\u009cWhat Maisie Knew,\\u00c3\\u00a2\\u00c2\\u0080\\u00c2\\u009d Henry James A brilliant social comedy seen wholly from a child\\u00c3\\u00a2\\u00c2\\u0080\\u00c2\\u0099s point of view, this is a dazzling technical feat that, as always with James, deepens as it develops  \\u00c3\\u00a2\\u00c2\\u0080\\u00c2\\u0094   like the life of the child herself. An exhilarating prelude to the great novels of his famous late phase. See more of Alan Hollinghurst\\u00c3\\u00a2\\u00c2\\u0080\\u00c2\\u0099s favorite books.  \\u00c3\\u00a2\\u00c2\\u0080\\u00c2\\u009cThe Fire Next Time,\\u00c3\\u00a2\\u00c2\\u0080\\u00c2\\u009d James Baldwin Basically the finest essay I\\u00c3\\u00a2\\u00c2\\u0080\\u00c2\\u0099ve ever read. It\\u00c3\\u00a2\\u00c2\\u0080\\u00c2\\u0099s technically two essays but it feels like one. Baldwin refused to hold anyone\\u00c3\\u00a2\\u00c2\\u0080\\u00c2\\u0099s hand. He was both direct and beautiful all at once. He did not seem to write to convince you. He wrote beyond you. See more of   Coates\\u00c3\\u00a2\\u00c2\\u0080\\u00c2\\u0099s favorite books.  \\u00c3\\u00a2\\u00c2\\u0080\\u00c2\\u009cWomen,\\u00c3\\u00a2\\u00c2\\u0080\\u00c2\\u009d Chloe Caldwell Sexy, sexy   hybrid that could turn anyone into a lesbian, at least for a summer. See more of Lena Dunham\\u00c3\\u00a2\\u00c2\\u0080\\u00c2\\u0099s favorite books. \\u00c3\\u00a2\\u00c2\\u0080\\u00c2\\u009cBirds of America,\\u00c3\\u00a2\\u00c2\\u0080\\u00c2\\u009d Lorrie Moore Long before I started to write in earnest, Lorrie Moore taught me you could have a woman narrator who was funny and complex and even wrongheaded. She opened up a lot of space that me and a million other women rushed into. See more of Miranda July\\u00c3\\u00a2\\u00c2\\u0080\\u00c2\\u0099s favorite books. \\u00c3\\u00a2\\u00c2\\u0080\\u00c2\\u009cThe Autumn of the Patriarch,\\u00c3\\u00a2\\u00c2\\u0080\\u00c2\\u009d Gabriel Garc\\u00c3\\u0083\\u00c2\\u00ada M\\u00c3\\u0083\\u00c2\\u00a1rquez Picking a M\\u00c3\\u0083\\u00c2\\u00a1rquez novel is a near impossible task. It\\u00c3\\u00a2\\u00c2\\u0080\\u00c2\\u0099s too easy to just go with the obvious choice( s). But this is his most daring novel, and the labyrinthine twists and turns of each sentence demands undivided attention  \\u00c3\\u00a2\\u00c2\\u0080\\u00c2\\u0094   so perfect for a desert island, then. See more of Marlon James\\u00c3\\u00a2\\u00c2\\u0080\\u00c2\\u0099 favorite books.  \\u00c3\\u00a2\\u00c2\\u0080\\u00c2\\u009cMiles: The Autobiography,\\u00c3\\u00a2\\u00c2\\u0080\\u00c2\\u009d Miles Davis and Quincy Troupe If I could have a meal with anyone, it would be Miles Davis. It would be so cool to hear his stories and sit back and talk about jazz. Miles moved to New York around the same age as I did, and he was a transformative player in the evolution of jazz music as we know it. This autobiography was his chance to tell all. See more of Marcus Samuelsson\\u00c3\\u00a2\\u00c2\\u0080\\u00c2\\u0099s favorite books.\",\n          \" Cyber War - From Trifle to Catastrophe By Ernest Partridge\\nNovember 06, 2016 \\\" Information Clearing House \\\" - Hillary Clinton tells us that all seventeen intelligence agencies agree that the Wikileaks hack comes from the Kremlin. Those agencies proclaim this with a rock-solid conviction that I have not heard since Vice President DIck Cheney told us all that \\\"there is no doubt that Saddam Hussein now has weapons of mass destruction. There is no doubt that he is amassing them to use against our friends, against our allies, and against us.\\\" Add to that, the rock-solid evidence of Saddam's treachery that Colin Powell presented to the UN Security Council. The mainstream corporate media bought it whole.\\nHowever, as all know today, these were lies. Saddam had no WMDs, and there were no Iraqi chemical weapons \\\"Winebagos of Death\\\" vividly described by Colin Powell.\\nNow we are told, \\\"with high confidence,\\\" that Vladimir Putin's Kremlin has launched a cyber attack to disrupt our presidential election. Never mind that, as MIT expert Theodore Postol has written that there is, \\\"no technical way that the US intelligence community could know who did the hacking if it was done by sophisticated nation-state actors.\\\"\\nThe lies that launched the disastrous Iraq war have had lasting consequences to the credibility of the United States Government. The last time that government cried \\\"wolf,\\\" there was no wolf. Why should we believe it now?\\nSo no, I am not convinced. There is good reason not to believe the \\\"Kremlin hack\\\" story.\\nA crucial distinction is in order: First, there is the actual content of the hacked emails. Second, there are the consequences of the general media assumption and public belief that the emails were a Kremlin plot to disrupt the presidential election.\\nAs for the content , it was trivial and still worse, not credible. There is nothing remarkable in the disclosed content of the hacked emails. They might, if believed, cause John Podesta some embarrassment. In addition, they might reveal that the Democratic National Committee is controlled by a political elite. But we already know that.\\nBut why should we believe any of that content? If, as claimed, the leaks came from the Kremlin, there is not, and cannot be, any authentication of the hacked emails unless the original sources (e.g, John Podesta) produce the originals. And why would they? Accordingly, the leakers (whoever they might be) are free to concoct forgeries at will. And of course, it follows that we, the intended audience, are advised to ignore all of them.\\nFurthermore, , why would Putin want to use these emails to \\\"rig\\\" our election? To tilt the election toward Trump? If that is his motive, it has backfired spectacularly. That alleged \\\"disclosure\\\" of the hacking has benefited Clinton far more than Trump. It is one of her favorite talking points, as we discovered in the final debate.\\nSo we are left with two alternate conclusions: The Russian government likely had no part in the leaking. Or if they did, the leaks will have little or no effect on the election, except to provide Hillary Clinton with a talking point and to embarrass John Podesta.\\nIn short, the Wikileaks hacks, whatever the source, appear to be a just a prank: A trifle, blown hugely out of proportion by a scandal-hungry media.\\nHowever, even though the content of the hacked emails may be trivial and not credible, the consequences of the accusation of Kremlin connivance could be catastrophic.\\nFirst of all, as we are finding out, the neo-cons and the media are using the hacks to intensify the demonization of Putin and to heat up the renewed Cold War.\\nStill worse, as Joe Biden stated recently on Meet the Press , the accusation that Putin is behind the hacks and their release might provoke a cyber retaliation from the United States.\\nA Kremlin spokesman has called Biden's threat a a \\\"virtual American declaration of war on Russia.\\\"\\nIf, as Biden warns, the United States retaliates, then the Russian response might, unlike the present alleged leaks, be devastating to the US economy.\\nBe assured that a \\\"cyber-war\\\" entails infinitely more than leaked emails. It might include the shutdown of the internet and emails. Also, the disruption of business and financial communications and utility grids. The world today runs on silicon and microprocessors. Imagine returning home to no electric power, phone service or access to the internet. Add to that, no restocking of the local supermarket or gas stations. And no capability of the government to make prompt repairs. The result: Total economic shutdown.\\nWe can do this to Russia, and be assured that Russia can do this to us.\\nThe reality of cyber attacks is no mere speculation, we have seen them at work. The Iranian nuclear weapons program was severely damaged and set back by a CIA implanted computer virus. And this past month, large regions of the United States temporarily lost internet service. The cause remains unknown.\\nHas Joe Biden thought through the implications of his threat? Is this the horror that Biden wants to unleash on us and the world in response to an essentially harmless prank? To what purpose? Some kind of capitulation by the Russians? No chance of that.\\nA far more likely result would be an escalation from cyber to military combat. And then what?\\nWhere are the cool-headed grownups, now that we need them?\\nDr. Ernest Partridge is a consultant, writer and lecturer in the field of Environmental Ethics and Public Policy. He has taught Philosophy at the University of California, and in Utah, Colorado and Wisconsin. He publishes the website, \\\"The Online Gadfly\\\" (www.igc.org/gadfly) and co-edits the progressive website, \\\"The Crisis Papers\\\" (www.crisispapers.org). His book in progress, \\\"Conscience of a Progressive,\\\" can be seen at www.igc.org/gadfly/progressive/^toc.htm . Send comments to: gadfly@igc.org . Ernest Partridge's blog\",\n          \"\\nA WikiLeak\\u00c3\\u00a2\\u00c2\\u0080\\u00c2\\u0099s email released on Monday reveals Clinton staffers knew as early as 2011 that Anthony Weiner had been messaging an underage girl but chose to take no action.\\nIn June of 2011, John Podesta, chair of Hillary Clinton\\u00c3\\u00a2\\u00c2\\u0080\\u00c2\\u0099s presidential campaign \\u00c3\\u00a2\\u00c2\\u0080\\u00c2\\u0093 received news of an investigation into Weiner\\u00c3\\u00a2\\u00c2\\u0080\\u00c2\\u0099s online contact with a 17-year-old Delaware high school student.\\nThe email , sent by Jennifer Palmieri, the current Clinton campaign communications director, detailed lurid claims of private messages to an underage girl being investigated by police. Now it is only LOGICAL to say that if these people knew, Hillary Clinton knew as well.\\nPodesta\\u00c3\\u00a2\\u00c2\\u0080\\u00c2\\u0099s reaction suggested he was undisturbed by the news. He replied to the email, \\u00c3\\u00a2\\u00c2\\u0080\\u00c2\\u009cOof.\\u00c3\\u00a2\\u00c2\\u0080\\u00c2\\u009d\\nPalmieri\\u00c3\\u00a2\\u00c2\\u0080\\u00c2\\u0099s email also included snippets of a Fox News report at the time, saying police were investigating Weiner\\u00c3\\u00a2\\u00c2\\u0080\\u00c2\\u0099s communication with the girl.\\n\\u00c3\\u00a2\\u00c2\\u0080\\u00c2\\u009cPolice on Friday afternoon came to the home of a 17-year-old high school junior to ask her about direct online communications she has had with Rep. Anthony Weiner,\\u00c3\\u00a2\\u00c2\\u0080\\u00c2\\u009d the Fox News article said.\\nSources close to the 17-year-old at the time told Fox News that the girl and Weiner had direct-messaged each other on Twitter.\\nThe girl openly expressed her feelings for the disgraced congressman, who followed her on Twitter. She also expressed her affinity for married men, according to Patterico.com .\\nAt the time, Wiener was married to Huma Abedin, Clinton\\u00c3\\u00a2\\u00c2\\u0080\\u00c2\\u0099s confidante and vice chairwoman, who is now a centerpiece of a fresh FBI investigation into the handling of classified material while Clinton was in office.\\nThe scandal was one of many committed by the former congressman, whose return to the public eye has infuriated Democrats .\\nOn Sunday, FBI Director James Comey announced that the FBI was re-opening its investigation into Clinton\\u00c3\\u00a2\\u00c2\\u0080\\u00c2\\u0099s private email server, having discovered new emails that \\u00c3\\u00a2\\u00c2\\u0080\\u00c2\\u009cappear to be pertinent.\\u00c3\\u00a2\\u00c2\\u0080\\u00c2\\u009d\\nWeiner is at the center of the investigation, along with his estranged wife, Abedin. Law enforcement officials told The New York Times that the emails were uncovered after the FBI seized devices belonging to Abedin.\\nComey has come under fire for his decision, but he has vigorously defended the integrity of the probe.\\n\\u00c3\\u00a2\\u00c2\\u0080\\u00c2\\u009cYou can call us wrong, but don\\u00c3\\u00a2\\u00c2\\u0080\\u00c2\\u0099t call us weasels. We are not weasels,\\u00c3\\u00a2\\u00c2\\u0080\\u00c2\\u009d Comey said at a House Judiciary Committee hearing in September. \\u00c3\\u00a2\\u00c2\\u0080\\u00c2\\u009cWe are honest people, and whether or not you agree with the result, this was done the way you want it to be done.\\u00c3\\u00a2\\u00c2\\u0080\\u00c2\\u009d\\nClinton has demanded the FBI \\u00c3\\u00a2\\u00c2\\u0080\\u00c2\\u009ccome clean\\u00c3\\u00a2\\u00c2\\u0080\\u00c2\\u009d with more specifics, and some Democrats have gone as far as to accuse Comey of interfering with the election and violating the Hatch Act .\\n\\u00c3\\u00a2\\u00c2\\u0080\\u00c2\\u009cWe\\u00c3\\u00a2\\u00c2\\u0080\\u00c2\\u0099re not going to be distracted, no matter what our opponents throw at us,\\u00c3\\u00a2\\u00c2\\u0080\\u00c2\\u009d Clinton told a Florida rally.\\nAbedin separated from Weiner in August after it emerged that he was exchanging lewd messages with a woman on social media. Such behavior had destroyed his congressional career and his 2013 mayoral campaign.\\n\\n\\nSource \\n\"\n        ],\n        \"semantic_type\": \"\",\n        \"description\": \"\"\n      }\n    },\n    {\n      \"column\": \"label\",\n      \"properties\": {\n        \"dtype\": \"number\",\n        \"std\": 0,\n        \"min\": 0,\n        \"max\": 1,\n        \"num_unique_values\": 2,\n        \"samples\": [\n          0,\n          1\n        ],\n        \"semantic_type\": \"\",\n        \"description\": \"\"\n      }\n    }\n  ]\n}"
            }
          },
          "metadata": {},
          "execution_count": 5
        }
      ]
    },
    {
      "cell_type": "code",
      "source": [
        "df.shape"
      ],
      "metadata": {
        "colab": {
          "base_uri": "https://localhost:8080/"
        },
        "id": "5sRV09VWJARJ",
        "outputId": "b4347554-54df-4643-ae57-5675454ecf51"
      },
      "execution_count": null,
      "outputs": [
        {
          "output_type": "execute_result",
          "data": {
            "text/plain": [
              "(429, 5)"
            ]
          },
          "metadata": {},
          "execution_count": 6
        }
      ]
    },
    {
      "cell_type": "code",
      "source": [
        "# Drop NaN values\n",
        "\n",
        "df = df.dropna()"
      ],
      "metadata": {
        "id": "AqBk-TBw-z6P"
      },
      "execution_count": null,
      "outputs": []
    },
    {
      "cell_type": "code",
      "source": [
        "# Separating dependent and independent features\n",
        "X = df.drop('label', axis = 1)\n",
        "y = df['label']"
      ],
      "metadata": {
        "id": "RCwKAOGe_ifN"
      },
      "execution_count": null,
      "outputs": []
    },
    {
      "cell_type": "code",
      "source": [
        "X.shape, y.shape"
      ],
      "metadata": {
        "colab": {
          "base_uri": "https://localhost:8080/"
        },
        "id": "3wYGAYiV_ibz",
        "outputId": "3d8a8b34-3bd3-4231-929a-86cd52cd8e4d"
      },
      "execution_count": null,
      "outputs": [
        {
          "output_type": "execute_result",
          "data": {
            "text/plain": [
              "((429, 4), (429,))"
            ]
          },
          "metadata": {},
          "execution_count": 9
        }
      ]
    },
    {
      "cell_type": "code",
      "source": [
        "X.reset_index(inplace = True)"
      ],
      "metadata": {
        "id": "1GAWFhcU_iY_"
      },
      "execution_count": null,
      "outputs": []
    },
    {
      "cell_type": "code",
      "source": [
        "X.shape, y.shape"
      ],
      "metadata": {
        "colab": {
          "base_uri": "https://localhost:8080/"
        },
        "id": "0IK5zlwI_iWH",
        "outputId": "6db8ca54-d6ce-41e0-e164-ccbe8c2dde74"
      },
      "execution_count": null,
      "outputs": [
        {
          "output_type": "execute_result",
          "data": {
            "text/plain": [
              "((429, 5), (429,))"
            ]
          },
          "metadata": {},
          "execution_count": 11
        }
      ]
    },
    {
      "cell_type": "code",
      "source": [
        "X"
      ],
      "metadata": {
        "colab": {
          "base_uri": "https://localhost:8080/",
          "height": 424
        },
        "id": "T6qeyAlZJmX6",
        "outputId": "01de5d05-963a-454c-d9ba-30dd27568464"
      },
      "execution_count": null,
      "outputs": [
        {
          "output_type": "execute_result",
          "data": {
            "text/plain": [
              "     index   id                                              title  \\\n",
              "0        0    0  House Dem Aide: We DidnÃ¢ÂÂt Even See ComeyÃ...   \n",
              "1        1    1  FLYNN: Hillary Clinton, Big Woman on Campus - ...   \n",
              "2        2    2                  Why the Truth Might Get You Fired   \n",
              "3        3    3  15 Civilians Killed In Single US Airstrike Hav...   \n",
              "4        4    4  Iranian woman jailed for fictional unpublished...   \n",
              "..     ...  ...                                                ...   \n",
              "424    424  495  Contaminated Food from China Now Entering the ...   \n",
              "425    425  496  Ten Famous People on What to Read This Summer ...   \n",
              "426    426  498  Hillary Clinton KNEW 5 years ago Anthony Weine...   \n",
              "427    427  500  A $150 Million Stairway to Nowhere on the Far ...   \n",
              "428    428  501  Cyber War ÃÂ From Trifle to Catastrophe     ...   \n",
              "\n",
              "                                    author  \\\n",
              "0                            Darrell Lucus   \n",
              "1                          Daniel J. Flynn   \n",
              "2                       Consortiumnews.com   \n",
              "3                          Jessica Purkiss   \n",
              "4                           Howard Portnoy   \n",
              "..                                     ...   \n",
              "424  noreply@blogger.com (Alexander Light)   \n",
              "425                             T Magazine   \n",
              "426               The European Union Times   \n",
              "427                               Ted Loos   \n",
              "428                       Ernest Partridge   \n",
              "\n",
              "                                                  text  \n",
              "0    House Dem Aide: We DidnÃ¢ÂÂt Even See ComeyÃ...  \n",
              "1    Ever get the feeling your life circles the rou...  \n",
              "2    Why the Truth Might Get You Fired October 29, ...  \n",
              "3    Videos 15 Civilians Killed In Single US Airstr...  \n",
              "4    Print \\nAn Iranian woman has been sentenced to...  \n",
              "..                                                 ...  \n",
              "424  Contaminated Food from China Now Entering the ...  \n",
              "425  For his bookshop and website One Grand Books, ...  \n",
              "426  \\nA WikiLeakÃ¢ÂÂs email released on Monday r...  \n",
              "427  By the look of the renderings officially unvei...  \n",
              "428   Cyber War - From Trifle to Catastrophe By Ern...  \n",
              "\n",
              "[429 rows x 5 columns]"
            ],
            "text/html": [
              "\n",
              "  <div id=\"df-40c230c4-15a9-4f96-b37b-62aa1317407c\" class=\"colab-df-container\">\n",
              "    <div>\n",
              "<style scoped>\n",
              "    .dataframe tbody tr th:only-of-type {\n",
              "        vertical-align: middle;\n",
              "    }\n",
              "\n",
              "    .dataframe tbody tr th {\n",
              "        vertical-align: top;\n",
              "    }\n",
              "\n",
              "    .dataframe thead th {\n",
              "        text-align: right;\n",
              "    }\n",
              "</style>\n",
              "<table border=\"1\" class=\"dataframe\">\n",
              "  <thead>\n",
              "    <tr style=\"text-align: right;\">\n",
              "      <th></th>\n",
              "      <th>index</th>\n",
              "      <th>id</th>\n",
              "      <th>title</th>\n",
              "      <th>author</th>\n",
              "      <th>text</th>\n",
              "    </tr>\n",
              "  </thead>\n",
              "  <tbody>\n",
              "    <tr>\n",
              "      <th>0</th>\n",
              "      <td>0</td>\n",
              "      <td>0</td>\n",
              "      <td>House Dem Aide: We DidnÃ¢ÂÂt Even See ComeyÃ...</td>\n",
              "      <td>Darrell Lucus</td>\n",
              "      <td>House Dem Aide: We DidnÃ¢ÂÂt Even See ComeyÃ...</td>\n",
              "    </tr>\n",
              "    <tr>\n",
              "      <th>1</th>\n",
              "      <td>1</td>\n",
              "      <td>1</td>\n",
              "      <td>FLYNN: Hillary Clinton, Big Woman on Campus - ...</td>\n",
              "      <td>Daniel J. Flynn</td>\n",
              "      <td>Ever get the feeling your life circles the rou...</td>\n",
              "    </tr>\n",
              "    <tr>\n",
              "      <th>2</th>\n",
              "      <td>2</td>\n",
              "      <td>2</td>\n",
              "      <td>Why the Truth Might Get You Fired</td>\n",
              "      <td>Consortiumnews.com</td>\n",
              "      <td>Why the Truth Might Get You Fired October 29, ...</td>\n",
              "    </tr>\n",
              "    <tr>\n",
              "      <th>3</th>\n",
              "      <td>3</td>\n",
              "      <td>3</td>\n",
              "      <td>15 Civilians Killed In Single US Airstrike Hav...</td>\n",
              "      <td>Jessica Purkiss</td>\n",
              "      <td>Videos 15 Civilians Killed In Single US Airstr...</td>\n",
              "    </tr>\n",
              "    <tr>\n",
              "      <th>4</th>\n",
              "      <td>4</td>\n",
              "      <td>4</td>\n",
              "      <td>Iranian woman jailed for fictional unpublished...</td>\n",
              "      <td>Howard Portnoy</td>\n",
              "      <td>Print \\nAn Iranian woman has been sentenced to...</td>\n",
              "    </tr>\n",
              "    <tr>\n",
              "      <th>...</th>\n",
              "      <td>...</td>\n",
              "      <td>...</td>\n",
              "      <td>...</td>\n",
              "      <td>...</td>\n",
              "      <td>...</td>\n",
              "    </tr>\n",
              "    <tr>\n",
              "      <th>424</th>\n",
              "      <td>424</td>\n",
              "      <td>495</td>\n",
              "      <td>Contaminated Food from China Now Entering the ...</td>\n",
              "      <td>noreply@blogger.com (Alexander Light)</td>\n",
              "      <td>Contaminated Food from China Now Entering the ...</td>\n",
              "    </tr>\n",
              "    <tr>\n",
              "      <th>425</th>\n",
              "      <td>425</td>\n",
              "      <td>496</td>\n",
              "      <td>Ten Famous People on What to Read This Summer ...</td>\n",
              "      <td>T Magazine</td>\n",
              "      <td>For his bookshop and website One Grand Books, ...</td>\n",
              "    </tr>\n",
              "    <tr>\n",
              "      <th>426</th>\n",
              "      <td>426</td>\n",
              "      <td>498</td>\n",
              "      <td>Hillary Clinton KNEW 5 years ago Anthony Weine...</td>\n",
              "      <td>The European Union Times</td>\n",
              "      <td>\\nA WikiLeakÃ¢ÂÂs email released on Monday r...</td>\n",
              "    </tr>\n",
              "    <tr>\n",
              "      <th>427</th>\n",
              "      <td>427</td>\n",
              "      <td>500</td>\n",
              "      <td>A $150 Million Stairway to Nowhere on the Far ...</td>\n",
              "      <td>Ted Loos</td>\n",
              "      <td>By the look of the renderings officially unvei...</td>\n",
              "    </tr>\n",
              "    <tr>\n",
              "      <th>428</th>\n",
              "      <td>428</td>\n",
              "      <td>501</td>\n",
              "      <td>Cyber War ÃÂ From Trifle to Catastrophe     ...</td>\n",
              "      <td>Ernest Partridge</td>\n",
              "      <td>Cyber War - From Trifle to Catastrophe By Ern...</td>\n",
              "    </tr>\n",
              "  </tbody>\n",
              "</table>\n",
              "<p>429 rows × 5 columns</p>\n",
              "</div>\n",
              "    <div class=\"colab-df-buttons\">\n",
              "\n",
              "  <div class=\"colab-df-container\">\n",
              "    <button class=\"colab-df-convert\" onclick=\"convertToInteractive('df-40c230c4-15a9-4f96-b37b-62aa1317407c')\"\n",
              "            title=\"Convert this dataframe to an interactive table.\"\n",
              "            style=\"display:none;\">\n",
              "\n",
              "  <svg xmlns=\"http://www.w3.org/2000/svg\" height=\"24px\" viewBox=\"0 -960 960 960\">\n",
              "    <path d=\"M120-120v-720h720v720H120Zm60-500h600v-160H180v160Zm220 220h160v-160H400v160Zm0 220h160v-160H400v160ZM180-400h160v-160H180v160Zm440 0h160v-160H620v160ZM180-180h160v-160H180v160Zm440 0h160v-160H620v160Z\"/>\n",
              "  </svg>\n",
              "    </button>\n",
              "\n",
              "  <style>\n",
              "    .colab-df-container {\n",
              "      display:flex;\n",
              "      gap: 12px;\n",
              "    }\n",
              "\n",
              "    .colab-df-convert {\n",
              "      background-color: #E8F0FE;\n",
              "      border: none;\n",
              "      border-radius: 50%;\n",
              "      cursor: pointer;\n",
              "      display: none;\n",
              "      fill: #1967D2;\n",
              "      height: 32px;\n",
              "      padding: 0 0 0 0;\n",
              "      width: 32px;\n",
              "    }\n",
              "\n",
              "    .colab-df-convert:hover {\n",
              "      background-color: #E2EBFA;\n",
              "      box-shadow: 0px 1px 2px rgba(60, 64, 67, 0.3), 0px 1px 3px 1px rgba(60, 64, 67, 0.15);\n",
              "      fill: #174EA6;\n",
              "    }\n",
              "\n",
              "    .colab-df-buttons div {\n",
              "      margin-bottom: 4px;\n",
              "    }\n",
              "\n",
              "    [theme=dark] .colab-df-convert {\n",
              "      background-color: #3B4455;\n",
              "      fill: #D2E3FC;\n",
              "    }\n",
              "\n",
              "    [theme=dark] .colab-df-convert:hover {\n",
              "      background-color: #434B5C;\n",
              "      box-shadow: 0px 1px 3px 1px rgba(0, 0, 0, 0.15);\n",
              "      filter: drop-shadow(0px 1px 2px rgba(0, 0, 0, 0.3));\n",
              "      fill: #FFFFFF;\n",
              "    }\n",
              "  </style>\n",
              "\n",
              "    <script>\n",
              "      const buttonEl =\n",
              "        document.querySelector('#df-40c230c4-15a9-4f96-b37b-62aa1317407c button.colab-df-convert');\n",
              "      buttonEl.style.display =\n",
              "        google.colab.kernel.accessAllowed ? 'block' : 'none';\n",
              "\n",
              "      async function convertToInteractive(key) {\n",
              "        const element = document.querySelector('#df-40c230c4-15a9-4f96-b37b-62aa1317407c');\n",
              "        const dataTable =\n",
              "          await google.colab.kernel.invokeFunction('convertToInteractive',\n",
              "                                                    [key], {});\n",
              "        if (!dataTable) return;\n",
              "\n",
              "        const docLinkHtml = 'Like what you see? Visit the ' +\n",
              "          '<a target=\"_blank\" href=https://colab.research.google.com/notebooks/data_table.ipynb>data table notebook</a>'\n",
              "          + ' to learn more about interactive tables.';\n",
              "        element.innerHTML = '';\n",
              "        dataTable['output_type'] = 'display_data';\n",
              "        await google.colab.output.renderOutput(dataTable, element);\n",
              "        const docLink = document.createElement('div');\n",
              "        docLink.innerHTML = docLinkHtml;\n",
              "        element.appendChild(docLink);\n",
              "      }\n",
              "    </script>\n",
              "  </div>\n",
              "\n",
              "\n",
              "    <div id=\"df-801e3798-289c-4634-9ba5-9db0ec61694d\">\n",
              "      <button class=\"colab-df-quickchart\" onclick=\"quickchart('df-801e3798-289c-4634-9ba5-9db0ec61694d')\"\n",
              "                title=\"Suggest charts\"\n",
              "                style=\"display:none;\">\n",
              "\n",
              "<svg xmlns=\"http://www.w3.org/2000/svg\" height=\"24px\"viewBox=\"0 0 24 24\"\n",
              "     width=\"24px\">\n",
              "    <g>\n",
              "        <path d=\"M19 3H5c-1.1 0-2 .9-2 2v14c0 1.1.9 2 2 2h14c1.1 0 2-.9 2-2V5c0-1.1-.9-2-2-2zM9 17H7v-7h2v7zm4 0h-2V7h2v10zm4 0h-2v-4h2v4z\"/>\n",
              "    </g>\n",
              "</svg>\n",
              "      </button>\n",
              "\n",
              "<style>\n",
              "  .colab-df-quickchart {\n",
              "      --bg-color: #E8F0FE;\n",
              "      --fill-color: #1967D2;\n",
              "      --hover-bg-color: #E2EBFA;\n",
              "      --hover-fill-color: #174EA6;\n",
              "      --disabled-fill-color: #AAA;\n",
              "      --disabled-bg-color: #DDD;\n",
              "  }\n",
              "\n",
              "  [theme=dark] .colab-df-quickchart {\n",
              "      --bg-color: #3B4455;\n",
              "      --fill-color: #D2E3FC;\n",
              "      --hover-bg-color: #434B5C;\n",
              "      --hover-fill-color: #FFFFFF;\n",
              "      --disabled-bg-color: #3B4455;\n",
              "      --disabled-fill-color: #666;\n",
              "  }\n",
              "\n",
              "  .colab-df-quickchart {\n",
              "    background-color: var(--bg-color);\n",
              "    border: none;\n",
              "    border-radius: 50%;\n",
              "    cursor: pointer;\n",
              "    display: none;\n",
              "    fill: var(--fill-color);\n",
              "    height: 32px;\n",
              "    padding: 0;\n",
              "    width: 32px;\n",
              "  }\n",
              "\n",
              "  .colab-df-quickchart:hover {\n",
              "    background-color: var(--hover-bg-color);\n",
              "    box-shadow: 0 1px 2px rgba(60, 64, 67, 0.3), 0 1px 3px 1px rgba(60, 64, 67, 0.15);\n",
              "    fill: var(--button-hover-fill-color);\n",
              "  }\n",
              "\n",
              "  .colab-df-quickchart-complete:disabled,\n",
              "  .colab-df-quickchart-complete:disabled:hover {\n",
              "    background-color: var(--disabled-bg-color);\n",
              "    fill: var(--disabled-fill-color);\n",
              "    box-shadow: none;\n",
              "  }\n",
              "\n",
              "  .colab-df-spinner {\n",
              "    border: 2px solid var(--fill-color);\n",
              "    border-color: transparent;\n",
              "    border-bottom-color: var(--fill-color);\n",
              "    animation:\n",
              "      spin 1s steps(1) infinite;\n",
              "  }\n",
              "\n",
              "  @keyframes spin {\n",
              "    0% {\n",
              "      border-color: transparent;\n",
              "      border-bottom-color: var(--fill-color);\n",
              "      border-left-color: var(--fill-color);\n",
              "    }\n",
              "    20% {\n",
              "      border-color: transparent;\n",
              "      border-left-color: var(--fill-color);\n",
              "      border-top-color: var(--fill-color);\n",
              "    }\n",
              "    30% {\n",
              "      border-color: transparent;\n",
              "      border-left-color: var(--fill-color);\n",
              "      border-top-color: var(--fill-color);\n",
              "      border-right-color: var(--fill-color);\n",
              "    }\n",
              "    40% {\n",
              "      border-color: transparent;\n",
              "      border-right-color: var(--fill-color);\n",
              "      border-top-color: var(--fill-color);\n",
              "    }\n",
              "    60% {\n",
              "      border-color: transparent;\n",
              "      border-right-color: var(--fill-color);\n",
              "    }\n",
              "    80% {\n",
              "      border-color: transparent;\n",
              "      border-right-color: var(--fill-color);\n",
              "      border-bottom-color: var(--fill-color);\n",
              "    }\n",
              "    90% {\n",
              "      border-color: transparent;\n",
              "      border-bottom-color: var(--fill-color);\n",
              "    }\n",
              "  }\n",
              "</style>\n",
              "\n",
              "      <script>\n",
              "        async function quickchart(key) {\n",
              "          const quickchartButtonEl =\n",
              "            document.querySelector('#' + key + ' button');\n",
              "          quickchartButtonEl.disabled = true;  // To prevent multiple clicks.\n",
              "          quickchartButtonEl.classList.add('colab-df-spinner');\n",
              "          try {\n",
              "            const charts = await google.colab.kernel.invokeFunction(\n",
              "                'suggestCharts', [key], {});\n",
              "          } catch (error) {\n",
              "            console.error('Error during call to suggestCharts:', error);\n",
              "          }\n",
              "          quickchartButtonEl.classList.remove('colab-df-spinner');\n",
              "          quickchartButtonEl.classList.add('colab-df-quickchart-complete');\n",
              "        }\n",
              "        (() => {\n",
              "          let quickchartButtonEl =\n",
              "            document.querySelector('#df-801e3798-289c-4634-9ba5-9db0ec61694d button');\n",
              "          quickchartButtonEl.style.display =\n",
              "            google.colab.kernel.accessAllowed ? 'block' : 'none';\n",
              "        })();\n",
              "      </script>\n",
              "    </div>\n",
              "\n",
              "  <div id=\"id_074ab83f-59cc-4d29-b760-45ffea9fc4d3\">\n",
              "    <style>\n",
              "      .colab-df-generate {\n",
              "        background-color: #E8F0FE;\n",
              "        border: none;\n",
              "        border-radius: 50%;\n",
              "        cursor: pointer;\n",
              "        display: none;\n",
              "        fill: #1967D2;\n",
              "        height: 32px;\n",
              "        padding: 0 0 0 0;\n",
              "        width: 32px;\n",
              "      }\n",
              "\n",
              "      .colab-df-generate:hover {\n",
              "        background-color: #E2EBFA;\n",
              "        box-shadow: 0px 1px 2px rgba(60, 64, 67, 0.3), 0px 1px 3px 1px rgba(60, 64, 67, 0.15);\n",
              "        fill: #174EA6;\n",
              "      }\n",
              "\n",
              "      [theme=dark] .colab-df-generate {\n",
              "        background-color: #3B4455;\n",
              "        fill: #D2E3FC;\n",
              "      }\n",
              "\n",
              "      [theme=dark] .colab-df-generate:hover {\n",
              "        background-color: #434B5C;\n",
              "        box-shadow: 0px 1px 3px 1px rgba(0, 0, 0, 0.15);\n",
              "        filter: drop-shadow(0px 1px 2px rgba(0, 0, 0, 0.3));\n",
              "        fill: #FFFFFF;\n",
              "      }\n",
              "    </style>\n",
              "    <button class=\"colab-df-generate\" onclick=\"generateWithVariable('X')\"\n",
              "            title=\"Generate code using this dataframe.\"\n",
              "            style=\"display:none;\">\n",
              "\n",
              "  <svg xmlns=\"http://www.w3.org/2000/svg\" height=\"24px\"viewBox=\"0 0 24 24\"\n",
              "       width=\"24px\">\n",
              "    <path d=\"M7,19H8.4L18.45,9,17,7.55,7,17.6ZM5,21V16.75L18.45,3.32a2,2,0,0,1,2.83,0l1.4,1.43a1.91,1.91,0,0,1,.58,1.4,1.91,1.91,0,0,1-.58,1.4L9.25,21ZM18.45,9,17,7.55Zm-12,3A5.31,5.31,0,0,0,4.9,8.1,5.31,5.31,0,0,0,1,6.5,5.31,5.31,0,0,0,4.9,4.9,5.31,5.31,0,0,0,6.5,1,5.31,5.31,0,0,0,8.1,4.9,5.31,5.31,0,0,0,12,6.5,5.46,5.46,0,0,0,6.5,12Z\"/>\n",
              "  </svg>\n",
              "    </button>\n",
              "    <script>\n",
              "      (() => {\n",
              "      const buttonEl =\n",
              "        document.querySelector('#id_074ab83f-59cc-4d29-b760-45ffea9fc4d3 button.colab-df-generate');\n",
              "      buttonEl.style.display =\n",
              "        google.colab.kernel.accessAllowed ? 'block' : 'none';\n",
              "\n",
              "      buttonEl.onclick = () => {\n",
              "        google.colab.notebook.generateWithVariable('X');\n",
              "      }\n",
              "      })();\n",
              "    </script>\n",
              "  </div>\n",
              "\n",
              "    </div>\n",
              "  </div>\n"
            ],
            "application/vnd.google.colaboratory.intrinsic+json": {
              "type": "dataframe",
              "variable_name": "X",
              "summary": "{\n  \"name\": \"X\",\n  \"rows\": 429,\n  \"fields\": [\n    {\n      \"column\": \"index\",\n      \"properties\": {\n        \"dtype\": \"number\",\n        \"std\": 123,\n        \"min\": 0,\n        \"max\": 428,\n        \"num_unique_values\": 429,\n        \"samples\": [\n          421,\n          75,\n          177\n        ],\n        \"semantic_type\": \"\",\n        \"description\": \"\"\n      }\n    },\n    {\n      \"column\": \"id\",\n      \"properties\": {\n        \"dtype\": \"number\",\n        \"std\": 143,\n        \"min\": 0,\n        \"max\": 501,\n        \"num_unique_values\": 429,\n        \"samples\": [\n          491,\n          88,\n          208\n        ],\n        \"semantic_type\": \"\",\n        \"description\": \"\"\n      }\n    },\n    {\n      \"column\": \"title\",\n      \"properties\": {\n        \"dtype\": \"string\",\n        \"num_unique_values\": 429,\n        \"samples\": [\n          \"\\u00c3\\u00a2\\u00c2\\u0080\\u00c2\\u0098They Will Have to Die Now\\u00c3\\u00a2\\u00c2\\u0080\\u00c2\\u0099 - The New York Times\",\n          \"Fox Biz Reporter Can't Help But Bash Clinton\\u00c3\\u00a2\\u00c2\\u0080\\u00c2\\u0099s Rally After Covering Trump\\u00c3\\u00a2\\u00c2\\u0080\\u00c2\\u0099s Packed Event Day Before\",\n          \"Commissioner Starts to Press Cleveland Indians About Logo - The New York Times\"\n        ],\n        \"semantic_type\": \"\",\n        \"description\": \"\"\n      }\n    },\n    {\n      \"column\": \"author\",\n      \"properties\": {\n        \"dtype\": \"string\",\n        \"num_unique_values\": 322,\n        \"samples\": [\n          \"Andrew Ross Sorkin\",\n          \"runsinquicksand\",\n          \"Roger Aronoff\"\n        ],\n        \"semantic_type\": \"\",\n        \"description\": \"\"\n      }\n    },\n    {\n      \"column\": \"text\",\n      \"properties\": {\n        \"dtype\": \"string\",\n        \"num_unique_values\": 425,\n        \"samples\": [\n          \"Before dawn on a Sunday late last month, a battalion of pesh merga soldiers  \\u00c3\\u00a2\\u00c2\\u0080\\u00c2\\u0094   about 600 Kurdish men, along with a few women  \\u00c3\\u00a2\\u00c2\\u0080\\u00c2\\u0094   gathered in the shadow of Bashiqa Mountain, on the western edge of the autonomous region of Iraqi Kurdistan. They were sons, daughters, fathers, grandfathers. They wore an assortment of camouflage fatigues and traditional Kurdish flowing pants, waist sashes and head scarves. They carried antique Kalashnikovs and new assault rifles. Few had helmets, and fewer had body armor. Strapped to their backs and belts and legs were daggers, revolvers, axes. Some of them had received the call to duty only the day before and were driven to the front by family or rode overnight in taxis. With them was a column of vehicles new, old and very old: armored personnel carriers,     vehicles (MRAPs) Humvees, S. U. V. s, ambulances, Soviet tanks, backhoes, bulldozers,   sedans and a bestiary of retrofitted pickups and battlewagons, whose tenuous welding and argumentative suspensions told of the years Iraqi Kurds had spent fighting with    and homemade hardware in one war or another. At 7 a. m. the idling engines came to life, and cries went up: \\u00c3\\u00a2\\u00c2\\u0080\\u00c2\\u009cLong live pesh merga!\\u00c3\\u00a2\\u00c2\\u0080\\u00c2\\u009d \\u00c3\\u00a2\\u00c2\\u0080\\u00c2\\u009cDeath to ISIS!\\u00c3\\u00a2\\u00c2\\u0080\\u00c2\\u009d The troops started down an unpaved track that led southwest through the Tigris River valley toward the city of Mosul. As the march went on, villages gave way to occasional abandoned farmhouses, crop fields to dunes, and the sun made itself felt. A long dust cloud rose in the wake of the column, whose eventual destination was Bashiqa, a small city on the mountain\\u00c3\\u00a2\\u00c2\\u0080\\u00c2\\u0099s edge that was claimed by the Islamic State. The operation to retake Mosul had finally begun one week earlier on Oct. 16. The pesh merga led the charge toward the city, Iraq\\u00c3\\u00a2\\u00c2\\u0080\\u00c2\\u0099s   and ISIS\\u00c3\\u00a2\\u00c2\\u0080\\u00c2\\u0099 last citadel in the country. Mosul had become the focus of the world\\u00c3\\u00a2\\u00c2\\u0080\\u00c2\\u0099s attention, and the battle for it had been criticized even before it began. In the second presidential debate, Donald Trump complained that in revealing its designs on Mosul, the international   coalition was telegraphing its punches. This was inevitably true  \\u00c3\\u00a2\\u00c2\\u0080\\u00c2\\u0094   not even ISIS had ever doubted that Mosul would be invaded  \\u00c3\\u00a2\\u00c2\\u0080\\u00c2\\u0094   but it was also true that the first flurry of blows was too big to duck. Embedded in the column was a unit of American Special Forces, in a cluster of MRAPs. They were there, it was understood, to pick out targets for airstrikes. Rumbling in the distance, the bombs had deposited on the horizon a dome of inky vapor. While the pesh merga attacked ISIS from the north and the east, the Iraqi military was approaching from the south. The job of the battalion moving toward Bashiqa was to shore up the eastern front and extend a cordon around Mosul. The Iraqis\\u00c3\\u00a2\\u00c2\\u0080\\u00c2\\u0099 next moves would depend in part on the Kurds\\u00c3\\u00a2\\u00c2\\u0080\\u00c2\\u0099 success. For the moment, in other words, the progress of the central conflict in the Middle East had come down to this unlikely troop. The first ISIS mortar fire arrived in the midmorning with whizzes and thuds. It was off target, and the soldiers regarded the dirt plumes with indifference. The first incoming bullets soon followed and were cause for more alarm. They flew from a rambling,     house on the crest of a slope. The gunfire split the column in two. The back portion halted behind a berm about 12 feet high and about 300 yards downslope from the house. A few soldiers climbed up the dirt and took aim. The rest got out of their vehicles and pulled out phones and cigarettes. Group photos and selfies were snapped. \\u00c3\\u00a2\\u00c2\\u0080\\u00c2\\u009cLet\\u00c3\\u00a2\\u00c2\\u0080\\u00c2\\u0099s use the cannon,\\u00c3\\u00a2\\u00c2\\u0080\\u00c2\\u009d a commander suggested. A pickup mounted with an   gun pulled in front of the berm. The first shot fell short a second hit the house, leaving a disappointingly small hole in the facade. When there was a pause in the fighting, a group of trucks emerged from behind the berm, raced up the track and cut right onto a hillock that overlooked the house. Some pesh merga got out and gathered. They presented a clear target for snipers and artillery, but they didn\\u00c3\\u00a2\\u00c2\\u0080\\u00c2\\u0099t appear to mind. They chatted, laughed, smoked, checked their phones. More group photos, more selfies. Even after two mortar rounds landed in quick succession on either side of them  \\u00c3\\u00a2\\u00c2\\u0080\\u00c2\\u0094   a sign that a spotter was nearby, bracketing their position  \\u00c3\\u00a2\\u00c2\\u0080\\u00c2\\u0094   they remained unhurried. Eventually they got back into their vehicles and, under fire from the house, headed straight for it. The ISIS fighters had built their own berm beside the house\\u00c3\\u00a2\\u00c2\\u0080\\u00c2\\u0099s exterior wall. The Kurdish soldiers backed their trucks up to it, and one of them opened up on the house with a   machine gun. Others peeked over the berm, taking the occasional potshot. One walked up to a gap in the dirt and, with neither cover nor helmet, a cigarette dangling from his lips, emptied a magazine. The   jammed. The fighting subsided again. The soldiers reclined at the base of the berm. Out came the phones. More selfies. Texting. A man called his mother. Another watched a video of a firefight taking place on some other front around Mosul. None of them seemed eager to storm the house. \\u00c3\\u00a2\\u00c2\\u0080\\u00c2\\u009cI\\u00c3\\u00a2\\u00c2\\u0080\\u00c2\\u0099m deaf from that cannon!\\u00c3\\u00a2\\u00c2\\u0080\\u00c2\\u009d a soldier said. \\u00c3\\u00a2\\u00c2\\u0080\\u00c2\\u009cDid you take any photos of it being shot?\\u00c3\\u00a2\\u00c2\\u0080\\u00c2\\u009d another asked him. The gunner got into an argument with another soldier over whose responsibility it had been to make sure the   was working properly that morning. \\u00c3\\u00a2\\u00c2\\u0080\\u00c2\\u009cYou were supposed to fix it!\\u00c3\\u00a2\\u00c2\\u0080\\u00c2\\u009d \\u00c3\\u00a2\\u00c2\\u0080\\u00c2\\u009cIt\\u00c3\\u00a2\\u00c2\\u0080\\u00c2\\u0099s not my job!\\u00c3\\u00a2\\u00c2\\u0080\\u00c2\\u009d \\u00c3\\u00a2\\u00c2\\u0080\\u00c2\\u009cIt\\u00c3\\u00a2\\u00c2\\u0080\\u00c2\\u0099s not as if you had to build an airplane. It\\u00c3\\u00a2\\u00c2\\u0080\\u00c2\\u0099s simple. \\u00c3\\u00a2\\u00c2\\u0080\\u00c2\\u009d \\u00c3\\u00a2\\u00c2\\u0080\\u00c2\\u009cYou came all the way to the front in a taxi, and now all you do is talk. You just talk. \\u00c3\\u00a2\\u00c2\\u0080\\u00c2\\u009d Another burst of gunfire from the house, and a soldier climbed behind the   gun. \\u00c3\\u00a2\\u00c2\\u0080\\u00c2\\u009cCome help me,\\u00c3\\u00a2\\u00c2\\u0080\\u00c2\\u009d he instructed a colleague. \\u00c3\\u00a2\\u00c2\\u0080\\u00c2\\u009cI don\\u00c3\\u00a2\\u00c2\\u0080\\u00c2\\u0099t know how. \\u00c3\\u00a2\\u00c2\\u0080\\u00c2\\u009d \\u00c3\\u00a2\\u00c2\\u0080\\u00c2\\u009cIf you don\\u00c3\\u00a2\\u00c2\\u0080\\u00c2\\u0099t get up here and help me, I\\u00c3\\u00a2\\u00c2\\u0080\\u00c2\\u0099m going to do everything that\\u00c3\\u00a2\\u00c2\\u0080\\u00c2\\u0099s bad to you. \\u00c3\\u00a2\\u00c2\\u0080\\u00c2\\u009d The gun was loaded and fired. The backblast shattered a pickup\\u00c3\\u00a2\\u00c2\\u0080\\u00c2\\u0099s windshield. \\u00c3\\u00a2\\u00c2\\u0080\\u00c2\\u009cBazan, where are your cigarettes?\\u00c3\\u00a2\\u00c2\\u0080\\u00c2\\u009d Bazan ran to a truck and returned with a pack of cigarettes. \\u00c3\\u00a2\\u00c2\\u0080\\u00c2\\u009cWho wants a cigarette?\\u00c3\\u00a2\\u00c2\\u0080\\u00c2\\u009d The group lit up. \\u00c3\\u00a2\\u00c2\\u0080\\u00c2\\u009cEveryone here talks like a man,\\u00c3\\u00a2\\u00c2\\u0080\\u00c2\\u009d a soldier said, \\u00c3\\u00a2\\u00c2\\u0080\\u00c2\\u009cbut no one fights like one. \\u00c3\\u00a2\\u00c2\\u0080\\u00c2\\u009d There was a note of false modesty in this quip. In fact, for centuries Kurds have fought famously, taking on all comers: Persians, Ottomans, Arabs, British and the various governments of Iraq. A diffuse institution  \\u00c3\\u00a2\\u00c2\\u0080\\u00c2\\u0094   \\u00c3\\u00a2\\u00c2\\u0080\\u00c2\\u009cmore an attitude than an army,\\u00c3\\u00a2\\u00c2\\u0080\\u00c2\\u009d as one Kurd put it  \\u00c3\\u00a2\\u00c2\\u0080\\u00c2\\u0094   the pesh merga today contain anywhere from several tens of thousands to about a hundred thousand fighters, depending on who\\u00c3\\u00a2\\u00c2\\u0080\\u00c2\\u0099s counting and how proud he\\u00c3\\u00a2\\u00c2\\u0080\\u00c2\\u0099s feeling. Many are volunteers. Only some of them have training that would warrant the name in a major military. The one thing they all share is that they are willing to die for their land. If their tactics are negligible  \\u00c3\\u00a2\\u00c2\\u0080\\u00c2\\u0094   and sometimes as suicidal as those of the jihadists  \\u00c3\\u00a2\\u00c2\\u0080\\u00c2\\u0094   their bravery is not. The pesh merga are commanded by Massoud Barzani, president of the Kurdish regional government. When ISIS overran Mosul in June 2014, Barzani offered the help of his army to Prime Minister Nuri Kamal   who snubbed him. It was assumed Maliki worried that Barzani intended to annex whatever land his troops took. Maliki\\u00c3\\u00a2\\u00c2\\u0080\\u00c2\\u0099s successor, Haider   may have delayed the invasion of Mosul for the same reason. But earlier this year, Barzani, Abadi and the international coalition arrived at an agreement that called for the Kurdish forces to halt their advance at Bashiqa. About six miles from the eastern outskirts of Mosul, Bashiqa was inhabited largely by Christians, Kurds and members of the Yazidi minority, most of whom fled when ISIS arrived. The city presented an added political wrinkle in the war because it is in the \\u00c3\\u00a2\\u00c2\\u0080\\u00c2\\u009cdisputed territories,\\u00c3\\u00a2\\u00c2\\u0080\\u00c2\\u009d land claimed by both Iraq and the Kurdish regional government. Certain Kurds, mainly older ones, consider Mosul theirs, too. Partly for this reason  \\u00c3\\u00a2\\u00c2\\u0080\\u00c2\\u0094   but more because they\\u00c3\\u00a2\\u00c2\\u0080\\u00c2\\u0099re accustomed to fighting against the Iraqi military, not alongside it  \\u00c3\\u00a2\\u00c2\\u0080\\u00c2\\u0094   some pesh merga worried they would be attacked, or at least mistreated, by Iraqi soldiers when the two forces met on the front lines. Speculation about a sequel war between Kurdistan and Iraq was (and still is) commonplace. But so far relations were cordial, and the Iraqi military, knowing it would have its hands full with the close combat in Mosul\\u00c3\\u00a2\\u00c2\\u0080\\u00c2\\u0099s ancient streets, was content to leave the Bashiqa campaign to the Kurds. \\u00c3\\u00a2\\u00c2\\u0080\\u00c2\\u009cThis war is very different for us Kurds,\\u00c3\\u00a2\\u00c2\\u0080\\u00c2\\u009d Barzani\\u00c3\\u00a2\\u00c2\\u0080\\u00c2\\u0099s brother, Sihad Barzani, explained several days after the campaign began. \\u00c3\\u00a2\\u00c2\\u0080\\u00c2\\u009cThis is the first time we\\u00c3\\u00a2\\u00c2\\u0080\\u00c2\\u0099ve seen airstrikes that we\\u00c3\\u00a2\\u00c2\\u0080\\u00c2\\u0099re not afraid of. This is the first time the Iraqi Army is not trying to kill us  \\u00c3\\u00a2\\u00c2\\u0080\\u00c2\\u0094   and we\\u00c3\\u00a2\\u00c2\\u0080\\u00c2\\u0099re not trying to kill them. We hope it stays this way. \\u00c3\\u00a2\\u00c2\\u0080\\u00c2\\u009d He was in a large abandoned house that the pesh merga had commandeered and turned into a field headquarters on the periphery of Bashiqa. The march had brought them to the limits of the city. They had not yet entered, but they had it surrounded. \\u00c3\\u00a2\\u00c2\\u0080\\u00c2\\u009cISIS has no escape. They will have to die now. \\u00c3\\u00a2\\u00c2\\u0080\\u00c2\\u009d The Barzanis are de facto royalty in Kurdistan. Massoud and Sihad\\u00c3\\u00a2\\u00c2\\u0080\\u00c2\\u0099s father, Mustafa, the patriarch of the incipient Iraqi Kurdish republic, led its revolution against Iraq until his death in 1979. It\\u00c3\\u00a2\\u00c2\\u0080\\u00c2\\u0099s common to meet pesh merga with tattoos of Mustafa\\u00c3\\u00a2\\u00c2\\u0080\\u00c2\\u0099s portrait. As Sihad stepped from the house, a young soldier lifted up his shirt to reveal the face of Mustafa, with his thick black mustache and checkered red head scarf, sprawled across his back. Sihad looked on approvingly. Asked how many of his own family members were fighting ISIS, he gestured at the soldiers gathered in the courtyard and said, \\u00c3\\u00a2\\u00c2\\u0080\\u00c2\\u009cThey\\u00c3\\u00a2\\u00c2\\u0080\\u00c2\\u0099re all my family. \\u00c3\\u00a2\\u00c2\\u0080\\u00c2\\u009d The Tigris River valley is dotted with villages and olive groves. The ISIS fighters inhabiting it were experienced and disciplined. What they lacked in munitions they made up for in patience, as the pesh merga had learned. Some Kurds had developed a reluctant respect for their adversary. \\u00c3\\u00a2\\u00c2\\u0080\\u00c2\\u009cThey fight as if they want to die,\\u00c3\\u00a2\\u00c2\\u0080\\u00c2\\u009d it was often said. The night before, the jihadists had told the residents of Buharbuq, an   village near Bashiqa, to be ready to leave at 6 a. m. for Mosul. The intent was obvious: They would be used as human shields. In the middle of the night, the village fled en masse. After leaving the headquarters, Barzani\\u00c3\\u00a2\\u00c2\\u0080\\u00c2\\u0099s convoy passed the refugee caravan, 80 or so cars and trucks stretched along a roadside. The residents of Buharbuq had taken everyone and everything they could: children, mattresses, blankets, grandmothers, pots, buckets, sheep, chickens. One truck contained a motorized wheelchair, another seven newborn lambs. The women were still dressed according to ISIS decree, fully covered in black hijabs and abayas. Officers with the Asayish, a Kurdish internal security agency, met the villagers on the road with a fleet of buses that would take them to a   camp. A soldier pulled up with a freight truck full of crackers and water. \\u00c3\\u00a2\\u00c2\\u0080\\u00c2\\u009cAll of our life is wasted in this ISIS mess,\\u00c3\\u00a2\\u00c2\\u0080\\u00c2\\u009d a woman waiting in line said to her husband. \\u00c3\\u00a2\\u00c2\\u0080\\u00c2\\u009cI feel a hundred years old. I hope ISIS goes to hell, then rots in hell. \\u00c3\\u00a2\\u00c2\\u0080\\u00c2\\u009d \\u00c3\\u00a2\\u00c2\\u0080\\u00c2\\u009cI\\u00c3\\u00a2\\u00c2\\u0080\\u00c2\\u0099m so tired,\\u00c3\\u00a2\\u00c2\\u0080\\u00c2\\u009d her husband replied. There were heartsick roadside reunions. Two old classmates, one a pesh merga who had fled Buharbuq, the other a shop owner who had stayed, hugged for the first time in two years. \\u00c3\\u00a2\\u00c2\\u0080\\u00c2\\u009cLife was very bitter,\\u00c3\\u00a2\\u00c2\\u0080\\u00c2\\u009d the shop owner told his friend. He pulled from his pocket a   note, less than a dollar. \\u00c3\\u00a2\\u00c2\\u0080\\u00c2\\u009cThis is all my money. \\u00c3\\u00a2\\u00c2\\u0080\\u00c2\\u009d A young man found his mother. She clung to his neck and wept and kissed his face again and again. \\u00c3\\u00a2\\u00c2\\u0080\\u00c2\\u009cThank God,\\u00c3\\u00a2\\u00c2\\u0080\\u00c2\\u009d she muttered. \\u00c3\\u00a2\\u00c2\\u0080\\u00c2\\u009cThank God. \\u00c3\\u00a2\\u00c2\\u0080\\u00c2\\u009d Perhaps the bravest pesh merga are the drivers of earthmovers, who toil mere yards from ISIS positions. They are bombed, mortared, rocketed and sniped, all the while doing astonishingly fast work. Within two days of setting off toward Bashiqa, they had turned the valley into a grid of berms and trenches that prevented an ISIS breakout and cut off the group\\u00c3\\u00a2\\u00c2\\u0080\\u00c2\\u0099s supply lines. About 4, 000 Kurdish soldiers now occupied 100 positions and small encampments. The main camp was presided over by Barham Arif, one of the youngest and most respected generals in the pesh merga. Tall and taciturn, he led his men into battle in a jaunty     MRAP with a GoPro camera   to the hood. \\u00c3\\u00a2\\u00c2\\u0080\\u00c2\\u009cISIS is not smart and not brave, but they brainwash stupid people,\\u00c3\\u00a2\\u00c2\\u0080\\u00c2\\u009d Arif said. \\u00c3\\u00a2\\u00c2\\u0080\\u00c2\\u009cThey give drugs to their fighters. They fight for 20 minutes and then run away. \\u00c3\\u00a2\\u00c2\\u0080\\u00c2\\u009d For months, Arif had lived with his men on the pesh merga\\u00c3\\u00a2\\u00c2\\u0080\\u00c2\\u0099s stalemated front line, on the ridge of Bashiqa Mountain, overlooking the valley. A modest cult of personality had formed around the general, and his camp was home to foreign volunteers and soldiers of fortune. There were American medics, a Brazilian and Czech videographer couple and, constantly at Arif\\u00c3\\u00a2\\u00c2\\u0080\\u00c2\\u0099s side, a   Scottish   sniper in spectacles. On Facebook, under employer, he listed \\u00c3\\u00a2\\u00c2\\u0080\\u00c2\\u009cpesh merga. \\u00c3\\u00a2\\u00c2\\u0080\\u00c2\\u009d Generations of Kurds also converged in the camp. A few soldiers were in their 20s. Most were in their 30s, 40s and 50s. One soldier who had come down from the mountain with Arif was Kaefe Ahmed. Ahmed\\u00c3\\u00a2\\u00c2\\u0080\\u00c2\\u0099s father, also a pesh merga fighter, was killed by Iraqi soldiers when Ahmed was 4. Ten other family members had died in war. Ahmed refused to wear a camouflage uniform because, he said, \\u00c3\\u00a2\\u00c2\\u0080\\u00c2\\u009cfor decades the Iraqi Army destroyed our land with these uniforms. \\u00c3\\u00a2\\u00c2\\u0080\\u00c2\\u009d He had fought for more than 20 of his 37 years: in the Kurdish civil war, against Saddam Hussein\\u00c3\\u00a2\\u00c2\\u0080\\u00c2\\u0099s forces and now against ISIS. He and his cousin Robar Ali were in a unit with a   group of men, some of them related. When ISIS entered Mosul, they fought on its outskirts, before the pesh merga were ordered to withdraw. Had ISIS stopped there, Ahmed and Ali, like most Iraqi Kurds, wouldn\\u00c3\\u00a2\\u00c2\\u0080\\u00c2\\u0099t have worried much about the jihadists living nearby. This was a conflict among Arabs, they felt, and at first ISIS was better than Saddam\\u00c3\\u00a2\\u00c2\\u0080\\u00c2\\u0099s Baathists ever were. \\u00c3\\u00a2\\u00c2\\u0080\\u00c2\\u009cIn the beginning, the ISIS fighters were generally good with people,\\u00c3\\u00a2\\u00c2\\u0080\\u00c2\\u009d Ahmed said. But then ISIS pushed into Kurdistan. Ahmed and Ali fought them in Sinjar, and then in Bashiqa, before it was overrun. The fighting there was particularly bitter. \\u00c3\\u00a2\\u00c2\\u0080\\u00c2\\u009cThey\\u00c3\\u00a2\\u00c2\\u0080\\u00c2\\u0099re suicidal,\\u00c3\\u00a2\\u00c2\\u0080\\u00c2\\u009d he said. The oldest soldier in the camp, as far as anyone knew, was a man named Jamil Rashid. When asked about his age, he first said, \\u00c3\\u00a2\\u00c2\\u0080\\u00c2\\u009cA lot. \\u00c3\\u00a2\\u00c2\\u0080\\u00c2\\u009d Later offerings ranged from 61 to 78. Asked how many battles he\\u00c3\\u00a2\\u00c2\\u0080\\u00c2\\u0099d fought in over the years, he said, \\u00c3\\u00a2\\u00c2\\u0080\\u00c2\\u009cThat notebook does not have enough paper to write them all down. \\u00c3\\u00a2\\u00c2\\u0080\\u00c2\\u009d He ate what food local   brought to the camp and slept wrapped in a thin blanket in a ditch. Five of his sons were in the pesh merga. One had recently been killed by ISIS. He had more grandchildren than he cared to count. \\u00c3\\u00a2\\u00c2\\u0080\\u00c2\\u009cISIS is nothing  \\u00c3\\u00a2\\u00c2\\u0080\\u00c2\\u0094   they\\u00c3\\u00a2\\u00c2\\u0080\\u00c2\\u0099ve been around for two years,\\u00c3\\u00a2\\u00c2\\u0080\\u00c2\\u009d said Rashid, who was fond of listing, in the profanest terms possible, the Iraqi premiers whose regimes he\\u00c3\\u00a2\\u00c2\\u0080\\u00c2\\u0099d fought against. \\u00c3\\u00a2\\u00c2\\u0080\\u00c2\\u009cAbd   Qasim\\u00c3\\u00a2\\u00c2\\u0080\\u00c2\\u009d  \\u00c3\\u00a2\\u00c2\\u0080\\u00c2\\u0094   the Iraqi prime minister of the early 1960s. \\u00c3\\u00a2\\u00c2\\u0080\\u00c2\\u009cI screwed his mother. Then there was Ahmed Hassan   and then Saddam, and then Nuri  . He was a bad guy. And now  \\u00c3\\u00a2\\u00c2\\u0080\\u00c2\\u0094   what\\u00c3\\u00a2\\u00c2\\u0080\\u00c2\\u0099s his name again?\\u00c3\\u00a2\\u00c2\\u0080\\u00c2\\u009d \\u00c3\\u00a2\\u00c2\\u0080\\u00c2\\u009cAbadi,\\u00c3\\u00a2\\u00c2\\u0080\\u00c2\\u009d a young soldier said. \\u00c3\\u00a2\\u00c2\\u0080\\u00c2\\u009cRight, Abadi. I fought all of them on this holy ground  \\u00c3\\u00a2\\u00c2\\u0080\\u00c2\\u0094   for this holy ground. Our mud is holy. Whoever doesn\\u00c3\\u00a2\\u00c2\\u0080\\u00c2\\u0099t fight for his land takes it in the [expletive]. This land is so precious. \\u00c3\\u00a2\\u00c2\\u0080\\u00c2\\u009d \\u00c3\\u00a2\\u00c2\\u0080\\u00c2\\u009cWhy are you talking about history, Jamil?\\u00c3\\u00a2\\u00c2\\u0080\\u00c2\\u009d another young soldier asked him. \\u00c3\\u00a2\\u00c2\\u0080\\u00c2\\u009cWe\\u00c3\\u00a2\\u00c2\\u0080\\u00c2\\u0099re supposed to be discussing now. \\u00c3\\u00a2\\u00c2\\u0080\\u00c2\\u009d \\u00c3\\u00a2\\u00c2\\u0080\\u00c2\\u009cSo what if I talk about history?\\u00c3\\u00a2\\u00c2\\u0080\\u00c2\\u009d Rashid said. \\u00c3\\u00a2\\u00c2\\u0080\\u00c2\\u009cIt\\u00c3\\u00a2\\u00c2\\u0080\\u00c2\\u0099s all the same, history and now. \\u00c3\\u00a2\\u00c2\\u0080\\u00c2\\u009d On Tuesday morning, Arif\\u00c3\\u00a2\\u00c2\\u0080\\u00c2\\u0099s men prepared to assault Omar Qapchi, a village barely a   from his camp that was still under ISIS control. A commander had got hold of some villagers on a cellphone and was telling them what to do when the fighting started. \\u00c3\\u00a2\\u00c2\\u0080\\u00c2\\u009cStay together, don\\u00c3\\u00a2\\u00c2\\u0080\\u00c2\\u0099t separate,\\u00c3\\u00a2\\u00c2\\u0080\\u00c2\\u009d he said. \\u00c3\\u00a2\\u00c2\\u0080\\u00c2\\u009cIf you see any ISIS, call this number. Take care of yourselves. We\\u00c3\\u00a2\\u00c2\\u0080\\u00c2\\u0099re coming. \\u00c3\\u00a2\\u00c2\\u0080\\u00c2\\u009d The armored personnel carriers and tanks and trucks filled up in moments. Far more soldiers wanted to take part in the assault than there was space in vehicles. Omar Qapchi, spreading about a mile down a slope that ended in an arterial road at the foot of Bashiqa Mountain, was made up of tightly packed   and   homes. Near its western gate, the column split into three smaller convoys. Arif\\u00c3\\u00a2\\u00c2\\u0080\\u00c2\\u0099s convoy cut across a field toward the road. Though the ground was known to be full of I. E. D. s, some pesh merga cut one another off as they careered over suspicious patches of dirt and objects, racing to get into the action. When the convoy reached the road, muzzle flashes appeared in windows, and bullets whizzed by. The pesh merga strafed the buildings with   fire and grenades. At the eastern gate, the convoy hooked into the village. The streets were empty. From the residents who had phoned, it was known that about a dozen ISIS fighters were somewhere in the village. The convoy raced into the village center and suddenly found itself in a firefight with a contingent of ISIS gunmen, who, surrounded, had taken a stand at one end of a short, wide alley. The soldiers, on the other end, jumped from their vehicles, piled into the alley  \\u00c3\\u00a2\\u00c2\\u0080\\u00c2\\u0094   directly in the line of fire  \\u00c3\\u00a2\\u00c2\\u0080\\u00c2\\u0094   and began shooting back. There was little aiming but a lot of yelling. One man stepped into the alley with a grenade launcher. He pulled the trigger. Nothing happened. He held the rocket inches from his nose and looked at it quizzically. As bullets hit the dirt near his feet, he slowly peeled off a piece of plastic wrapping, then lifted the launcher back onto his shoulder and tried again. This time it fired. The ISIS fighters took to their heels, and the soldiers, among them Ahmed, gave chase, eventually cornering several jihadists in a mosque. One detonated a suicide vest another was sheared in half by a rocket. By the end of the day, eight of them had died, three had escaped and one was captured. Three pesh merga sustained minor wounds. Rather than going on foot from house to house to make sure the village was cleared, they gathered outside it and celebrated. \\u00c3\\u00a2\\u00c2\\u0080\\u00c2\\u009cI think I killed someone,\\u00c3\\u00a2\\u00c2\\u0080\\u00c2\\u009d Rashid said. \\u00c3\\u00a2\\u00c2\\u0080\\u00c2\\u009cIt would be a shame if I shot my rifle and didn\\u00c3\\u00a2\\u00c2\\u0080\\u00c2\\u0099t kill anyone. \\u00c3\\u00a2\\u00c2\\u0080\\u00c2\\u009d Two days later, the wind at their backs, Arif\\u00c3\\u00a2\\u00c2\\u0080\\u00c2\\u0099s men moved on Faziliya, a neighboring village. The road to the village was littered with I. E. D. s, which sent up showers of gravel and tarmac. On the wall of a kiosk at the entrance to the village was  : \\u00c3\\u00a2\\u00c2\\u0080\\u00c2\\u009cEvery ISIS man who dies goes to paradise. \\u00c3\\u00a2\\u00c2\\u0080\\u00c2\\u009d An ISIS flag fluttered on a fence post, but the roofs of the houses, which ranged steeply up the foot of the mountain, bore newly hung white flags: The town\\u00c3\\u00a2\\u00c2\\u0080\\u00c2\\u0099s residents were eagerly awaiting the pesh merga\\u00c3\\u00a2\\u00c2\\u0080\\u00c2\\u0099s arrival. Then gun and rocket fire erupted from a small, windowed spire on a building near the road. A tank reduced the building to smoking rubble. The people of Faziliya streamed from their homes and into the streets. They patted their heads  \\u00c3\\u00a2\\u00c2\\u0080\\u00c2\\u0094   a Kurdish gesture of welcome  \\u00c3\\u00a2\\u00c2\\u0080\\u00c2\\u0094   and kissed the soldiers. Children chanted: \\u00c3\\u00a2\\u00c2\\u0080\\u00c2\\u009cLong live pesh merga! Long live pesh merga!\\u00c3\\u00a2\\u00c2\\u0080\\u00c2\\u009d In the village square, a group of boys tore down an ISIS billboard. Soldiers shot off celebratory rounds. \\u00c3\\u00a2\\u00c2\\u0080\\u00c2\\u009cWho has cigarettes?\\u00c3\\u00a2\\u00c2\\u0080\\u00c2\\u009d a man asked the soldiers. \\u00c3\\u00a2\\u00c2\\u0080\\u00c2\\u009cWe want to smoke!\\u00c3\\u00a2\\u00c2\\u0080\\u00c2\\u009d A soldier found his wife and children  \\u00c3\\u00a2\\u00c2\\u0080\\u00c2\\u0094   their first meeting in more than two years. His mother emerged. She took hold of her son. They sank to the ground in an embrace, their tears streaming together. Back at Omar Qapchi, the few residents who had remained for the battle were gathered outside the village next to a caged soccer pitch, where they awaited interrogation by the soldiers and Asayish officers. An elderly woman wanted to know where her brother was. A rocket had destroyed his house, and he was nowhere to be seen. \\u00c3\\u00a2\\u00c2\\u0080\\u00c2\\u009cHe\\u00c3\\u00a2\\u00c2\\u0080\\u00c2\\u0099s dead,\\u00c3\\u00a2\\u00c2\\u0080\\u00c2\\u009d a neighbor of hers explained, out of earshot, \\u00c3\\u00a2\\u00c2\\u0080\\u00c2\\u009cbut she hasn\\u00c3\\u00a2\\u00c2\\u0080\\u00c2\\u0099t found out yet. \\u00c3\\u00a2\\u00c2\\u0080\\u00c2\\u009d An officer had already determined that one resident was allied with ISIS. The man was dragged from the group, his hands bound behind his back with a scarf. A green knit face mask was pulled down over his eyes, and he was forced to the ground. He pleaded his innocence. \\u00c3\\u00a2\\u00c2\\u0080\\u00c2\\u009cShut up, you imbecile!\\u00c3\\u00a2\\u00c2\\u0080\\u00c2\\u009d a soldier yelled at him. \\u00c3\\u00a2\\u00c2\\u0080\\u00c2\\u009cIt\\u00c3\\u00a2\\u00c2\\u0080\\u00c2\\u0099s obvious he\\u00c3\\u00a2\\u00c2\\u0080\\u00c2\\u0099s ISIS,\\u00c3\\u00a2\\u00c2\\u0080\\u00c2\\u009d another soldier said. \\u00c3\\u00a2\\u00c2\\u0080\\u00c2\\u009cJust look at his color. He\\u00c3\\u00a2\\u00c2\\u0080\\u00c2\\u0099s taken on the jihadists\\u00c3\\u00a2\\u00c2\\u0080\\u00c2\\u0099 color. \\u00c3\\u00a2\\u00c2\\u0080\\u00c2\\u009d \\u00c3\\u00a2\\u00c2\\u0080\\u00c2\\u009cI\\u00c3\\u00a2\\u00c2\\u0080\\u00c2\\u0099m not with ISIS, I swear!\\u00c3\\u00a2\\u00c2\\u0080\\u00c2\\u009d the prisoner said. \\u00c3\\u00a2\\u00c2\\u0080\\u00c2\\u009cI\\u00c3\\u00a2\\u00c2\\u0080\\u00c2\\u0099m a Kurd!\\u00c3\\u00a2\\u00c2\\u0080\\u00c2\\u009d \\u00c3\\u00a2\\u00c2\\u0080\\u00c2\\u009cShut up or I\\u00c3\\u00a2\\u00c2\\u0080\\u00c2\\u0099ll stuff this down your throat!\\u00c3\\u00a2\\u00c2\\u0080\\u00c2\\u009d the first soldier said, jabbing his rifle\\u00c3\\u00a2\\u00c2\\u0080\\u00c2\\u0099s stock in the man\\u00c3\\u00a2\\u00c2\\u0080\\u00c2\\u0099s face. The officer was from Omar Qapchi and had fled the village as ISIS approached it in 2014. From his friends who had stayed, he had heard that the prisoner had driven an ambulance for the jihadists. His son, they said, was with ISIS, too. \\u00c3\\u00a2\\u00c2\\u0080\\u00c2\\u009cI haven\\u00c3\\u00a2\\u00c2\\u0080\\u00c2\\u0099t done anything!\\u00c3\\u00a2\\u00c2\\u0080\\u00c2\\u009d the prisoner protested. \\u00c3\\u00a2\\u00c2\\u0080\\u00c2\\u009cI was just told to drive somewhere. \\u00c3\\u00a2\\u00c2\\u0080\\u00c2\\u009d \\u00c3\\u00a2\\u00c2\\u0080\\u00c2\\u009cHit him already,\\u00c3\\u00a2\\u00c2\\u0080\\u00c2\\u009d another soldier said. The prisoner\\u00c3\\u00a2\\u00c2\\u0080\\u00c2\\u0099s son, his hands also bound and face covered, was pushed down beside his father. \\u00c3\\u00a2\\u00c2\\u0080\\u00c2\\u009cMy son is a student in Bashiqa,\\u00c3\\u00a2\\u00c2\\u0080\\u00c2\\u009d the father said. \\u00c3\\u00a2\\u00c2\\u0080\\u00c2\\u009cI\\u00c3\\u00a2\\u00c2\\u0080\\u00c2\\u0099ll tell you anything about him. Please don\\u00c3\\u00a2\\u00c2\\u0080\\u00c2\\u0099t put the gun to his head. \\u00c3\\u00a2\\u00c2\\u0080\\u00c2\\u009d \\u00c3\\u00a2\\u00c2\\u0080\\u00c2\\u009cI\\u00c3\\u00a2\\u00c2\\u0080\\u00c2\\u0099m just following orders,\\u00c3\\u00a2\\u00c2\\u0080\\u00c2\\u009d the soldier said. \\u00c3\\u00a2\\u00c2\\u0080\\u00c2\\u009cDon\\u00c3\\u00a2\\u00c2\\u0080\\u00c2\\u0099t worry,\\u00c3\\u00a2\\u00c2\\u0080\\u00c2\\u009d said an Asayish commander who had arrived on the scene. \\u00c3\\u00a2\\u00c2\\u0080\\u00c2\\u009cWe don\\u00c3\\u00a2\\u00c2\\u0080\\u00c2\\u0099t know if he\\u00c3\\u00a2\\u00c2\\u0080\\u00c2\\u0099s ISIS. We have to investigate. \\u00c3\\u00a2\\u00c2\\u0080\\u00c2\\u009d \\u00c3\\u00a2\\u00c2\\u0080\\u00c2\\u009cYou\\u00c3\\u00a2\\u00c2\\u0080\\u00c2\\u0099ve humiliated my son!\\u00c3\\u00a2\\u00c2\\u0080\\u00c2\\u009d \\u00c3\\u00a2\\u00c2\\u0080\\u00c2\\u009cSo are you saying your son is ISIS or not?\\u00c3\\u00a2\\u00c2\\u0080\\u00c2\\u009d the soldier asked. \\u00c3\\u00a2\\u00c2\\u0080\\u00c2\\u009cHe\\u00c3\\u00a2\\u00c2\\u0080\\u00c2\\u0099s a student! He\\u00c3\\u00a2\\u00c2\\u0080\\u00c2\\u0099s in ninth grade!\\u00c3\\u00a2\\u00c2\\u0080\\u00c2\\u009d They were bundled into the bed of a pickup and driven away. The Islamic State, the pesh merga knew, hadn\\u00c3\\u00a2\\u00c2\\u0080\\u00c2\\u0099t conquered such large swaths of the country with weapons alone. It had won sympathy among many Sunni Muslims who felt neglected by Iraq\\u00c3\\u00a2\\u00c2\\u0080\\u00c2\\u0099s   national government and abused by security forces. ISIS promised them protection and pride. Many of them saw ISIS as a way out of an already miserable existence. In a   camp near Khazer, another   town, an elderly farmer who\\u00c3\\u00a2\\u00c2\\u0080\\u00c2\\u0099d fled the village of Topzawa, not far from Bashiqa, which the Iraqi military had taken a few days before, talked about the jihadists fondly. \\u00c3\\u00a2\\u00c2\\u0080\\u00c2\\u009cMost of the young men who joined ISIS were poor,\\u00c3\\u00a2\\u00c2\\u0080\\u00c2\\u009d he said. \\u00c3\\u00a2\\u00c2\\u0080\\u00c2\\u009cThey needed the money. They had no other options. \\u00c3\\u00a2\\u00c2\\u0080\\u00c2\\u009d He confessed that he had come to know some of the ISIS men in Topzawa well. They weren\\u00c3\\u00a2\\u00c2\\u0080\\u00c2\\u0099t foreigners, but Iraqis, ordinary ones. They were kind. They allowed him to travel wherever he wanted to sell his produce. He didn\\u00c3\\u00a2\\u00c2\\u0080\\u00c2\\u0099t mind that the women in his family had to put on more clothing, and he wore a beard anyway. They treated his wife and daughters with the respect that Islam required. \\u00c3\\u00a2\\u00c2\\u0080\\u00c2\\u009cAt the beginning of Islam, with Muhammad, there were good rules. But with democracy, there are no rules. I\\u00c3\\u00a2\\u00c2\\u0080\\u00c2\\u0099m a fair person. I believe in justice. But there are rules in Islam. No one can change them. Not you, not me, not anyone. \\u00c3\\u00a2\\u00c2\\u0080\\u00c2\\u009cISIS treated us as though we were free,\\u00c3\\u00a2\\u00c2\\u0080\\u00c2\\u009d he went on. \\u00c3\\u00a2\\u00c2\\u0080\\u00c2\\u009cWe felt secure under them. In the final battle, they conducted themselves honorably. They fought until they died. \\u00c3\\u00a2\\u00c2\\u0080\\u00c2\\u009d The Iraqi Army, by contrast, relied on foreign airstrikes. The bombs had killed 20 of his sheep, 10 of his chickens and 10 dogs, and when the soldiers finally arrived, they were \\u00c3\\u00a2\\u00c2\\u0080\\u00c2\\u009cvery, very bad. \\u00c3\\u00a2\\u00c2\\u0080\\u00c2\\u009d They forced him from his home and made him come to this camp, where he endured humiliations. His hands were bound. \\u00c3\\u00a2\\u00c2\\u0080\\u00c2\\u009cThey attacked my honor. They told me my wife and daughters had been raped by ISIS. I was disgraced. I wanted to kill myself. \\u00c3\\u00a2\\u00c2\\u0080\\u00c2\\u009d Two weeks after the Bashiqa campaign began, President Barzani still hadn\\u00c3\\u00a2\\u00c2\\u0080\\u00c2\\u0099t given the order to attack the city itself. Rumors about what would be found in it expanded by the day. The number of ISIS fighters supposedly hiding out there crept upward. There would be no end of I. E. D. s, people said, of suicide   of snipers. There would be tunnels everywhere. At General Arif\\u00c3\\u00a2\\u00c2\\u0080\\u00c2\\u0099s camp, the berms had grown taller and the foxholes deeper. ISIS fighters had attacked by night, and by day they lobbed in mortar rounds and handcrafted missiles. Jamil Rashid spoke with a group of younger soldiers as gunfire rang out. \\u00c3\\u00a2\\u00c2\\u0080\\u00c2\\u009cThis is nothing,\\u00c3\\u00a2\\u00c2\\u0080\\u00c2\\u009d he said. \\u00c3\\u00a2\\u00c2\\u0080\\u00c2\\u009cIt\\u00c3\\u00a2\\u00c2\\u0080\\u00c2\\u0099s air. I like the sound of it. \\u00c3\\u00a2\\u00c2\\u0080\\u00c2\\u009d Finally, the order was given. The night before the assault, Arif\\u00c3\\u00a2\\u00c2\\u0080\\u00c2\\u0099s troops gathered on the mountain above Bashiqa, in their old position. Ahmed and his cousin Ali were part of group of about 30 men who would descend the slope and enter Bashiqa on foot. In the morning, an armored column collected on a road outside the city. Sihad Barzani arrived to wish them luck. \\u00c3\\u00a2\\u00c2\\u0080\\u00c2\\u009cWe must move, but slowly,\\u00c3\\u00a2\\u00c2\\u0080\\u00c2\\u009d he said. For six hours, the column crept toward the city, while airstrikes and artillery pummeled it. As they waited, soldiers checked for news of the American election, the next day, on their phones. Word came down that a sniper was holed up somewhere inside. He had already killed one soldier and wounded four. On the access road into the city\\u00c3\\u00a2\\u00c2\\u0080\\u00c2\\u0099s east end, which climbed up the mountainside, the column drove by a pesh merga bulldozer in flames, the driver incinerated in the cab. As in Omar Qapchi, the streets were quiet. But as the vehicles turned by a small park, a   grenade flew at it. Its orange fireball and white smoke trail, visible for less than a second, were terribly beautiful. The rocket exploded against the low concrete wall of the park. Another quickly followed behind it. The column made it to a central plaza. A handsome old church with a suspicious tower was peppered with   fire and artillery. Jamil Rashid hopped from the front seat of a truck and took up a position outside the church. Standing in the open, his rifle dangling by his leg, he looked around and breathed in the scent of gun smoke, beaming. The column turned back along the same road it had entered. But now there was an empty white sedan in the middle of an intersection. Was this a car bomb? A roadblock? Had some innocent tried to flee and suffered a breakdown? The driver of the lead tank stuck his head from the turret hatch. A shot cracked the air, its tone higher and sharper than that of a Kalashnikov. Blood sprayed from the driver\\u00c3\\u00a2\\u00c2\\u0080\\u00c2\\u0099s head. He slumped over the turret. His crew mates began screaming and crying. Panic passed down the line. \\u00c3\\u00a2\\u00c2\\u0080\\u00c2\\u009cSniper! Sniper!\\u00c3\\u00a2\\u00c2\\u0080\\u00c2\\u009d The column reversed course, honking and   and labored back to the plaza. The tank sped from the city by a different route. At the staging point, the driver\\u00c3\\u00a2\\u00c2\\u0080\\u00c2\\u0099s body was lifted out and put in an ambulance. His friends bent over the tank\\u00c3\\u00a2\\u00c2\\u0080\\u00c2\\u0099s side skirt and knelt in the dirt, weeping. Before the driver was shot, Ahmed, Ali and their detachment had descended into the same side of the city on foot. They came under fire, retreated back uphill and took up a position. A   crack. Ali lurched forward, falling over Ahmed\\u00c3\\u00a2\\u00c2\\u0080\\u00c2\\u0099s leg. Ahmed thought his cousin had tripped. Then he saw the blood. Three days later, Ahmed was worrying a string of wooden prayer beads in a mosque in his and Ali\\u00c3\\u00a2\\u00c2\\u0080\\u00c2\\u0099s hometown, Rawanduz, in Kurdistan\\u00c3\\u00a2\\u00c2\\u0080\\u00c2\\u0099s eastern mountains. He sat by the muezzin, who sang a death prayer for Ali, a Quran open before him on a desk stand. Old pesh merga in traditional dress and younger ones in suits and jeans filed in. They greeted Ali\\u00c3\\u00a2\\u00c2\\u0080\\u00c2\\u0099s father and Ahmed, their hands to their chests, saying: \\u00c3\\u00a2\\u00c2\\u0080\\u00c2\\u009cMay he rest in peace\\u00c3\\u00a2\\u00c2\\u0080\\u00c2\\u009d and \\u00c3\\u00a2\\u00c2\\u0080\\u00c2\\u009cMay God forgive him his sins. \\u00c3\\u00a2\\u00c2\\u0080\\u00c2\\u009d After the service, long rugs were spread on the floor, and Ahmed and the men from his unit sat down to lunch. Their part in the fight against ISIS was over, for now. Bashiqa was liberated, and the Kurdish line stopped there. But the war against ISIS was not going well for the Iraqi Army, which was still stuck on Mosul\\u00c3\\u00a2\\u00c2\\u0080\\u00c2\\u0099s outskirts, taking a lot of casualties. \\u00c3\\u00a2\\u00c2\\u0080\\u00c2\\u009cIt will be a heavy fight,\\u00c3\\u00a2\\u00c2\\u0080\\u00c2\\u009d one man said. Ahmed and his friends would fight in Mosul if they were ordered to, they agreed, but they wouldn\\u00c3\\u00a2\\u00c2\\u0080\\u00c2\\u0099t like it. They were not among the Kurds who considered the city part of the homeland. \\u00c3\\u00a2\\u00c2\\u0080\\u00c2\\u009cIs it fair that a Kurd should die for an Arab?\\u00c3\\u00a2\\u00c2\\u0080\\u00c2\\u009d Ahmed said. Anyway, history had taught them that another war would come soon enough. \\u00c3\\u00a2\\u00c2\\u0080\\u00c2\\u009cOnce you finish one fight, they prepare another one for you,\\u00c3\\u00a2\\u00c2\\u0080\\u00c2\\u009d a soldier said. \\u00c3\\u00a2\\u00c2\\u0080\\u00c2\\u009cIt makes you tired. \\u00c3\\u00a2\\u00c2\\u0080\\u00c2\\u009d\",\n          \"Share on Twitter \\nThe battle of campaign rallies has been going strong throughout the 2016 presidential election, with both candidates amassing pretty large crowds. \\nJust last month, the Washington Post compared two separate September rallies for both Donald Trump and Hillary Clinton. \\nTrump's had a crowd of 15,000, at his Sept. 27th rally in Melbourne, Florida: Unbelievable evening in Melbourne, Florida w/ 15,000 supporters- and an additional 12,000 who could not get in. Thank you! #TrumpTrain #MAGA pic.twitter.com/2N3Xq7AGmx \\u00c3\\u00a2\\u00c2\\u0080\\u00c2\\u0094 Donald J. Trump (@realDonaldTrump) September 28, 2016 \\n...while Clinton had a crowd of roughly 1,400 people in Raleigh, North Carolina, that same day: Hillary Clinton rallies in Raleigh, NC the day after the debate pic.twitter.com/pvWndH0zlK \\u00c3\\u00a2\\u00c2\\u0080\\u00c2\\u0094 Sabrina Siddiqui (@SabrinaSiddiqui) September 27, 2016 \\nIt appears as though Fox Business reporter Adam Shapiro felt the need to compare Trump and Hillary's crowd attendance, too. \\nAt a West Palm Beach rally Wednesday, Shapiro said there appeared to be roughly a thousand Hillary supporters at Palm Beach State College, which was a sizable difference to Trump's rally the day before: \\n\\\"It's nowhere near the size of the crowd we saw in Sanford, Florida yesterday for Mr. Trump \\u00c3\\u00a2\\u00c2\\u0080\\u00c2\\u0094 15,000. \\nTake a look, Stewart [camera pans crowd]. \\nThere's maybe 1,000 to 2,000 people here today. The Clinton rallies tend to be much smaller and you can see there's empty space here.\\\" Image Credit: Screenshot/ YouTube \\nHe just couldn't stop talking about it, adding that if they were covering a Trump rally, the room would be \\u00c3\\u00a2\\u00c2\\u0080\\u00c2\\u009cpacked.\\u00c3\\u00a2\\u00c2\\u0080\\u00c2\\u009d \\nThough Shapiro took a dig at the Democratic nominee for her apparently \\u00c3\\u00a2\\u00c2\\u0080\\u00c2\\u009cempty\\u00c3\\u00a2\\u00c2\\u0080\\u00c2\\u009d rally, those who were in attendance still sang \\u00c3\\u00a2\\u00c2\\u0080\\u00c2\\u009cHappy Birthday\\u00c3\\u00a2\\u00c2\\u0080\\u00c2\\u009d to her. \",\n          \"CLEVELAND  \\u00c3\\u00a2\\u00c2\\u0080\\u00c2\\u0094   The Cleveland Indians returned home to Progressive Field on Tuesday for the first time since an agonizing Game 7 defeat to the Chicago Cubs in the World Series. They raised the 2016 American League pennant and handed out rings before the focus turned back to the current season. It is a season in which the Indians may again be one of the top teams in baseball, but it is also one in which they may have to wrestle increasingly with the issue of Chief Wahoo, the smiling caricature that has long been an Indians logo but has come to be seen as offensive and wildly outdated. Among those who think it is time for the club to decisively move away from the logo is the Major League Baseball commissioner, Rob Manfred, who in continuing discussions with the team\\u00c3\\u00a2\\u00c2\\u0080\\u00c2\\u0099s ownership is beginning to apply a little bit of pressure on the club to come up with a plan of action. In a statement to The New York Times, Pat Courtney, a spokesman for Major League Baseball, said Manfred, in his talks with the Indians\\u00c3\\u00a2\\u00c2\\u0080\\u00c2\\u0099 owners, had made clear his \\u00c3\\u00a2\\u00c2\\u0080\\u00c2\\u009cdesire to transition away from the Chief Wahoo logo. \\u00c3\\u00a2\\u00c2\\u0080\\u00c2\\u0099\\u00c3\\u00a2\\u00c2\\u0080\\u00c2\\u0099 \\u00c3\\u00a2\\u00c2\\u0080\\u00c2\\u009cWe have specific steps in an identified process and are making progress,\\u00c3\\u00a2\\u00c2\\u0080\\u00c2\\u0099\\u00c3\\u00a2\\u00c2\\u0080\\u00c2\\u0099 Courtney added. \\u00c3\\u00a2\\u00c2\\u0080\\u00c2\\u009cWe are confident that a positive resolution will be reached that will be good for the game and the club. \\u00c3\\u00a2\\u00c2\\u0080\\u00c2\\u0099\\u00c3\\u00a2\\u00c2\\u0080\\u00c2\\u0099 Although Manfred had previously acknowledged a willingness to engage in talks with the Indians about the logo, Courtney\\u00c3\\u00a2\\u00c2\\u0080\\u00c2\\u0099s statement appears to be the first time that Manfred is identified as having staked out a clear position on the issue. It is an issue, however, that may not be that easy to resolve. Although many people, including baseball fans around the country, would welcome the removal of Chief Wahoo, there is a significant segment of the Indians\\u00c3\\u00a2\\u00c2\\u0080\\u00c2\\u0099 fan base that still cherishes the logo, which has existed in various forms since 1947. \\u00c3\\u00a2\\u00c2\\u0080\\u00c2\\u009cChief Wahoo is the Cleveland Indians,\\u00c3\\u00a2\\u00c2\\u0080\\u00c2\\u009d said Karen Hale, a local Indians fan who was outside the stadium before Tuesday\\u00c3\\u00a2\\u00c2\\u0080\\u00c2\\u0099s game. \\u00c3\\u00a2\\u00c2\\u0080\\u00c2\\u009cI think there comes a time when you have to take a stand for what you believe in. I don\\u00c3\\u00a2\\u00c2\\u0080\\u00c2\\u0099t think it\\u00c3\\u00a2\\u00c2\\u0080\\u00c2\\u0099s hurting anybody. \\u00c3\\u00a2\\u00c2\\u0080\\u00c2\\u009d Philip Yenyo, the executive director of the American Indian Movement of Ohio, has been protesting at the Indians\\u00c3\\u00a2\\u00c2\\u0080\\u00c2\\u0099 opening day games for years and vehemently disagrees with Hale and others with similar views. He would prefer the team eliminate the logo, and the Indians name as well, but he would be happy for the club to start with the logo. During this year\\u00c3\\u00a2\\u00c2\\u0080\\u00c2\\u0099s protest, Yenyo engaged in a cordial conversation with a team employee. And Yenyo said that over the years the Indians had been very cooperative in arranging for security to protect the two dozen or so protesters who do show up outside the stadium. Still, as Yenyo spoke through a megaphone at Tuesday\\u00c3\\u00a2\\u00c2\\u0080\\u00c2\\u0099s demonstration, a man barreled through the protesters and yelled at him: \\u00c3\\u00a2\\u00c2\\u0080\\u00c2\\u009cIt\\u00c3\\u00a2\\u00c2\\u0080\\u00c2\\u0099s a caricature. Get over it. \\u00c3\\u00a2\\u00c2\\u0080\\u00c2\\u009d Bob DiBiasio, the Indians\\u00c3\\u00a2\\u00c2\\u0080\\u00c2\\u0099 senior vice president for public affairs, said during Tuesday\\u00c3\\u00a2\\u00c2\\u0080\\u00c2\\u0099s home opener that the club understood the passion on both sides of the issue and that in some ways the team was caught in the middle, trying to find an amicable solution. \\u00c3\\u00a2\\u00c2\\u0080\\u00c2\\u009cWe certainly understand the sensitivities of the logo, those who find it insensitive and also those fans who have a longstanding attachment to its place in the history of the team,\\u00c3\\u00a2\\u00c2\\u0080\\u00c2\\u009d he said. DiBiasio called the continuing talks productive between Manfred and Paul Dolan, the Indians\\u00c3\\u00a2\\u00c2\\u0080\\u00c2\\u0099 chairman and chief executive. With their sights set on a return to the World Series, the Indians would prefer to address Chief Wahoo after the season to avoid any distractions that could alienate a large swath of fans while games are being played. \\u00c3\\u00a2\\u00c2\\u0080\\u00c2\\u009cOur primary focus right now is on the team,\\u00c3\\u00a2\\u00c2\\u0080\\u00c2\\u0099\\u00c3\\u00a2\\u00c2\\u0080\\u00c2\\u0099 he said. And it may be a really good team, especially with the addition of Edwin Encarnacion, the   slugger who left Toronto to sign a   $60 million contract with the Indians. The club has already sold 1. 3 million tickets for the 2017 season, DiBiasio said, noting that it did not reach that mark until the end of July last year. In 2016, Cleveland\\u00c3\\u00a2\\u00c2\\u0080\\u00c2\\u0099s attendance was 28th out of 30 teams with 1. 59 million tickets sold, but in the wake of the Indians\\u00c3\\u00a2\\u00c2\\u0080\\u00c2\\u0099 2016 postseason run, that number is now likely to soar. Manager Terry Francona noted Tuesday that his team seemed to thrive when the stadium was full, as it was Tuesday, when the Indians prevailed in extra innings against the Chicago White Sox. And sure enough, many of the fans in attendance wore the Chief Wahoo logo on their hats and shirts. The move to do away with the logo appeared to begin when Mark Shapiro, who is now running the Blue Jays, was the Indians\\u00c3\\u00a2\\u00c2\\u0080\\u00c2\\u0099 team president for baseball operations. Shapiro was the driving force behind   the block C logo, which has been seen on Cleveland caps since 1902 and has recently become more prominent on various uniform and cap combinations the Indians use, as well as around the stadium. During last year\\u00c3\\u00a2\\u00c2\\u0080\\u00c2\\u0099s American League Championship Series between the Blue Jays and Indians, Shapiro said that he was personally troubled by the Wahoo logo and suggested that its days were numbered. \\u00c3\\u00a2\\u00c2\\u0080\\u00c2\\u009cI think there will be a day, whenever that is, that the people that are making decisions here decide that Chief Wahoo is no longer fitting,\\u00c3\\u00a2\\u00c2\\u0080\\u00c2\\u009d he said then. When the   Jays playoff series moved to Toronto last October, an indigenous Canadian citizen filed for an injunction to prevent Cleveland from using the Wahoo logo while in Canada. Major League Baseball joined the Indians in opposing the injunction, which was not granted. But in its statement at the time baseball said it also welcomed dialogue about the logo. That dialogue began in the weeks after the World Series and will most likely continue until a resolution is reached. At Tuesday\\u00c3\\u00a2\\u00c2\\u0080\\u00c2\\u0099s game, the Chief Wahoo logo could not be seen anywhere on the stadium building or on the field, but it was on the left sleeves of the blue jerseys worn by the Indians players and on their caps. And it was on the white uniform shirts worn by the Cleveland sports legends Jim Brown, Austin Carr and Jim Thome when they went to the mound to throw out the celebratory first pitches before the game. The logo could also be found on many items in the team souvenir shop, along with stickers depicting an even harsher representation of Chief Wahoo from an earlier period. For now, at least, the logo still survives and even thrives.\"\n        ],\n        \"semantic_type\": \"\",\n        \"description\": \"\"\n      }\n    }\n  ]\n}"
            }
          },
          "metadata": {},
          "execution_count": 12
        }
      ]
    },
    {
      "cell_type": "code",
      "source": [
        "y"
      ],
      "metadata": {
        "colab": {
          "base_uri": "https://localhost:8080/",
          "height": 458
        },
        "id": "m9kggctw7OkN",
        "outputId": "c0e01c94-fba8-4d64-d5a4-795c62284daa"
      },
      "execution_count": null,
      "outputs": [
        {
          "output_type": "execute_result",
          "data": {
            "text/plain": [
              "0      1\n",
              "1      0\n",
              "2      1\n",
              "3      1\n",
              "4      1\n",
              "      ..\n",
              "424    1\n",
              "425    0\n",
              "426    1\n",
              "427    0\n",
              "428    1\n",
              "Name: label, Length: 429, dtype: int64"
            ],
            "text/html": [
              "<div>\n",
              "<style scoped>\n",
              "    .dataframe tbody tr th:only-of-type {\n",
              "        vertical-align: middle;\n",
              "    }\n",
              "\n",
              "    .dataframe tbody tr th {\n",
              "        vertical-align: top;\n",
              "    }\n",
              "\n",
              "    .dataframe thead th {\n",
              "        text-align: right;\n",
              "    }\n",
              "</style>\n",
              "<table border=\"1\" class=\"dataframe\">\n",
              "  <thead>\n",
              "    <tr style=\"text-align: right;\">\n",
              "      <th></th>\n",
              "      <th>label</th>\n",
              "    </tr>\n",
              "  </thead>\n",
              "  <tbody>\n",
              "    <tr>\n",
              "      <th>0</th>\n",
              "      <td>1</td>\n",
              "    </tr>\n",
              "    <tr>\n",
              "      <th>1</th>\n",
              "      <td>0</td>\n",
              "    </tr>\n",
              "    <tr>\n",
              "      <th>2</th>\n",
              "      <td>1</td>\n",
              "    </tr>\n",
              "    <tr>\n",
              "      <th>3</th>\n",
              "      <td>1</td>\n",
              "    </tr>\n",
              "    <tr>\n",
              "      <th>4</th>\n",
              "      <td>1</td>\n",
              "    </tr>\n",
              "    <tr>\n",
              "      <th>...</th>\n",
              "      <td>...</td>\n",
              "    </tr>\n",
              "    <tr>\n",
              "      <th>424</th>\n",
              "      <td>1</td>\n",
              "    </tr>\n",
              "    <tr>\n",
              "      <th>425</th>\n",
              "      <td>0</td>\n",
              "    </tr>\n",
              "    <tr>\n",
              "      <th>426</th>\n",
              "      <td>1</td>\n",
              "    </tr>\n",
              "    <tr>\n",
              "      <th>427</th>\n",
              "      <td>0</td>\n",
              "    </tr>\n",
              "    <tr>\n",
              "      <th>428</th>\n",
              "      <td>1</td>\n",
              "    </tr>\n",
              "  </tbody>\n",
              "</table>\n",
              "<p>429 rows × 1 columns</p>\n",
              "</div><br><label><b>dtype:</b> int64</label>"
            ]
          },
          "metadata": {},
          "execution_count": 13
        }
      ]
    },
    {
      "cell_type": "code",
      "source": [],
      "metadata": {
        "id": "MY00UgYCNc8c"
      },
      "execution_count": null,
      "outputs": []
    },
    {
      "cell_type": "markdown",
      "source": [
        "## Preprocessing data"
      ],
      "metadata": {
        "id": "qqli-gca9UaG"
      }
    },
    {
      "cell_type": "code",
      "source": [
        "nltk.download('stopwords')"
      ],
      "metadata": {
        "colab": {
          "base_uri": "https://localhost:8080/"
        },
        "id": "dWqKTvsLJsBf",
        "outputId": "95e5b564-7045-44bf-be6a-8fadf0586541"
      },
      "execution_count": null,
      "outputs": [
        {
          "output_type": "stream",
          "name": "stderr",
          "text": [
            "[nltk_data] Downloading package stopwords to /root/nltk_data...\n",
            "[nltk_data]   Unzipping corpora/stopwords.zip.\n"
          ]
        },
        {
          "output_type": "execute_result",
          "data": {
            "text/plain": [
              "True"
            ]
          },
          "metadata": {},
          "execution_count": 14
        }
      ]
    },
    {
      "cell_type": "code",
      "source": [
        "corpus = []\n",
        "stemmer = PorterStemmer()\n",
        "\n",
        "for i in range(0, len(X)):\n",
        "  sent = re.sub('[^a-zA-Z]', ' ', X['title'][i])\n",
        "  sent = sent.lower()\n",
        "  sent = sent.split()\n",
        "\n",
        "  sent = [stemmer.stem(word) for word in sent if not word in stopwords.words('english')]\n",
        "  sent = ' '.join(sent)\n",
        "  corpus.append(sent)\n",
        "\n",
        "print(len(corpus))\n",
        "print(corpus)"
      ],
      "metadata": {
        "colab": {
          "base_uri": "https://localhost:8080/"
        },
        "id": "r42gk0Vk8HAC",
        "outputId": "462f61fe-7d38-4d9a-c8f4-ee371acd6263"
      },
      "execution_count": null,
      "outputs": [
        {
          "output_type": "stream",
          "name": "stdout",
          "text": [
            "429\n",
            "['hous dem aid even see comey letter jason chaffetz tweet', 'flynn hillari clinton big woman campu breitbart', 'truth might get fire', 'civilian kill singl us airstrik identifi', 'iranian woman jail fiction unpublish stori woman stone death adulteri', 'jacki mason hollywood would love trump bomb north korea lack tran bathroom exclus video breitbart', 'beno hamon win french socialist parti presidenti nomin new york time', 'back channel plan ukrain russia courtesi trump associ new york time', 'obama organ action partner soro link indivis disrupt trump agenda', 'bbc comedi sketch real housew isi caus outrag', 'russian research discov secret nazi militari base treasur hunter arctic photo', 'us offici see link trump russia', 'major leagu soccer argentin find home success new york time', 'well fargo chief abruptli step new york time', 'anonym donor pay million releas everyon arrest dakota access pipelin', 'fbi close hillari', 'chuck todd buzzfe donald trump polit favor breitbart', 'monica lewinski clinton sex scandal set american crime stori', 'rob reiner trump mental unstabl breitbart', 'abort pill order rise latin american nation zika alert new york time', 'nuke un histor treati ban nuclear weapon', 'exclus islam state support vow shake west follow manchest terrorist massacr breitbart', 'humili hillari tri hide camera caught min ralli', 'andrea tantaro fox news claim retali sex harass complaint new york time', 'chuck todd buzzfe eic publish fake news breitbart', 'bori johnson brexit leader fumbl new york time', 'texa oil field rebound price lull job left behind new york time', 'bayer deal monsanto follow agribusi trend rais worri farmer new york time', 'russia move ban jehovah wit extremist new york time', 'still danger zone januari th', 'open thread u elect', 'democrat gutierrez blame chicago gun violenc nra breitbart', 'avoid peanut avoid allergi bad strategi new york time', 'mri show detail imag week unborn babi breitbart', 'best kind milk dairi', 'ryan locht drop speedo usa retail new york time', 'conserv urg session clean obama civil right divis breitbart', 'intern inquiri seal fate roger ail fox new york time', 'press tv debat duff lebanon hezbollah aoun presid video', 'samsung combust galaxi note unveil new smartphon new york time', 'poland vow referendum migrant quota amidst eu pressur public voic heard breitbart', 'spark inner revolut', 'studi half car crash involv driver distract cell phone breitbart', 'trump elect spark individu collect heal', 'ep fade black jimmi church w laura eisenhow restor balanc video', 'cognit true islam book review', 'donald trump win elect biggest miracl us polit histori', 'mind eat way fight bing new york time', 'major potenti impact corpor tax overhaul new york time', 'wonder glp like day elect', 'maker world smallest machin award nobel prize chemistri new york time', 'massiv anti trump protest union squar nyc live stream', 'review lion bring tear lost boy wipe dri googl new york time', 'u gener islam state chemic attack impact u forc', 'juri find oregon standoff defend guilti feder conspiraci gun charg', 'clinton campaign stun fbi reportedli reopen probe hillari clinton email', 'penc speak anti abort ralli new york time', 'berni sander say media trump gutless polit coward', 'make briquett daili wast', 'treason nyt vow reded report', 'dress like woman mean new york time', 'ella brennan still feed lead new orlean new york time', 'press asia agenda obama tread lightli human right new york time', 'democrat percent chanc retak senat new york time', 'judg spank transgend obsess obama lie redflag news', 'u diplomat urg strike assad syria new york time', 'franken call independ investig trump putin crush breitbart', 'louisiana simon bile u presidenti race tuesday even brief new york time', 'turkey threaten open migrant land passag europ row dutch', 'huma weiner dog hillari', 'colin kaepernick start black panther inspir youth camp wow', 'trump immigr polici explain new york time', 'mari tyler moor mourn dick van dyke star new york time', 'poison', 'trump fan ralli across nation support presid new york time', 'fox biz report help bash clinton ralli cover trump pack event day', 'fiction podcast worth listen new york time', 'mike birbiglia tip make small hollywood anywher new york time', 'invest strategist forecast collaps timelin last gasp econom cycl come', 'venezuela muzzl legislatur move closer one man rule new york time', 'whether john mccain mitt romney donald trump democrat alway run war women tactic destroy republican candid', 'breitbart news daili trump boom breitbart', 'white hous confirm gitmo transfer obama leav offic', 'poll voter heard democrat elect candid breitbart', 'migrant confront judgment day old deport order new york time', 'n u yale su retir plan fee new york time', 'technocraci real reason un want control internet', 'american driver regain appetit ga guzzler new york time', 'hillari clinton build million war chest doubl donald trump new york time', 'trump catch sick report snuck interview priceless respons', 'senat contact russian govern week', 'imag perfectli illustr struggl dakota access pipelin', 'washington state take refuge muslim rest countri take refuge muslim breitbart', 'ncaa big keep watch eye texa bathroom bill breitbart', 'massiv espn financi subscrib loss drag disney first quarter sale breitbart', 'megyn kelli contract set expir next year prime big show new york time', 'teacher suspend allow student hit trump pinata cinco de mayo', 'break trump express concern anthoni weiner illeg access classifi info month ago truthfe', 'snap share leap debut investor doubt valu vanish new york time', 'clinton campaign chair dinner top doj offici one day hillari benghazi hear', 'tv seri first femal mlb pitcher can one low rate season breitbart', 'seek best fit women final four return friday sunday new york time', 'propos canadian nation bird ruffl feather new york time', 'review beyonc make lemonad marit strife new york time', 'trump ask sharp increas militari spend offici say new york time', 'waterg smoke gun email discuss clean obama hillari email', 'chapo trap hous new left wing podcast flagrant rip right stuff', 'taiwan respond china send carrier taiwan strait new york time', 'mother octob surpris hous card come tumbl', 'explos assang pilger interview us elect expect riot hillari win', 'telescop ate astronomi track surpass hubbl new york time', 'close afghan pakistani border becom humanitarian crisi new york time', 'tv anchor arriv white hous lunch donald trump breitbart', 'pelosi republican tell trump bring dishonor presid breitbart', 'beauti prehistor world earth wasteland', 'ignor trump news week learn new york time', 'donald trump unveil plan famili bid women vote new york time', 'montana democrat vote bill ban sharia law call repugn breitbart', 'monsanto tribun go happen', 'offici simon bile world best gymnast new york time', 'liter hurt brain read econom idioci emit trumpkin libertarian', 'u n secretari gener complain mass reject global favor nation', 'trump bollywood ad meant sway indian american voter hilari fail video', 'fbi find previous unseen hillari clinton email weiner laptop', 'year american journalist kill conspiraci theori syria proven fact', 'report illeg alien forego food stamp stay trump radar', 'make netherland great hahaha spread worldwid', 'four kill injur jerusalem truck ram terror attack', 'leader salut comrad newt brutal megyn sic kelli beatdown play game', 'student black colleg got beaten mace protest kkk david duke', 'despit strict gun control one child youth shot everi day ontario', 'rise internet fan bulli new york time', 'newli vibrant washington fear trump drain cultur new york time', 'fed hold interest rate steadi plan slower increas new york time', 'battl unesco', 'latest test white hous pull easter egg roll new york time', 'burlesqu dancer fire investig secret servic trump assassin tweet breitbart', 'clinton haiti', 'cuomo christi parallel path top troubl got new york time', 'top place world allow visit', 'new studi link fluorid consumpt hypothyroid weight gain wors', 'jame matti secretari offens', 'black church burn spray paint vote trump', 'sear agre sell craftsman stanley black amp decker rais cash new york time', 'takata chief execut resign financi pressur mount new york time', 'goodby good black sabbath new york time', 'teen geisha doll gang bust arm robberi breitbart', 'mohamad khwei anoth virginia man palestinian american muslim charg terror', 'price obamacar replac nobodi wors financi breitbart', 'va fail properli examin thousand veteran', 'trump famili alreadi sworn secreci fake moon land soon', 'sport writer nfl great jim brown decad civil right work eras say nice thing donald trump breitbart', 'watch tv excus republican skip donald trump convent new york time', 'open letter trump voter told like', 'comment power corpor lobbi quietli back hillari nobodi talk runsinquicksand', 'hijack end peac libyan airlin land malta new york time', 'like girl girl geniu new york time', 'scientist say canadian bacteria fossil may earth oldest new york time', 'pro govern forc advanc syria amid talk u russia cooper new york time', 'cancer agenc fire withhold carcinogen glyphos document', 'work walk minut work new york time', 'steve harvey talk hous presid elect trump new york time', 'coalit u troop fight mosul offens come fire', 'uk citizen war hero get cheap pre fab hous muslim colon get taxpay fund luxuri council home', 'vet fight war fed demand money back illeg refuge keep money', 'fbi director comey bamboozl doj congress clinton', 'food natur unclog arteri prevent heart attack', 'death two state solut', 'comment parent date asleep car cop arriv kill facespac', 'donald trump team show sign post elect moder new york time', 'miami beach tri tame raucou street fishbowl drink stay new york time', 'doctor mysteri found dead summit breakthrough cure cancer', 'donald trump unsink candid new york time', 'shock new mock hillari ad campaign warn take us war enlistforh fightforh dieforh', 'exclus famili slain border patrol agent brian terri say eric holder among real crimin respons', 'trump tell report wall work ask israel breitbart', 'america surviv next year', 'commission start press cleveland indian logo new york time', 'un plan implant everyon biometr id drill', 'trump attack senat credibl gorsuch comment new york time', 'clinton advisor lose leak email hillari illeg activ', 'art laffer paul ryan perfect right breitbart', 'donald trump blame econom crash', 'pokemon go player inadvert stop peopl commit suicid japan', 'california senat race tale divers flail g p new york time', 'exclus sourc say megyn kelli would welcom back fox news', 'break preced obama envoy deni extens past inaugur day new york time', 'brexit vote go monti python may offer clue new york time', 'blind mystic predict bad news trump', 'total vet fail left wing snowden fan girl realiti winner get access nsa secret', 'somalia u escal shadow war new york time', 'free care bless victim orlando nightclub attack new york time', 'durabl democrat counti countri could go trump', 'fed challeng rais rate may existenti new york time', 'russia intent attack anyon absurd say vladimir putin', 'f investig errant flight involv harrison ford new york time', 'fed rais key interest rate cite strengthen economi new york time', 'la expresi n lo siguient ya es la utilizada lo siguient en el castellano', 'trump berat news media new strategi need cover new york time', 'u drone strike target taliban leader new york time', 'u intellig expect al qaeda attack monday new york virginia texa', 'told cannabi great revers alzheim', 'report megyn kelli kick nbc show kardashian famili interview', 'local percent may rich think new york time', 'dr david duke mark collett uk collett explain duke trump victori would chang polit forev', 'statement senat well fargo chief deepli sorri new york time', 'cnn statement distanc network buzzfe fake news dossier breitbart', 'c e ponder new game trump rule new york time', 'spicer bradi stolen jersey anoth bad press breitbart', 'scaredi cat investig peopl enjoy fear new york time', 'left vision', 'showdown loom u question chines deal german chip design new york time', 'trump administr take harder tack trade china new york time', 'pew american trust level feder govern plummet histor low breitbart', 'islam state support former nation guardsman plead guilti terror charg virginia', 'spicer report go rais hand like big boy girl breitbart', 'leader applaud gorsuch confirm win pro life movement', 'newstick', 'french vogu march cover featur transgend model new york time', 'trump veer parti line gun control new york time', 'oligarchi prepar groundwork steal elect', 'ya hay reencuentro de operaci n triunfo que edicion de operaci n triunfo', 'chatsworth hous tale five centuri new york time', 'uncomfort love affair donald trump new england patriot new york time', 'john mccain withdraw support donald trump disclosur record new york time', 'strang unend limbo egypt hosni mubarak new york time', 'poverti rose u hous district obama presid', 'huma abedin seek fbi immun deal', 'singl mom escap friend zone one non date time new york time', 'boe suit futur spaceflight new spacesuit design breitbart', 'trump float oliv branch might keep part health law new york time', 'wapo tri compar elizabeth warren break senat rule milo shut violent riot breitbart', 'crumpl school bu leav chattanooga daze new york time', 'die came back life incred messag human', 'fight nation african american museum new york time', 'father manchest suicid bomber arrest libya breitbart', 'secret true leader', 'muslim demand local walk dog public violat sharia disrespect', 'hillari campaign bed pac staff donat k fbi agent wife investig', 'still tri flip elector colleg block trump win', 'al sharpton dem point appeal archi bunker trump voter breitbart', 'think mani doom sayer trump get offic', 'democrat jump session resign band wagon breitbart', 'alt right architect glenn beck open fire alt right grave threat republ audio tweet', 'politic justic protect hillari', 'north carolina satur surpris reel hurrican matthew new york time', 'live love submit memori new york time', 'achiev mind work medit cushion requir new york time', 'world first zero emiss hydrogen power passeng train unveil germani', 'confus chip credit card get line new york time', 'brook trump side foreign leader us presid israel russia breitbart', 'toxic air home get rid natur', 'connecticut reader report record voter registr inspir trump', 'germani react merkel trump visit could lot wors new york time', 'justin rose outduel henrik stenson golf gold medal new york time', 'iceland water cure new york time', 'shorten l train shutdown month new york time', 'time presid decid new york time', 'u n relief offici call crisi aleppo apex horror new york time', 'berkeley treat violent anti speech left like kkk', 'statist propaganda mani syrian us regim chang kill', 'self help guru jame altuch own thing new york time', 'trump religi liberti order give session major leeway breitbart', 'demoledor amparo contra salgado keiko congresista', 'era trump china presid champion econom global new york time', 'sad saga john walker lindh rebel without clue', 'court disagre michigan vote recount new york time', 'berni sander feud democrat leadership heat new york time', 'shortest power explan trump victori ever seen', 'russia look popul far east wimp need appli new york time', 'johnson amend trump vow destroy explain new york time', 'donald trump march life full support', 'polic offici found dead long island suicid suspect new york time', 'radic chang store world global market readi', 'like make showbiz best friend new york time', 'trump nomin neil gorsuch suprem court new york time', 'bidder cast doubt serious mexican border wall project', 'stake us elect', 'israel approv addit fund settlement west bank new york time', 'tx gov abbott sign legisl could put sheriff sanctuari citi jail breitbart', 'donald trump hold thank ralli cincinnati announc pick defens secretari new york time', 'lawmak look bipartisanship health care new york time', 'insid conserv push state amend constitut new york time', 'donald trump tell n r hillari clinton want let violent crimin go free new york time', 'pope franci trump japan tuesday brief new york time', 'mayorsstand day tout support illeg immigr', 'trump campaign celebr', 'democrat drag jeff session confirm fight breitbart', 'break news podesta brother pedo ring mr trump drain swamp v guerrilla economist', 'la frase destacada del debat de investidura', 'confus jihad hirabah build peac world', 'lazi liber journalist smear bannon', 'australia close detent center manu island still accept asylum seeker new york time', 'politico hillari clinton run breitbart', 'giant lynx make ador sound whenev human rub face', 'minnesota cop found guilti philando castil shoot trial', 'million american kill minut', 'wayn madsen cia alway serv interest wall street', 'novemb daili contrarian read', 'flashback report obama campaign rep talk iran hama', 'lesseroftwoevil', 'aya cash first time ate veget new york time', 'trump advis say isra settlement illeg', 'serena william prevail open problem new york time', 'soul man sam moor honor perform trump inaugur', 'ferrel came back bush destroy trump video', 'chines govern concern tough talk trump cabinet breitbart', 'billionair report seiz hong kong hotel taken china new york time', 'easi know link', 'homebodi find ultim home offic new york time', 'ann coulter unload paul ryan deepli unpopular obamacar bill breitbart', 'transgend bathroom debat turn person vermont high school new york time', 'obama hillari want libya gaddafi toppl kill', 'alert former soro associ warn pro wrong gold silver skyrocket like', 'hillari panick fbi weiner email', 'chaotic minut trump defend fine tune machin new york time', 'one polic shift patrol anxiou america new york time', 'fight ghost fascist aid real one', 'monday even brief brexit abort game throne new york time', 'eu increas brexit bill demand billion billion', 'arianna huffington sleep revolut start home new york time', 'iranian missil accident destroy iranian ship aim syria', 'sonoma counti california vote creat largest gmo free zone america', 'fbi comey wikileak intellig porn journal breitbart', 'clare waight keller name first femal design givenchi new york time', 'realiti face black canadian nation shame', 'top nfl draft prospect caleb brantley charg punch woman face breitbart', 'video pacif crest trail associ lavoy finicim murder', 'life lesson man seen death', 'trump g p work win repeal obama health act new york time', 'atlant goldberg confid trump handl matter life death breitbart', 'orthodox rabbi support trump', 'nuclear tension us russia reach danger point', 'gambia join south africa burundi exodu intern crimin court', 'peyton man golf presid trump sunday', 'obama urg donald trump send signal uniti minor group women new york time', 'like miracl woman give birth use ovari frozen sinc childhood new york time', 'uconn recip success run run run new york time', 'assang final afford opportun give statement rape accus', 'hillari puppet show much hillari care god omiss word', 'stock market gone high problem new york time', 'john kerri reject suggest u involv turkey coup new york time', 'trump aid stephen miller u absolut sovereign right determin cannot enter countri breitbart', 'year old russian girl speak languag', 'power corpor lobbi quietli back hillari nobodi talk', 'maintain sunni spirit face hardship new york time', 'rush limbaugh comey fire epic troll trump dem breitbart', 'twitter sue govern block unmask account critic trump new york time', 'warrior resili home cruis cavali new york time', 'comey letter clinton email subject justic dept inquiri new york time', 'spain malta u uk pressur refus allow russian carrier group refuel port', 'review radiohead moon shape pool patient perfection new york time', 'man militar polic stand rock work', 'woman arrest properti land stolen dapl', 'pulitz prize new york time win daili news propublica share public servic award new york time', 'vanquish wit takeov bush clinton attend donald trump inaugur breitbart', 'specul possibl obama pardon edward snowden bow bergdahl chelsea man breitbart', 'cheesi mash potato soul new york time', 'unprincipl wapo editor damn comey critic join', 'nation wreck immigr civil war brew good swede turn muslim migrant violenc rape murder', 'man shot dead offic crucifix gun polic say new york time', 'exclus rep jim jordan trump first day think great start breitbart', 'haley attack syria one presid finest hour breitbart', 'justin bieber defec ador irish fan hotel window', 'cancer agenc fire withhold carcinogen glyphos document', 'gianno caldwel claim hillari care black vote black live', 'isi use ramadan call new terrorist attack new york time', 'daili show mock mahatma blondi megyn kelli nbc debut', 'health care bill failur part art deal breitbart', 'lewandowski comey liar look sign major book deal breitbart', 'kimberli guilfoyl discuss potenti white hous press secretari job interview', 'clinton campaign chairman john podesta invit occult spirit cook dinner marina abramovi', 'obama coalit crumbl leav open trump new york time', 'pregnanc chang brain way may help mother new york time', 'fema open loan window red cross tri shut shelter', 'gaiaport interweb gaia energet strengthen', 'scarborough trump poop pant call modern art breitbart', 'cook invest time work new york time', 'bad news jackson famili woman leak star sick k sex secret', 'gorsuch london republican parti thursday even brief new york time', 'emma morano last person born die breitbart', 'loserpalooza craziest scene anti trump protest breitbart', 'trump victori mean africa', 'vision life mar earth depth new york time', 'obama cancel talk rodrigo dutert philippin say regret slur new york time', 'new jersey increas ga tax end long polit stalem new york time', 'abc manchest attack like inflam anti islam sentiment breitbart', 'hidden plain sight global depopul agenda', 'sander ask obama interven dakota access pipelin disput', 'googl add job section search engin includ employ rate breitbart', 'cri jordan meme die new york time', 'dem rep nchez trump use fear muslim immigr promot polici undermin valu breitbart', 'announc saker commun german saker blog vineyard saker', 'shoot victim famili watch gun measur stall new york time', 'imag reveal crash schiaparelli mar lander', 'grassroot coalit share mani question concern betsi devo senat', 'octob daili contrarian read', 'trump inaugur ball work begin play game breitbart', 'trump choic stephen bannon nod anti washington base new york time', 'media outrag white hous exclus fake news breitbart', 'obama hillari clinton pardon could heal divid nation', 'except handl', 'nota conceptu para la presidencia de rusia', 'respons philippin presid fatal blast rais fear new york time', 'david adjay design museum speak differ languag new york time', 'bulletin righteou jew trump rule ruin gop establish etc item', 'britain reduc terror level one notch sever terror cell arrest', 'mute alon never short kind word friend new york time', 'iranian militari command claim rogu nation send elit fighter infiltr us europ', 'account', 'watch muslim student claim non believ kill islam countri breitbart', 'yemen yet anoth fals flag protect saudi us interest middl east new eastern outlook', 'watch muslim palestinian declar follow prophet muhammad kill christian jew', 'street dog kerala call upon superdog krypto rescu human', 'israel track anti govern journalist facebook', 'new alaska law take first step common core', 'key baylor footbal execut demarko butler fire text scandal breitbart', 'calgari airport arriv yyc', 'georg michael wrestl fame frank sinatra advic new york time', 'sharon old laureat sexual scrutin bodi ode new york time', 'blue collar elect shock liber media', 'die new york time', 'polic fire rubber bullet pipelin protest', 'ann coulter hit suppos gay icon kathi griffin isi crib antic', 'contamin food china enter u organ label', 'ten famou peopl read summer new york time', 'hillari clinton knew year ago anthoni weiner pedophil wikileak', 'million stairway nowher far west side new york time', 'cyber war trifl catastroph inform']\n"
          ]
        }
      ]
    },
    {
      "cell_type": "markdown",
      "source": [
        "NOTE: We took all the data in 429 rows of `column == Topic` in a list named `corpus`. Now we will work on this data."
      ],
      "metadata": {
        "id": "1bwlNmX35WkC"
      }
    },
    {
      "cell_type": "code",
      "source": [],
      "metadata": {
        "id": "KSS5pI3oN_QE"
      },
      "execution_count": null,
      "outputs": []
    },
    {
      "cell_type": "markdown",
      "source": [
        "# Preparing Input sequence\n",
        "\n",
        "for the model (especially at embedding layer at first)\n",
        "\n",
        "```corpus -> OHE coded -> padding(pre/post) -> array -> train-test split```"
      ],
      "metadata": {
        "id": "2zFbTRIV9W0G"
      }
    },
    {
      "cell_type": "code",
      "source": [
        "vocab_size = 5000\n",
        "onehot_rep = [one_hot(word, vocab_size) for word in corpus]\n",
        "onehot_rep"
      ],
      "metadata": {
        "colab": {
          "base_uri": "https://localhost:8080/"
        },
        "id": "nymghjjhN-0w",
        "outputId": "13228c1a-6569-4d4e-ef9b-a2712ef4fe8b"
      },
      "execution_count": null,
      "outputs": [
        {
          "output_type": "execute_result",
          "data": {
            "text/plain": [
              "[[1132, 4632, 3620, 1737, 2953, 827, 337, 2955, 3305, 474],\n",
              " [2658, 2199, 2839, 1075, 935, 4288, 2985],\n",
              " [1716, 516, 4923, 1239],\n",
              " [4053, 943, 2162, 305, 94, 2461],\n",
              " [4276, 935, 4950, 4048, 2212, 3190, 935, 956, 2979, 3903],\n",
              " [1200,\n",
              "  3388,\n",
              "  4010,\n",
              "  887,\n",
              "  2537,\n",
              "  4453,\n",
              "  1374,\n",
              "  3649,\n",
              "  2116,\n",
              "  1902,\n",
              "  4650,\n",
              "  2786,\n",
              "  1300,\n",
              "  709,\n",
              "  2985],\n",
              " [207, 4038, 806, 577, 4574, 2697, 1246, 2853, 1842, 3718, 1066],\n",
              " [2586, 3354, 565, 543, 2562, 4362, 4453, 2139, 1842, 3718, 1066],\n",
              " [3056, 2850, 763, 680, 3838, 549, 3032, 4234, 4453, 4405],\n",
              " [3696, 3514, 24, 555, 719, 1109, 3549, 1486],\n",
              " [2782, 3266, 4348, 3542, 4878, 4420, 4180, 4459, 117, 1180, 1949],\n",
              " [305, 3444, 2953, 549, 4453, 2562],\n",
              " [2203, 3885, 3016, 4790, 3929, 2769, 4813, 1842, 3718, 1066],\n",
              " [2839, 491, 4618, 4839, 1489, 1842, 3718, 1066],\n",
              " [2341, 590, 4999, 838, 2205, 4705, 1595, 3588, 3578, 4944],\n",
              " [2585, 5, 2199],\n",
              " [4530, 1840, 1304, 3999, 4453, 431, 1038, 2985],\n",
              " [2562, 1464, 2839, 993, 112, 4898, 1272, 1394, 3190],\n",
              " [2018, 2634, 4453, 2047, 2816, 2985],\n",
              " [4702, 3840, 3317, 1980, 3311, 1272, 585, 4314, 4627, 1842, 3718, 1066],\n",
              " [4560, 3154, 46, 1826, 3142, 1676, 1450],\n",
              " [1300, 3085, 4456, 2843, 1571, 4409, 4975, 1392, 79, 3389, 1789, 2985],\n",
              " [3643, 2199, 4575, 1225, 318, 3935, 808, 2661],\n",
              " [12, 3207, 2882, 2909, 2672, 2662, 993, 2731, 268, 1842, 3718, 1066],\n",
              " [4530, 1840, 1304, 2782, 2531, 1164, 2909, 2985],\n",
              " [2582, 4500, 1454, 2278, 649, 1842, 3718, 1066],\n",
              " [2815, 639, 3525, 2359, 385, 2409, 1358, 1474, 4218, 1842, 3718, 1066],\n",
              " [1871, 4210, 4218, 1392, 581, 3711, 4656, 3000, 4612, 1842, 3718, 1066],\n",
              " [2562, 3296, 3142, 2915, 429, 3201, 1842, 3718, 1066],\n",
              " [2942, 3736, 312, 913, 1629],\n",
              " [4231, 4271, 2987, 4777],\n",
              " [863, 4955, 1656, 1630, 2672, 81, 1621, 2985],\n",
              " [1724, 3876, 1724, 3210, 3970, 1522, 1842, 3718, 1066],\n",
              " [1135, 2824, 3680, 2409, 3532, 338, 3837, 2985],\n",
              " [2055, 3383, 4469, 3130],\n",
              " [3066, 4992, 2507, 98, 1575, 3115, 1842, 3718, 1066],\n",
              " [2863, 3478, 143, 858, 3056, 2966, 1044, 3622, 2985],\n",
              " [3208, 4038, 1403, 2479, 985, 509, 2882, 1842, 3718, 1066],\n",
              " [3860, 2426, 1008, 471, 3907, 4496, 2025, 1798, 709],\n",
              " [163, 2292, 4955, 3962, 3287, 1842, 1772, 1842, 3718, 1066],\n",
              " [1821, 1571, 2366, 649, 823, 2130, 4578, 1909, 156, 2588, 2028, 2985],\n",
              " [1662, 4251, 3015],\n",
              " [2824, 970, 4461, 4046, 1487, 3763, 2404, 2665, 924, 2985],\n",
              " [4453, 4777, 1662, 2242, 480, 10],\n",
              " [3220, 2841, 138, 2263, 1329, 4134, 2283, 318, 4991, 1632, 709],\n",
              " [4672, 2466, 3085, 887, 2594],\n",
              " [3999, 4453, 806, 4777, 1030, 1219, 305, 431, 4325],\n",
              " [4711, 2561, 540, 1238, 1703, 1842, 3718, 1066],\n",
              " [2203, 2847, 3122, 1464, 4289, 4143, 1842, 3718, 1066],\n",
              " [2021, 1770, 301, 2930, 4777],\n",
              " [3919, 3762, 1419, 160, 796, 4501, 3965, 2594, 1842, 3718, 1066],\n",
              " [4023, 2665, 4453, 349, 2776, 4729, 3823, 4314, 1965],\n",
              " [2594, 2340, 4631, 1, 4442, 1105, 1808, 1054, 3580, 1842, 3718, 1066],\n",
              " [2987, 2533, 3085, 4456, 1819, 2140, 3122, 2987, 3262],\n",
              " [640, 3929, 1444, 4722, 2733, 4079, 498, 725, 2672, 1549],\n",
              " [2839, 3889, 2329, 2585, 4878, 4202, 4805, 2199, 2839, 207],\n",
              " [1830, 291, 2665, 4702, 2661, 1842, 3718, 1066],\n",
              " [3200, 2824, 4755, 773, 4453, 1450, 431, 654],\n",
              " [4449, 1844, 4742, 2866],\n",
              " [2829, 4453, 1571, 2270, 902],\n",
              " [2573, 301, 935, 449, 1842, 3718, 1066],\n",
              " [833, 1701, 2942, 3828, 289, 1842, 463, 1842, 3718, 1066],\n",
              " [3860, 3213, 4405, 3056, 2755, 3639, 3737, 1044, 1842, 3718, 1066],\n",
              " [863, 1857, 1088, 473, 502, 1842, 3718, 1066],\n",
              " [126, 3871, 477, 794, 3056, 807, 2297, 2909],\n",
              " [2987, 4543, 3478, 2904, 4596, 515, 1842, 3718, 1066],\n",
              " [168, 2569, 2546, 4711, 4453, 3883, 188, 2985],\n",
              " [495, 3897, 189, 2987, 1246, 2734, 1099, 1737, 2018, 1842, 3718, 1066],\n",
              " [1554, 4951, 4231, 649, 205, 371, 1360, 1866, 2031],\n",
              " [4592, 817, 2673, 2199],\n",
              " [1738, 837, 3762, 138, 1461, 3270, 4794, 3045, 4312],\n",
              " [4453, 4663, 3767, 873, 1842, 3718, 1066],\n",
              " [3809, 2069, 4035, 4872, 3825, 4804, 2485, 4832, 1842, 3718, 1066],\n",
              " [4322],\n",
              " [4453, 391, 2661, 2940, 585, 2843, 1798, 1842, 3718, 1066],\n",
              " [2882, 1441, 902, 3138, 2225, 2839, 2661, 2622, 4453, 2442, 1113, 2930],\n",
              " [4048, 1584, 792, 2830, 1842, 3718, 1066],\n",
              " [1475, 2983, 505, 4449, 4951, 4010, 3949, 1842, 3718, 1066],\n",
              " [880, 2547, 675, 648, 3553, 4273, 4708, 3091, 1712, 4731],\n",
              " [437, 4263, 1950, 3296, 1805, 575, 1381, 2922, 1842, 3718, 1066],\n",
              " [2558,\n",
              "  1789,\n",
              "  4035,\n",
              "  2404,\n",
              "  1096,\n",
              "  3999,\n",
              "  4453,\n",
              "  863,\n",
              "  833,\n",
              "  2008,\n",
              "  4558,\n",
              "  1984,\n",
              "  2904,\n",
              "  3584,\n",
              "  1414,\n",
              "  634],\n",
              " [2985, 2909, 4742, 4453, 723, 2985],\n",
              " [2689, 1132, 2182, 812, 3922, 3056, 141, 4380],\n",
              " [3166, 2934, 2028, 863, 4777, 634, 2985],\n",
              " [649, 4013, 2695, 2930, 2525, 2108, 3317, 1842, 3718, 1066],\n",
              " [3333, 2987, 4208, 3627, 1525, 565, 673, 1842, 3718, 1066],\n",
              " [2749, 555, 1892, 3154, 3369, 4640, 577],\n",
              " [1272, 3763, 488, 2577, 3450, 1227, 1842, 3718, 1066],\n",
              " [2199, 2839, 4983, 838, 4558, 2340, 618, 3999, 4453, 1842, 3718, 1066],\n",
              " [4453, 4016, 3693, 902, 850, 316, 4256, 417],\n",
              " [502, 467, 2782, 4927, 3532],\n",
              " [2409, 2990, 4401, 3597, 3588, 3578, 4944],\n",
              " [3220, 4456, 255, 3275, 2465, 3650, 4832, 255, 3275, 2465, 2985],\n",
              " [263, 1075, 3976, 3581, 2079, 2815, 2786, 4907, 2985],\n",
              " [4023, 2411, 887, 1165, 1711, 4661, 485, 1700, 2447, 1127, 2985],\n",
              " [25, 649, 1077, 4898, 1558, 1845, 2961, 1886, 1075, 2824, 1842, 3718, 1066],\n",
              " [3644, 1339, 1134, 609, 3354, 4453, 3508, 4628, 2586, 892],\n",
              " [4397, 4453, 2948, 1107, 1087, 817, 4129, 3578, 4996, 2478, 2561, 3584, 1701],\n",
              " [1630, 713, 3402, 3039, 3221, 3550, 2249, 2406, 1842, 3718, 1066],\n",
              " [2839, 3889, 763, 2254, 4448, 546, 3444, 575, 2930, 2199, 4083, 3700],\n",
              " [2426, 1684, 1700, 147, 3090, 2057, 3482, 575, 1554, 4762, 709, 2985],\n",
              " [1007, 2055, 4321, 1984, 1323, 1443, 2165, 1446, 62, 1842, 3718, 1066],\n",
              " [3290, 4892, 585, 2803, 396, 317, 1842, 3718, 1066],\n",
              " [2594, 3962, 4449, 643, 4802, 2465, 1842, 3718, 1066],\n",
              " [4453, 1857, 1142, 2791, 4420, 913, 3444, 4755, 1842, 3718, 1066],\n",
              " [4165, 1732, 2672, 207, 1626, 858, 3056, 2199, 207],\n",
              " [2292, 1884, 1132, 1842, 1474, 3290, 1584, 702, 1427, 1044, 748],\n",
              " [4411, 2595, 795, 4507, 1231, 4411, 3900, 1842, 3718, 1066],\n",
              " [3805, 1391, 533, 1132, 73, 4731, 604],\n",
              " [1085, 430, 2742, 316, 305, 4777, 1994, 3287, 2199, 806],\n",
              " [3304, 1232, 2403, 3094, 4776, 1476, 1842, 3718, 1066],\n",
              " [5, 535, 1537, 2513, 4286, 2191, 3137, 1842, 3718, 1066],\n",
              " [2426, 2156, 762, 2689, 1132, 1251, 3999, 4453, 2985],\n",
              " [782, 1414, 2823, 4453, 4631, 1212, 1798, 2985],\n",
              " [2334, 4078, 3762, 2183, 2543],\n",
              " [1021, 4453, 2909, 3532, 1193, 1842, 3718, 1066],\n",
              " [3999, 4453, 3287, 565, 1912, 869, 1984, 2898, 1842, 3718, 1066],\n",
              " [1146, 863, 2898, 4907, 3142, 3001, 2636, 2569, 2035, 2985],\n",
              " [4218, 1713, 1913, 1807],\n",
              " [3444, 3897, 189, 3762, 2055, 2920, 1842, 3718, 1066],\n",
              " [1888, 4782, 2854, 1803, 3091, 3252, 640, 2437, 4884],\n",
              " [2987, 3333, 530, 2533, 2549, 186, 2853, 698, 1038, 585],\n",
              " [4453, 4201, 1535, 3834, 679, 1590, 1272, 2934, 4005, 4267, 709],\n",
              " [2585, 3929, 821, 801, 2199, 2839, 207, 817, 1619],\n",
              " [2961, 1272, 2869, 943, 725, 162, 515, 3130, 421],\n",
              " [902, 4129, 1120, 454, 2023, 1698, 4662, 4453, 2053],\n",
              " [4449, 2843, 1696, 3338, 506, 4619],\n",
              " [1443, 943, 314, 3919, 584, 1071, 3741, 2140],\n",
              " [2278, 925, 3579, 464, 222, 25, 3577, 649, 4739, 1700, 4188],\n",
              " [609, 138, 2659, 874, 4711, 2084, 349, 2457, 194, 464],\n",
              " [2688, 180, 2672, 4640, 575, 3400, 4794, 1770, 822, 2930, 3711],\n",
              " [1980, 577, 391, 464, 1842, 3718, 1066],\n",
              " [1313, 1949, 3220, 1114, 4453, 2739, 3005, 1842, 3718, 1066],\n",
              " [1185, 2375, 3554, 4762, 2089, 565, 4989, 2791, 1842, 3718, 1066],\n",
              " [2568, 799],\n",
              " [1726, 101, 2689, 1132, 189, 20, 4682, 123, 1842, 3718, 1066],\n",
              " [1487, 4928, 1239, 4711, 3542, 2480, 4453, 1072, 474, 2985],\n",
              " [2839, 1022],\n",
              " [4857, 3278, 143, 1081, 4448, 3299, 874, 1842, 3718, 1066],\n",
              " [4448, 1715, 3762, 1134, 1605],\n",
              " [1842, 2824, 549, 2626, 2957, 541, 2690, 3229, 3761],\n",
              " [2631, 2453, 530, 4516],\n",
              " [138, 1329, 4884, 3851, 2658, 2898, 4453],\n",
              " [2733, 4121, 3594, 3711, 895, 138, 2945, 768, 4656, 2090, 1842, 3718, 1066],\n",
              " [3825, 4618, 3266, 379, 887, 1909, 4414, 1842, 3718, 1066],\n",
              " [4903, 4199, 138, 2461, 1842, 3718, 1066],\n",
              " [4370, 882, 2217, 3518, 4490, 3711, 3980, 2985],\n",
              " [3171, 2858, 4016, 1228, 1381, 2880, 1272, 2465, 1549, 3741],\n",
              " [385, 2277, 502, 2576, 3761, 887, 2985],\n",
              " [3837, 4267, 1254, 1835, 3619, 4625],\n",
              " [4453, 1912, 4227, 894, 1803, 1164, 2854, 205, 2753],\n",
              " [4203,\n",
              "  4957,\n",
              "  3904,\n",
              "  1696,\n",
              "  4843,\n",
              "  4207,\n",
              "  3860,\n",
              "  2966,\n",
              "  1044,\n",
              "  3803,\n",
              "  202,\n",
              "  4755,\n",
              "  3393,\n",
              "  3529,\n",
              "  3999,\n",
              "  4453,\n",
              "  2985],\n",
              " [3581, 2426, 3461, 1414, 3272, 3999, 4453, 2846, 1842, 3718, 1066],\n",
              " [4231, 337, 4453, 2934, 4289, 301],\n",
              " [855, 830, 1464, 2857, 4735, 2586, 2199, 2576, 3666, 1384],\n",
              " [3281, 670, 4785, 1475, 3359, 205, 2559, 1842, 3718, 1066],\n",
              " [301, 1476, 1476, 1619, 1842, 3718, 1066],\n",
              " [218, 4755, 4892, 175, 114, 4794, 2183, 1415, 1842, 3718, 1066],\n",
              " [1900, 4927, 3262, 1766, 515, 4733, 3666, 2987, 2562, 285, 1842, 3718, 1066],\n",
              " [1522, 3680, 1239, 1385, 4791, 1723, 2340],\n",
              " [3803, 3134, 2375, 3803, 1842, 3718, 1066],\n",
              " [647, 1980, 3666, 1132, 1798, 4777, 4453, 1842, 3718, 1066],\n",
              " [2095, 2987, 574, 1238, 1546, 4516, 4731, 1239],\n",
              " [4259,\n",
              "  3854,\n",
              "  4558,\n",
              "  2895,\n",
              "  4923,\n",
              "  852,\n",
              "  2554,\n",
              "  2528,\n",
              "  1132,\n",
              "  2465,\n",
              "  3464,\n",
              "  4923,\n",
              "  3686,\n",
              "  4274,\n",
              "  1853,\n",
              "  1887,\n",
              "  2769],\n",
              " [2039, 1238, 4558, 1185, 4992, 2399, 2586, 4129, 3275, 3976, 2399],\n",
              " [2585, 3018, 827, 2234, 546, 1227, 2839],\n",
              " [2023, 2703, 1940, 3014, 3117, 4578, 2140],\n",
              " [2979, 3781, 4456, 2906],\n",
              " [855, 2709, 3961, 4487, 4461, 3089, 762, 943, 4994],\n",
              " [3999, 4453, 1308, 2824, 1745, 1114, 4777, 3303, 1842, 3718, 1066],\n",
              " [1756, 2789, 4575, 2940, 2735, 531, 523, 807, 4662, 1842, 3718, 1066],\n",
              " [4372, 1569, 2412, 4474, 4212, 3364, 1262, 1522],\n",
              " [3999, 4453, 304, 634, 1842, 3718, 1066],\n",
              " [2271, 1842, 2845, 2199, 1535, 3889, 3845, 255, 305, 4558, 1386, 1741, 1529],\n",
              " [1300,\n",
              "  1912,\n",
              "  3318,\n",
              "  2513,\n",
              "  3559,\n",
              "  3887,\n",
              "  4417,\n",
              "  1871,\n",
              "  4755,\n",
              "  1038,\n",
              "  4067,\n",
              "  394,\n",
              "  555,\n",
              "  2422,\n",
              "  417],\n",
              " [4453, 2823, 902, 1408, 3803, 1857, 1210, 2985],\n",
              " [3212, 3510, 1845, 2961],\n",
              " [2250, 3762, 3860, 366, 1590, 4714, 1842, 3718, 1066],\n",
              " [3154, 565, 2531, 4705, 4641, 2032, 3964],\n",
              " [4453, 2140, 502, 1867, 4958, 855, 1842, 3718, 1066],\n",
              " [2839, 476, 36, 984, 207, 2199, 4129, 534],\n",
              " [498, 4063, 4317, 3066, 4982, 1044, 2985],\n",
              " [3999, 4453, 1656, 3091, 4046],\n",
              " [532, 1913, 674, 1048, 2, 2017, 969, 1842, 706],\n",
              " [2755, 502, 2734, 3490, 1642, 3088, 4513, 4050, 1842, 3718, 1066],\n",
              " [1300, 717, 4755, 25, 649, 887, 507, 2586, 2882, 2909],\n",
              " [4397, 360, 3056, 1011, 1127, 694, 1170, 4834, 2930, 1842, 3718, 1066],\n",
              " [1454, 2898, 1913, 1002, 2924, 4794, 3706, 3789, 1842, 3718, 1066],\n",
              " [4100, 1518, 93, 3970, 2909, 4453],\n",
              " [4684,\n",
              "  2039,\n",
              "  4267,\n",
              "  1474,\n",
              "  3290,\n",
              "  3411,\n",
              "  391,\n",
              "  1476,\n",
              "  897,\n",
              "  1906,\n",
              "  4923,\n",
              "  3578,\n",
              "  3866,\n",
              "  3542],\n",
              " [2137, 2987, 4867, 2073, 4558, 1842, 3718, 1066],\n",
              " [2786, 826, 216, 2941, 2762, 514, 2140, 1842, 3718, 1066],\n",
              " [901, 863, 2210, 4832, 2153, 1913, 4453],\n",
              " [1185, 1826, 4656, 4762, 4794, 1031, 1842, 3718, 1066],\n",
              " [2562, 3027, 2140, 1776, 1956, 4755, 3329, 3883],\n",
              " [3608, 4711, 1829, 3107, 1487, 2809, 1973, 1842, 3718, 1066],\n",
              " [1185, 4656, 487, 3554, 4762, 3774, 4017, 768, 1842, 3718, 1066],\n",
              " [4972,\n",
              "  775,\n",
              "  3333,\n",
              "  4359,\n",
              "  3702,\n",
              "  4724,\n",
              "  743,\n",
              "  4972,\n",
              "  4776,\n",
              "  4359,\n",
              "  3702,\n",
              "  2851,\n",
              "  2796,\n",
              "  4971],\n",
              " [4453, 769, 2909, 773, 1842, 1522, 2183, 2622, 1842, 3718, 1066],\n",
              " [2987, 2450, 2904, 830, 3974, 2278, 1842, 3718, 1066],\n",
              " [2987, 1454, 1994, 56, 2089, 2140, 4711, 1842, 3718, 1228, 2815],\n",
              " [4289, 2997, 1696, 4513, 4627],\n",
              " [902, 25, 649, 871, 3460, 2824, 1239, 1912, 316],\n",
              " [4149, 1857, 4794, 209, 765, 1842, 3718, 1066],\n",
              " [3301,\n",
              "  194,\n",
              "  464,\n",
              "  608,\n",
              "  4377,\n",
              "  4259,\n",
              "  4377,\n",
              "  873,\n",
              "  464,\n",
              "  4453,\n",
              "  3800,\n",
              "  887,\n",
              "  1624,\n",
              "  431,\n",
              "  4351],\n",
              " [2970, 502, 2839, 491, 4618, 451, 910, 1842, 3718, 1066],\n",
              " [1305, 2970, 444, 96, 1304, 1164, 2909, 4325, 2985],\n",
              " [4110, 3649, 2001, 1842, 4188, 4453, 2922, 1842, 3718, 1066],\n",
              " [1163, 805, 263, 403, 4016, 3970, 3860, 2985],\n",
              " [563, 3890, 4711, 2017, 107, 1114, 1842, 3718, 1066],\n",
              " [1474, 3732],\n",
              " [169, 4303, 2987, 3686, 906, 4210, 3373, 2525, 3336, 1842, 3718, 1066],\n",
              " [4453, 937, 255, 2187, 1128, 483, 795, 1842, 3718, 1066],\n",
              " [4247, 1272, 1172, 2618, 498, 4927, 4803, 46, 1554, 2985],\n",
              " [3085, 4456, 2843, 791, 585, 4810, 3810, 4079, 3741, 1549, 1228],\n",
              " [1163, 902, 1913, 4656, 403, 301, 1075, 1105, 1476, 2985],\n",
              " [2278, 245, 4958, 2182, 806, 1900, 3875, 4580],\n",
              " [535],\n",
              " [577, 2801, 4075, 2622, 2048, 477, 4708, 1842, 3718, 1066],\n",
              " [4453, 187, 2697, 3501, 2672, 4640, 1842, 3718, 1066],\n",
              " [3121, 4327, 1889, 1336, 4777],\n",
              " [4724, 3275, 4726, 2586, 3465, 3333, 2370, 516, 2397, 2586, 3465, 3333, 2370],\n",
              " [3459, 1132, 3490, 1873, 891, 1842, 3718, 1066],\n",
              " [3252, 2537, 21, 3999, 4453, 1842, 1088, 4376, 1842, 3718, 1066],\n",
              " [1789, 4035, 4398, 2843, 3999, 4453, 1606, 4465, 1842, 3718, 1066],\n",
              " [2528, 4267, 3347, 1733, 2504, 522, 1842, 3718, 1066],\n",
              " [3257, 3334, 2987, 1132, 2072, 3056, 1798],\n",
              " [4592, 4035, 1007, 2585, 2061, 4210],\n",
              " [2162, 1290, 416, 105, 312, 575, 1449, 3961, 1066, 1842, 3718, 1066],\n",
              " [3208, 4984, 3249, 3440, 1842, 372, 3336, 2985],\n",
              " [4453, 4871, 4812, 237, 516, 3976, 3039, 4769, 2636, 1842, 3718, 1066],\n",
              " [1998, 4575, 2506, 1713, 42, 4397, 502, 2922, 1266, 1132, 4692, 3287, 2985],\n",
              " [231, 2653, 2832, 141, 2115, 1045, 1842, 3718, 1066],\n",
              " [301, 849, 2586, 3875, 3949, 1703, 3737],\n",
              " [1238, 585, 4009, 1272, 707, 1842, 3718, 1066],\n",
              " [2007, 79, 1842, 2868, 1595, 2066, 2985],\n",
              " [3542, 2466, 2278],\n",
              " [2465, 4992, 4149, 3134, 2673, 156, 2330, 3001, 1443],\n",
              " [2199, 3889, 1293, 3701, 958, 809, 1239, 2585, 3887, 4596, 4711],\n",
              " [2942, 4575, 2834, 4591, 2659, 4002, 4453, 806],\n",
              " [56, 4119, 4632, 3065, 4505, 4513, 2166, 4453, 2934, 2985],\n",
              " [765, 381, 4273, 3553, 4453, 4923, 4380],\n",
              " [863, 1824, 143, 379, 3585, 3393, 2985],\n",
              " [4223,\n",
              "  1044,\n",
              "  645,\n",
              "  3121,\n",
              "  4134,\n",
              "  4231,\n",
              "  1239,\n",
              "  4223,\n",
              "  1044,\n",
              "  1936,\n",
              "  4061,\n",
              "  1555,\n",
              "  3022,\n",
              "  474],\n",
              " [2363, 484, 3750, 2199],\n",
              " [3649, 477, 3792, 533, 4817, 4147, 2939, 1842, 3718, 1066],\n",
              " [4314, 2537, 4845, 1758, 1842, 3718, 1066],\n",
              " [3684, 4711, 3803, 4996, 1311, 328, 1842, 3718, 1066],\n",
              " [3762, 1700, 2009, 4615, 2093, 830, 4502, 3035, 3287, 190],\n",
              " [4937, 2525, 102, 73, 4923, 3501, 1842, 3718, 1066],\n",
              " [3700, 4453, 3304, 4567, 2278, 305, 1798, 1210, 2562, 2985],\n",
              " [3559, 2731, 2769, 4923, 3158, 2703],\n",
              " [1829, 1597, 902, 4465, 2934, 4874, 3270, 4453],\n",
              " [190, 1063, 955, 4453, 1605, 2153, 3657, 3761, 1842, 3718, 1066],\n",
              " [75, 3334, 1954, 2971, 552, 4507, 1394, 2326, 1842, 3718, 1066],\n",
              " [3361, 2080, 1262, 1842, 3718, 1066],\n",
              " [2869, 485, 3035, 4626, 2561, 1842, 3718, 1066],\n",
              " [1066, 1798, 3565, 1842, 3718, 1066],\n",
              " [2987, 3333, 2248, 3444, 2569, 3137, 1897, 2626, 1378, 1842, 3718, 1066],\n",
              " [227, 1321, 4692, 2665, 2868, 1474, 301, 2457],\n",
              " [512, 2287, 381, 3920, 305, 1493, 1624, 943],\n",
              " [2976, 3138, 327, 2631, 4786, 4965, 3529, 1842, 3718, 1066],\n",
              " [4453, 3114, 3919, 3317, 4221, 143, 2203, 2156, 2985],\n",
              " [4010, 4057, 876, 2186, 4395, 713],\n",
              " [3572, 4453, 795, 1798, 3118, 3091, 698, 1842, 3718, 1066],\n",
              " [1228, 1886, 1789, 3314, 2592, 2994, 4156, 3789],\n",
              " [989, 4143, 4269, 2898, 4776, 1842, 3718, 1066],\n",
              " [3200, 2824, 1133, 863, 1010, 704, 1842, 3718, 1066],\n",
              " [144, 830, 1284, 4453, 3800, 2668, 1135],\n",
              " [2562, 4244, 606, 3439, 1212, 2312, 2183, 1511, 1842, 3718, 1066],\n",
              " [4500, 2498, 4453, 1571, 3584, 873, 1842, 3718, 1066],\n",
              " [3999, 4453, 4075, 3875, 3769, 2843],\n",
              " [3695, 3444, 2412, 4474, 4084, 4757, 1842, 445, 1842, 3718, 1066],\n",
              " [1578, 1624, 4559, 3762, 698, 277, 347],\n",
              " [301, 4449, 3005, 2055, 105, 1842, 3718, 1066],\n",
              " [4453, 2853, 1644, 4958, 2487, 989, 1842, 3718, 1066],\n",
              " [965, 3543, 3550, 3303, 908, 2513, 1408, 3521],\n",
              " [4348, 305, 4777],\n",
              " [1210, 1612, 821, 4274, 2163, 4975, 2134, 1842, 3718, 1066],\n",
              " [1849, 4388, 805, 1745, 2206, 2153, 2984, 3376, 197, 2328, 4950, 2985],\n",
              " [3999, 4453, 2375, 1618, 2661, 3148, 525, 763, 4983, 530, 1842, 3718, 1066],\n",
              " [3084, 4244, 3745, 4769, 826, 1842, 3718, 1066],\n",
              " [2870, 2863, 3592, 4456, 2498, 2513, 1842, 3718, 1066],\n",
              " [3999,\n",
              "  4453,\n",
              "  2823,\n",
              "  3333,\n",
              "  3377,\n",
              "  2199,\n",
              "  2839,\n",
              "  3369,\n",
              "  1630,\n",
              "  4692,\n",
              "  2422,\n",
              "  1913,\n",
              "  2786,\n",
              "  1842,\n",
              "  3718,\n",
              "  1066],\n",
              " [4882, 2356, 4453, 706, 1099, 2018, 1842, 3718, 1066],\n",
              " [2095, 2930, 1037, 2843, 4129, 4663],\n",
              " [4453, 3889, 4421],\n",
              " [863, 4661, 3413, 143, 2182, 1238, 2985],\n",
              " [4397, 2909, 1940, 3551, 3586, 1962, 1379, 4453, 2739, 3336, 4198, 917, 2454],\n",
              " [4972, 1879, 3812, 11, 1008, 2586, 4216],\n",
              " [4937, 2922, 4612, 4983, 4785, 3762],\n",
              " [2568, 980, 2869, 836, 1065],\n",
              " [2957, 5, 2998, 789, 2455, 4757, 2942, 2647, 1803, 1537, 1842, 3718, 1066],\n",
              " [3108, 2199, 2839, 2008, 2985],\n",
              " [1181, 4222, 4449, 2125, 2994, 2143, 3737, 2964, 4085],\n",
              " [3419, 3089, 2412, 4079, 3943, 374, 1714, 732],\n",
              " [838, 1272, 943, 2375],\n",
              " [1349, 3765, 3012, 833, 177, 3554, 1408, 531],\n",
              " [1127, 4742, 3107, 1803],\n",
              " [3597, 902, 3056, 3889, 1109, 3666, 2885, 99],\n",
              " [3016],\n",
              " [4989, 2090, 1700, 1066, 1232, 1941, 1842, 3718, 1066],\n",
              " [4453, 1237, 4755, 3572, 2163, 4129],\n",
              " [4661, 2090, 3520, 4231, 2697, 1842, 3718, 1066],\n",
              " [1676, 1381, 2508, 4035, 323, 1770, 4453, 4834],\n",
              " [2343, 849, 2586, 2307, 3584, 4453, 709],\n",
              " [906, 4927, 1107, 1402, 3666, 4453, 181, 2985],\n",
              " [2411, 902, 1491, 4325, 1317, 4025, 2399, 795, 1842, 3718, 1066],\n",
              " [1352, 2158, 549],\n",
              " [3789, 3929, 695, 2769, 4380, 1842, 3718, 1066],\n",
              " [3807, 251, 2718, 4317, 3066, 451, 1286, 2277, 4907, 2985],\n",
              " [477, 2786, 1008, 4305, 2483, 1652, 2083, 2653, 1842, 3718, 1066],\n",
              " [3056, 2199, 3369, 2066, 2932, 71, 943],\n",
              " [4627, 791, 3838, 2139, 3845, 1900, 153, 1394, 3041, 896, 301],\n",
              " [2199, 1577, 2585, 817, 207],\n",
              " [590, 2375, 4453, 2733, 720, 3494, 160, 1842, 3718, 1066],\n",
              " [575, 3695, 275, 3559, 3601, 3212, 1842, 3718, 1066],\n",
              " [1238, 712, 1451, 3620, 555, 575],\n",
              " [4711, 1737, 2018, 1454, 4702, 4188, 4221, 1842, 3718, 1066],\n",
              " [4578, 2791, 1454, 4907, 4992, 2519, 2519],\n",
              " [1956, 3128, 78, 3015, 3762, 2769, 1842, 3718, 1066],\n",
              " [4276, 3112, 3423, 3584, 4276, 472, 454, 515],\n",
              " [3232, 2210, 2755, 2898, 354, 1669, 1828, 2786, 312, 3212],\n",
              " [2585, 827, 903, 1454, 399, 75, 2985],\n",
              " [2027, 4454, 3834, 4099, 1700, 147, 3336, 603, 1842, 3718, 1066],\n",
              " [897, 4085, 138, 4892, 585, 970],\n",
              " [4448, 3904, 160, 4102, 4102, 2213, 1549, 1954, 935, 4085, 2985],\n",
              " [709, 680, 1126, 3057, 2139, 885, 1077, 695],\n",
              " [3875, 633, 1381, 1135, 2979],\n",
              " [4453, 4513, 4050, 3803, 806, 4900, 3056, 4769, 4033, 1842, 3718, 1066],\n",
              " [1157, 2788, 4534, 4453, 994, 6, 3875, 2979, 2985],\n",
              " [1196, 524, 2843, 4453],\n",
              " [1676, 4887, 305, 2562, 2632, 3736, 3065],\n",
              " [2167, 4725, 307, 187, 4765, 4403, 3208, 2422, 989],\n",
              " [559, 1381, 4507, 1798, 4453, 62],\n",
              " [3056, 3478, 3999, 4453, 4507, 2039, 2654, 862, 256, 1984, 1842, 3718, 1066],\n",
              " [301, 1219, 935, 4221, 1251, 4057, 591, 594, 3034, 1355, 1842, 3718, 1066],\n",
              " [1597, 3457, 4813, 2008, 2008, 2008, 1842, 3718, 1066],\n",
              " [430, 1323, 242, 601, 4221, 2970, 2104, 2285],\n",
              " [2199, 1283, 2824, 1471, 2199, 826, 2670, 2081, 1480],\n",
              " [4108, 277, 4287, 2083, 2697, 1842, 3718, 1066],\n",
              " [1789, 65, 2853, 2026, 2987, 1487, 1554, 2711, 1842, 3718, 1066],\n",
              " [4453, 3620, 2933, 4355, 2987, 1817, 995, 1044, 3143, 254, 644, 4832, 2985],\n",
              " [2961, 2525, 2782, 1476, 291, 3881],\n",
              " [830, 1464, 2857, 4735, 2586, 2199, 2576, 3666],\n",
              " [43, 4200, 2231, 4085, 2559, 1842, 3718, 1066],\n",
              " [3082, 1499, 827, 1239, 83, 3107, 4453, 4632, 2985],\n",
              " [3551, 4255, 4927, 4002, 3599, 4494, 3676, 4453, 1842, 3718, 1066],\n",
              " [4947, 3822, 2769, 3731, 3613, 1842, 3718, 1066],\n",
              " [827, 337, 2839, 207, 1508, 484, 863, 4038, 1842, 3718, 1066],\n",
              " [870, 2559, 2987, 4259, 1909, 2330, 1134, 2782, 1231, 256, 1569, 2023],\n",
              " [2594, 4115, 2854, 3527, 2957, 4418, 3006, 1842, 3718, 1066],\n",
              " [1381, 2178, 3695, 1551, 4375, 3803],\n",
              " [935, 1595, 2225, 205, 263, 1827],\n",
              " [1036,\n",
              "  3965,\n",
              "  1842,\n",
              "  3718,\n",
              "  1066,\n",
              "  806,\n",
              "  4742,\n",
              "  2909,\n",
              "  821,\n",
              "  713,\n",
              "  156,\n",
              "  2480,\n",
              "  796,\n",
              "  1842,\n",
              "  3718,\n",
              "  1066],\n",
              " [3154, 429, 3007, 2307, 2839, 4321, 3999, 4453, 4834, 2985],\n",
              " [1375, 4906, 3056, 4170, 1825, 3411, 57, 1559, 1611, 1381, 2985],\n",
              " [1685, 245, 805, 1676, 1842, 3718, 1066],\n",
              " [1752, 1998, 4829, 2589, 827, 3676, 4725],\n",
              " [585,\n",
              "  2344,\n",
              "  4663,\n",
              "  2966,\n",
              "  4558,\n",
              "  936,\n",
              "  4199,\n",
              "  2743,\n",
              "  4305,\n",
              "  2465,\n",
              "  649,\n",
              "  81,\n",
              "  2104,\n",
              "  695],\n",
              " [1381, 1770, 4474, 4380, 4094, 2672, 3695, 4755, 1842, 3718, 1066],\n",
              " [1300, 1109, 4843, 600, 4453, 1700, 2930, 765, 1696, 3762, 2985],\n",
              " [1863, 2140, 515, 575, 1798, 2462, 1085, 2985],\n",
              " [75, 1393, 3434, 2125, 476, 391, 4025, 1158],\n",
              " [1522, 3680, 1239, 1385, 4791, 1723, 2340],\n",
              " [3425, 4967, 2672, 2199, 826, 138, 2898, 138, 4314],\n",
              " [1109, 4057, 4256, 2569, 1842, 3389, 2140, 1842, 3718, 1066],\n",
              " [4742, 2824, 2845, 1579, 1962, 25, 649, 3460, 3039],\n",
              " [4769, 826, 4907, 4125, 3039, 498, 4210, 2985],\n",
              " [4781, 827, 442, 4244, 1745, 2203, 887, 4210, 2985],\n",
              " [855, 796, 1626, 2847, 2689, 1132, 3860, 530, 1358, 316],\n",
              " [2839, 3889, 835, 1789, 1940, 1004, 1137, 2231, 744, 2254, 714, 2],\n",
              " [3056, 2095, 3515, 141, 4231, 4453, 1842, 3718, 1066],\n",
              " [4670, 1624, 2854, 540, 4794, 3138, 3805, 1842, 3718, 1066],\n",
              " [1158, 4231, 913, 1158, 3568, 4695, 4575, 1132, 3235],\n",
              " [1810, 4652, 1992, 3101, 4017],\n",
              " [3763, 4453, 119, 2335, 2569, 819, 498, 2985],\n",
              " [744, 880, 1066, 3803, 1842, 3718, 1066],\n",
              " [3970, 2909, 379, 1912, 935, 984, 4832, 3693, 1239, 993, 3542],\n",
              " [4958, 4850, 1414, 2697, 4968, 1737, 2018, 1842, 3718, 1066],\n",
              " [4246, 1461, 4273, 2483, 1491, 301, 2985],\n",
              " [551, 3370, 4602, 2665, 4453, 349, 2985],\n",
              " [4453, 3800, 449, 187],\n",
              " [3732, 3875, 4334, 2183, 2734, 1842, 3718, 1066],\n",
              " [3056, 843, 3666, 4290, 1232, 270, 4755, 2518, 4215, 1842, 3718, 1066],\n",
              " [1842, 403, 2791, 3450, 4289, 670, 4084, 431, 2314, 1842, 3718, 1066],\n",
              " [4660, 79, 2140, 301, 4773, 2665, 3085, 1655, 2985],\n",
              " [4227, 3656, 829, 698, 373, 4405],\n",
              " [2824, 1857, 3056, 2489, 3588, 3578, 4944, 2935],\n",
              " [3580, 4404, 1358, 2755, 694, 2723, 3603, 3126, 4762, 2985],\n",
              " [2423, 600, 1289, 301, 1842, 3718, 1066],\n",
              " [4632, 1109, 546, 4453, 4057, 1114, 2465, 4663, 448, 3767, 774, 2249, 2985],\n",
              " [525, 2854, 2338, 3373, 2854, 2728, 2404, 2854],\n",
              " [1714, 2941, 1912, 3581, 2672, 3303, 581, 1842, 3718, 1066],\n",
              " [2409, 850, 4046, 931, 4334, 3769],\n",
              " [2742, 2095, 713, 381, 3686, 1107, 4977, 4155, 502],\n",
              " [1391, 4742, 3107, 1803],\n",
              " [4453, 4834, 324, 3803, 3834, 1700, 4188, 2985],\n",
              " [4453, 656, 2933, 1065, 3248, 2665, 3220, 4180, 1842, 3718, 1066],\n",
              " [773, 1486, 2689, 1132, 1300, 1164, 2909, 2985],\n",
              " [3056, 2199, 2839, 4170, 2153, 10, 751, 585],\n",
              " [2330, 994],\n",
              " [4505, 2449, 1465, 4972, 3144, 2586, 2166],\n",
              " [417, 270, 1798, 2885, 4740, 4656, 1114, 1842, 3718, 1066],\n",
              " [194, 1142, 3336, 707, 291, 4734, 3881, 1842, 3718, 1066],\n",
              " [4848, 3893, 1585, 4453, 2922, 4760, 2221, 3470, 2921, 3716],\n",
              " [480, 4550, 3741, 2618, 575, 4162, 2091, 3741, 2665, 1595],\n",
              " [3996, 4565, 895, 1964, 3383, 1480, 105, 1842, 3718, 1066],\n",
              " [4276, 4420, 1341, 2672, 4787, 585, 4507, 3610, 4223, 3759, 305, 1360],\n",
              " [4494],\n",
              " [3581, 2465, 609, 2672, 1449, 1799, 943, 3085, 4832, 2985],\n",
              " [4147,\n",
              "  289,\n",
              "  4016,\n",
              "  3163,\n",
              "  3996,\n",
              "  3750,\n",
              "  2762,\n",
              "  305,\n",
              "  3554,\n",
              "  5,\n",
              "  1212,\n",
              "  1842,\n",
              "  2116,\n",
              "  2783],\n",
              " [3581, 2465, 2880, 4648, 1392, 1476, 3668, 943, 1485, 1585],\n",
              " [531, 2673, 916, 2569, 2442, 190, 3087, 2704, 3737],\n",
              " [1210, 3094, 2665, 4927, 2869, 3097],\n",
              " [1842, 35, 2636, 255, 1700, 1489, 4614, 3225],\n",
              " [487, 128, 824, 3266, 2524, 2349, 1239, 3776, 112, 2985],\n",
              " [2115, 3110, 762, 1077],\n",
              " [4883, 3962, 1558, 3634, 3477, 2327, 3046, 1842, 3718, 1066],\n",
              " [1507, 2525, 2268, 3069, 2944, 1270, 3562, 1842, 3718, 1066],\n",
              " [4674, 4403, 4777, 2271, 980, 773],\n",
              " [301, 1842, 3718, 1066],\n",
              " [3695, 1239, 4927, 485, 4944, 349],\n",
              " [3807, 251, 3354, 2496, 4414, 803, 1751, 2750, 1109, 4633, 1741],\n",
              " [4288, 2023, 795, 644, 2987, 2850, 4827],\n",
              " [1196, 536, 2017, 1803, 366, 1842, 3718, 1066],\n",
              " [2199, 2839, 4326, 2961, 3584, 1087, 817, 2612, 903],\n",
              " [838, 4734, 2835, 3439, 4975, 3304, 1842, 3718, 1066],\n",
              " [3737, 4558, 4192, 1830, 3050]]"
            ]
          },
          "metadata": {},
          "execution_count": 16
        }
      ]
    },
    {
      "cell_type": "code",
      "source": [
        "# padding to make same length input sequence\n",
        "sent_length = 50\n",
        "embedded_docs = pad_sequences(onehot_rep, maxlen = sent_length, padding = 'pre')\n",
        "embedded_docs"
      ],
      "metadata": {
        "colab": {
          "base_uri": "https://localhost:8080/"
        },
        "id": "ZYiszBH_N-xZ",
        "outputId": "61cd76aa-ce86-49ca-b7db-072708b960c3"
      },
      "execution_count": null,
      "outputs": [
        {
          "output_type": "execute_result",
          "data": {
            "text/plain": [
              "array([[   0,    0,    0, ..., 2955, 3305,  474],\n",
              "       [   0,    0,    0, ...,  935, 4288, 2985],\n",
              "       [   0,    0,    0, ...,  516, 4923, 1239],\n",
              "       ...,\n",
              "       [   0,    0,    0, ...,  817, 2612,  903],\n",
              "       [   0,    0,    0, ..., 1842, 3718, 1066],\n",
              "       [   0,    0,    0, ..., 4192, 1830, 3050]], dtype=int32)"
            ]
          },
          "metadata": {},
          "execution_count": 17
        }
      ]
    },
    {
      "cell_type": "code",
      "source": [
        "sent_length = 50\n",
        "embedded_docs1 = pad_sequences(onehot_rep, maxlen = sent_length, padding = 'post')\n",
        "embedded_docs1"
      ],
      "metadata": {
        "colab": {
          "base_uri": "https://localhost:8080/"
        },
        "id": "izxLJjt8N-ul",
        "outputId": "d387c345-57bd-436a-c985-bcc46338f840"
      },
      "execution_count": null,
      "outputs": [
        {
          "output_type": "execute_result",
          "data": {
            "text/plain": [
              "array([[1132, 4632, 3620, ...,    0,    0,    0],\n",
              "       [2658, 2199, 2839, ...,    0,    0,    0],\n",
              "       [1716,  516, 4923, ...,    0,    0,    0],\n",
              "       ...,\n",
              "       [2199, 2839, 4326, ...,    0,    0,    0],\n",
              "       [ 838, 4734, 2835, ...,    0,    0,    0],\n",
              "       [3737, 4558, 4192, ...,    0,    0,    0]], dtype=int32)"
            ]
          },
          "metadata": {},
          "execution_count": 18
        }
      ]
    },
    {
      "cell_type": "code",
      "source": [],
      "metadata": {
        "id": "Yw3l-70l4I9k"
      },
      "execution_count": null,
      "outputs": []
    },
    {
      "cell_type": "code",
      "source": [
        "# converting to array\n",
        "\n",
        "X_input = np.array(embedded_docs)\n",
        "y_input = np.array(y)"
      ],
      "metadata": {
        "id": "pbuioHoW4I52"
      },
      "execution_count": null,
      "outputs": []
    },
    {
      "cell_type": "code",
      "source": [
        "X.shape, y.shape          # still same"
      ],
      "metadata": {
        "colab": {
          "base_uri": "https://localhost:8080/"
        },
        "id": "2ib33lkR4I22",
        "outputId": "986af75a-a559-4b4a-fa00-4ffe74004d44"
      },
      "execution_count": null,
      "outputs": [
        {
          "output_type": "execute_result",
          "data": {
            "text/plain": [
              "((429, 5), (429,))"
            ]
          },
          "metadata": {},
          "execution_count": 20
        }
      ]
    },
    {
      "cell_type": "code",
      "source": [
        "# train-test split\n",
        "\n",
        "X_train, X_test, y_train, y_test =  train_test_split(X_input, y_input, test_size = 0.33, random_state = 42)\n",
        "\n",
        "X_train.shape, y_train.shape, X_test.shape, y_test.shape"
      ],
      "metadata": {
        "id": "IwuqzYLVN-rz",
        "colab": {
          "base_uri": "https://localhost:8080/"
        },
        "outputId": "daca8f93-0b8c-462f-fe3e-3f6dbb795d82"
      },
      "execution_count": null,
      "outputs": [
        {
          "output_type": "execute_result",
          "data": {
            "text/plain": [
              "((287, 50), (287,), (142, 50), (142,))"
            ]
          },
          "metadata": {},
          "execution_count": 21
        }
      ]
    },
    {
      "cell_type": "code",
      "source": [],
      "metadata": {
        "id": "2PcPCg2n7z5v"
      },
      "execution_count": null,
      "outputs": []
    },
    {
      "cell_type": "code",
      "source": [],
      "metadata": {
        "id": "RhqP0vGK7z2N"
      },
      "execution_count": null,
      "outputs": []
    },
    {
      "cell_type": "markdown",
      "source": [
        "## Creating models"
      ],
      "metadata": {
        "id": "mUFxLPEx9k5n"
      }
    },
    {
      "cell_type": "code",
      "source": [
        "embed_vector_features = 50\n",
        "\n",
        "model = Sequential()\n",
        "model.add(Embedding(vocab_size, embed_vector_features, input_length = sent_length))\n",
        "model.add(SimpleRNN(100, return_sequences= False))\n",
        "model.add(Dense(1, activation = 'sigmoid'))\n",
        "model.build(input_shape = (None, 50))\n",
        "\n",
        "model.summary()"
      ],
      "metadata": {
        "colab": {
          "base_uri": "https://localhost:8080/",
          "height": 273
        },
        "id": "gMd8POvQPny_",
        "outputId": "bc757a37-d004-4a8a-b1b9-ad8327e3220c"
      },
      "execution_count": null,
      "outputs": [
        {
          "output_type": "stream",
          "name": "stderr",
          "text": [
            "/usr/local/lib/python3.12/dist-packages/keras/src/layers/core/embedding.py:97: UserWarning: Argument `input_length` is deprecated. Just remove it.\n",
            "  warnings.warn(\n"
          ]
        },
        {
          "output_type": "display_data",
          "data": {
            "text/plain": [
              "\u001b[1mModel: \"sequential\"\u001b[0m\n"
            ],
            "text/html": [
              "<pre style=\"white-space:pre;overflow-x:auto;line-height:normal;font-family:Menlo,'DejaVu Sans Mono',consolas,'Courier New',monospace\"><span style=\"font-weight: bold\">Model: \"sequential\"</span>\n",
              "</pre>\n"
            ]
          },
          "metadata": {}
        },
        {
          "output_type": "display_data",
          "data": {
            "text/plain": [
              "┏━━━━━━━━━━━━━━━━━━━━━━━━━━━━━━━━━┳━━━━━━━━━━━━━━━━━━━━━━━━┳━━━━━━━━━━━━━━━┓\n",
              "┃\u001b[1m \u001b[0m\u001b[1mLayer (type)                   \u001b[0m\u001b[1m \u001b[0m┃\u001b[1m \u001b[0m\u001b[1mOutput Shape          \u001b[0m\u001b[1m \u001b[0m┃\u001b[1m \u001b[0m\u001b[1m      Param #\u001b[0m\u001b[1m \u001b[0m┃\n",
              "┡━━━━━━━━━━━━━━━━━━━━━━━━━━━━━━━━━╇━━━━━━━━━━━━━━━━━━━━━━━━╇━━━━━━━━━━━━━━━┩\n",
              "│ embedding (\u001b[38;5;33mEmbedding\u001b[0m)           │ (\u001b[38;5;45mNone\u001b[0m, \u001b[38;5;34m50\u001b[0m, \u001b[38;5;34m50\u001b[0m)         │       \u001b[38;5;34m250,000\u001b[0m │\n",
              "├─────────────────────────────────┼────────────────────────┼───────────────┤\n",
              "│ simple_rnn (\u001b[38;5;33mSimpleRNN\u001b[0m)          │ (\u001b[38;5;45mNone\u001b[0m, \u001b[38;5;34m100\u001b[0m)            │        \u001b[38;5;34m15,100\u001b[0m │\n",
              "├─────────────────────────────────┼────────────────────────┼───────────────┤\n",
              "│ dense (\u001b[38;5;33mDense\u001b[0m)                   │ (\u001b[38;5;45mNone\u001b[0m, \u001b[38;5;34m1\u001b[0m)              │           \u001b[38;5;34m101\u001b[0m │\n",
              "└─────────────────────────────────┴────────────────────────┴───────────────┘\n"
            ],
            "text/html": [
              "<pre style=\"white-space:pre;overflow-x:auto;line-height:normal;font-family:Menlo,'DejaVu Sans Mono',consolas,'Courier New',monospace\">┏━━━━━━━━━━━━━━━━━━━━━━━━━━━━━━━━━┳━━━━━━━━━━━━━━━━━━━━━━━━┳━━━━━━━━━━━━━━━┓\n",
              "┃<span style=\"font-weight: bold\"> Layer (type)                    </span>┃<span style=\"font-weight: bold\"> Output Shape           </span>┃<span style=\"font-weight: bold\">       Param # </span>┃\n",
              "┡━━━━━━━━━━━━━━━━━━━━━━━━━━━━━━━━━╇━━━━━━━━━━━━━━━━━━━━━━━━╇━━━━━━━━━━━━━━━┩\n",
              "│ embedding (<span style=\"color: #0087ff; text-decoration-color: #0087ff\">Embedding</span>)           │ (<span style=\"color: #00d7ff; text-decoration-color: #00d7ff\">None</span>, <span style=\"color: #00af00; text-decoration-color: #00af00\">50</span>, <span style=\"color: #00af00; text-decoration-color: #00af00\">50</span>)         │       <span style=\"color: #00af00; text-decoration-color: #00af00\">250,000</span> │\n",
              "├─────────────────────────────────┼────────────────────────┼───────────────┤\n",
              "│ simple_rnn (<span style=\"color: #0087ff; text-decoration-color: #0087ff\">SimpleRNN</span>)          │ (<span style=\"color: #00d7ff; text-decoration-color: #00d7ff\">None</span>, <span style=\"color: #00af00; text-decoration-color: #00af00\">100</span>)            │        <span style=\"color: #00af00; text-decoration-color: #00af00\">15,100</span> │\n",
              "├─────────────────────────────────┼────────────────────────┼───────────────┤\n",
              "│ dense (<span style=\"color: #0087ff; text-decoration-color: #0087ff\">Dense</span>)                   │ (<span style=\"color: #00d7ff; text-decoration-color: #00d7ff\">None</span>, <span style=\"color: #00af00; text-decoration-color: #00af00\">1</span>)              │           <span style=\"color: #00af00; text-decoration-color: #00af00\">101</span> │\n",
              "└─────────────────────────────────┴────────────────────────┴───────────────┘\n",
              "</pre>\n"
            ]
          },
          "metadata": {}
        },
        {
          "output_type": "display_data",
          "data": {
            "text/plain": [
              "\u001b[1m Total params: \u001b[0m\u001b[38;5;34m265,201\u001b[0m (1.01 MB)\n"
            ],
            "text/html": [
              "<pre style=\"white-space:pre;overflow-x:auto;line-height:normal;font-family:Menlo,'DejaVu Sans Mono',consolas,'Courier New',monospace\"><span style=\"font-weight: bold\"> Total params: </span><span style=\"color: #00af00; text-decoration-color: #00af00\">265,201</span> (1.01 MB)\n",
              "</pre>\n"
            ]
          },
          "metadata": {}
        },
        {
          "output_type": "display_data",
          "data": {
            "text/plain": [
              "\u001b[1m Trainable params: \u001b[0m\u001b[38;5;34m265,201\u001b[0m (1.01 MB)\n"
            ],
            "text/html": [
              "<pre style=\"white-space:pre;overflow-x:auto;line-height:normal;font-family:Menlo,'DejaVu Sans Mono',consolas,'Courier New',monospace\"><span style=\"font-weight: bold\"> Trainable params: </span><span style=\"color: #00af00; text-decoration-color: #00af00\">265,201</span> (1.01 MB)\n",
              "</pre>\n"
            ]
          },
          "metadata": {}
        },
        {
          "output_type": "display_data",
          "data": {
            "text/plain": [
              "\u001b[1m Non-trainable params: \u001b[0m\u001b[38;5;34m0\u001b[0m (0.00 B)\n"
            ],
            "text/html": [
              "<pre style=\"white-space:pre;overflow-x:auto;line-height:normal;font-family:Menlo,'DejaVu Sans Mono',consolas,'Courier New',monospace\"><span style=\"font-weight: bold\"> Non-trainable params: </span><span style=\"color: #00af00; text-decoration-color: #00af00\">0</span> (0.00 B)\n",
              "</pre>\n"
            ]
          },
          "metadata": {}
        }
      ]
    },
    {
      "cell_type": "code",
      "source": [],
      "metadata": {
        "id": "WGEgoiDePntC"
      },
      "execution_count": null,
      "outputs": []
    },
    {
      "cell_type": "code",
      "source": [
        "# Bidirectional RNN model\n",
        "embed_vector_features = 50\n",
        "\n",
        "biRNN_model = Sequential()\n",
        "biRNN_model.add(Embedding(vocab_size, embed_vector_features, input_length = sent_length))\n",
        "biRNN_model.add(Bidirectional(SimpleRNN(100, return_sequences= False)))\n",
        "biRNN_model.add(Dense(1, activation = 'sigmoid'))\n",
        "biRNN_model.build(input_shape = (None, 50))\n",
        "\n",
        "biRNN_model.summary()"
      ],
      "metadata": {
        "id": "Hympm2SvPnqH",
        "colab": {
          "base_uri": "https://localhost:8080/",
          "height": 238
        },
        "outputId": "6c7edd12-fa69-4aee-d1af-6ce505f6d075"
      },
      "execution_count": null,
      "outputs": [
        {
          "output_type": "display_data",
          "data": {
            "text/plain": [
              "\u001b[1mModel: \"sequential_1\"\u001b[0m\n"
            ],
            "text/html": [
              "<pre style=\"white-space:pre;overflow-x:auto;line-height:normal;font-family:Menlo,'DejaVu Sans Mono',consolas,'Courier New',monospace\"><span style=\"font-weight: bold\">Model: \"sequential_1\"</span>\n",
              "</pre>\n"
            ]
          },
          "metadata": {}
        },
        {
          "output_type": "display_data",
          "data": {
            "text/plain": [
              "┏━━━━━━━━━━━━━━━━━━━━━━━━━━━━━━━━━┳━━━━━━━━━━━━━━━━━━━━━━━━┳━━━━━━━━━━━━━━━┓\n",
              "┃\u001b[1m \u001b[0m\u001b[1mLayer (type)                   \u001b[0m\u001b[1m \u001b[0m┃\u001b[1m \u001b[0m\u001b[1mOutput Shape          \u001b[0m\u001b[1m \u001b[0m┃\u001b[1m \u001b[0m\u001b[1m      Param #\u001b[0m\u001b[1m \u001b[0m┃\n",
              "┡━━━━━━━━━━━━━━━━━━━━━━━━━━━━━━━━━╇━━━━━━━━━━━━━━━━━━━━━━━━╇━━━━━━━━━━━━━━━┩\n",
              "│ embedding_1 (\u001b[38;5;33mEmbedding\u001b[0m)         │ (\u001b[38;5;45mNone\u001b[0m, \u001b[38;5;34m50\u001b[0m, \u001b[38;5;34m50\u001b[0m)         │       \u001b[38;5;34m250,000\u001b[0m │\n",
              "├─────────────────────────────────┼────────────────────────┼───────────────┤\n",
              "│ bidirectional (\u001b[38;5;33mBidirectional\u001b[0m)   │ (\u001b[38;5;45mNone\u001b[0m, \u001b[38;5;34m200\u001b[0m)            │        \u001b[38;5;34m30,200\u001b[0m │\n",
              "├─────────────────────────────────┼────────────────────────┼───────────────┤\n",
              "│ dense_1 (\u001b[38;5;33mDense\u001b[0m)                 │ (\u001b[38;5;45mNone\u001b[0m, \u001b[38;5;34m1\u001b[0m)              │           \u001b[38;5;34m201\u001b[0m │\n",
              "└─────────────────────────────────┴────────────────────────┴───────────────┘\n"
            ],
            "text/html": [
              "<pre style=\"white-space:pre;overflow-x:auto;line-height:normal;font-family:Menlo,'DejaVu Sans Mono',consolas,'Courier New',monospace\">┏━━━━━━━━━━━━━━━━━━━━━━━━━━━━━━━━━┳━━━━━━━━━━━━━━━━━━━━━━━━┳━━━━━━━━━━━━━━━┓\n",
              "┃<span style=\"font-weight: bold\"> Layer (type)                    </span>┃<span style=\"font-weight: bold\"> Output Shape           </span>┃<span style=\"font-weight: bold\">       Param # </span>┃\n",
              "┡━━━━━━━━━━━━━━━━━━━━━━━━━━━━━━━━━╇━━━━━━━━━━━━━━━━━━━━━━━━╇━━━━━━━━━━━━━━━┩\n",
              "│ embedding_1 (<span style=\"color: #0087ff; text-decoration-color: #0087ff\">Embedding</span>)         │ (<span style=\"color: #00d7ff; text-decoration-color: #00d7ff\">None</span>, <span style=\"color: #00af00; text-decoration-color: #00af00\">50</span>, <span style=\"color: #00af00; text-decoration-color: #00af00\">50</span>)         │       <span style=\"color: #00af00; text-decoration-color: #00af00\">250,000</span> │\n",
              "├─────────────────────────────────┼────────────────────────┼───────────────┤\n",
              "│ bidirectional (<span style=\"color: #0087ff; text-decoration-color: #0087ff\">Bidirectional</span>)   │ (<span style=\"color: #00d7ff; text-decoration-color: #00d7ff\">None</span>, <span style=\"color: #00af00; text-decoration-color: #00af00\">200</span>)            │        <span style=\"color: #00af00; text-decoration-color: #00af00\">30,200</span> │\n",
              "├─────────────────────────────────┼────────────────────────┼───────────────┤\n",
              "│ dense_1 (<span style=\"color: #0087ff; text-decoration-color: #0087ff\">Dense</span>)                 │ (<span style=\"color: #00d7ff; text-decoration-color: #00d7ff\">None</span>, <span style=\"color: #00af00; text-decoration-color: #00af00\">1</span>)              │           <span style=\"color: #00af00; text-decoration-color: #00af00\">201</span> │\n",
              "└─────────────────────────────────┴────────────────────────┴───────────────┘\n",
              "</pre>\n"
            ]
          },
          "metadata": {}
        },
        {
          "output_type": "display_data",
          "data": {
            "text/plain": [
              "\u001b[1m Total params: \u001b[0m\u001b[38;5;34m280,401\u001b[0m (1.07 MB)\n"
            ],
            "text/html": [
              "<pre style=\"white-space:pre;overflow-x:auto;line-height:normal;font-family:Menlo,'DejaVu Sans Mono',consolas,'Courier New',monospace\"><span style=\"font-weight: bold\"> Total params: </span><span style=\"color: #00af00; text-decoration-color: #00af00\">280,401</span> (1.07 MB)\n",
              "</pre>\n"
            ]
          },
          "metadata": {}
        },
        {
          "output_type": "display_data",
          "data": {
            "text/plain": [
              "\u001b[1m Trainable params: \u001b[0m\u001b[38;5;34m280,401\u001b[0m (1.07 MB)\n"
            ],
            "text/html": [
              "<pre style=\"white-space:pre;overflow-x:auto;line-height:normal;font-family:Menlo,'DejaVu Sans Mono',consolas,'Courier New',monospace\"><span style=\"font-weight: bold\"> Trainable params: </span><span style=\"color: #00af00; text-decoration-color: #00af00\">280,401</span> (1.07 MB)\n",
              "</pre>\n"
            ]
          },
          "metadata": {}
        },
        {
          "output_type": "display_data",
          "data": {
            "text/plain": [
              "\u001b[1m Non-trainable params: \u001b[0m\u001b[38;5;34m0\u001b[0m (0.00 B)\n"
            ],
            "text/html": [
              "<pre style=\"white-space:pre;overflow-x:auto;line-height:normal;font-family:Menlo,'DejaVu Sans Mono',consolas,'Courier New',monospace\"><span style=\"font-weight: bold\"> Non-trainable params: </span><span style=\"color: #00af00; text-decoration-color: #00af00\">0</span> (0.00 B)\n",
              "</pre>\n"
            ]
          },
          "metadata": {}
        }
      ]
    },
    {
      "cell_type": "markdown",
      "source": [
        "NOTE: Here, I noticed the output shape for Bi-RNN is 200 whereas in SimpleRNN, it's 100."
      ],
      "metadata": {
        "id": "8SWHAPsp-E1U"
      }
    },
    {
      "cell_type": "code",
      "source": [],
      "metadata": {
        "id": "5CPiklvJ-Qs2"
      },
      "execution_count": null,
      "outputs": []
    },
    {
      "cell_type": "code",
      "source": [
        "# LSTM model\n",
        "embed_vector_features = 50\n",
        "\n",
        "LSTM_model = Sequential()\n",
        "LSTM_model.add(Embedding(vocab_size, embed_vector_features, input_length = sent_length))\n",
        "LSTM_model.add(LSTM(100, return_sequences= False))\n",
        "LSTM_model.add(Dense(1, activation = 'sigmoid'))\n",
        "LSTM_model.build(input_shape = (None, 50))\n",
        "\n",
        "LSTM_model.summary()"
      ],
      "metadata": {
        "id": "yB2BlSKz8HFq",
        "colab": {
          "base_uri": "https://localhost:8080/",
          "height": 238
        },
        "outputId": "5583312a-8ff8-4e3f-c3b6-c8c9800d8a3b"
      },
      "execution_count": null,
      "outputs": [
        {
          "output_type": "display_data",
          "data": {
            "text/plain": [
              "\u001b[1mModel: \"sequential_2\"\u001b[0m\n"
            ],
            "text/html": [
              "<pre style=\"white-space:pre;overflow-x:auto;line-height:normal;font-family:Menlo,'DejaVu Sans Mono',consolas,'Courier New',monospace\"><span style=\"font-weight: bold\">Model: \"sequential_2\"</span>\n",
              "</pre>\n"
            ]
          },
          "metadata": {}
        },
        {
          "output_type": "display_data",
          "data": {
            "text/plain": [
              "┏━━━━━━━━━━━━━━━━━━━━━━━━━━━━━━━━━┳━━━━━━━━━━━━━━━━━━━━━━━━┳━━━━━━━━━━━━━━━┓\n",
              "┃\u001b[1m \u001b[0m\u001b[1mLayer (type)                   \u001b[0m\u001b[1m \u001b[0m┃\u001b[1m \u001b[0m\u001b[1mOutput Shape          \u001b[0m\u001b[1m \u001b[0m┃\u001b[1m \u001b[0m\u001b[1m      Param #\u001b[0m\u001b[1m \u001b[0m┃\n",
              "┡━━━━━━━━━━━━━━━━━━━━━━━━━━━━━━━━━╇━━━━━━━━━━━━━━━━━━━━━━━━╇━━━━━━━━━━━━━━━┩\n",
              "│ embedding_2 (\u001b[38;5;33mEmbedding\u001b[0m)         │ (\u001b[38;5;45mNone\u001b[0m, \u001b[38;5;34m50\u001b[0m, \u001b[38;5;34m50\u001b[0m)         │       \u001b[38;5;34m250,000\u001b[0m │\n",
              "├─────────────────────────────────┼────────────────────────┼───────────────┤\n",
              "│ lstm (\u001b[38;5;33mLSTM\u001b[0m)                     │ (\u001b[38;5;45mNone\u001b[0m, \u001b[38;5;34m100\u001b[0m)            │        \u001b[38;5;34m60,400\u001b[0m │\n",
              "├─────────────────────────────────┼────────────────────────┼───────────────┤\n",
              "│ dense_2 (\u001b[38;5;33mDense\u001b[0m)                 │ (\u001b[38;5;45mNone\u001b[0m, \u001b[38;5;34m1\u001b[0m)              │           \u001b[38;5;34m101\u001b[0m │\n",
              "└─────────────────────────────────┴────────────────────────┴───────────────┘\n"
            ],
            "text/html": [
              "<pre style=\"white-space:pre;overflow-x:auto;line-height:normal;font-family:Menlo,'DejaVu Sans Mono',consolas,'Courier New',monospace\">┏━━━━━━━━━━━━━━━━━━━━━━━━━━━━━━━━━┳━━━━━━━━━━━━━━━━━━━━━━━━┳━━━━━━━━━━━━━━━┓\n",
              "┃<span style=\"font-weight: bold\"> Layer (type)                    </span>┃<span style=\"font-weight: bold\"> Output Shape           </span>┃<span style=\"font-weight: bold\">       Param # </span>┃\n",
              "┡━━━━━━━━━━━━━━━━━━━━━━━━━━━━━━━━━╇━━━━━━━━━━━━━━━━━━━━━━━━╇━━━━━━━━━━━━━━━┩\n",
              "│ embedding_2 (<span style=\"color: #0087ff; text-decoration-color: #0087ff\">Embedding</span>)         │ (<span style=\"color: #00d7ff; text-decoration-color: #00d7ff\">None</span>, <span style=\"color: #00af00; text-decoration-color: #00af00\">50</span>, <span style=\"color: #00af00; text-decoration-color: #00af00\">50</span>)         │       <span style=\"color: #00af00; text-decoration-color: #00af00\">250,000</span> │\n",
              "├─────────────────────────────────┼────────────────────────┼───────────────┤\n",
              "│ lstm (<span style=\"color: #0087ff; text-decoration-color: #0087ff\">LSTM</span>)                     │ (<span style=\"color: #00d7ff; text-decoration-color: #00d7ff\">None</span>, <span style=\"color: #00af00; text-decoration-color: #00af00\">100</span>)            │        <span style=\"color: #00af00; text-decoration-color: #00af00\">60,400</span> │\n",
              "├─────────────────────────────────┼────────────────────────┼───────────────┤\n",
              "│ dense_2 (<span style=\"color: #0087ff; text-decoration-color: #0087ff\">Dense</span>)                 │ (<span style=\"color: #00d7ff; text-decoration-color: #00d7ff\">None</span>, <span style=\"color: #00af00; text-decoration-color: #00af00\">1</span>)              │           <span style=\"color: #00af00; text-decoration-color: #00af00\">101</span> │\n",
              "└─────────────────────────────────┴────────────────────────┴───────────────┘\n",
              "</pre>\n"
            ]
          },
          "metadata": {}
        },
        {
          "output_type": "display_data",
          "data": {
            "text/plain": [
              "\u001b[1m Total params: \u001b[0m\u001b[38;5;34m310,501\u001b[0m (1.18 MB)\n"
            ],
            "text/html": [
              "<pre style=\"white-space:pre;overflow-x:auto;line-height:normal;font-family:Menlo,'DejaVu Sans Mono',consolas,'Courier New',monospace\"><span style=\"font-weight: bold\"> Total params: </span><span style=\"color: #00af00; text-decoration-color: #00af00\">310,501</span> (1.18 MB)\n",
              "</pre>\n"
            ]
          },
          "metadata": {}
        },
        {
          "output_type": "display_data",
          "data": {
            "text/plain": [
              "\u001b[1m Trainable params: \u001b[0m\u001b[38;5;34m310,501\u001b[0m (1.18 MB)\n"
            ],
            "text/html": [
              "<pre style=\"white-space:pre;overflow-x:auto;line-height:normal;font-family:Menlo,'DejaVu Sans Mono',consolas,'Courier New',monospace\"><span style=\"font-weight: bold\"> Trainable params: </span><span style=\"color: #00af00; text-decoration-color: #00af00\">310,501</span> (1.18 MB)\n",
              "</pre>\n"
            ]
          },
          "metadata": {}
        },
        {
          "output_type": "display_data",
          "data": {
            "text/plain": [
              "\u001b[1m Non-trainable params: \u001b[0m\u001b[38;5;34m0\u001b[0m (0.00 B)\n"
            ],
            "text/html": [
              "<pre style=\"white-space:pre;overflow-x:auto;line-height:normal;font-family:Menlo,'DejaVu Sans Mono',consolas,'Courier New',monospace\"><span style=\"font-weight: bold\"> Non-trainable params: </span><span style=\"color: #00af00; text-decoration-color: #00af00\">0</span> (0.00 B)\n",
              "</pre>\n"
            ]
          },
          "metadata": {}
        }
      ]
    },
    {
      "cell_type": "code",
      "source": [],
      "metadata": {
        "id": "GjZqFvF6-mhI"
      },
      "execution_count": null,
      "outputs": []
    },
    {
      "cell_type": "code",
      "source": [
        "# Bi-directional LSTM\n",
        "embed_vector_features = 50\n",
        "\n",
        "biLSTM_model = Sequential()\n",
        "biLSTM_model.add(Embedding(vocab_size, embed_vector_features, input_length = sent_length))\n",
        "biLSTM_model.add(Bidirectional(LSTM(100, return_sequences= False)))\n",
        "biLSTM_model.add(Dense(1, activation = 'sigmoid'))\n",
        "biLSTM_model.build(input_shape = (None, 50))\n",
        "\n",
        "biLSTM_model.summary()"
      ],
      "metadata": {
        "colab": {
          "base_uri": "https://localhost:8080/",
          "height": 238
        },
        "id": "SGx5Gm_68SX_",
        "outputId": "b33641e5-5574-4604-e88f-676d1ef71a1d"
      },
      "execution_count": null,
      "outputs": [
        {
          "output_type": "display_data",
          "data": {
            "text/plain": [
              "\u001b[1mModel: \"sequential_3\"\u001b[0m\n"
            ],
            "text/html": [
              "<pre style=\"white-space:pre;overflow-x:auto;line-height:normal;font-family:Menlo,'DejaVu Sans Mono',consolas,'Courier New',monospace\"><span style=\"font-weight: bold\">Model: \"sequential_3\"</span>\n",
              "</pre>\n"
            ]
          },
          "metadata": {}
        },
        {
          "output_type": "display_data",
          "data": {
            "text/plain": [
              "┏━━━━━━━━━━━━━━━━━━━━━━━━━━━━━━━━━┳━━━━━━━━━━━━━━━━━━━━━━━━┳━━━━━━━━━━━━━━━┓\n",
              "┃\u001b[1m \u001b[0m\u001b[1mLayer (type)                   \u001b[0m\u001b[1m \u001b[0m┃\u001b[1m \u001b[0m\u001b[1mOutput Shape          \u001b[0m\u001b[1m \u001b[0m┃\u001b[1m \u001b[0m\u001b[1m      Param #\u001b[0m\u001b[1m \u001b[0m┃\n",
              "┡━━━━━━━━━━━━━━━━━━━━━━━━━━━━━━━━━╇━━━━━━━━━━━━━━━━━━━━━━━━╇━━━━━━━━━━━━━━━┩\n",
              "│ embedding_3 (\u001b[38;5;33mEmbedding\u001b[0m)         │ (\u001b[38;5;45mNone\u001b[0m, \u001b[38;5;34m50\u001b[0m, \u001b[38;5;34m50\u001b[0m)         │       \u001b[38;5;34m250,000\u001b[0m │\n",
              "├─────────────────────────────────┼────────────────────────┼───────────────┤\n",
              "│ bidirectional_1 (\u001b[38;5;33mBidirectional\u001b[0m) │ (\u001b[38;5;45mNone\u001b[0m, \u001b[38;5;34m200\u001b[0m)            │       \u001b[38;5;34m120,800\u001b[0m │\n",
              "├─────────────────────────────────┼────────────────────────┼───────────────┤\n",
              "│ dense_3 (\u001b[38;5;33mDense\u001b[0m)                 │ (\u001b[38;5;45mNone\u001b[0m, \u001b[38;5;34m1\u001b[0m)              │           \u001b[38;5;34m201\u001b[0m │\n",
              "└─────────────────────────────────┴────────────────────────┴───────────────┘\n"
            ],
            "text/html": [
              "<pre style=\"white-space:pre;overflow-x:auto;line-height:normal;font-family:Menlo,'DejaVu Sans Mono',consolas,'Courier New',monospace\">┏━━━━━━━━━━━━━━━━━━━━━━━━━━━━━━━━━┳━━━━━━━━━━━━━━━━━━━━━━━━┳━━━━━━━━━━━━━━━┓\n",
              "┃<span style=\"font-weight: bold\"> Layer (type)                    </span>┃<span style=\"font-weight: bold\"> Output Shape           </span>┃<span style=\"font-weight: bold\">       Param # </span>┃\n",
              "┡━━━━━━━━━━━━━━━━━━━━━━━━━━━━━━━━━╇━━━━━━━━━━━━━━━━━━━━━━━━╇━━━━━━━━━━━━━━━┩\n",
              "│ embedding_3 (<span style=\"color: #0087ff; text-decoration-color: #0087ff\">Embedding</span>)         │ (<span style=\"color: #00d7ff; text-decoration-color: #00d7ff\">None</span>, <span style=\"color: #00af00; text-decoration-color: #00af00\">50</span>, <span style=\"color: #00af00; text-decoration-color: #00af00\">50</span>)         │       <span style=\"color: #00af00; text-decoration-color: #00af00\">250,000</span> │\n",
              "├─────────────────────────────────┼────────────────────────┼───────────────┤\n",
              "│ bidirectional_1 (<span style=\"color: #0087ff; text-decoration-color: #0087ff\">Bidirectional</span>) │ (<span style=\"color: #00d7ff; text-decoration-color: #00d7ff\">None</span>, <span style=\"color: #00af00; text-decoration-color: #00af00\">200</span>)            │       <span style=\"color: #00af00; text-decoration-color: #00af00\">120,800</span> │\n",
              "├─────────────────────────────────┼────────────────────────┼───────────────┤\n",
              "│ dense_3 (<span style=\"color: #0087ff; text-decoration-color: #0087ff\">Dense</span>)                 │ (<span style=\"color: #00d7ff; text-decoration-color: #00d7ff\">None</span>, <span style=\"color: #00af00; text-decoration-color: #00af00\">1</span>)              │           <span style=\"color: #00af00; text-decoration-color: #00af00\">201</span> │\n",
              "└─────────────────────────────────┴────────────────────────┴───────────────┘\n",
              "</pre>\n"
            ]
          },
          "metadata": {}
        },
        {
          "output_type": "display_data",
          "data": {
            "text/plain": [
              "\u001b[1m Total params: \u001b[0m\u001b[38;5;34m371,001\u001b[0m (1.42 MB)\n"
            ],
            "text/html": [
              "<pre style=\"white-space:pre;overflow-x:auto;line-height:normal;font-family:Menlo,'DejaVu Sans Mono',consolas,'Courier New',monospace\"><span style=\"font-weight: bold\"> Total params: </span><span style=\"color: #00af00; text-decoration-color: #00af00\">371,001</span> (1.42 MB)\n",
              "</pre>\n"
            ]
          },
          "metadata": {}
        },
        {
          "output_type": "display_data",
          "data": {
            "text/plain": [
              "\u001b[1m Trainable params: \u001b[0m\u001b[38;5;34m371,001\u001b[0m (1.42 MB)\n"
            ],
            "text/html": [
              "<pre style=\"white-space:pre;overflow-x:auto;line-height:normal;font-family:Menlo,'DejaVu Sans Mono',consolas,'Courier New',monospace\"><span style=\"font-weight: bold\"> Trainable params: </span><span style=\"color: #00af00; text-decoration-color: #00af00\">371,001</span> (1.42 MB)\n",
              "</pre>\n"
            ]
          },
          "metadata": {}
        },
        {
          "output_type": "display_data",
          "data": {
            "text/plain": [
              "\u001b[1m Non-trainable params: \u001b[0m\u001b[38;5;34m0\u001b[0m (0.00 B)\n"
            ],
            "text/html": [
              "<pre style=\"white-space:pre;overflow-x:auto;line-height:normal;font-family:Menlo,'DejaVu Sans Mono',consolas,'Courier New',monospace\"><span style=\"font-weight: bold\"> Non-trainable params: </span><span style=\"color: #00af00; text-decoration-color: #00af00\">0</span> (0.00 B)\n",
              "</pre>\n"
            ]
          },
          "metadata": {}
        }
      ]
    },
    {
      "cell_type": "markdown",
      "source": [
        "NOTE: Here, similar to RNN, in LSTM also, I noticed same that output shape for Bi-LSTM is 200 whereas in LSTM, it's 100."
      ],
      "metadata": {
        "id": "xlXdwGHy-vcZ"
      }
    },
    {
      "cell_type": "code",
      "source": [],
      "metadata": {
        "id": "BEpqz6eb8SUW"
      },
      "execution_count": null,
      "outputs": []
    },
    {
      "cell_type": "code",
      "source": [
        "# compiling all 4 models\n",
        "model.compile(optimizer = 'adam', metrics = ['accuracy'], loss = 'binary_crossentropy')\n",
        "biRNN_model.compile(optimizer = 'adam', metrics = ['accuracy'], loss = 'binary_crossentropy')\n",
        "LSTM_model.compile(optimizer = 'adam', metrics = ['accuracy'], loss = 'binary_crossentropy')\n",
        "biLSTM_model.compile(optimizer = 'adam', metrics = ['accuracy'], loss = 'binary_crossentropy')"
      ],
      "metadata": {
        "id": "8JcVgBonPnvj"
      },
      "execution_count": null,
      "outputs": []
    },
    {
      "cell_type": "code",
      "source": [],
      "metadata": {
        "id": "kV_pdqMrBqVA"
      },
      "execution_count": null,
      "outputs": []
    },
    {
      "cell_type": "code",
      "source": [],
      "metadata": {
        "id": "TDuY5O4p-aFI"
      },
      "execution_count": null,
      "outputs": []
    },
    {
      "cell_type": "markdown",
      "source": [
        "# Training models"
      ],
      "metadata": {
        "id": "lIACr5-__T6A"
      }
    },
    {
      "cell_type": "code",
      "source": [
        "model.fit(X_train, y_train, validation_data = (X_test, y_test), epochs = 5, batch_size = 64)"
      ],
      "metadata": {
        "colab": {
          "base_uri": "https://localhost:8080/"
        },
        "id": "ZdkSoieC8SRu",
        "outputId": "e99cead1-2130-472e-b451-f7226f333e37"
      },
      "execution_count": null,
      "outputs": [
        {
          "output_type": "stream",
          "name": "stdout",
          "text": [
            "Epoch 1/5\n",
            "\u001b[1m5/5\u001b[0m \u001b[32m━━━━━━━━━━━━━━━━━━━━\u001b[0m\u001b[37m\u001b[0m \u001b[1m5s\u001b[0m 469ms/step - accuracy: 0.5857 - loss: 0.6640 - val_accuracy: 0.7394 - val_loss: 0.5764\n",
            "Epoch 2/5\n",
            "\u001b[1m5/5\u001b[0m \u001b[32m━━━━━━━━━━━━━━━━━━━━\u001b[0m\u001b[37m\u001b[0m \u001b[1m0s\u001b[0m 20ms/step - accuracy: 0.8060 - loss: 0.5315 - val_accuracy: 0.7746 - val_loss: 0.4954\n",
            "Epoch 3/5\n",
            "\u001b[1m5/5\u001b[0m \u001b[32m━━━━━━━━━━━━━━━━━━━━\u001b[0m\u001b[37m\u001b[0m \u001b[1m0s\u001b[0m 19ms/step - accuracy: 0.9073 - loss: 0.4043 - val_accuracy: 0.8169 - val_loss: 0.4211\n",
            "Epoch 4/5\n",
            "\u001b[1m5/5\u001b[0m \u001b[32m━━━━━━━━━━━━━━━━━━━━\u001b[0m\u001b[37m\u001b[0m \u001b[1m0s\u001b[0m 20ms/step - accuracy: 0.9764 - loss: 0.2854 - val_accuracy: 0.8592 - val_loss: 0.3618\n",
            "Epoch 5/5\n",
            "\u001b[1m5/5\u001b[0m \u001b[32m━━━━━━━━━━━━━━━━━━━━\u001b[0m\u001b[37m\u001b[0m \u001b[1m0s\u001b[0m 20ms/step - accuracy: 0.9893 - loss: 0.2001 - val_accuracy: 0.8592 - val_loss: 0.3295\n"
          ]
        },
        {
          "output_type": "execute_result",
          "data": {
            "text/plain": [
              "<keras.src.callbacks.history.History at 0x79ec7412f320>"
            ]
          },
          "metadata": {},
          "execution_count": 27
        }
      ]
    },
    {
      "cell_type": "code",
      "source": [
        "biRNN_model.fit(X_train, y_train, validation_data = (X_test, y_test), epochs = 5, batch_size = 64)"
      ],
      "metadata": {
        "colab": {
          "base_uri": "https://localhost:8080/"
        },
        "id": "tAOjCGcKBLGx",
        "outputId": "e8ad8dd5-8942-4cff-be61-eaf2a9056019"
      },
      "execution_count": null,
      "outputs": [
        {
          "output_type": "stream",
          "name": "stdout",
          "text": [
            "Epoch 1/5\n",
            "\u001b[1m5/5\u001b[0m \u001b[32m━━━━━━━━━━━━━━━━━━━━\u001b[0m\u001b[37m\u001b[0m \u001b[1m5s\u001b[0m 545ms/step - accuracy: 0.5259 - loss: 0.6333 - val_accuracy: 0.8028 - val_loss: 0.5042\n",
            "Epoch 2/5\n",
            "\u001b[1m5/5\u001b[0m \u001b[32m━━━━━━━━━━━━━━━━━━━━\u001b[0m\u001b[37m\u001b[0m \u001b[1m0s\u001b[0m 35ms/step - accuracy: 0.8670 - loss: 0.4179 - val_accuracy: 0.8380 - val_loss: 0.3710\n",
            "Epoch 3/5\n",
            "\u001b[1m5/5\u001b[0m \u001b[32m━━━━━━━━━━━━━━━━━━━━\u001b[0m\u001b[37m\u001b[0m \u001b[1m0s\u001b[0m 31ms/step - accuracy: 0.9894 - loss: 0.1877 - val_accuracy: 0.8803 - val_loss: 0.3151\n",
            "Epoch 4/5\n",
            "\u001b[1m5/5\u001b[0m \u001b[32m━━━━━━━━━━━━━━━━━━━━\u001b[0m\u001b[37m\u001b[0m \u001b[1m0s\u001b[0m 32ms/step - accuracy: 0.9934 - loss: 0.0922 - val_accuracy: 0.8803 - val_loss: 0.2789\n",
            "Epoch 5/5\n",
            "\u001b[1m5/5\u001b[0m \u001b[32m━━━━━━━━━━━━━━━━━━━━\u001b[0m\u001b[37m\u001b[0m \u001b[1m0s\u001b[0m 30ms/step - accuracy: 0.9988 - loss: 0.0404 - val_accuracy: 0.8803 - val_loss: 0.2875\n"
          ]
        },
        {
          "output_type": "execute_result",
          "data": {
            "text/plain": [
              "<keras.src.callbacks.history.History at 0x79ec7412da90>"
            ]
          },
          "metadata": {},
          "execution_count": 28
        }
      ]
    },
    {
      "cell_type": "code",
      "source": [
        "LSTM_model.fit(X_train, y_train, validation_data = (X_test, y_test), epochs = 5, batch_size = 64)"
      ],
      "metadata": {
        "colab": {
          "base_uri": "https://localhost:8080/"
        },
        "id": "W_xsN2J_BLDP",
        "outputId": "48b049a1-1014-4e12-aaba-5df4b0f823c6"
      },
      "execution_count": null,
      "outputs": [
        {
          "output_type": "stream",
          "name": "stdout",
          "text": [
            "Epoch 1/5\n",
            "\u001b[1m5/5\u001b[0m \u001b[32m━━━━━━━━━━━━━━━━━━━━\u001b[0m\u001b[37m\u001b[0m \u001b[1m4s\u001b[0m 77ms/step - accuracy: 0.6155 - loss: 0.6877 - val_accuracy: 0.5915 - val_loss: 0.6682\n",
            "Epoch 2/5\n",
            "\u001b[1m5/5\u001b[0m \u001b[32m━━━━━━━━━━━━━━━━━━━━\u001b[0m\u001b[37m\u001b[0m \u001b[1m0s\u001b[0m 21ms/step - accuracy: 0.6048 - loss: 0.6558 - val_accuracy: 0.5915 - val_loss: 0.6312\n",
            "Epoch 3/5\n",
            "\u001b[1m5/5\u001b[0m \u001b[32m━━━━━━━━━━━━━━━━━━━━\u001b[0m\u001b[37m\u001b[0m \u001b[1m0s\u001b[0m 21ms/step - accuracy: 0.5905 - loss: 0.6146 - val_accuracy: 0.6690 - val_loss: 0.5722\n",
            "Epoch 4/5\n",
            "\u001b[1m5/5\u001b[0m \u001b[32m━━━━━━━━━━━━━━━━━━━━\u001b[0m\u001b[37m\u001b[0m \u001b[1m0s\u001b[0m 22ms/step - accuracy: 0.6834 - loss: 0.5197 - val_accuracy: 0.7887 - val_loss: 0.5155\n",
            "Epoch 5/5\n",
            "\u001b[1m5/5\u001b[0m \u001b[32m━━━━━━━━━━━━━━━━━━━━\u001b[0m\u001b[37m\u001b[0m \u001b[1m0s\u001b[0m 21ms/step - accuracy: 0.8970 - loss: 0.4525 - val_accuracy: 0.7887 - val_loss: 0.4398\n"
          ]
        },
        {
          "output_type": "execute_result",
          "data": {
            "text/plain": [
              "<keras.src.callbacks.history.History at 0x79ec508f9970>"
            ]
          },
          "metadata": {},
          "execution_count": 29
        }
      ]
    },
    {
      "cell_type": "code",
      "source": [
        "biLSTM_model.fit(X_train, y_train, validation_data = (X_test, y_test), epochs = 5, batch_size = 64)"
      ],
      "metadata": {
        "colab": {
          "base_uri": "https://localhost:8080/"
        },
        "id": "NqrPPTX3BK_1",
        "outputId": "aadb1e9a-65c9-4573-d660-a5f467566db5"
      },
      "execution_count": null,
      "outputs": [
        {
          "output_type": "stream",
          "name": "stdout",
          "text": [
            "Epoch 1/5\n",
            "\u001b[1m5/5\u001b[0m \u001b[32m━━━━━━━━━━━━━━━━━━━━\u001b[0m\u001b[37m\u001b[0m \u001b[1m2s\u001b[0m 101ms/step - accuracy: 0.6188 - loss: 0.6873 - val_accuracy: 0.5915 - val_loss: 0.6670\n",
            "Epoch 2/5\n",
            "\u001b[1m5/5\u001b[0m \u001b[32m━━━━━━━━━━━━━━━━━━━━\u001b[0m\u001b[37m\u001b[0m \u001b[1m0s\u001b[0m 27ms/step - accuracy: 0.6250 - loss: 0.6536 - val_accuracy: 0.5915 - val_loss: 0.6449\n",
            "Epoch 3/5\n",
            "\u001b[1m5/5\u001b[0m \u001b[32m━━━━━━━━━━━━━━━━━━━━\u001b[0m\u001b[37m\u001b[0m \u001b[1m0s\u001b[0m 27ms/step - accuracy: 0.5675 - loss: 0.6424 - val_accuracy: 0.6268 - val_loss: 0.6023\n",
            "Epoch 4/5\n",
            "\u001b[1m5/5\u001b[0m \u001b[32m━━━━━━━━━━━━━━━━━━━━\u001b[0m\u001b[37m\u001b[0m \u001b[1m0s\u001b[0m 27ms/step - accuracy: 0.6315 - loss: 0.5723 - val_accuracy: 0.7042 - val_loss: 0.5399\n",
            "Epoch 5/5\n",
            "\u001b[1m5/5\u001b[0m \u001b[32m━━━━━━━━━━━━━━━━━━━━\u001b[0m\u001b[37m\u001b[0m \u001b[1m0s\u001b[0m 27ms/step - accuracy: 0.7427 - loss: 0.4822 - val_accuracy: 0.8169 - val_loss: 0.4528\n"
          ]
        },
        {
          "output_type": "execute_result",
          "data": {
            "text/plain": [
              "<keras.src.callbacks.history.History at 0x79ec57527530>"
            ]
          },
          "metadata": {},
          "execution_count": 30
        }
      ]
    },
    {
      "cell_type": "code",
      "source": [],
      "metadata": {
        "id": "OOvUr3N-BK8K"
      },
      "execution_count": null,
      "outputs": []
    },
    {
      "cell_type": "code",
      "source": [],
      "metadata": {
        "id": "VvSzuP8LAcm7"
      },
      "execution_count": null,
      "outputs": []
    },
    {
      "cell_type": "markdown",
      "source": [
        "## Prediction"
      ],
      "metadata": {
        "id": "-5afwgHv9oM2"
      }
    },
    {
      "cell_type": "code",
      "source": [
        "y_pred1 = (model.predict(X_test) > 0.5).astype(\"int64\")\n",
        "y_pred1"
      ],
      "metadata": {
        "colab": {
          "base_uri": "https://localhost:8080/"
        },
        "id": "h9-rY3fwCGnn",
        "outputId": "9251c243-b29e-469e-e3da-7beba86979d7"
      },
      "execution_count": null,
      "outputs": [
        {
          "output_type": "stream",
          "name": "stdout",
          "text": [
            "\u001b[1m5/5\u001b[0m \u001b[32m━━━━━━━━━━━━━━━━━━━━\u001b[0m\u001b[37m\u001b[0m \u001b[1m1s\u001b[0m 87ms/step\n"
          ]
        },
        {
          "output_type": "execute_result",
          "data": {
            "text/plain": [
              "array([[0],\n",
              "       [0],\n",
              "       [0],\n",
              "       [1],\n",
              "       [0],\n",
              "       [0],\n",
              "       [0],\n",
              "       [0],\n",
              "       [1],\n",
              "       [0],\n",
              "       [0],\n",
              "       [0],\n",
              "       [0],\n",
              "       [1],\n",
              "       [0],\n",
              "       [1],\n",
              "       [0],\n",
              "       [0],\n",
              "       [1],\n",
              "       [1],\n",
              "       [0],\n",
              "       [0],\n",
              "       [0],\n",
              "       [1],\n",
              "       [1],\n",
              "       [1],\n",
              "       [0],\n",
              "       [1],\n",
              "       [1],\n",
              "       [0],\n",
              "       [1],\n",
              "       [1],\n",
              "       [0],\n",
              "       [0],\n",
              "       [1],\n",
              "       [0],\n",
              "       [0],\n",
              "       [1],\n",
              "       [0],\n",
              "       [0],\n",
              "       [1],\n",
              "       [0],\n",
              "       [0],\n",
              "       [1],\n",
              "       [0],\n",
              "       [0],\n",
              "       [1],\n",
              "       [0],\n",
              "       [1],\n",
              "       [0],\n",
              "       [1],\n",
              "       [0],\n",
              "       [0],\n",
              "       [1],\n",
              "       [0],\n",
              "       [0],\n",
              "       [1],\n",
              "       [0],\n",
              "       [0],\n",
              "       [1],\n",
              "       [1],\n",
              "       [0],\n",
              "       [0],\n",
              "       [1],\n",
              "       [1],\n",
              "       [0],\n",
              "       [0],\n",
              "       [1],\n",
              "       [1],\n",
              "       [0],\n",
              "       [0],\n",
              "       [1],\n",
              "       [0],\n",
              "       [1],\n",
              "       [1],\n",
              "       [0],\n",
              "       [1],\n",
              "       [1],\n",
              "       [0],\n",
              "       [0],\n",
              "       [0],\n",
              "       [0],\n",
              "       [1],\n",
              "       [0],\n",
              "       [0],\n",
              "       [1],\n",
              "       [0],\n",
              "       [0],\n",
              "       [0],\n",
              "       [0],\n",
              "       [0],\n",
              "       [0],\n",
              "       [1],\n",
              "       [1],\n",
              "       [1],\n",
              "       [0],\n",
              "       [0],\n",
              "       [0],\n",
              "       [0],\n",
              "       [1],\n",
              "       [0],\n",
              "       [1],\n",
              "       [0],\n",
              "       [1],\n",
              "       [0],\n",
              "       [0],\n",
              "       [0],\n",
              "       [0],\n",
              "       [1],\n",
              "       [1],\n",
              "       [1],\n",
              "       [0],\n",
              "       [0],\n",
              "       [0],\n",
              "       [0],\n",
              "       [0],\n",
              "       [1],\n",
              "       [0],\n",
              "       [1],\n",
              "       [0],\n",
              "       [0],\n",
              "       [0],\n",
              "       [0],\n",
              "       [0],\n",
              "       [0],\n",
              "       [0],\n",
              "       [1],\n",
              "       [0],\n",
              "       [0],\n",
              "       [1],\n",
              "       [1],\n",
              "       [1],\n",
              "       [1],\n",
              "       [1],\n",
              "       [1],\n",
              "       [0],\n",
              "       [1],\n",
              "       [1],\n",
              "       [0],\n",
              "       [1],\n",
              "       [1],\n",
              "       [1]])"
            ]
          },
          "metadata": {},
          "execution_count": 31
        }
      ]
    },
    {
      "cell_type": "code",
      "source": [
        "y_pred2 = (biRNN_model.predict(X_test) > 0.5).astype(\"int64\")\n",
        "y_pred3 = (LSTM_model.predict(X_test) > 0.5).astype(\"int64\")\n",
        "y_pred4 = (biLSTM_model.predict(X_test) > 0.5).astype(\"int64\")"
      ],
      "metadata": {
        "colab": {
          "base_uri": "https://localhost:8080/"
        },
        "id": "Fx1lYNv2CGjW",
        "outputId": "945bff5c-778b-4ae4-dd18-974cf60a5c5b"
      },
      "execution_count": null,
      "outputs": [
        {
          "output_type": "stream",
          "name": "stdout",
          "text": [
            "\u001b[1m5/5\u001b[0m \u001b[32m━━━━━━━━━━━━━━━━━━━━\u001b[0m\u001b[37m\u001b[0m \u001b[1m1s\u001b[0m 124ms/step\n"
          ]
        },
        {
          "output_type": "stream",
          "name": "stderr",
          "text": [
            "WARNING:tensorflow:5 out of the last 11 calls to <function TensorFlowTrainer.make_predict_function.<locals>.one_step_on_data_distributed at 0x79ec0d379440> triggered tf.function retracing. Tracing is expensive and the excessive number of tracings could be due to (1) creating @tf.function repeatedly in a loop, (2) passing tensors with different shapes, (3) passing Python objects instead of tensors. For (1), please define your @tf.function outside of the loop. For (2), @tf.function has reduce_retracing=True option that can avoid unnecessary retracing. For (3), please refer to https://www.tensorflow.org/guide/function#controlling_retracing and https://www.tensorflow.org/api_docs/python/tf/function for  more details.\n"
          ]
        },
        {
          "output_type": "stream",
          "name": "stdout",
          "text": [
            "\r\u001b[1m1/5\u001b[0m \u001b[32m━━━━\u001b[0m\u001b[37m━━━━━━━━━━━━━━━━\u001b[0m \u001b[1m0s\u001b[0m 93ms/step"
          ]
        },
        {
          "output_type": "stream",
          "name": "stderr",
          "text": [
            "WARNING:tensorflow:5 out of the last 11 calls to <function TensorFlowTrainer.make_predict_function.<locals>.one_step_on_data_distributed at 0x79ec0d379440> triggered tf.function retracing. Tracing is expensive and the excessive number of tracings could be due to (1) creating @tf.function repeatedly in a loop, (2) passing tensors with different shapes, (3) passing Python objects instead of tensors. For (1), please define your @tf.function outside of the loop. For (2), @tf.function has reduce_retracing=True option that can avoid unnecessary retracing. For (3), please refer to https://www.tensorflow.org/guide/function#controlling_retracing and https://www.tensorflow.org/api_docs/python/tf/function for  more details.\n"
          ]
        },
        {
          "output_type": "stream",
          "name": "stdout",
          "text": [
            "\u001b[1m5/5\u001b[0m \u001b[32m━━━━━━━━━━━━━━━━━━━━\u001b[0m\u001b[37m\u001b[0m \u001b[1m0s\u001b[0m 28ms/step\n",
            "\u001b[1m5/5\u001b[0m \u001b[32m━━━━━━━━━━━━━━━━━━━━\u001b[0m\u001b[37m\u001b[0m \u001b[1m0s\u001b[0m 49ms/step\n"
          ]
        }
      ]
    },
    {
      "cell_type": "code",
      "source": [],
      "metadata": {
        "id": "TqEo0Nm7CGg6"
      },
      "execution_count": null,
      "outputs": []
    },
    {
      "cell_type": "markdown",
      "source": [
        "# Performance metrics"
      ],
      "metadata": {
        "id": "n7L8OPSz9vsE"
      }
    },
    {
      "cell_type": "markdown",
      "source": [
        "## 1. SimpleRNN"
      ],
      "metadata": {
        "id": "BgAcJ03ta3S7"
      }
    },
    {
      "cell_type": "code",
      "source": [
        "cm = confusion_matrix(y_test, y_pred1)\n",
        "ac_sc = accuracy_score(y_test, y_pred1)\n",
        "cl_report = classification_report(y_test, y_pred1)\n",
        "\n",
        "print(\"Confusion matrix: \\n\", cm)\n",
        "print(\"\\nAccuracy score: \", ac_sc)\n",
        "print(\"\\nClassification report: \\n\", cl_report)"
      ],
      "metadata": {
        "id": "ke9SLZcv8HLp",
        "colab": {
          "base_uri": "https://localhost:8080/"
        },
        "outputId": "c9f4e118-06ed-41b5-d3cc-65a0d6c353e1"
      },
      "execution_count": null,
      "outputs": [
        {
          "output_type": "stream",
          "name": "stdout",
          "text": [
            "Confusion matrix: \n",
            " [[74 10]\n",
            " [10 48]]\n",
            "\n",
            "Accuracy score:  0.8591549295774648\n",
            "\n",
            "Classification report: \n",
            "               precision    recall  f1-score   support\n",
            "\n",
            "           0       0.88      0.88      0.88        84\n",
            "           1       0.83      0.83      0.83        58\n",
            "\n",
            "    accuracy                           0.86       142\n",
            "   macro avg       0.85      0.85      0.85       142\n",
            "weighted avg       0.86      0.86      0.86       142\n",
            "\n"
          ]
        }
      ]
    },
    {
      "cell_type": "markdown",
      "source": [
        "## 2. Bi-directional RNN"
      ],
      "metadata": {
        "id": "LPaEyycNa8yh"
      }
    },
    {
      "cell_type": "code",
      "source": [
        "cm = confusion_matrix(y_test, y_pred2)\n",
        "ac_sc = accuracy_score(y_test, y_pred2)\n",
        "cl_report = classification_report(y_test, y_pred2)\n",
        "\n",
        "print(\"Confusion matrix: \\n\", cm)\n",
        "print(\"\\nAccuracy score: \", ac_sc)\n",
        "print(\"\\nClassification report: \\n\", cl_report)"
      ],
      "metadata": {
        "id": "1cWQWkKF8HOw",
        "colab": {
          "base_uri": "https://localhost:8080/"
        },
        "outputId": "ed2783ed-777b-4405-81c8-de1ce7e11644"
      },
      "execution_count": null,
      "outputs": [
        {
          "output_type": "stream",
          "name": "stdout",
          "text": [
            "Confusion matrix: \n",
            " [[77  7]\n",
            " [10 48]]\n",
            "\n",
            "Accuracy score:  0.8802816901408451\n",
            "\n",
            "Classification report: \n",
            "               precision    recall  f1-score   support\n",
            "\n",
            "           0       0.89      0.92      0.90        84\n",
            "           1       0.87      0.83      0.85        58\n",
            "\n",
            "    accuracy                           0.88       142\n",
            "   macro avg       0.88      0.87      0.88       142\n",
            "weighted avg       0.88      0.88      0.88       142\n",
            "\n"
          ]
        }
      ]
    },
    {
      "cell_type": "markdown",
      "source": [
        "## 3. LSTM"
      ],
      "metadata": {
        "id": "EKRTsBfgbCT6"
      }
    },
    {
      "cell_type": "code",
      "source": [
        "cm = confusion_matrix(y_test, y_pred3)\n",
        "ac_sc = accuracy_score(y_test, y_pred3)\n",
        "cl_report = classification_report(y_test, y_pred3)\n",
        "\n",
        "print(\"Confusion matrix: \\n\", cm)\n",
        "print(\"\\nAccuracy score: \", ac_sc)\n",
        "print(\"\\nClassification report: \\n\", cl_report)"
      ],
      "metadata": {
        "id": "zlz1ajO58HRz",
        "colab": {
          "base_uri": "https://localhost:8080/"
        },
        "outputId": "dc0cf032-de68-454e-d882-4c34779a38c7"
      },
      "execution_count": null,
      "outputs": [
        {
          "output_type": "stream",
          "name": "stdout",
          "text": [
            "Confusion matrix: \n",
            " [[81  3]\n",
            " [27 31]]\n",
            "\n",
            "Accuracy score:  0.7887323943661971\n",
            "\n",
            "Classification report: \n",
            "               precision    recall  f1-score   support\n",
            "\n",
            "           0       0.75      0.96      0.84        84\n",
            "           1       0.91      0.53      0.67        58\n",
            "\n",
            "    accuracy                           0.79       142\n",
            "   macro avg       0.83      0.75      0.76       142\n",
            "weighted avg       0.82      0.79      0.77       142\n",
            "\n"
          ]
        }
      ]
    },
    {
      "cell_type": "markdown",
      "source": [
        "## 4. Bi-LSTM"
      ],
      "metadata": {
        "id": "8ihMXoCzbEqO"
      }
    },
    {
      "cell_type": "code",
      "source": [
        "cm = confusion_matrix(y_test, y_pred4)\n",
        "ac_sc = accuracy_score(y_test, y_pred4)\n",
        "cl_report = classification_report(y_test, y_pred4)\n",
        "\n",
        "print(\"Confusion matrix: \\n\", cm)\n",
        "print(\"\\nAccuracy score: \", ac_sc)\n",
        "print(\"\\nClassification report: \\n\", cl_report)"
      ],
      "metadata": {
        "id": "1JvVHwjO8HU1",
        "colab": {
          "base_uri": "https://localhost:8080/"
        },
        "outputId": "4f6c49f6-f52a-4101-e802-2c253060ce5d"
      },
      "execution_count": null,
      "outputs": [
        {
          "output_type": "stream",
          "name": "stdout",
          "text": [
            "Confusion matrix: \n",
            " [[68 16]\n",
            " [10 48]]\n",
            "\n",
            "Accuracy score:  0.8169014084507042\n",
            "\n",
            "Classification report: \n",
            "               precision    recall  f1-score   support\n",
            "\n",
            "           0       0.87      0.81      0.84        84\n",
            "           1       0.75      0.83      0.79        58\n",
            "\n",
            "    accuracy                           0.82       142\n",
            "   macro avg       0.81      0.82      0.81       142\n",
            "weighted avg       0.82      0.82      0.82       142\n",
            "\n"
          ]
        }
      ]
    },
    {
      "cell_type": "code",
      "source": [],
      "metadata": {
        "id": "dAxALwIn8HXy"
      },
      "execution_count": null,
      "outputs": []
    },
    {
      "cell_type": "markdown",
      "source": [
        "# Results:\n",
        "\n",
        "1. RNN\n",
        "```\n",
        "[[57 27]\n",
        " [ 2 56]]\n",
        "```\n",
        "\n",
        "2. BiRNN\n",
        "```\n",
        " [[78  6]\n",
        " [ 9 49]]\n",
        "```\n",
        "\n",
        "3. LSTM\n",
        "```\n",
        "[[63 21]\n",
        " [ 7 51]]\n",
        "```\n",
        "\n",
        "4. BiLSTM\n",
        "```\n",
        " [[81  3]\n",
        " [24 34]]\n",
        "```\n"
      ],
      "metadata": {
        "id": "hXwpNqLfbO1p"
      }
    },
    {
      "cell_type": "code",
      "source": [],
      "metadata": {
        "id": "FCTQ4Kt-bzXQ"
      },
      "execution_count": null,
      "outputs": []
    },
    {
      "cell_type": "markdown",
      "source": [
        "# Analysis:\n"
      ],
      "metadata": {
        "id": "5teXDPPIbv3N"
      }
    },
    {
      "cell_type": "code",
      "source": [],
      "metadata": {
        "id": "2hjztM_58Hav"
      },
      "execution_count": null,
      "outputs": []
    },
    {
      "cell_type": "code",
      "source": [],
      "metadata": {
        "id": "38WCJytg8Hpk"
      },
      "execution_count": null,
      "outputs": []
    }
  ]
}
{
  "nbformat": 4,
  "nbformat_minor": 0,
  "metadata": {
    "colab": {
      "provenance": []
    },
    "kernelspec": {
      "name": "python3",
      "display_name": "Python 3"
    },
    "language_info": {
      "name": "python"
    }
  },
  "cells": [
    {
      "cell_type": "markdown",
      "source": [
        "# Word Count"
      ],
      "metadata": {
        "id": "M81PlfcPE1VM"
      }
    },
    {
      "cell_type": "code",
      "execution_count": null,
      "metadata": {
        "id": "u7cPrZ5iCfkr"
      },
      "outputs": [],
      "source": [
        "sample_txt = \"My name is Monika Gadewar . I am a Data Scientist now . I am going to work in literally cutting edge technologies . I will soon start to work on my dream projects . Nobody can stop me from doing this . I will make a safe , developed and sustainable society .\""
      ]
    },
    {
      "cell_type": "code",
      "source": [
        "len(sample_txt)"
      ],
      "metadata": {
        "id": "2T5BT_jpAyop",
        "colab": {
          "base_uri": "https://localhost:8080/"
        },
        "outputId": "dbda5875-6513-484a-a85e-5fb56b3d2e09"
      },
      "execution_count": null,
      "outputs": [
        {
          "output_type": "execute_result",
          "data": {
            "text/plain": [
              "258"
            ]
          },
          "metadata": {},
          "execution_count": 3
        }
      ]
    },
    {
      "cell_type": "code",
      "source": [],
      "metadata": {
        "id": "Y_rYOOwFAyrm"
      },
      "execution_count": null,
      "outputs": []
    },
    {
      "cell_type": "markdown",
      "source": [
        "## Tokenization"
      ],
      "metadata": {
        "id": "tBVFqWRpFXIQ"
      }
    },
    {
      "cell_type": "code",
      "source": [
        "words = sample_txt.split()\n",
        "words"
      ],
      "metadata": {
        "id": "_c4L_ZODAyuV",
        "colab": {
          "base_uri": "https://localhost:8080/"
        },
        "outputId": "0d6351f7-35c0-4218-cca0-140e6f51454c"
      },
      "execution_count": null,
      "outputs": [
        {
          "output_type": "execute_result",
          "data": {
            "text/plain": [
              "['My',\n",
              " 'name',\n",
              " 'is',\n",
              " 'Monika',\n",
              " 'Gadewar',\n",
              " '.',\n",
              " 'I',\n",
              " 'am',\n",
              " 'a',\n",
              " 'Data',\n",
              " 'Scientist',\n",
              " 'now',\n",
              " '.',\n",
              " 'I',\n",
              " 'am',\n",
              " 'going',\n",
              " 'to',\n",
              " 'work',\n",
              " 'in',\n",
              " 'literally',\n",
              " 'cutting',\n",
              " 'edge',\n",
              " 'technologies',\n",
              " '.',\n",
              " 'I',\n",
              " 'will',\n",
              " 'soon',\n",
              " 'start',\n",
              " 'to',\n",
              " 'work',\n",
              " 'on',\n",
              " 'my',\n",
              " 'dream',\n",
              " 'projects',\n",
              " '.',\n",
              " 'Nobody',\n",
              " 'can',\n",
              " 'stop',\n",
              " 'me',\n",
              " 'from',\n",
              " 'doing',\n",
              " 'this',\n",
              " '.',\n",
              " 'I',\n",
              " 'will',\n",
              " 'make',\n",
              " 'a',\n",
              " 'safe',\n",
              " ',',\n",
              " 'developed',\n",
              " 'and',\n",
              " 'sustainable',\n",
              " 'society',\n",
              " '.']"
            ]
          },
          "metadata": {},
          "execution_count": 5
        }
      ]
    },
    {
      "cell_type": "code",
      "source": [],
      "metadata": {
        "id": "fO_F6MOhAyxf"
      },
      "execution_count": null,
      "outputs": []
    },
    {
      "cell_type": "code",
      "source": [
        "unique_words = set(words)\n",
        "unique_words"
      ],
      "metadata": {
        "id": "XVHJmRDmAy0N",
        "colab": {
          "base_uri": "https://localhost:8080/"
        },
        "outputId": "5e535fc3-d94b-4df1-dcc0-ffe4ea9ea32c"
      },
      "execution_count": null,
      "outputs": [
        {
          "output_type": "execute_result",
          "data": {
            "text/plain": [
              "{',',\n",
              " '.',\n",
              " 'Data',\n",
              " 'Gadewar',\n",
              " 'I',\n",
              " 'Monika',\n",
              " 'My',\n",
              " 'Nobody',\n",
              " 'Scientist',\n",
              " 'a',\n",
              " 'am',\n",
              " 'and',\n",
              " 'can',\n",
              " 'cutting',\n",
              " 'developed',\n",
              " 'doing',\n",
              " 'dream',\n",
              " 'edge',\n",
              " 'from',\n",
              " 'going',\n",
              " 'in',\n",
              " 'is',\n",
              " 'literally',\n",
              " 'make',\n",
              " 'me',\n",
              " 'my',\n",
              " 'name',\n",
              " 'now',\n",
              " 'on',\n",
              " 'projects',\n",
              " 'safe',\n",
              " 'society',\n",
              " 'soon',\n",
              " 'start',\n",
              " 'stop',\n",
              " 'sustainable',\n",
              " 'technologies',\n",
              " 'this',\n",
              " 'to',\n",
              " 'will',\n",
              " 'work'}"
            ]
          },
          "metadata": {},
          "execution_count": 6
        }
      ]
    },
    {
      "cell_type": "code",
      "source": [],
      "metadata": {
        "id": "1Hc1DvMwAy3G"
      },
      "execution_count": null,
      "outputs": []
    },
    {
      "cell_type": "markdown",
      "source": [
        "## Counting words"
      ],
      "metadata": {
        "id": "P4HfrzAjHTF8"
      }
    },
    {
      "cell_type": "code",
      "source": [
        "print(\"Original words: \", len(words))\n",
        "print(\"unique words: \", len(unique_words))"
      ],
      "metadata": {
        "id": "udPJSOnxAy5w",
        "colab": {
          "base_uri": "https://localhost:8080/"
        },
        "outputId": "597d5302-9fc9-40ed-8fe0-245ac274c4fc"
      },
      "execution_count": null,
      "outputs": [
        {
          "output_type": "stream",
          "name": "stdout",
          "text": [
            "Original words:  54\n",
            "unique words:  41\n"
          ]
        }
      ]
    },
    {
      "cell_type": "code",
      "source": [],
      "metadata": {
        "id": "UeXVDC8bAy8x"
      },
      "execution_count": null,
      "outputs": []
    },
    {
      "cell_type": "code",
      "source": [],
      "metadata": {
        "id": "AhyOTtAZAzCm"
      },
      "execution_count": null,
      "outputs": []
    },
    {
      "cell_type": "code",
      "source": [],
      "metadata": {
        "id": "P7NL5ItXAzFR"
      },
      "execution_count": null,
      "outputs": []
    },
    {
      "cell_type": "code",
      "source": [],
      "metadata": {
        "id": "WGXza4cYAzH9"
      },
      "execution_count": null,
      "outputs": []
    },
    {
      "cell_type": "code",
      "source": [],
      "metadata": {
        "id": "J20nmiR5AzK3"
      },
      "execution_count": null,
      "outputs": []
    },
    {
      "cell_type": "code",
      "source": [],
      "metadata": {
        "id": "JEMVQtrWAzN_"
      },
      "execution_count": null,
      "outputs": []
    },
    {
      "cell_type": "code",
      "source": [],
      "metadata": {
        "id": "Fh4Uxfb1AzRl"
      },
      "execution_count": null,
      "outputs": []
    }
  ]
}
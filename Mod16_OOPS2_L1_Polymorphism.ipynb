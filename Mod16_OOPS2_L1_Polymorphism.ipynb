{
  "nbformat": 4,
  "nbformat_minor": 0,
  "metadata": {
    "colab": {
      "provenance": []
    },
    "kernelspec": {
      "name": "python3",
      "display_name": "Python 3"
    },
    "language_info": {
      "name": "python"
    }
  },
  "cells": [
    {
      "cell_type": "markdown",
      "source": [
        "# Polymorphism\n",
        "\n",
        "Polymorphism allows entities like functions, methods or operators to behave differently based on the type of data they are handling."
      ],
      "metadata": {
        "id": "OD9CRZRssZO2"
      }
    },
    {
      "cell_type": "markdown",
      "source": [
        "There are 4 main principles in OOPS concept:\n",
        "\n",
        "1.) Polymorphism\n",
        "2.) Encapsulation\n",
        "3.) Inheritance\n",
        "4.) Abstraction"
      ],
      "metadata": {
        "id": "2YxGrzu9sLox"
      }
    },
    {
      "cell_type": "code",
      "execution_count": null,
      "metadata": {
        "id": "hmQAWMKpsAxV"
      },
      "outputs": [],
      "source": [
        "def add( x, y):\n",
        "  return x+y"
      ]
    },
    {
      "cell_type": "code",
      "source": [
        "add(10, 20)"
      ],
      "metadata": {
        "colab": {
          "base_uri": "https://localhost:8080/"
        },
        "id": "2GDZD-RPsJ9W",
        "outputId": "30f17718-8eaf-4eb2-a2c6-47b918d9fd8a"
      },
      "execution_count": null,
      "outputs": [
        {
          "output_type": "execute_result",
          "data": {
            "text/plain": [
              "30"
            ]
          },
          "metadata": {},
          "execution_count": 2
        }
      ]
    },
    {
      "cell_type": "code",
      "source": [
        "add(\"Monika \", \"Gadewar\")"
      ],
      "metadata": {
        "colab": {
          "base_uri": "https://localhost:8080/",
          "height": 36
        },
        "id": "dI-4heocsKAG",
        "outputId": "2bf3e5b6-b2ad-4eb2-f207-8a2d4b75d3e2"
      },
      "execution_count": null,
      "outputs": [
        {
          "output_type": "execute_result",
          "data": {
            "text/plain": [
              "'Monika Gadewar'"
            ],
            "application/vnd.google.colaboratory.intrinsic+json": {
              "type": "string"
            }
          },
          "metadata": {},
          "execution_count": 3
        }
      ]
    },
    {
      "cell_type": "markdown",
      "source": [
        "Here, the same function add() behaves differently for different Inputs.\n",
        "\n",
        "When int, its returning summation of 2 numbers whereas when string, its returning as concatinated string."
      ],
      "metadata": {
        "id": "sR2eCsjYs8b_"
      }
    },
    {
      "cell_type": "code",
      "source": [],
      "metadata": {
        "id": "WgKl5Y_HsKDF"
      },
      "execution_count": null,
      "outputs": []
    },
    {
      "cell_type": "code",
      "source": [
        "class data_science():\n",
        "\n",
        "  def syllabus(self):\n",
        "    print(\"Data Science: ML, DL, NLP, CV, Python\")"
      ],
      "metadata": {
        "id": "lvyr7fBFsKF0"
      },
      "execution_count": null,
      "outputs": []
    },
    {
      "cell_type": "code",
      "source": [
        "class web_dev():\n",
        "\n",
        "  def syllabus(self):\n",
        "    print(\"Web Develpment: Javascript, React\")"
      ],
      "metadata": {
        "id": "Dhq_USvnsKIm"
      },
      "execution_count": null,
      "outputs": []
    },
    {
      "cell_type": "code",
      "source": [
        "def class_parcer(class_obj_list):\n",
        "\n",
        "  for i in class_obj_list:\n",
        "    i.syllabus()"
      ],
      "metadata": {
        "id": "eWaYkZW8sKLW"
      },
      "execution_count": null,
      "outputs": []
    },
    {
      "cell_type": "code",
      "source": [
        "# Creating objects for the 2 defined classes\n",
        "\n",
        "data_sc = data_science()\n",
        "web_dv = web_dev()"
      ],
      "metadata": {
        "id": "hNSl82z6sKON"
      },
      "execution_count": null,
      "outputs": []
    },
    {
      "cell_type": "code",
      "source": [
        "class_obj_list = [data_sc, web_dv]"
      ],
      "metadata": {
        "id": "7aMciryKsKQ5"
      },
      "execution_count": null,
      "outputs": []
    },
    {
      "cell_type": "code",
      "source": [
        "class_parcer(class_obj_list)"
      ],
      "metadata": {
        "colab": {
          "base_uri": "https://localhost:8080/"
        },
        "id": "3km3SeVtsKTu",
        "outputId": "3c39b625-d451-42af-dab7-008b2892b8c4"
      },
      "execution_count": null,
      "outputs": [
        {
          "output_type": "stream",
          "name": "stdout",
          "text": [
            "Data Science: ML, DL, NLP, CV, Python\n",
            "Web Develpment: Javascript, React\n"
          ]
        }
      ]
    },
    {
      "cell_type": "markdown",
      "source": [
        "**Note:** Here, class_parser() is showing Polymorphism as it is behaving differently w.r.t different Inputs(context)."
      ],
      "metadata": {
        "id": "mz0YL1PLvY_w"
      }
    },
    {
      "cell_type": "code",
      "source": [],
      "metadata": {
        "id": "ugT8GaVSsKs9"
      },
      "execution_count": null,
      "outputs": []
    },
    {
      "cell_type": "code",
      "source": [],
      "metadata": {
        "id": "Qzym5hSVsKwd"
      },
      "execution_count": null,
      "outputs": []
    }
  ]
}
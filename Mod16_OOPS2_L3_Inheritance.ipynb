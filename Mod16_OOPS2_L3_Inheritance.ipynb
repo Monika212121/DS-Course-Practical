{
  "nbformat": 4,
  "nbformat_minor": 0,
  "metadata": {
    "colab": {
      "provenance": []
    },
    "kernelspec": {
      "name": "python3",
      "display_name": "Python 3"
    },
    "language_info": {
      "name": "python"
    }
  },
  "cells": [
    {
      "cell_type": "markdown",
      "source": [
        "# Inheritance\n",
        "\n",
        "Inheritance allows a class (called a child or derived class) to inherit attributes and methods from another class (called a parent or base class).\n",
        "\n",
        "This promotes code reuse, modularity, and a hierarchical class structure."
      ],
      "metadata": {
        "id": "EUgbVCQUk8N6"
      }
    },
    {
      "cell_type": "code",
      "execution_count": null,
      "metadata": {
        "id": "GqK-TL_JkkBu"
      },
      "outputs": [],
      "source": [
        "class test :\n",
        "\n",
        "  def test_meth(self):\n",
        "    return \"This is my parent class\"\n"
      ]
    },
    {
      "cell_type": "code",
      "source": [
        "class child_test(test) :        # Mentioning parent class\n",
        "    pass"
      ],
      "metadata": {
        "id": "vV35TN_lkotG"
      },
      "execution_count": null,
      "outputs": []
    },
    {
      "cell_type": "code",
      "source": [
        "child_test_obj = child_test()"
      ],
      "metadata": {
        "id": "H-ZJg4jvkov1"
      },
      "execution_count": null,
      "outputs": []
    },
    {
      "cell_type": "code",
      "source": [
        "child_test_obj.test_meth()"
      ],
      "metadata": {
        "colab": {
          "base_uri": "https://localhost:8080/",
          "height": 36
        },
        "id": "yUE7G1o8koyY",
        "outputId": "3934cfce-029e-4994-b737-d19991a74f22"
      },
      "execution_count": null,
      "outputs": [
        {
          "output_type": "execute_result",
          "data": {
            "text/plain": [
              "'This is my parent class'"
            ],
            "application/vnd.google.colaboratory.intrinsic+json": {
              "type": "string"
            }
          },
          "metadata": {},
          "execution_count": 10
        }
      ]
    },
    {
      "cell_type": "markdown",
      "source": [
        "**NOTE:** Here, my child objet can access parent class's function."
      ],
      "metadata": {
        "id": "f_fy9aUEurmc"
      }
    },
    {
      "cell_type": "markdown",
      "source": [
        "# Types of Inheritance:\n",
        "\n",
        "1.) Multilevel Inheritance\n",
        "\n",
        "2.) Multiple Inheritance"
      ],
      "metadata": {
        "id": "O8LuklAHwXJO"
      }
    },
    {
      "cell_type": "markdown",
      "source": [
        "# 1.) Multilevel Inheritance\n",
        "\n",
        "Inheriting from a parent and granparent class."
      ],
      "metadata": {
        "id": "xv1GBMFkygj2"
      }
    },
    {
      "cell_type": "code",
      "source": [
        "class class1 :\n",
        "\n",
        "  def test_class1(self):\n",
        "    return \"this is class1 function\"\n"
      ],
      "metadata": {
        "id": "WTnPalLRko1E"
      },
      "execution_count": null,
      "outputs": []
    },
    {
      "cell_type": "code",
      "source": [
        "class class2(class1):\n",
        "\n",
        "  def test_class2(self):\n",
        "    return \"this is class2 function\"\n"
      ],
      "metadata": {
        "id": "4xyZqa58ko3j"
      },
      "execution_count": null,
      "outputs": []
    },
    {
      "cell_type": "code",
      "source": [
        "class class3(class2):\n",
        "    pass\n"
      ],
      "metadata": {
        "id": "xz7QH4C8ko6G"
      },
      "execution_count": null,
      "outputs": []
    },
    {
      "cell_type": "code",
      "source": [
        "obj_class3 = class3()"
      ],
      "metadata": {
        "id": "dT3y64Yeko9A"
      },
      "execution_count": null,
      "outputs": []
    },
    {
      "cell_type": "code",
      "source": [
        "obj_class3.test_class1()"
      ],
      "metadata": {
        "colab": {
          "base_uri": "https://localhost:8080/",
          "height": 36
        },
        "id": "KYq0l9cEko_P",
        "outputId": "99ec2db7-c2b5-44cf-edf0-d308fbbde10d"
      },
      "execution_count": null,
      "outputs": [
        {
          "output_type": "execute_result",
          "data": {
            "text/plain": [
              "'this is class1 function'"
            ],
            "application/vnd.google.colaboratory.intrinsic+json": {
              "type": "string"
            }
          },
          "metadata": {},
          "execution_count": 16
        }
      ]
    },
    {
      "cell_type": "code",
      "source": [
        "obj_class3.test_class2()"
      ],
      "metadata": {
        "colab": {
          "base_uri": "https://localhost:8080/",
          "height": 36
        },
        "id": "Nsi4Ndc4kpBt",
        "outputId": "e0e535c1-20f7-4d94-fa63-d98cfc3226d0"
      },
      "execution_count": null,
      "outputs": [
        {
          "output_type": "execute_result",
          "data": {
            "text/plain": [
              "'this is class2 function'"
            ],
            "application/vnd.google.colaboratory.intrinsic+json": {
              "type": "string"
            }
          },
          "metadata": {},
          "execution_count": 17
        }
      ]
    },
    {
      "cell_type": "markdown",
      "source": [
        "Here, for a class3 object, I can access function of class1 and class2 both.\n",
        "\n",
        "class1 -> class2 -> class3\n",
        "\n",
        "Here, *class2* inherited from class1 (including its function) and *class3* inherited from class2."
      ],
      "metadata": {
        "id": "Mt_cR-r1xQo-"
      }
    },
    {
      "cell_type": "code",
      "source": [],
      "metadata": {
        "id": "hnIqtAZFkpEN"
      },
      "execution_count": null,
      "outputs": []
    },
    {
      "cell_type": "markdown",
      "source": [
        "# 2.) Mutliple Inheritance\n",
        "\n",
        "Inheriting from 2 different parent classes."
      ],
      "metadata": {
        "id": "T2FRB-VJyk7_"
      }
    },
    {
      "cell_type": "code",
      "source": [
        "class class1 :\n",
        "\n",
        "  def test_method1(self):\n",
        "    return \"this is class1\"\n"
      ],
      "metadata": {
        "id": "5TYdh8zEkpHC"
      },
      "execution_count": null,
      "outputs": []
    },
    {
      "cell_type": "code",
      "source": [
        "class class2 :\n",
        "\n",
        "  def test_method2(self):\n",
        "    return \"this is class2\"\n"
      ],
      "metadata": {
        "id": "OrL9_xLEkpKf"
      },
      "execution_count": null,
      "outputs": []
    },
    {
      "cell_type": "code",
      "source": [
        "class class3(class1, class2):     # Mentioning both the parent class here\n",
        "    pass\n"
      ],
      "metadata": {
        "id": "Jot9tJnEBI_1"
      },
      "execution_count": null,
      "outputs": []
    },
    {
      "cell_type": "code",
      "source": [
        "obj_class3 = class3()"
      ],
      "metadata": {
        "id": "v9V8Nou-BOgV"
      },
      "execution_count": null,
      "outputs": []
    },
    {
      "cell_type": "code",
      "source": [
        "obj_class3.test_method1()"
      ],
      "metadata": {
        "colab": {
          "base_uri": "https://localhost:8080/",
          "height": 36
        },
        "id": "zVNyunx6BSa7",
        "outputId": "32cb9d1f-e2e3-41f2-c389-e9a922cc0d9d"
      },
      "execution_count": null,
      "outputs": [
        {
          "output_type": "execute_result",
          "data": {
            "text/plain": [
              "'this is class1'"
            ],
            "application/vnd.google.colaboratory.intrinsic+json": {
              "type": "string"
            }
          },
          "metadata": {},
          "execution_count": 6
        }
      ]
    },
    {
      "cell_type": "code",
      "source": [
        "obj_class3.test_method2()"
      ],
      "metadata": {
        "colab": {
          "base_uri": "https://localhost:8080/",
          "height": 36
        },
        "id": "7SSyJKFwBVZM",
        "outputId": "993fe230-438d-4b03-88a9-25acd433098c"
      },
      "execution_count": null,
      "outputs": [
        {
          "output_type": "execute_result",
          "data": {
            "text/plain": [
              "'this is class2'"
            ],
            "application/vnd.google.colaboratory.intrinsic+json": {
              "type": "string"
            }
          },
          "metadata": {},
          "execution_count": 7
        }
      ]
    },
    {
      "cell_type": "markdown",
      "source": [
        "Here, we can see that object of class3 inherited from 2 different parent classes, class1 and class2 and we can access both class's functions."
      ],
      "metadata": {
        "id": "eUs56qaWBjvm"
      }
    },
    {
      "cell_type": "code",
      "source": [],
      "metadata": {
        "id": "WkZsSd2WBYyE"
      },
      "execution_count": null,
      "outputs": []
    },
    {
      "cell_type": "code",
      "source": [],
      "metadata": {
        "id": "deoMCzO7B6MM"
      },
      "execution_count": null,
      "outputs": []
    }
  ]
}
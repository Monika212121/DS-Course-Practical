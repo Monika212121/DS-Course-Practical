{
  "nbformat": 4,
  "nbformat_minor": 0,
  "metadata": {
    "colab": {
      "provenance": []
    },
    "kernelspec": {
      "name": "python3",
      "display_name": "Python 3"
    },
    "language_info": {
      "name": "python"
    }
  },
  "cells": [
    {
      "cell_type": "markdown",
      "source": [
        "# Encapsulation\n",
        "\n",
        "In Python, encapsulation refers to the bundling of data (attributes) and methods (functions) that operate on the data into a single unit, typically a class.\n",
        "\n",
        "It also restricts direct access to some components, which helps protect the integrity of the data and ensures proper usage."
      ],
      "metadata": {
        "id": "UjHTxTkmxUSN"
      }
    },
    {
      "cell_type": "code",
      "execution_count": null,
      "metadata": {
        "id": "5USzxEu7xNS9"
      },
      "outputs": [],
      "source": [
        "class test:\n",
        "\n",
        "  def __init__(self, a, b):\n",
        "    self.a = a\n",
        "    self.b = b\n"
      ]
    },
    {
      "cell_type": "code",
      "source": [
        "t = test(10, 20)"
      ],
      "metadata": {
        "id": "Xk4kPkARxS1_"
      },
      "execution_count": null,
      "outputs": []
    },
    {
      "cell_type": "markdown",
      "source": [
        "If we write \"t.\", then we get options as a and b variables and hence they are accessible to the users.\n",
        "\n",
        "But if we want to make varaibles of a class private and not be accesible to any person. Then we use Encapsulation."
      ],
      "metadata": {
        "id": "lEYJuVKfUS_b"
      }
    },
    {
      "cell_type": "code",
      "source": [
        "t.a = 100000"
      ],
      "metadata": {
        "id": "00G5oKjuxS5x"
      },
      "execution_count": null,
      "outputs": []
    },
    {
      "cell_type": "code",
      "source": [
        "t.a"
      ],
      "metadata": {
        "id": "W7CUt2AkxS88",
        "colab": {
          "base_uri": "https://localhost:8080/"
        },
        "outputId": "3aaa72fe-b54f-463e-f738-43962fdfc87d"
      },
      "execution_count": null,
      "outputs": [
        {
          "output_type": "execute_result",
          "data": {
            "text/plain": [
              "100000"
            ]
          },
          "metadata": {},
          "execution_count": 6
        }
      ]
    },
    {
      "cell_type": "markdown",
      "source": [
        "Here, the value of \"a\" is overridden by the assigned value. If we want to avoid this."
      ],
      "metadata": {
        "id": "W7XVR5A3U5Co"
      }
    },
    {
      "cell_type": "code",
      "source": [],
      "metadata": {
        "id": "jQQZCiJRVL_Q"
      },
      "execution_count": null,
      "outputs": []
    },
    {
      "cell_type": "markdown",
      "source": [
        "# How to use Encapsulation"
      ],
      "metadata": {
        "id": "Kdt902c_UtUL"
      }
    },
    {
      "cell_type": "code",
      "source": [
        "class car :\n",
        "\n",
        "  def __init__(self, year, make, model, speed):\n",
        "    self.__year = year      # Private variable [Using '__' before varaible name]\n",
        "    self.__make = make\n",
        "    self.__model = model\n",
        "    self.__speed = speed\n"
      ],
      "metadata": {
        "id": "gAczzNwaxS_c"
      },
      "execution_count": null,
      "outputs": []
    },
    {
      "cell_type": "code",
      "source": [
        "c1 = car(2021, \"Toyota\", \"Innova\", 12)"
      ],
      "metadata": {
        "id": "WC5oRZHUxTCI"
      },
      "execution_count": null,
      "outputs": []
    },
    {
      "cell_type": "code",
      "source": [
        "c1."
      ],
      "metadata": {
        "id": "9dEpekf_xTE2"
      },
      "execution_count": null,
      "outputs": []
    },
    {
      "cell_type": "markdown",
      "source": [
        "**NOTE:** Here, nothing is coming as options."
      ],
      "metadata": {
        "id": "ZWcFMWatV0nG"
      }
    },
    {
      "cell_type": "markdown",
      "source": [
        "Here, all variables year, make, model, speed have become Private variables of the class."
      ],
      "metadata": {
        "id": "FcsGfMLbWE9a"
      }
    },
    {
      "cell_type": "code",
      "source": [
        "c1.year"
      ],
      "metadata": {
        "id": "VrqH24BMxTHr",
        "colab": {
          "base_uri": "https://localhost:8080/",
          "height": 141
        },
        "outputId": "9be80413-85fd-416c-ab19-18dcff4aea04"
      },
      "execution_count": null,
      "outputs": [
        {
          "output_type": "error",
          "ename": "AttributeError",
          "evalue": "'car' object has no attribute 'year'",
          "traceback": [
            "\u001b[0;31m---------------------------------------------------------------------------\u001b[0m",
            "\u001b[0;31mAttributeError\u001b[0m                            Traceback (most recent call last)",
            "\u001b[0;32m<ipython-input-9-021c45c0efb6>\u001b[0m in \u001b[0;36m<cell line: 0>\u001b[0;34m()\u001b[0m\n\u001b[0;32m----> 1\u001b[0;31m \u001b[0mc1\u001b[0m\u001b[0;34m.\u001b[0m\u001b[0myear\u001b[0m\u001b[0;34m\u001b[0m\u001b[0;34m\u001b[0m\u001b[0m\n\u001b[0m",
            "\u001b[0;31mAttributeError\u001b[0m: 'car' object has no attribute 'year'"
          ]
        }
      ]
    },
    {
      "cell_type": "code",
      "source": [
        "c1.__year"
      ],
      "metadata": {
        "id": "Tcq5ZTyqxTKN",
        "colab": {
          "base_uri": "https://localhost:8080/",
          "height": 141
        },
        "outputId": "e636171a-a5ea-4abc-e026-bc2d92e373b1"
      },
      "execution_count": null,
      "outputs": [
        {
          "output_type": "error",
          "ename": "AttributeError",
          "evalue": "'car' object has no attribute '__year'",
          "traceback": [
            "\u001b[0;31m---------------------------------------------------------------------------\u001b[0m",
            "\u001b[0;31mAttributeError\u001b[0m                            Traceback (most recent call last)",
            "\u001b[0;32m<ipython-input-10-a161f83debdb>\u001b[0m in \u001b[0;36m<cell line: 0>\u001b[0;34m()\u001b[0m\n\u001b[0;32m----> 1\u001b[0;31m \u001b[0mc1\u001b[0m\u001b[0;34m.\u001b[0m\u001b[0m__year\u001b[0m\u001b[0;34m\u001b[0m\u001b[0;34m\u001b[0m\u001b[0m\n\u001b[0m",
            "\u001b[0;31mAttributeError\u001b[0m: 'car' object has no attribute '__year'"
          ]
        }
      ]
    },
    {
      "cell_type": "markdown",
      "source": [
        "# How to access a Private variable of a class"
      ],
      "metadata": {
        "id": "DZPcXJFdWECA"
      }
    },
    {
      "cell_type": "code",
      "source": [
        "c1._car__year"
      ],
      "metadata": {
        "id": "D268U6PSxTM1",
        "colab": {
          "base_uri": "https://localhost:8080/"
        },
        "outputId": "187f91b4-9c0f-4bfd-fbcf-056af7bb0d88"
      },
      "execution_count": null,
      "outputs": [
        {
          "output_type": "execute_result",
          "data": {
            "text/plain": [
              "2021"
            ]
          },
          "metadata": {},
          "execution_count": 11
        }
      ]
    },
    {
      "cell_type": "code",
      "source": [
        "c1._car__speed"
      ],
      "metadata": {
        "id": "1Vos8ppXxTPq",
        "colab": {
          "base_uri": "https://localhost:8080/"
        },
        "outputId": "39bd3347-1373-4d22-dfac-9da80a74f1ae"
      },
      "execution_count": null,
      "outputs": [
        {
          "output_type": "execute_result",
          "data": {
            "text/plain": [
              "12"
            ]
          },
          "metadata": {},
          "execution_count": 14
        }
      ]
    },
    {
      "cell_type": "code",
      "source": [],
      "metadata": {
        "id": "Wg95pwiRxTST"
      },
      "execution_count": null,
      "outputs": []
    },
    {
      "cell_type": "markdown",
      "source": [
        "# Exposing methods for users to access/edit a Private variable"
      ],
      "metadata": {
        "id": "5PYWw0wTWxyB"
      }
    },
    {
      "cell_type": "code",
      "source": [
        "class car :\n",
        "\n",
        "  def __init__(self, year, make, model, speed):\n",
        "    self.__year = year\n",
        "    self.__make = make\n",
        "    self.__model = model\n",
        "    self.__speed = speed\n",
        "\n",
        "  def set_speed(self, speed):\n",
        "    self.__speed = 0 if speed < 0 else speed\n",
        "\n",
        "  def get_speed(self):\n",
        "    return self.__speed\n"
      ],
      "metadata": {
        "id": "_RKSGQ69xTU7"
      },
      "execution_count": null,
      "outputs": []
    },
    {
      "cell_type": "code",
      "source": [
        "c2 = car(2025, \"Lamborgini\", \"Galrado\", 200)"
      ],
      "metadata": {
        "id": "lza1ZxDHxTX0"
      },
      "execution_count": null,
      "outputs": []
    },
    {
      "cell_type": "code",
      "source": [
        "c2.set_speed(300)"
      ],
      "metadata": {
        "id": "DUFZQwnmxTaK"
      },
      "execution_count": null,
      "outputs": []
    },
    {
      "cell_type": "code",
      "source": [
        "c2.get_speed()"
      ],
      "metadata": {
        "id": "CJgz-821xTdK",
        "colab": {
          "base_uri": "https://localhost:8080/"
        },
        "outputId": "7df360e3-a2f5-4e09-d13f-f9db855caa59"
      },
      "execution_count": null,
      "outputs": [
        {
          "output_type": "execute_result",
          "data": {
            "text/plain": [
              "300"
            ]
          },
          "metadata": {},
          "execution_count": 19
        }
      ]
    },
    {
      "cell_type": "markdown",
      "source": [
        "**NOTE:** Here, we are giving users access to the Private varaibles according to our terms."
      ],
      "metadata": {
        "id": "3CKUzaCdX8Ir"
      }
    },
    {
      "cell_type": "code",
      "source": [
        "c2.set_speed(-45300)"
      ],
      "metadata": {
        "id": "sXCgtlm8X3sX"
      },
      "execution_count": null,
      "outputs": []
    },
    {
      "cell_type": "code",
      "source": [
        "c2.get_speed()"
      ],
      "metadata": {
        "colab": {
          "base_uri": "https://localhost:8080/"
        },
        "id": "I2Tnm6okYLgx",
        "outputId": "f5c96196-f18d-47d6-be05-9b6bbfd7e369"
      },
      "execution_count": null,
      "outputs": [
        {
          "output_type": "execute_result",
          "data": {
            "text/plain": [
              "0"
            ]
          },
          "metadata": {},
          "execution_count": 21
        }
      ]
    },
    {
      "cell_type": "markdown",
      "source": [
        "### Encapsulation meaning:\n",
        "\n",
        "Here we hid all the variables privately, like in a medicine capsule, the composition is hidden."
      ],
      "metadata": {
        "id": "qTH8RjPBYfDc"
      }
    },
    {
      "cell_type": "code",
      "source": [],
      "metadata": {
        "id": "FK3dg0PRbM-M"
      },
      "execution_count": null,
      "outputs": []
    },
    {
      "cell_type": "markdown",
      "source": [
        "# How to make a function Private"
      ],
      "metadata": {
        "id": "vpqSg605aXY3"
      }
    },
    {
      "cell_type": "code",
      "source": [
        "class car1 :\n",
        "\n",
        "  def __init__(self, year, make, model, speed):\n",
        "    self.__year = year\n",
        "    self.__make = make\n",
        "    self.__model = model\n",
        "    self.__speed = speed\n",
        "\n",
        "  def __set_speed(self, speed):     # Private function ['__' is added in front]\n",
        "    self.__speed = 0 if speed < 0 else speed\n",
        "\n",
        "  def get_speed(self):\n",
        "    return self.__speed\n"
      ],
      "metadata": {
        "id": "8PIG8yHLYLjl"
      },
      "execution_count": null,
      "outputs": []
    },
    {
      "cell_type": "code",
      "source": [
        "c1 = car1(2016, \"Hyundai\", \"i20\", 50)"
      ],
      "metadata": {
        "id": "AY4P7y3OYLmb"
      },
      "execution_count": null,
      "outputs": []
    },
    {
      "cell_type": "code",
      "source": [
        "c1.get_speed()"
      ],
      "metadata": {
        "colab": {
          "base_uri": "https://localhost:8080/"
        },
        "id": "CLRcFf8RYLpG",
        "outputId": "f04620a9-1805-4835-86f8-e3d8b4935a61"
      },
      "execution_count": null,
      "outputs": [
        {
          "output_type": "execute_result",
          "data": {
            "text/plain": [
              "50"
            ]
          },
          "metadata": {},
          "execution_count": 24
        }
      ]
    },
    {
      "cell_type": "markdown",
      "source": [
        "# How to access a private function of a class\n",
        "\n",
        "Similar to a private variable"
      ],
      "metadata": {
        "id": "-WYy8kCpaQDt"
      }
    },
    {
      "cell_type": "code",
      "source": [
        "c1._car1__set_speed(105)"
      ],
      "metadata": {
        "id": "IwLfU1bzYLru"
      },
      "execution_count": null,
      "outputs": []
    },
    {
      "cell_type": "markdown",
      "source": [
        "Here, when I write \"c1._car1.\", I get all 4 varaibles and 'set_speed()' as options.\n",
        "\n",
        "It means 'set_speed()' is Private function now."
      ],
      "metadata": {
        "id": "dIJoabj0aghe"
      }
    },
    {
      "cell_type": "code",
      "source": [
        "c1.get_speed()"
      ],
      "metadata": {
        "colab": {
          "base_uri": "https://localhost:8080/"
        },
        "id": "3OQbmy9IYLu3",
        "outputId": "7c109b5d-4c99-4e2e-ae41-d999e59c69a0"
      },
      "execution_count": null,
      "outputs": [
        {
          "output_type": "execute_result",
          "data": {
            "text/plain": [
              "105"
            ]
          },
          "metadata": {},
          "execution_count": 26
        }
      ]
    },
    {
      "cell_type": "code",
      "source": [],
      "metadata": {
        "id": "mIDRUgRDYLxM"
      },
      "execution_count": null,
      "outputs": []
    },
    {
      "cell_type": "markdown",
      "source": [
        "# Another example:"
      ],
      "metadata": {
        "id": "Q66zXdnfbdfU"
      }
    },
    {
      "cell_type": "code",
      "source": [
        "class bank_account :\n",
        "\n",
        "  def __init__(self, balance):\n",
        "    self.__balance = balance\n",
        "\n",
        "  def deposit(self, amount):\n",
        "    self.__balance = self.__balance + amount\n",
        "\n",
        "  def withdraw(self, amount):\n",
        "    if self.__balance >= amount:\n",
        "      self.__balance = self.__balance - amount\n",
        "      return True\n",
        "    else :\n",
        "      return False\n",
        "\n",
        "  def get_balance(self):\n",
        "    return self.__balance\n"
      ],
      "metadata": {
        "id": "SorRGCUrYLz2"
      },
      "execution_count": null,
      "outputs": []
    },
    {
      "cell_type": "code",
      "source": [
        "Monika = bank_account(1000)"
      ],
      "metadata": {
        "id": "hbz2tBxYYL2z"
      },
      "execution_count": null,
      "outputs": []
    },
    {
      "cell_type": "code",
      "source": [
        "Monika.deposit(50000)"
      ],
      "metadata": {
        "id": "sUVgiELVYL6Y"
      },
      "execution_count": null,
      "outputs": []
    },
    {
      "cell_type": "code",
      "source": [
        "Monika.get_balance()"
      ],
      "metadata": {
        "colab": {
          "base_uri": "https://localhost:8080/"
        },
        "id": "2QefYsAqjCKP",
        "outputId": "9487b347-2d6c-46cd-d644-9d4ac3041e53"
      },
      "execution_count": null,
      "outputs": [
        {
          "output_type": "execute_result",
          "data": {
            "text/plain": [
              "51000"
            ]
          },
          "metadata": {},
          "execution_count": 34
        }
      ]
    },
    {
      "cell_type": "code",
      "source": [
        "Monika.withdraw(300)"
      ],
      "metadata": {
        "colab": {
          "base_uri": "https://localhost:8080/"
        },
        "id": "E88bORtNjEI_",
        "outputId": "a020cdb5-bec3-40f8-cb99-ba2a5d7160cf"
      },
      "execution_count": null,
      "outputs": [
        {
          "output_type": "execute_result",
          "data": {
            "text/plain": [
              "True"
            ]
          },
          "metadata": {},
          "execution_count": 35
        }
      ]
    },
    {
      "cell_type": "code",
      "source": [
        "Monika.get_balance()"
      ],
      "metadata": {
        "colab": {
          "base_uri": "https://localhost:8080/"
        },
        "id": "eTIPhYnSjHcO",
        "outputId": "ada18d58-a258-45b5-d61f-024f0cdf795b"
      },
      "execution_count": null,
      "outputs": [
        {
          "output_type": "execute_result",
          "data": {
            "text/plain": [
              "50700"
            ]
          },
          "metadata": {},
          "execution_count": 36
        }
      ]
    },
    {
      "cell_type": "code",
      "source": [
        "Monika.withdraw(10000000)"
      ],
      "metadata": {
        "colab": {
          "base_uri": "https://localhost:8080/"
        },
        "id": "32zBC4UtjJkt",
        "outputId": "f61d42ab-96ae-4b68-cdbe-ce075b9f81be"
      },
      "execution_count": null,
      "outputs": [
        {
          "output_type": "execute_result",
          "data": {
            "text/plain": [
              "False"
            ]
          },
          "metadata": {},
          "execution_count": 37
        }
      ]
    },
    {
      "cell_type": "code",
      "source": [
        "Monika.withdraw(3000)"
      ],
      "metadata": {
        "colab": {
          "base_uri": "https://localhost:8080/"
        },
        "id": "FgkC1zJEjbAW",
        "outputId": "8402bdb0-32e7-4a17-e147-9a1624c6f1f0"
      },
      "execution_count": null,
      "outputs": [
        {
          "output_type": "execute_result",
          "data": {
            "text/plain": [
              "True"
            ]
          },
          "metadata": {},
          "execution_count": 38
        }
      ]
    },
    {
      "cell_type": "markdown",
      "source": [
        "**NOTE:** We are hiding the implementation using Encapsulation technique."
      ],
      "metadata": {
        "id": "VNJyhKBGjq_n"
      }
    },
    {
      "cell_type": "code",
      "source": [],
      "metadata": {
        "id": "qCk4-QxJjkg3"
      },
      "execution_count": null,
      "outputs": []
    },
    {
      "cell_type": "code",
      "source": [],
      "metadata": {
        "id": "zbNRHuXXjysa"
      },
      "execution_count": null,
      "outputs": []
    }
  ]
}
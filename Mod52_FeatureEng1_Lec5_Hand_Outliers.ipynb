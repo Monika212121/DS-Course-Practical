{
  "nbformat": 4,
  "nbformat_minor": 0,
  "metadata": {
    "colab": {
      "provenance": []
    },
    "kernelspec": {
      "name": "python3",
      "display_name": "Python 3"
    },
    "language_info": {
      "name": "python"
    }
  },
  "cells": [
    {
      "cell_type": "markdown",
      "source": [
        "HANDLING OUTLIERS :"
      ],
      "metadata": {
        "id": "-sUvirIGuPKt"
      }
    },
    {
      "cell_type": "code",
      "source": [
        "import numpy as np"
      ],
      "metadata": {
        "id": "FlGC4lH3uUSc"
      },
      "execution_count": 1,
      "outputs": []
    },
    {
      "cell_type": "code",
      "source": [
        "list_marks = [10,20,30,40,50,60,70,80,0,100,1110,1111,12000]"
      ],
      "metadata": {
        "id": "teYrFAuMuUVc"
      },
      "execution_count": 3,
      "outputs": []
    },
    {
      "cell_type": "code",
      "source": [
        "np.percentile(list_marks, [100])"
      ],
      "metadata": {
        "colab": {
          "base_uri": "https://localhost:8080/"
        },
        "id": "wWlNs9zZuUYU",
        "outputId": "12c012a0-5358-4690-c2e6-6cefe0511146"
      },
      "execution_count": 8,
      "outputs": [
        {
          "output_type": "execute_result",
          "data": {
            "text/plain": [
              "array([12000.])"
            ]
          },
          "metadata": {},
          "execution_count": 8
        }
      ]
    },
    {
      "cell_type": "code",
      "source": [
        "## We need to calculate data between lower fence and higher fence:\n",
        "\n",
        "# [lower fence <-----> higher fence]"
      ],
      "metadata": {
        "id": "NOrShAwAuUbQ"
      },
      "execution_count": 9,
      "outputs": []
    },
    {
      "cell_type": "code",
      "source": [
        "minimum, Q1, Q2, Q3, maximum = np.quantile(list_marks, [0, 0.25, 0.50, 0.75, 1.0])"
      ],
      "metadata": {
        "id": "XJ2oAFXRuUeF"
      },
      "execution_count": 10,
      "outputs": []
    },
    {
      "cell_type": "code",
      "source": [
        "maximum"
      ],
      "metadata": {
        "colab": {
          "base_uri": "https://localhost:8080/"
        },
        "id": "Mw5t3A4MuUg9",
        "outputId": "116fd117-237a-4ebc-acdd-e043204e7973"
      },
      "execution_count": 11,
      "outputs": [
        {
          "output_type": "execute_result",
          "data": {
            "text/plain": [
              "12000.0"
            ]
          },
          "metadata": {},
          "execution_count": 11
        }
      ]
    },
    {
      "cell_type": "code",
      "source": [
        "# Calculate IQR :\n",
        "\n",
        "IQR = Q3 - Q1\n",
        "print(IQR)"
      ],
      "metadata": {
        "colab": {
          "base_uri": "https://localhost:8080/"
        },
        "id": "49y_6yjEuUjt",
        "outputId": "ce678ed1-5485-4a14-e830-f2b0bf6aa56a"
      },
      "execution_count": 12,
      "outputs": [
        {
          "output_type": "stream",
          "name": "stdout",
          "text": [
            "70.0\n"
          ]
        }
      ]
    },
    {
      "cell_type": "code",
      "source": [
        "lower_fence =  Q1 - 1.5*(IQR)\n",
        "higher_fence = Q3 + 1.5*(IQR)"
      ],
      "metadata": {
        "id": "WqisGjRBuUme"
      },
      "execution_count": 14,
      "outputs": []
    },
    {
      "cell_type": "code",
      "source": [
        "lower_fence, higher_fence"
      ],
      "metadata": {
        "colab": {
          "base_uri": "https://localhost:8080/"
        },
        "id": "EqIHPn8Kw0Ds",
        "outputId": "070f9a76-b57b-4935-abbf-adc45cb6bcbc"
      },
      "execution_count": 15,
      "outputs": [
        {
          "output_type": "execute_result",
          "data": {
            "text/plain": [
              "(-75.0, 205.0)"
            ]
          },
          "metadata": {},
          "execution_count": 15
        }
      ]
    },
    {
      "cell_type": "code",
      "source": [
        "outliers = []\n",
        "\n",
        "for i in list_marks:\n",
        "  if i>= lower_fence and i<= higher_fence:\n",
        "    print(\"this is not an outlier\")\n",
        "  else:\n",
        "    outliers.append(i)"
      ],
      "metadata": {
        "colab": {
          "base_uri": "https://localhost:8080/"
        },
        "id": "jUQY1QFsw0Gq",
        "outputId": "653b3dde-d317-41d0-bc56-fc47ecb010a3"
      },
      "execution_count": 17,
      "outputs": [
        {
          "output_type": "stream",
          "name": "stdout",
          "text": [
            "this is not an outlier\n",
            "this is not an outlier\n",
            "this is not an outlier\n",
            "this is not an outlier\n",
            "this is not an outlier\n",
            "this is not an outlier\n",
            "this is not an outlier\n",
            "this is not an outlier\n",
            "this is not an outlier\n",
            "this is not an outlier\n"
          ]
        }
      ]
    },
    {
      "cell_type": "code",
      "source": [
        "outliers"
      ],
      "metadata": {
        "colab": {
          "base_uri": "https://localhost:8080/"
        },
        "id": "V4RCOof4w0JN",
        "outputId": "017157f2-8514-4a9f-e549-60d035080736"
      },
      "execution_count": 18,
      "outputs": [
        {
          "output_type": "execute_result",
          "data": {
            "text/plain": [
              "[1110, 1111, 12000]"
            ]
          },
          "metadata": {},
          "execution_count": 18
        }
      ]
    },
    {
      "cell_type": "code",
      "source": [],
      "metadata": {
        "id": "PFl2LPjlw0Lz"
      },
      "execution_count": null,
      "outputs": []
    },
    {
      "cell_type": "markdown",
      "source": [
        "BOXPLOT :"
      ],
      "metadata": {
        "id": "CboU9qfVynUn"
      }
    },
    {
      "cell_type": "code",
      "source": [
        "import seaborn as sns"
      ],
      "metadata": {
        "id": "EdQJPDSjw0PL"
      },
      "execution_count": 19,
      "outputs": []
    },
    {
      "cell_type": "code",
      "source": [
        "list2 = [10, 20, 30,40,50,60,70,80,90,500]"
      ],
      "metadata": {
        "id": "ZMrbC-5Qy9gJ"
      },
      "execution_count": 21,
      "outputs": []
    },
    {
      "cell_type": "code",
      "source": [
        "sns.boxplot(list2)"
      ],
      "metadata": {
        "colab": {
          "base_uri": "https://localhost:8080/",
          "height": 428
        },
        "id": "RFqnkXa9yjkS",
        "outputId": "4416ec58-417d-4f00-c12f-01627d46e299"
      },
      "execution_count": 22,
      "outputs": [
        {
          "output_type": "execute_result",
          "data": {
            "text/plain": [
              "<Axes: >"
            ]
          },
          "metadata": {},
          "execution_count": 22
        },
        {
          "output_type": "display_data",
          "data": {
            "text/plain": [
              "<Figure size 640x480 with 1 Axes>"
            ],
            "image/png": "[encoded data removed]"
          },
          "metadata": {}
        }
      ]
    },
    {
      "cell_type": "code",
      "source": [
        "list2 = [10, 20, 30,40,50,60,70,80,90]  # no outlier present"
      ],
      "metadata": {
        "id": "j8fIMpTgyjm1"
      },
      "execution_count": 25,
      "outputs": []
    },
    {
      "cell_type": "code",
      "source": [
        "sns.boxplot(list2)"
      ],
      "metadata": {
        "colab": {
          "base_uri": "https://localhost:8080/",
          "height": 428
        },
        "id": "JxV7k951yjqY",
        "outputId": "efd55ec5-5589-47c5-832b-828e5d6dc30c"
      },
      "execution_count": 24,
      "outputs": [
        {
          "output_type": "execute_result",
          "data": {
            "text/plain": [
              "<Axes: >"
            ]
          },
          "metadata": {},
          "execution_count": 24
        },
        {
          "output_type": "display_data",
          "data": {
            "text/plain": [
              "<Figure size 640x480 with 1 Axes>"
            ],
            "image/png": "[encoded data removed]"
          },
          "metadata": {}
        }
      ]
    },
    {
      "cell_type": "code",
      "source": [],
      "metadata": {
        "id": "wi8FSyXSyj11"
      },
      "execution_count": null,
      "outputs": []
    }
  ]
}

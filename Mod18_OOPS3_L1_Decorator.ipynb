{
  "nbformat": 4,
  "nbformat_minor": 0,
  "metadata": {
    "colab": {
      "provenance": []
    },
    "kernelspec": {
      "name": "python3",
      "display_name": "Python 3"
    },
    "language_info": {
      "name": "python"
    }
  },
  "cells": [
    {
      "cell_type": "markdown",
      "source": [
        "# Decorator\n",
        "\n",
        "A decorator is essentially a function that takes another function as an argument and returns a new function with enhanced functionality.\n",
        "\n",
        "Decorators are often used in scenarios such as logging, authentication and memorization, allowing us to add additional functionality to existing functions or methods in a clean, reusable way."
      ],
      "metadata": {
        "id": "DQJGWLO7QJWz"
      }
    },
    {
      "cell_type": "code",
      "execution_count": null,
      "metadata": {
        "id": "2m-195H-PPtd"
      },
      "outputs": [],
      "source": [
        "def deco(func):\n",
        "\n",
        "    def inner_deco():\n",
        "      print(\"START\")\n",
        "      func()\n",
        "      print(\"END\")\n",
        "\n",
        "    return inner_deco"
      ]
    },
    {
      "cell_type": "code",
      "source": [
        "def test():\n",
        "  print(1+2)\n"
      ],
      "metadata": {
        "id": "Y6cdK7HzQGFn"
      },
      "execution_count": null,
      "outputs": []
    },
    {
      "cell_type": "markdown",
      "source": [
        "Here, 'deco' is a decorator function."
      ],
      "metadata": {
        "id": "DQPOkWORIRTn"
      }
    },
    {
      "cell_type": "code",
      "source": [
        "test()"
      ],
      "metadata": {
        "colab": {
          "base_uri": "https://localhost:8080/"
        },
        "id": "0PZSEnUKGlLx",
        "outputId": "2420b714-fc6c-4076-c640-588a866c5aa2"
      },
      "execution_count": null,
      "outputs": [
        {
          "output_type": "stream",
          "name": "stdout",
          "text": [
            "3\n"
          ]
        }
      ]
    },
    {
      "cell_type": "code",
      "source": [],
      "metadata": {
        "id": "lrKUi1YoG1X5"
      },
      "execution_count": null,
      "outputs": []
    },
    {
      "cell_type": "code",
      "source": [
        "@deco\n",
        "def test():\n",
        "  print(1+2)\n"
      ],
      "metadata": {
        "id": "nf1c24g9GlOQ"
      },
      "execution_count": null,
      "outputs": []
    },
    {
      "cell_type": "code",
      "source": [
        "test()"
      ],
      "metadata": {
        "colab": {
          "base_uri": "https://localhost:8080/"
        },
        "id": "xWFJnHlNGlRn",
        "outputId": "722c4876-1c73-4d55-f268-ce4086b7b1a7"
      },
      "execution_count": null,
      "outputs": [
        {
          "output_type": "stream",
          "name": "stdout",
          "text": [
            "START\n",
            "3\n",
            "END\n"
          ]
        }
      ]
    },
    {
      "cell_type": "markdown",
      "source": [
        "### NOTE:\n",
        "When we mention @decorator before any function, the Python compiler will automatically pass this function to the pre-written decorator() and makes it execute only the decorator()."
      ],
      "metadata": {
        "id": "k6sdkESqPZYX"
      }
    },
    {
      "cell_type": "code",
      "source": [],
      "metadata": {
        "id": "bru1VuOdGlUF"
      },
      "execution_count": null,
      "outputs": []
    },
    {
      "cell_type": "code",
      "source": [
        "import time\n",
        "\n",
        "def timer(func):\n",
        "  def inner_timer():\n",
        "    start = time.time()\n",
        "    func()\n",
        "    end = time.time()\n",
        "    print(\"execution time for this function is: \", end - start)\n",
        "\n",
        "  return inner_timer\n"
      ],
      "metadata": {
        "id": "sdtE-8PXGlXC"
      },
      "execution_count": null,
      "outputs": []
    },
    {
      "cell_type": "markdown",
      "source": [
        "Here, 'timer' is a decorator function."
      ],
      "metadata": {
        "id": "8V4lkzJpIKlv"
      }
    },
    {
      "cell_type": "markdown",
      "source": [
        "### Without Decorator"
      ],
      "metadata": {
        "id": "8u9AEDk-Nh7E"
      }
    },
    {
      "cell_type": "code",
      "source": [
        "def func1():\n",
        "  print(\"this is my function1\")\n"
      ],
      "metadata": {
        "id": "EaaZ7q7EGlZN"
      },
      "execution_count": null,
      "outputs": []
    },
    {
      "cell_type": "code",
      "source": [
        "func1()"
      ],
      "metadata": {
        "colab": {
          "base_uri": "https://localhost:8080/"
        },
        "id": "Xd83G_teH6hy",
        "outputId": "d83b29a1-3ef0-47f1-ea6b-ca086fb33dd5"
      },
      "execution_count": null,
      "outputs": [
        {
          "output_type": "stream",
          "name": "stdout",
          "text": [
            "this is my function1\n"
          ]
        }
      ]
    },
    {
      "cell_type": "markdown",
      "source": [
        "### With Decorator"
      ],
      "metadata": {
        "id": "xr3vFLqFNmkA"
      }
    },
    {
      "cell_type": "code",
      "source": [
        "@timer\n",
        "def func1():\n",
        "  print(\"this is my function1\")\n"
      ],
      "metadata": {
        "id": "glU5q9ygH7qj"
      },
      "execution_count": null,
      "outputs": []
    },
    {
      "cell_type": "code",
      "source": [
        "func1()"
      ],
      "metadata": {
        "colab": {
          "base_uri": "https://localhost:8080/"
        },
        "id": "HSho0hChIAj7",
        "outputId": "10e6c84e-6a45-4cd4-e5b9-475d6170cec5"
      },
      "execution_count": null,
      "outputs": [
        {
          "output_type": "stream",
          "name": "stdout",
          "text": [
            "this is my function1\n",
            "execution time for this function is:  0.00022602081298828125\n"
          ]
        }
      ]
    },
    {
      "cell_type": "code",
      "source": [],
      "metadata": {
        "id": "DmWwt7CPICOz"
      },
      "execution_count": null,
      "outputs": []
    },
    {
      "cell_type": "code",
      "source": [
        "def func2():\n",
        "  print(100+5000)\n"
      ],
      "metadata": {
        "id": "sS3hXmh7H2dc"
      },
      "execution_count": null,
      "outputs": []
    },
    {
      "cell_type": "code",
      "source": [
        "func2()"
      ],
      "metadata": {
        "colab": {
          "base_uri": "https://localhost:8080/"
        },
        "id": "GAN3XlpsIk7c",
        "outputId": "20488224-0586-4b21-e4a8-467b532bd15f"
      },
      "execution_count": null,
      "outputs": [
        {
          "output_type": "stream",
          "name": "stdout",
          "text": [
            "5100\n"
          ]
        }
      ]
    },
    {
      "cell_type": "code",
      "source": [
        "@timer\n",
        "def func2():\n",
        "  print(100+5000)\n"
      ],
      "metadata": {
        "id": "2LiooFTRImJT"
      },
      "execution_count": null,
      "outputs": []
    },
    {
      "cell_type": "code",
      "source": [
        "func2()"
      ],
      "metadata": {
        "colab": {
          "base_uri": "https://localhost:8080/"
        },
        "id": "a4WtJFdoIpkr",
        "outputId": "4916bfce-d4fe-40a9-91b6-4c8e08abc6e9"
      },
      "execution_count": null,
      "outputs": [
        {
          "output_type": "stream",
          "name": "stdout",
          "text": [
            "5100\n",
            "execution time for this function is:  4.8160552978515625e-05\n"
          ]
        }
      ]
    },
    {
      "cell_type": "code",
      "source": [],
      "metadata": {
        "id": "2Khtx5R4IuzB"
      },
      "execution_count": null,
      "outputs": []
    },
    {
      "cell_type": "code",
      "source": [],
      "metadata": {
        "id": "jpBDVtpdIyiu"
      },
      "execution_count": null,
      "outputs": []
    }
  ]
}
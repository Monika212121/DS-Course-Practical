{
  "nbformat": 4,
  "nbformat_minor": 0,
  "metadata": {
    "colab": {
      "provenance": []
    },
    "kernelspec": {
      "name": "python3",
      "display_name": "Python 3"
    },
    "language_info": {
      "name": "python"
    }
  },
  "cells": [
    {
      "cell_type": "markdown",
      "source": [
        "# Module10 Functions Part2 "
      ],
      "metadata": {
        "id": "v6R1uW9j6MTp"
      }
    },
    {
      "cell_type": "markdown",
      "source": [
        "# Generator functions\n",
        "\n",
        "A special type of function that can pause and resume its execution at any point.\n",
        "\n",
        "Generators are useful for handling large or infinite streams of data, and are often used for iteration, asynchronous operations, and lazy evaluation."
      ],
      "metadata": {
        "id": "8CSyswQw6Uvw"
      }
    },
    {
      "cell_type": "code",
      "execution_count": 29,
      "metadata": {
        "id": "sZw9FFie5ur1",
        "colab": {
          "base_uri": "https://localhost:8080/"
        },
        "outputId": "a12aeb43-e3d6-4491-baf3-a07853262b04"
      },
      "outputs": [
        {
          "output_type": "execute_result",
          "data": {
            "text/plain": [
              "range(0, 10)"
            ]
          },
          "metadata": {},
          "execution_count": 29
        }
      ],
      "source": [
        "range(10)"
      ]
    },
    {
      "cell_type": "code",
      "source": [
        "type(range(10))"
      ],
      "metadata": {
        "id": "uBlpZigHM2fA",
        "colab": {
          "base_uri": "https://localhost:8080/"
        },
        "outputId": "98cd837f-be75-473b-c83c-372d4c008233"
      },
      "execution_count": 30,
      "outputs": [
        {
          "output_type": "execute_result",
          "data": {
            "text/plain": [
              "range"
            ]
          },
          "metadata": {},
          "execution_count": 30
        }
      ]
    },
    {
      "cell_type": "code",
      "source": [
        "for i in range(10):\n",
        "    print(i)"
      ],
      "metadata": {
        "id": "VuHhj7KtM2io",
        "colab": {
          "base_uri": "https://localhost:8080/"
        },
        "outputId": "f34c5db6-7240-48f7-93d9-4cb0c4b23f6c"
      },
      "execution_count": 31,
      "outputs": [
        {
          "output_type": "stream",
          "name": "stdout",
          "text": [
            "0\n",
            "1\n",
            "2\n",
            "3\n",
            "4\n",
            "5\n",
            "6\n",
            "7\n",
            "8\n",
            "9\n"
          ]
        }
      ]
    },
    {
      "cell_type": "markdown",
      "source": [
        "If we are appending in a list containing a large number of elements, then the memory consumption will be high."
      ],
      "metadata": {
        "id": "G6TbSOXgNmN6"
      }
    },
    {
      "cell_type": "code",
      "source": [
        "def getFibonacci(num):\n",
        "  a,b = 0,1\n",
        "  for i in range(num):\n",
        "    yield a\n",
        "    a,b = b,a+b\n",
        "\n",
        "\n",
        "# Logic: We are printing 'a' variable and adding previous 2 values using 'b' variable."
      ],
      "metadata": {
        "id": "mTylVQ8lM2kp"
      },
      "execution_count": 32,
      "outputs": []
    },
    {
      "cell_type": "markdown",
      "source": [
        "NOTE: 'yield' is a keyword to create a generator function and will be used with the variable, needs to be printed."
      ],
      "metadata": {
        "id": "dedZmCloQNxd"
      }
    },
    {
      "cell_type": "code",
      "source": [
        "getFibonacci(5)"
      ],
      "metadata": {
        "colab": {
          "base_uri": "https://localhost:8080/"
        },
        "id": "BOKJ3nRfQb4D",
        "outputId": "b2b60228-b793-4432-a46d-ee7e3833ab50"
      },
      "execution_count": 33,
      "outputs": [
        {
          "output_type": "execute_result",
          "data": {
            "text/plain": [
              "<generator object getFibonacci at 0x7b90a3924350>"
            ]
          },
          "metadata": {},
          "execution_count": 33
        }
      ]
    },
    {
      "cell_type": "code",
      "source": [
        "# To retrieve values from the generator function\n",
        "\n",
        "for i in getFibonacci(12):\n",
        "  print(i)"
      ],
      "metadata": {
        "id": "-sVOmpZqM2ni",
        "colab": {
          "base_uri": "https://localhost:8080/"
        },
        "outputId": "8cb15524-2a51-4d1a-9e23-dd88cad7b6c7"
      },
      "execution_count": 34,
      "outputs": [
        {
          "output_type": "stream",
          "name": "stdout",
          "text": [
            "0\n",
            "1\n",
            "1\n",
            "2\n",
            "3\n",
            "5\n",
            "8\n",
            "13\n",
            "21\n",
            "34\n",
            "55\n",
            "89\n"
          ]
        }
      ]
    },
    {
      "cell_type": "code",
      "source": [],
      "metadata": {
        "id": "Xg-C5uu3fcv-"
      },
      "execution_count": null,
      "outputs": []
    },
    {
      "cell_type": "markdown",
      "source": [
        "# Generator function with an iterator"
      ],
      "metadata": {
        "id": "_-XR4RHVLGYe"
      }
    },
    {
      "cell_type": "code",
      "source": [
        "def getFibonacciNew():\n",
        "  a,b = 0,1\n",
        "  while True:\n",
        "    yield a\n",
        "    a,b = b,a+b\n",
        "\n",
        "# It is always true, so it always goes inside and yield 'a' varaible values."
      ],
      "metadata": {
        "id": "r9uQZ19oM2qv"
      },
      "execution_count": 35,
      "outputs": []
    },
    {
      "cell_type": "code",
      "source": [
        "# create an object for the above generator object.\n",
        "\n",
        "fibo = getFibonacciNew()"
      ],
      "metadata": {
        "id": "lixZlIgNM2tj"
      },
      "execution_count": 36,
      "outputs": []
    },
    {
      "cell_type": "code",
      "source": [
        "type(getFibonacci(4))"
      ],
      "metadata": {
        "colab": {
          "base_uri": "https://localhost:8080/"
        },
        "id": "25u5peZLZFJv",
        "outputId": "c9823851-385f-476b-da89-2c10c461558c"
      },
      "execution_count": 38,
      "outputs": [
        {
          "output_type": "execute_result",
          "data": {
            "text/plain": [
              "generator"
            ]
          },
          "metadata": {},
          "execution_count": 38
        }
      ]
    },
    {
      "cell_type": "code",
      "source": [
        "type(getFibonacciNew)"
      ],
      "metadata": {
        "colab": {
          "base_uri": "https://localhost:8080/"
        },
        "id": "cCXdMHrPY_mT",
        "outputId": "7f06243c-fbba-427c-cfb0-a8792197f84c"
      },
      "execution_count": 25,
      "outputs": [
        {
          "output_type": "execute_result",
          "data": {
            "text/plain": [
              "function"
            ]
          },
          "metadata": {},
          "execution_count": 25
        }
      ]
    },
    {
      "cell_type": "code",
      "source": [
        "type(fibo)"
      ],
      "metadata": {
        "colab": {
          "base_uri": "https://localhost:8080/"
        },
        "id": "TO6KeHEcZaXG",
        "outputId": "8327700b-9ffc-4f74-bbce-b496cc1ac455"
      },
      "execution_count": 39,
      "outputs": [
        {
          "output_type": "execute_result",
          "data": {
            "text/plain": [
              "generator"
            ]
          },
          "metadata": {},
          "execution_count": 39
        }
      ]
    },
    {
      "cell_type": "code",
      "source": [
        "# retrieve values from the generator object.\n",
        "\n",
        "for i in range(12):\n",
        "  print(next(fibo))\n",
        "\n",
        "# NOTE: Please remember here that this \"for-loop\" is range based, it is iterating on numbers from (0-11).\n",
        "# Not iterating in the iterator object \"fibo\", that's why we are using next().\n",
        "# If we iterate in the object, the for-loop internally uses iter() and next() to retrieve values, no need to use next() then."
      ],
      "metadata": {
        "id": "eqmeMBqxM2wJ",
        "colab": {
          "base_uri": "https://localhost:8080/"
        },
        "outputId": "eee12f01-2ee5-42cb-a3a5-96981dab7a39"
      },
      "execution_count": 24,
      "outputs": [
        {
          "output_type": "stream",
          "name": "stdout",
          "text": [
            "144\n",
            "233\n",
            "377\n",
            "610\n",
            "987\n",
            "1597\n",
            "2584\n",
            "4181\n",
            "6765\n",
            "10946\n",
            "17711\n",
            "28657\n"
          ]
        }
      ]
    },
    {
      "cell_type": "markdown",
      "source": [
        "# How 'for-loop' works internally:\n",
        "\n",
        "First, for-loop takes the object, convert into an iterator using iter() and then retrieves data using next().\n",
        "\n",
        "'for-loop' knows where to stop the iteration and then it stops eventually."
      ],
      "metadata": {
        "id": "3-7G2-gvONGy"
      }
    },
    {
      "cell_type": "markdown",
      "source": [
        "# Iterator and Iterable:"
      ],
      "metadata": {
        "id": "myURNMbuOz9V"
      }
    },
    {
      "cell_type": "code",
      "source": [
        "# Let's take an example of a string\n",
        "\n",
        "s = \"Monika\"\n",
        "type(s)"
      ],
      "metadata": {
        "id": "gepz3D0GM2zQ",
        "colab": {
          "base_uri": "https://localhost:8080/"
        },
        "outputId": "3af93c43-60b1-4180-f979-72ba867092db"
      },
      "execution_count": 5,
      "outputs": [
        {
          "output_type": "execute_result",
          "data": {
            "text/plain": [
              "str"
            ]
          },
          "metadata": {},
          "execution_count": 5
        }
      ]
    },
    {
      "cell_type": "code",
      "source": [
        "next(s)\n",
        "\n",
        "# String object is by default not an iterator but it is iterable, means we can convert it into an iterator object."
      ],
      "metadata": {
        "id": "fxf-HCAzM22T",
        "colab": {
          "base_uri": "https://localhost:8080/",
          "height": 176
        },
        "outputId": "24057e06-0d6a-4f59-f1fb-2fb9f3a8236a"
      },
      "execution_count": 23,
      "outputs": [
        {
          "output_type": "error",
          "ename": "TypeError",
          "evalue": "'str' object is not an iterator",
          "traceback": [
            "\u001b[0;31m---------------------------------------------------------------------------\u001b[0m",
            "\u001b[0;31mTypeError\u001b[0m                                 Traceback (most recent call last)",
            "\u001b[0;32m<ipython-input-23-25ff69c0d627>\u001b[0m in \u001b[0;36m<cell line: 1>\u001b[0;34m()\u001b[0m\n\u001b[0;32m----> 1\u001b[0;31m \u001b[0mnext\u001b[0m\u001b[0;34m(\u001b[0m\u001b[0ms\u001b[0m\u001b[0;34m)\u001b[0m\u001b[0;34m\u001b[0m\u001b[0;34m\u001b[0m\u001b[0m\n\u001b[0m\u001b[1;32m      2\u001b[0m \u001b[0;34m\u001b[0m\u001b[0m\n\u001b[1;32m      3\u001b[0m \u001b[0;31m# String object is by default not an iterator but it is iterable, means we can convert it into an iterator object.\u001b[0m\u001b[0;34m\u001b[0m\u001b[0;34m\u001b[0m\u001b[0m\n",
            "\u001b[0;31mTypeError\u001b[0m: 'str' object is not an iterator"
          ]
        }
      ]
    },
    {
      "cell_type": "code",
      "source": [
        "# to convert non-iterator into iterator object.\n",
        "\n",
        "s1= iter(s)"
      ],
      "metadata": {
        "id": "CxrVIWFXM25u"
      },
      "execution_count": 8,
      "outputs": []
    },
    {
      "cell_type": "code",
      "source": [
        "type(s1)\n",
        "\n",
        "# Now the dtring is an iterator, means we can iterate by next() through the string 's1'."
      ],
      "metadata": {
        "colab": {
          "base_uri": "https://localhost:8080/"
        },
        "id": "Ank1nZ2tPQJR",
        "outputId": "e82d9d91-91e3-446d-979c-7618e29f9748"
      },
      "execution_count": 10,
      "outputs": [
        {
          "output_type": "execute_result",
          "data": {
            "text/plain": [
              "str_iterator"
            ]
          },
          "metadata": {},
          "execution_count": 10
        }
      ]
    },
    {
      "cell_type": "code",
      "source": [
        "next(s1)"
      ],
      "metadata": {
        "colab": {
          "base_uri": "https://localhost:8080/",
          "height": 35
        },
        "id": "FeX2Q_WJPRa4",
        "outputId": "80f7e9cf-eb58-477d-bf5e-8d39e3413923"
      },
      "execution_count": 11,
      "outputs": [
        {
          "output_type": "execute_result",
          "data": {
            "text/plain": [
              "'M'"
            ],
            "application/vnd.google.colaboratory.intrinsic+json": {
              "type": "string"
            }
          },
          "metadata": {},
          "execution_count": 11
        }
      ]
    },
    {
      "cell_type": "code",
      "source": [
        "next(s1)"
      ],
      "metadata": {
        "colab": {
          "base_uri": "https://localhost:8080/",
          "height": 35
        },
        "id": "TNIUcx30Pomo",
        "outputId": "db46865b-b3d5-46a2-fb40-83eabd582b94"
      },
      "execution_count": 12,
      "outputs": [
        {
          "output_type": "execute_result",
          "data": {
            "text/plain": [
              "'o'"
            ],
            "application/vnd.google.colaboratory.intrinsic+json": {
              "type": "string"
            }
          },
          "metadata": {},
          "execution_count": 12
        }
      ]
    },
    {
      "cell_type": "code",
      "source": [
        "next(s1)"
      ],
      "metadata": {
        "colab": {
          "base_uri": "https://localhost:8080/",
          "height": 35
        },
        "id": "idKCdwbMPp_n",
        "outputId": "3609c893-a677-4df9-efde-87e975832027"
      },
      "execution_count": 13,
      "outputs": [
        {
          "output_type": "execute_result",
          "data": {
            "text/plain": [
              "'n'"
            ],
            "application/vnd.google.colaboratory.intrinsic+json": {
              "type": "string"
            }
          },
          "metadata": {},
          "execution_count": 13
        }
      ]
    },
    {
      "cell_type": "code",
      "source": [
        "next(s1)"
      ],
      "metadata": {
        "colab": {
          "base_uri": "https://localhost:8080/",
          "height": 35
        },
        "id": "b_jN9mesPrfQ",
        "outputId": "3150e58b-e652-41f9-a288-ae08f91a0c40"
      },
      "execution_count": 14,
      "outputs": [
        {
          "output_type": "execute_result",
          "data": {
            "text/plain": [
              "'i'"
            ],
            "application/vnd.google.colaboratory.intrinsic+json": {
              "type": "string"
            }
          },
          "metadata": {},
          "execution_count": 14
        }
      ]
    },
    {
      "cell_type": "code",
      "source": [
        "next(s1)"
      ],
      "metadata": {
        "colab": {
          "base_uri": "https://localhost:8080/",
          "height": 35
        },
        "id": "Qa49WVOCPshA",
        "outputId": "2be4b5f5-eca9-4fb6-a623-ff772499cc43"
      },
      "execution_count": 15,
      "outputs": [
        {
          "output_type": "execute_result",
          "data": {
            "text/plain": [
              "'k'"
            ],
            "application/vnd.google.colaboratory.intrinsic+json": {
              "type": "string"
            }
          },
          "metadata": {},
          "execution_count": 15
        }
      ]
    },
    {
      "cell_type": "code",
      "source": [
        "next(s1)"
      ],
      "metadata": {
        "colab": {
          "base_uri": "https://localhost:8080/",
          "height": 35
        },
        "id": "lToCRZ5iPtYo",
        "outputId": "846c9cb3-4cc9-4925-b75f-ef89b8a74ba7"
      },
      "execution_count": 16,
      "outputs": [
        {
          "output_type": "execute_result",
          "data": {
            "text/plain": [
              "'a'"
            ],
            "application/vnd.google.colaboratory.intrinsic+json": {
              "type": "string"
            }
          },
          "metadata": {},
          "execution_count": 16
        }
      ]
    },
    {
      "cell_type": "code",
      "source": [
        "next(s1)\n",
        "\n",
        "# No more elements are present in the string."
      ],
      "metadata": {
        "colab": {
          "base_uri": "https://localhost:8080/",
          "height": 176
        },
        "id": "0iXUZDY-Pun3",
        "outputId": "522d3e94-7afb-4696-df37-129606adb672"
      },
      "execution_count": 18,
      "outputs": [
        {
          "output_type": "error",
          "ename": "StopIteration",
          "evalue": "",
          "traceback": [
            "\u001b[0;31m---------------------------------------------------------------------------\u001b[0m",
            "\u001b[0;31mStopIteration\u001b[0m                             Traceback (most recent call last)",
            "\u001b[0;32m<ipython-input-18-6f480b79cd63>\u001b[0m in \u001b[0;36m<cell line: 1>\u001b[0;34m()\u001b[0m\n\u001b[0;32m----> 1\u001b[0;31m \u001b[0mnext\u001b[0m\u001b[0;34m(\u001b[0m\u001b[0ms1\u001b[0m\u001b[0;34m)\u001b[0m\u001b[0;34m\u001b[0m\u001b[0;34m\u001b[0m\u001b[0m\n\u001b[0m\u001b[1;32m      2\u001b[0m \u001b[0;34m\u001b[0m\u001b[0m\n\u001b[1;32m      3\u001b[0m \u001b[0;31m# No more elements are present in the string.\u001b[0m\u001b[0;34m\u001b[0m\u001b[0;34m\u001b[0m\u001b[0m\n",
            "\u001b[0;31mStopIteration\u001b[0m: "
          ]
        }
      ]
    },
    {
      "cell_type": "code",
      "source": [],
      "metadata": {
        "id": "NFTWJTTSPvgg"
      },
      "execution_count": null,
      "outputs": []
    },
    {
      "cell_type": "markdown",
      "source": [
        "# Not iterable"
      ],
      "metadata": {
        "id": "im1Yf1umSvRR"
      }
    },
    {
      "cell_type": "code",
      "source": [
        "next(100)"
      ],
      "metadata": {
        "colab": {
          "base_uri": "https://localhost:8080/",
          "height": 141
        },
        "id": "wipFgu_5Sp2H",
        "outputId": "16ad2fa0-06b9-42fe-8602-c034a9e4ab9f"
      },
      "execution_count": 19,
      "outputs": [
        {
          "output_type": "error",
          "ename": "TypeError",
          "evalue": "'int' object is not an iterator",
          "traceback": [
            "\u001b[0;31m---------------------------------------------------------------------------\u001b[0m",
            "\u001b[0;31mTypeError\u001b[0m                                 Traceback (most recent call last)",
            "\u001b[0;32m<ipython-input-19-d28664d0b293>\u001b[0m in \u001b[0;36m<cell line: 1>\u001b[0;34m()\u001b[0m\n\u001b[0;32m----> 1\u001b[0;31m \u001b[0mnext\u001b[0m\u001b[0;34m(\u001b[0m\u001b[0;36m100\u001b[0m\u001b[0;34m)\u001b[0m\u001b[0;34m\u001b[0m\u001b[0;34m\u001b[0m\u001b[0m\n\u001b[0m",
            "\u001b[0;31mTypeError\u001b[0m: 'int' object is not an iterator"
          ]
        }
      ]
    },
    {
      "cell_type": "code",
      "source": [
        "iter(100)"
      ],
      "metadata": {
        "colab": {
          "base_uri": "https://localhost:8080/",
          "height": 141
        },
        "id": "SbkpcBLBSp4v",
        "outputId": "7256702c-2d00-4e32-9a02-9a54bfc4e303"
      },
      "execution_count": 20,
      "outputs": [
        {
          "output_type": "error",
          "ename": "TypeError",
          "evalue": "'int' object is not iterable",
          "traceback": [
            "\u001b[0;31m---------------------------------------------------------------------------\u001b[0m",
            "\u001b[0;31mTypeError\u001b[0m                                 Traceback (most recent call last)",
            "\u001b[0;32m<ipython-input-20-0fb7faa29f1b>\u001b[0m in \u001b[0;36m<cell line: 1>\u001b[0;34m()\u001b[0m\n\u001b[0;32m----> 1\u001b[0;31m \u001b[0miter\u001b[0m\u001b[0;34m(\u001b[0m\u001b[0;36m100\u001b[0m\u001b[0;34m)\u001b[0m\u001b[0;34m\u001b[0m\u001b[0;34m\u001b[0m\u001b[0m\n\u001b[0m",
            "\u001b[0;31mTypeError\u001b[0m: 'int' object is not iterable"
          ]
        }
      ]
    },
    {
      "cell_type": "markdown",
      "source": [
        "NOTE: We can only convert object into an **iterator when it is by default iterable.**"
      ],
      "metadata": {
        "id": "EwYKev18S-A8"
      }
    },
    {
      "cell_type": "code",
      "source": [],
      "metadata": {
        "id": "sH3O2zpMSp7i"
      },
      "execution_count": null,
      "outputs": []
    },
    {
      "cell_type": "code",
      "source": [
        "# Another example of a generator function\n",
        "\n",
        "def counting(num):\n",
        "   count = 1\n",
        "   while count <= num:\n",
        "    yield count\n",
        "    count = count + 1\n",
        ""
      ],
      "metadata": {
        "id": "UQeVW1qaSp-K"
      },
      "execution_count": 40,
      "outputs": []
    },
    {
      "cell_type": "code",
      "source": [
        "# create an object out of this generator function\n",
        "\n",
        "co = counting(8)"
      ],
      "metadata": {
        "id": "Cnxs8rnQSqBO"
      },
      "execution_count": 41,
      "outputs": []
    },
    {
      "cell_type": "code",
      "source": [
        "# retrieve data from the for-loop\n",
        "\n",
        "for i in co:\n",
        "  print(i)"
      ],
      "metadata": {
        "colab": {
          "base_uri": "https://localhost:8080/"
        },
        "id": "z3rdHl9PSqD5",
        "outputId": "99a0a231-464e-4514-ed81-c17cf7f4150a"
      },
      "execution_count": 42,
      "outputs": [
        {
          "output_type": "stream",
          "name": "stdout",
          "text": [
            "1\n",
            "2\n",
            "3\n",
            "4\n",
            "5\n",
            "6\n",
            "7\n",
            "8\n"
          ]
        }
      ]
    },
    {
      "cell_type": "code",
      "source": [],
      "metadata": {
        "id": "NwDA-IrjSqL5"
      },
      "execution_count": null,
      "outputs": []
    },
    {
      "cell_type": "code",
      "source": [],
      "metadata": {
        "id": "dz9WRJtufm9N"
      },
      "execution_count": null,
      "outputs": []
    }
  ]
}

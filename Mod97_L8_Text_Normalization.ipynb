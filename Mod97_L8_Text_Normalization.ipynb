{
  "nbformat": 4,
  "nbformat_minor": 0,
  "metadata": {
    "colab": {
      "provenance": []
    },
    "kernelspec": {
      "name": "python3",
      "display_name": "Python 3"
    },
    "language_info": {
      "name": "python"
    }
  },
  "cells": [
    {
      "cell_type": "markdown",
      "source": [
        "# Text Normalization"
      ],
      "metadata": {
        "id": "Zhg6Zc6neEqF"
      }
    },
    {
      "cell_type": "code",
      "execution_count": 1,
      "metadata": {
        "id": "W6Uw91dhHag3"
      },
      "outputs": [],
      "source": [
        "import re"
      ]
    },
    {
      "cell_type": "code",
      "source": [
        "sample_txt = \"My name is Monika Gadewar . Do you remember me . I'm going to be best out of best . I won't lie to say that I'll achieve great heights . People can't see now . \""
      ],
      "metadata": {
        "id": "n-wm70SlZR8D"
      },
      "execution_count": 19,
      "outputs": []
    },
    {
      "cell_type": "code",
      "source": [],
      "metadata": {
        "id": "nsh7H7g7r2lT"
      },
      "execution_count": null,
      "outputs": []
    },
    {
      "cell_type": "markdown",
      "source": [
        "## Convert to lowercase"
      ],
      "metadata": {
        "id": "EL0r9OMbgNOU"
      }
    },
    {
      "cell_type": "code",
      "source": [
        "lowercase_txt = sample_txt.lower()\n",
        "lowercase_txt"
      ],
      "metadata": {
        "id": "iZTmcBXKZSCC",
        "colab": {
          "base_uri": "https://localhost:8080/",
          "height": 35
        },
        "outputId": "96ef4754-ed1f-4d95-a622-711ff0886fbd"
      },
      "execution_count": 22,
      "outputs": [
        {
          "output_type": "execute_result",
          "data": {
            "text/plain": [
              "\"my name is monika gadewar . do you remember me . i'm going to be best out of best . i won't lie to say that i'll achieve great heights . people can't see now . \""
            ],
            "application/vnd.google.colaboratory.intrinsic+json": {
              "type": "string"
            }
          },
          "metadata": {},
          "execution_count": 22
        }
      ]
    },
    {
      "cell_type": "code",
      "source": [],
      "metadata": {
        "id": "eT2SYmNYZSEm"
      },
      "execution_count": null,
      "outputs": []
    },
    {
      "cell_type": "markdown",
      "source": [
        "## Removed punctuation\n",
        "\n",
        "NOTE: I won't do this step as it will remove short hand apostofy and it won't able to expand."
      ],
      "metadata": {
        "id": "0nJRSJDLn0Ut"
      }
    },
    {
      "cell_type": "code",
      "source": [
        "cleaned_txt = re.sub(r'[^\\w\\s]', '', lowercase_txt)\n",
        "cleaned_txt"
      ],
      "metadata": {
        "id": "v7zw8I4uZSHb",
        "colab": {
          "base_uri": "https://localhost:8080/",
          "height": 35
        },
        "outputId": "9047a721-d995-4232-c23f-8cf449219d05"
      },
      "execution_count": 21,
      "outputs": [
        {
          "output_type": "execute_result",
          "data": {
            "text/plain": [
              "'my name is monika gadewar  do you remember me  im going to be best out of best  i wont lie to say that ill achieve great heights  people cant see now  '"
            ],
            "application/vnd.google.colaboratory.intrinsic+json": {
              "type": "string"
            }
          },
          "metadata": {},
          "execution_count": 21
        }
      ]
    },
    {
      "cell_type": "code",
      "source": [
        "words = lowercase_txt.split()\n",
        "words"
      ],
      "metadata": {
        "id": "1iEqWddsZSSJ",
        "colab": {
          "base_uri": "https://localhost:8080/"
        },
        "outputId": "f3dd299d-3801-4f86-b304-389ca551dd02"
      },
      "execution_count": 23,
      "outputs": [
        {
          "output_type": "execute_result",
          "data": {
            "text/plain": [
              "['my',\n",
              " 'name',\n",
              " 'is',\n",
              " 'monika',\n",
              " 'gadewar',\n",
              " '.',\n",
              " 'do',\n",
              " 'you',\n",
              " 'remember',\n",
              " 'me',\n",
              " '.',\n",
              " \"i'm\",\n",
              " 'going',\n",
              " 'to',\n",
              " 'be',\n",
              " 'best',\n",
              " 'out',\n",
              " 'of',\n",
              " 'best',\n",
              " '.',\n",
              " 'i',\n",
              " \"won't\",\n",
              " 'lie',\n",
              " 'to',\n",
              " 'say',\n",
              " 'that',\n",
              " \"i'll\",\n",
              " 'achieve',\n",
              " 'great',\n",
              " 'heights',\n",
              " '.',\n",
              " 'people',\n",
              " \"can't\",\n",
              " 'see',\n",
              " 'now',\n",
              " '.']"
            ]
          },
          "metadata": {},
          "execution_count": 23
        }
      ]
    },
    {
      "cell_type": "code",
      "source": [],
      "metadata": {
        "id": "HdYmOlzLZSKT"
      },
      "execution_count": null,
      "outputs": []
    },
    {
      "cell_type": "markdown",
      "source": [
        "## Expand contractions"
      ],
      "metadata": {
        "id": "AfAVdrjMn-wd"
      }
    },
    {
      "cell_type": "code",
      "source": [
        "contradictions_dict = {\n",
        "    \"can't\" : \"cannot\",\n",
        "    \"won't\" : \"will not\",\n",
        "    \"i'm\" : \"I am\",\n",
        "    \"i'll\" : \"I will\"\n",
        "}\n",
        "contradictions_dict"
      ],
      "metadata": {
        "id": "loh9G3dOZSM7",
        "colab": {
          "base_uri": "https://localhost:8080/"
        },
        "outputId": "2cf053ee-261a-44d0-b861-8897750faddc"
      },
      "execution_count": 26,
      "outputs": [
        {
          "output_type": "execute_result",
          "data": {
            "text/plain": [
              "{\"can't\": 'cannot', \"won't\": 'will not', \"i'm\": 'I am', \"i'll\": 'I will'}"
            ]
          },
          "metadata": {},
          "execution_count": 26
        }
      ]
    },
    {
      "cell_type": "code",
      "source": [],
      "metadata": {
        "id": "I5SdYnP2plmH"
      },
      "execution_count": null,
      "outputs": []
    },
    {
      "cell_type": "markdown",
      "source": [
        "## Expanding the short form to original words"
      ],
      "metadata": {
        "id": "QdgntjZ3pZ0L"
      }
    },
    {
      "cell_type": "code",
      "source": [
        "expanded_words = [contradictions_dict[word] if word in contradictions_dict else word for word in words]\n",
        "expanded_txt = ' '.join(expanded_words)\n",
        "expanded_txt"
      ],
      "metadata": {
        "id": "JblnEuIMZSVP",
        "colab": {
          "base_uri": "https://localhost:8080/",
          "height": 35
        },
        "outputId": "af904cee-ab32-40b4-c3e6-6f8fd3dcf51b"
      },
      "execution_count": 27,
      "outputs": [
        {
          "output_type": "execute_result",
          "data": {
            "text/plain": [
              "'my name is monika gadewar . do you remember me . I am going to be best out of best . i will not lie to say that I will achieve great heights . people cannot see now .'"
            ],
            "application/vnd.google.colaboratory.intrinsic+json": {
              "type": "string"
            }
          },
          "metadata": {},
          "execution_count": 27
        }
      ]
    },
    {
      "cell_type": "markdown",
      "source": [
        "Now the text normalization is done properly."
      ],
      "metadata": {
        "id": "kR8vhSI8rtjK"
      }
    },
    {
      "cell_type": "code",
      "source": [],
      "metadata": {
        "id": "c1KfupbmZSYN"
      },
      "execution_count": null,
      "outputs": []
    },
    {
      "cell_type": "code",
      "source": [],
      "metadata": {
        "id": "rTYOrrIhZSa7"
      },
      "execution_count": null,
      "outputs": []
    }
  ]
}
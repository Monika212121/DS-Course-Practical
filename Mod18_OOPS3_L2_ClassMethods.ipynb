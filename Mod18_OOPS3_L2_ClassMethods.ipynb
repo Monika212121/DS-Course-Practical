{
  "nbformat": 4,
  "nbformat_minor": 0,
  "metadata": {
    "colab": {
      "provenance": []
    },
    "kernelspec": {
      "name": "python3",
      "display_name": "Python 3"
    },
    "language_info": {
      "name": "python"
    }
  },
  "cells": [
    {
      "cell_type": "markdown",
      "source": [
        "# Class method\n",
        "\n",
        "When a method is defined using the @classmethod decorator (which internally calls classmethod()), the method is bound to the class and not to an instance of the class.\n",
        "\n",
        "As a result, the method receives the class (cls) as its first argument, rather than an instance (self)."
      ],
      "metadata": {
        "id": "3lTIU_9kdVUB"
      }
    },
    {
      "cell_type": "code",
      "source": [],
      "metadata": {
        "id": "4MAkuD4FdfA4"
      },
      "execution_count": null,
      "outputs": []
    },
    {
      "cell_type": "markdown",
      "source": [
        "# Method Overloading\n",
        "\n",
        "Two or more methods have the same name but different numbers of parameters or different types of parameters, or both. These methods are called overloaded methods and this is called method overloading."
      ],
      "metadata": {
        "id": "nDPdhj4xC_RW"
      }
    },
    {
      "cell_type": "code",
      "source": [],
      "metadata": {
        "id": "O_69rd0jdczK"
      },
      "execution_count": null,
      "outputs": []
    },
    {
      "cell_type": "markdown",
      "source": [
        "Concept of Overloading is not availbale in Python, but we can achieve overloading with the help of class methods.\n",
        "\n",
        "Here, we are overloading the init()."
      ],
      "metadata": {
        "id": "JthS4ztmCn6j"
      }
    },
    {
      "cell_type": "code",
      "execution_count": 12,
      "metadata": {
        "id": "CQtLnbfiN4Bt"
      },
      "outputs": [],
      "source": [
        "class pwskills :\n",
        "\n",
        "  def __init__(self, name, email):\n",
        "    self.name = name\n",
        "    self.email = email\n",
        "\n",
        "  def student_details(self):\n",
        "    return self.name, self.email\n"
      ]
    },
    {
      "cell_type": "code",
      "source": [
        "p = pwskills(\"Monika\", \"abc@gmail.com\")"
      ],
      "metadata": {
        "id": "UTZd1LN4ghnM"
      },
      "execution_count": 13,
      "outputs": []
    },
    {
      "cell_type": "code",
      "source": [
        "p.name"
      ],
      "metadata": {
        "colab": {
          "base_uri": "https://localhost:8080/",
          "height": 36
        },
        "id": "unrVNQB3ghpl",
        "outputId": "33b07daa-d310-4321-e464-985ce6e2b57a"
      },
      "execution_count": 14,
      "outputs": [
        {
          "output_type": "execute_result",
          "data": {
            "text/plain": [
              "'Monika'"
            ],
            "application/vnd.google.colaboratory.intrinsic+json": {
              "type": "string"
            }
          },
          "metadata": {},
          "execution_count": 14
        }
      ]
    },
    {
      "cell_type": "code",
      "source": [
        "p.email"
      ],
      "metadata": {
        "colab": {
          "base_uri": "https://localhost:8080/",
          "height": 36
        },
        "id": "pUHiFG1yghsG",
        "outputId": "651585b2-50ea-41a3-d20c-400f3d547e6d"
      },
      "execution_count": 15,
      "outputs": [
        {
          "output_type": "execute_result",
          "data": {
            "text/plain": [
              "'abc@gmail.com'"
            ],
            "application/vnd.google.colaboratory.intrinsic+json": {
              "type": "string"
            }
          },
          "metadata": {},
          "execution_count": 15
        }
      ]
    },
    {
      "cell_type": "code",
      "source": [
        "p.student_details()"
      ],
      "metadata": {
        "colab": {
          "base_uri": "https://localhost:8080/"
        },
        "id": "nTKpcEVBghut",
        "outputId": "5103995d-2b0a-4c19-899a-f155e63a7e48"
      },
      "execution_count": 16,
      "outputs": [
        {
          "output_type": "execute_result",
          "data": {
            "text/plain": [
              "('Monika', 'abc@gmail.com')"
            ]
          },
          "metadata": {},
          "execution_count": 16
        }
      ]
    },
    {
      "cell_type": "code",
      "source": [],
      "metadata": {
        "id": "oi40bbjWghxd"
      },
      "execution_count": 16,
      "outputs": []
    },
    {
      "cell_type": "markdown",
      "source": [
        "# How to create a class method"
      ],
      "metadata": {
        "id": "uYTzXeL7dmCm"
      }
    },
    {
      "cell_type": "code",
      "source": [
        "class pwskills2 :\n",
        "\n",
        "  def __init__(self, name, email):\n",
        "    self.name = name\n",
        "    self.email = email\n",
        "\n",
        "  @classmethod                              # added\n",
        "  def details(cls, name, email):\n",
        "    return cls(name, email)\n",
        "\n",
        "  def student_details(self):\n",
        "    return self.name, self.email\n"
      ],
      "metadata": {
        "id": "UZU23DZUghzp"
      },
      "execution_count": 23,
      "outputs": []
    },
    {
      "cell_type": "code",
      "source": [
        "pwskills2.details('Chana', \"chanamasala@gmail.com\")"
      ],
      "metadata": {
        "id": "9fnbmVRigh2O",
        "colab": {
          "base_uri": "https://localhost:8080/"
        },
        "outputId": "0cd9ef43-2ea3-48d7-cb40-a595cd5f2b04"
      },
      "execution_count": 24,
      "outputs": [
        {
          "output_type": "execute_result",
          "data": {
            "text/plain": [
              "<__main__.pwskills2 at 0x798b84818ed0>"
            ]
          },
          "metadata": {},
          "execution_count": 24
        }
      ]
    },
    {
      "cell_type": "code",
      "source": [
        "pw2 = pwskills2.details('Pushpak', \"pu@gmail.com\")"
      ],
      "metadata": {
        "id": "1VvDhNvXgh46"
      },
      "execution_count": 25,
      "outputs": []
    },
    {
      "cell_type": "code",
      "source": [
        "print(type(pw2))"
      ],
      "metadata": {
        "id": "Zv4XS06_gh7c",
        "colab": {
          "base_uri": "https://localhost:8080/"
        },
        "outputId": "47cef91e-4f38-45b7-cc99-6067d835c224"
      },
      "execution_count": 27,
      "outputs": [
        {
          "output_type": "stream",
          "name": "stdout",
          "text": [
            "<class '__main__.pwskills2'>\n"
          ]
        }
      ]
    },
    {
      "cell_type": "code",
      "source": [
        "pw2.name"
      ],
      "metadata": {
        "id": "Oxahx-a5gh-F",
        "colab": {
          "base_uri": "https://localhost:8080/",
          "height": 36
        },
        "outputId": "c1f238c6-3490-40ae-8aee-74a77320d6ad"
      },
      "execution_count": 28,
      "outputs": [
        {
          "output_type": "execute_result",
          "data": {
            "text/plain": [
              "'Pushpak'"
            ],
            "application/vnd.google.colaboratory.intrinsic+json": {
              "type": "string"
            }
          },
          "metadata": {},
          "execution_count": 28
        }
      ]
    },
    {
      "cell_type": "code",
      "source": [
        "pw2.email"
      ],
      "metadata": {
        "id": "TAUQRtdOgiBg",
        "colab": {
          "base_uri": "https://localhost:8080/",
          "height": 36
        },
        "outputId": "19fc16ab-34f4-4736-e3ce-354aeeb4f7f5"
      },
      "execution_count": 29,
      "outputs": [
        {
          "output_type": "execute_result",
          "data": {
            "text/plain": [
              "'pu@gmail.com'"
            ],
            "application/vnd.google.colaboratory.intrinsic+json": {
              "type": "string"
            }
          },
          "metadata": {},
          "execution_count": 29
        }
      ]
    },
    {
      "cell_type": "code",
      "source": [
        "pw2.student_details"
      ],
      "metadata": {
        "colab": {
          "base_uri": "https://localhost:8080/",
          "height": 103
        },
        "id": "4CTrZagp0W8h",
        "outputId": "1a74aaf3-c088-4cb0-8300-1362eb5db164"
      },
      "execution_count": 30,
      "outputs": [
        {
          "output_type": "execute_result",
          "data": {
            "text/plain": [
              "<bound method pwskills2.student_details of <__main__.pwskills2 object at 0x798b848184d0>>"
            ],
            "text/html": [
              "<div style=\"max-width:800px; border: 1px solid var(--colab-border-color);\"><style>\n",
              "      pre.function-repr-contents {\n",
              "        overflow-x: auto;\n",
              "        padding: 8px 12px;\n",
              "        max-height: 500px;\n",
              "      }\n",
              "\n",
              "      pre.function-repr-contents.function-repr-contents-collapsed {\n",
              "        cursor: pointer;\n",
              "        max-height: 100px;\n",
              "      }\n",
              "    </style>\n",
              "    <pre style=\"white-space: initial; background:\n",
              "         var(--colab-secondary-surface-color); padding: 8px 12px;\n",
              "         border-bottom: 1px solid var(--colab-border-color);\"><b>pwskills2.student_details</b><br/>def student_details()</pre><pre class=\"function-repr-contents function-repr-contents-collapsed\" style=\"\"><a class=\"filepath\" style=\"display:none\" href=\"#\">/content/&lt;ipython-input-23-592a12160751&gt;</a>&lt;no docstring&gt;</pre></div>"
            ]
          },
          "metadata": {},
          "execution_count": 30
        }
      ]
    },
    {
      "cell_type": "markdown",
      "source": [
        "Here, details() is a class method which is overloading the init(). We use 'cls' keyword for that.\n",
        "\n",
        "Benefit: Without creating an object, we can pass attributes to a class(and its functions) using a **class method**."
      ],
      "metadata": {
        "id": "lodyNREx1aQ4"
      }
    },
    {
      "cell_type": "code",
      "source": [],
      "metadata": {
        "id": "VfpUT2-s0ZXI"
      },
      "execution_count": null,
      "outputs": []
    },
    {
      "cell_type": "markdown",
      "source": [
        "# Creating class variable"
      ],
      "metadata": {
        "id": "30GL7SkJ-45b"
      }
    },
    {
      "cell_type": "code",
      "source": [
        "class pwskills3 :\n",
        "\n",
        "  phone_number = 9141241323\n",
        "\n",
        "  def __init__(self, name, email):\n",
        "    self.name = name\n",
        "    self.email = email\n",
        "\n",
        "  @classmethod                                  # added\n",
        "  def change_number(cls, new_number):\n",
        "    pwskills3.phone_number = new_number\n",
        "\n",
        "  @classmethod\n",
        "  def details(cls, name, email):\n",
        "    return cls(name, email)\n",
        "\n",
        "  def student_details(self):\n",
        "    return self.name, self.email\n"
      ],
      "metadata": {
        "id": "2HopbCr51Zmw"
      },
      "execution_count": 34,
      "outputs": []
    },
    {
      "cell_type": "code",
      "source": [
        "pwskills3.phone_number"
      ],
      "metadata": {
        "colab": {
          "base_uri": "https://localhost:8080/"
        },
        "id": "drPc2xsB1Zpd",
        "outputId": "033cc82f-b64b-4f3b-f28b-1c32cb10e564"
      },
      "execution_count": 32,
      "outputs": [
        {
          "output_type": "execute_result",
          "data": {
            "text/plain": [
              "9141241323"
            ]
          },
          "metadata": {},
          "execution_count": 32
        }
      ]
    },
    {
      "cell_type": "code",
      "source": [
        "pwskills3.change_number(0000000000000)"
      ],
      "metadata": {
        "id": "NmK_K1D21Zse"
      },
      "execution_count": 35,
      "outputs": []
    },
    {
      "cell_type": "code",
      "source": [
        "pwskills3.phone_number"
      ],
      "metadata": {
        "colab": {
          "base_uri": "https://localhost:8080/"
        },
        "id": "A4Pial9-1ZvF",
        "outputId": "0a3fd34b-ac47-49b8-c389-b4ec84c742e4"
      },
      "execution_count": 36,
      "outputs": [
        {
          "output_type": "execute_result",
          "data": {
            "text/plain": [
              "0"
            ]
          },
          "metadata": {},
          "execution_count": 36
        }
      ]
    },
    {
      "cell_type": "code",
      "source": [],
      "metadata": {
        "id": "6PkTd1I-1Zx3"
      },
      "execution_count": null,
      "outputs": []
    },
    {
      "cell_type": "code",
      "source": [
        "class pwskills4 :\n",
        "\n",
        "  phone_number = 9141241323\n",
        "\n",
        "  def __init__(self, name, email):\n",
        "    self.name = name\n",
        "    self.email = email\n",
        "\n",
        "  @classmethod\n",
        "  def change_number(cls, new_number):\n",
        "    pwskills4.phone_number = new_number\n",
        "\n",
        "  @classmethod\n",
        "  def details(cls, name, email):\n",
        "    return cls(name, email)\n",
        "\n",
        "  def student_details(self):\n",
        "    return self.name, self.email, pwskills4.phone_number    # added\n"
      ],
      "metadata": {
        "id": "FDmiXkBH1Z0y"
      },
      "execution_count": 60,
      "outputs": []
    },
    {
      "cell_type": "code",
      "source": [],
      "metadata": {
        "id": "hRFqgwPyIf-E"
      },
      "execution_count": null,
      "outputs": []
    },
    {
      "cell_type": "markdown",
      "source": [
        "Here, we can access the class functions by 2 means -\n",
        "\n",
        "1.) Create an object of class pwskills4 and access them via object.\n",
        "\n",
        "2.) Use classmethod 'details' to access them."
      ],
      "metadata": {
        "id": "JJlcxY00Db3p"
      }
    },
    {
      "cell_type": "markdown",
      "source": [
        "NOTE: If we use classmethod, we can pass arguments which can be accessed buy another class function(like student_details)."
      ],
      "metadata": {
        "id": "S3i8HixzELSS"
      }
    },
    {
      "cell_type": "code",
      "source": [
        "# Method1\n",
        "\n",
        "pw4 = pwskills4(\"Ginni\", \"ginny@gmail.com\")"
      ],
      "metadata": {
        "id": "7BJem90z1Z2_"
      },
      "execution_count": 61,
      "outputs": []
    },
    {
      "cell_type": "code",
      "source": [
        "pw4.student_details()"
      ],
      "metadata": {
        "colab": {
          "base_uri": "https://localhost:8080/"
        },
        "id": "GIKHRghD1Z60",
        "outputId": "b76b7656-8019-491f-8421-54f8a06d5d32"
      },
      "execution_count": 62,
      "outputs": [
        {
          "output_type": "execute_result",
          "data": {
            "text/plain": [
              "('Ginni', 'ginny@gmail.com', 9141241323)"
            ]
          },
          "metadata": {},
          "execution_count": 62
        }
      ]
    },
    {
      "cell_type": "code",
      "source": [
        "pw4.change_number(11111111111)"
      ],
      "metadata": {
        "id": "5w8P2P9ZFCpx"
      },
      "execution_count": 63,
      "outputs": []
    },
    {
      "cell_type": "code",
      "source": [],
      "metadata": {
        "id": "sG09v5ApFJVo"
      },
      "execution_count": null,
      "outputs": []
    },
    {
      "cell_type": "code",
      "source": [
        "# Method2\n",
        "\n",
        "p4 = pwskills4.details(\"joker\", \"joker@gmail.com\")"
      ],
      "metadata": {
        "id": "vnpxskdFFKpa"
      },
      "execution_count": 64,
      "outputs": []
    },
    {
      "cell_type": "code",
      "source": [
        "p4.student_details()"
      ],
      "metadata": {
        "colab": {
          "base_uri": "https://localhost:8080/"
        },
        "id": "p6UWNaxJFKsC",
        "outputId": "ffc0400b-28ca-4949-a318-8ec0abe7db8d"
      },
      "execution_count": 65,
      "outputs": [
        {
          "output_type": "execute_result",
          "data": {
            "text/plain": [
              "('joker', 'joker@gmail.com', 11111111111)"
            ]
          },
          "metadata": {},
          "execution_count": 65
        }
      ]
    },
    {
      "cell_type": "code",
      "source": [
        "p4.change_number(22222222222)"
      ],
      "metadata": {
        "id": "mMVqeRZ3FKvL"
      },
      "execution_count": 66,
      "outputs": []
    },
    {
      "cell_type": "code",
      "source": [
        "p4.student_details()"
      ],
      "metadata": {
        "colab": {
          "base_uri": "https://localhost:8080/"
        },
        "id": "BlqUIHJ0FKyw",
        "outputId": "a7c95c9b-384e-4c00-ba26-99107a1e1206"
      },
      "execution_count": 67,
      "outputs": [
        {
          "output_type": "execute_result",
          "data": {
            "text/plain": [
              "('joker', 'joker@gmail.com', 22222222222)"
            ]
          },
          "metadata": {},
          "execution_count": 67
        }
      ]
    },
    {
      "cell_type": "code",
      "source": [
        "p4.change_number(3333333333)"
      ],
      "metadata": {
        "id": "RPCUhQg8FmKP"
      },
      "execution_count": 68,
      "outputs": []
    },
    {
      "cell_type": "code",
      "source": [],
      "metadata": {
        "id": "Lu-0LW7sHqoP"
      },
      "execution_count": null,
      "outputs": []
    },
    {
      "cell_type": "markdown",
      "source": [
        "# How to include an external function in a class"
      ],
      "metadata": {
        "id": "rAm80AH_IOwo"
      }
    },
    {
      "cell_type": "code",
      "source": [
        "def course_details(cls, course_name):\n",
        "  print(\"course name is \", course_name)\n",
        ""
      ],
      "metadata": {
        "id": "BNZDz6FqH98z"
      },
      "execution_count": 70,
      "outputs": []
    },
    {
      "cell_type": "code",
      "source": [
        "pwskills4.course_details = classmethod(course_details)"
      ],
      "metadata": {
        "id": "OV0hzc7GIjzY"
      },
      "execution_count": 71,
      "outputs": []
    },
    {
      "cell_type": "code",
      "source": [
        "pwskills4.course_details(\"Data science MASTER\")"
      ],
      "metadata": {
        "colab": {
          "base_uri": "https://localhost:8080/"
        },
        "id": "zYAXcOLbIj2S",
        "outputId": "2762f910-7a6b-4afa-a4dd-6813a76a5260"
      },
      "execution_count": 72,
      "outputs": [
        {
          "output_type": "stream",
          "name": "stdout",
          "text": [
            "course name is  Data science MASTER\n"
          ]
        }
      ]
    },
    {
      "cell_type": "code",
      "source": [],
      "metadata": {
        "id": "CnQcwx7dIj5V"
      },
      "execution_count": null,
      "outputs": []
    },
    {
      "cell_type": "code",
      "source": [
        "def mentor(cls, list_of_mentor):\n",
        "  print(\"list of mentors: \", list_of_mentor)\n",
        ""
      ],
      "metadata": {
        "id": "8oTQP03dIj8H"
      },
      "execution_count": 73,
      "outputs": []
    },
    {
      "cell_type": "code",
      "source": [
        "pwskills4.mentor = classmethod(mentor)"
      ],
      "metadata": {
        "id": "-wbBDIsUIj-p"
      },
      "execution_count": 74,
      "outputs": []
    },
    {
      "cell_type": "code",
      "source": [
        "pwskills4.mentor(['Krish', 'Sudh'])"
      ],
      "metadata": {
        "colab": {
          "base_uri": "https://localhost:8080/"
        },
        "id": "2QMdEbrDIkCY",
        "outputId": "de6741c9-2f0d-4ff9-918e-508cfb4b2eea"
      },
      "execution_count": 75,
      "outputs": [
        {
          "output_type": "stream",
          "name": "stdout",
          "text": [
            "list of mentors:  ['Krish', 'Sudh']\n"
          ]
        }
      ]
    },
    {
      "cell_type": "code",
      "source": [],
      "metadata": {
        "id": "SYsmyemSUqjn"
      },
      "execution_count": null,
      "outputs": []
    },
    {
      "cell_type": "markdown",
      "source": [
        "# How to delete a class method"
      ],
      "metadata": {
        "id": "2hTIfaFaaOmV"
      }
    },
    {
      "cell_type": "code",
      "source": [
        "del pwskills4.change_number"
      ],
      "metadata": {
        "id": "ep6SSHtVUyH_"
      },
      "execution_count": 76,
      "outputs": []
    },
    {
      "cell_type": "code",
      "source": [
        "pwskills4.change_number(88888888888)"
      ],
      "metadata": {
        "colab": {
          "base_uri": "https://localhost:8080/",
          "height": 141
        },
        "id": "pzoZcTgvUyK9",
        "outputId": "7d35c000-14a7-48da-aed6-cd041488978d"
      },
      "execution_count": 77,
      "outputs": [
        {
          "output_type": "error",
          "ename": "AttributeError",
          "evalue": "type object 'pwskills4' has no attribute 'change_number'",
          "traceback": [
            "\u001b[0;31m---------------------------------------------------------------------------\u001b[0m",
            "\u001b[0;31mAttributeError\u001b[0m                            Traceback (most recent call last)",
            "\u001b[0;32m<ipython-input-77-532f68292ff5>\u001b[0m in \u001b[0;36m<cell line: 0>\u001b[0;34m()\u001b[0m\n\u001b[0;32m----> 1\u001b[0;31m \u001b[0mpwskills4\u001b[0m\u001b[0;34m.\u001b[0m\u001b[0mchange_number\u001b[0m\u001b[0;34m(\u001b[0m\u001b[0;36m88888888888\u001b[0m\u001b[0;34m)\u001b[0m\u001b[0;34m\u001b[0m\u001b[0;34m\u001b[0m\u001b[0m\n\u001b[0m",
            "\u001b[0;31mAttributeError\u001b[0m: type object 'pwskills4' has no attribute 'change_number'"
          ]
        }
      ]
    },
    {
      "cell_type": "markdown",
      "source": [
        "'change number' class method is deleted from pwskills4 class."
      ],
      "metadata": {
        "id": "nPUzRH6uabKu"
      }
    },
    {
      "cell_type": "code",
      "source": [],
      "metadata": {
        "id": "SCGVrildUyN6"
      },
      "execution_count": null,
      "outputs": []
    },
    {
      "cell_type": "markdown",
      "source": [
        "### Second method to delete a class method"
      ],
      "metadata": {
        "id": "yqZs3AUYa1mi"
      }
    },
    {
      "cell_type": "code",
      "source": [
        "delattr(pwskills4, 'details')"
      ],
      "metadata": {
        "id": "Zv5udDsXUyQl"
      },
      "execution_count": 78,
      "outputs": []
    },
    {
      "cell_type": "code",
      "source": [
        "pwskills4.details('abc', 'abc@gmail.com')"
      ],
      "metadata": {
        "colab": {
          "base_uri": "https://localhost:8080/",
          "height": 141
        },
        "id": "i1ejyxZPUyT6",
        "outputId": "6917f96f-d1bd-4b17-eb45-d192db835534"
      },
      "execution_count": 79,
      "outputs": [
        {
          "output_type": "error",
          "ename": "AttributeError",
          "evalue": "type object 'pwskills4' has no attribute 'details'",
          "traceback": [
            "\u001b[0;31m---------------------------------------------------------------------------\u001b[0m",
            "\u001b[0;31mAttributeError\u001b[0m                            Traceback (most recent call last)",
            "\u001b[0;32m<ipython-input-79-3d95c1756a59>\u001b[0m in \u001b[0;36m<cell line: 0>\u001b[0;34m()\u001b[0m\n\u001b[0;32m----> 1\u001b[0;31m \u001b[0mpwskills4\u001b[0m\u001b[0;34m.\u001b[0m\u001b[0mdetails\u001b[0m\u001b[0;34m(\u001b[0m\u001b[0;34m'abc'\u001b[0m\u001b[0;34m,\u001b[0m \u001b[0;34m'abc@gmail.com'\u001b[0m\u001b[0;34m)\u001b[0m\u001b[0;34m\u001b[0m\u001b[0;34m\u001b[0m\u001b[0m\n\u001b[0m",
            "\u001b[0;31mAttributeError\u001b[0m: type object 'pwskills4' has no attribute 'details'"
          ]
        }
      ]
    },
    {
      "cell_type": "code",
      "source": [],
      "metadata": {
        "id": "k7tkvY5lbjzO"
      },
      "execution_count": null,
      "outputs": []
    },
    {
      "cell_type": "markdown",
      "source": [
        "# Delete a normal function of a class(not a class method) using 'delattr'"
      ],
      "metadata": {
        "id": "2thWMBUXbl6b"
      }
    },
    {
      "cell_type": "code",
      "source": [
        "delattr(pwskills4, 'student_details')"
      ],
      "metadata": {
        "id": "dH6m1UxDbtnW"
      },
      "execution_count": 80,
      "outputs": []
    },
    {
      "cell_type": "code",
      "source": [
        "pwskills4.student_details()"
      ],
      "metadata": {
        "colab": {
          "base_uri": "https://localhost:8080/",
          "height": 141
        },
        "id": "GhhrWeXib6Dt",
        "outputId": "a9599e69-4aa3-49ce-f715-d7819f007d7b"
      },
      "execution_count": 81,
      "outputs": [
        {
          "output_type": "error",
          "ename": "AttributeError",
          "evalue": "type object 'pwskills4' has no attribute 'student_details'",
          "traceback": [
            "\u001b[0;31m---------------------------------------------------------------------------\u001b[0m",
            "\u001b[0;31mAttributeError\u001b[0m                            Traceback (most recent call last)",
            "\u001b[0;32m<ipython-input-81-8375ab037658>\u001b[0m in \u001b[0;36m<cell line: 0>\u001b[0;34m()\u001b[0m\n\u001b[0;32m----> 1\u001b[0;31m \u001b[0mpwskills4\u001b[0m\u001b[0;34m.\u001b[0m\u001b[0mstudent_details\u001b[0m\u001b[0;34m(\u001b[0m\u001b[0;34m)\u001b[0m\u001b[0;34m\u001b[0m\u001b[0;34m\u001b[0m\u001b[0m\n\u001b[0m",
            "\u001b[0;31mAttributeError\u001b[0m: type object 'pwskills4' has no attribute 'student_details'"
          ]
        }
      ]
    },
    {
      "cell_type": "code",
      "source": [],
      "metadata": {
        "id": "BiJAf3hxb9Km"
      },
      "execution_count": null,
      "outputs": []
    },
    {
      "cell_type": "markdown",
      "source": [
        "# Deleting a class variable using 'delattr'"
      ],
      "metadata": {
        "id": "C5BfGB63cTe0"
      }
    },
    {
      "cell_type": "code",
      "source": [
        "delattr(pwskills4, 'phone_number')"
      ],
      "metadata": {
        "id": "aQhaJZvzcQjf"
      },
      "execution_count": 82,
      "outputs": []
    },
    {
      "cell_type": "code",
      "source": [
        "pwskills4.phone_number"
      ],
      "metadata": {
        "colab": {
          "base_uri": "https://localhost:8080/",
          "height": 141
        },
        "id": "CJmuTYARcQmN",
        "outputId": "2305b718-9bc1-4c06-9380-a11ef98dacbe"
      },
      "execution_count": 83,
      "outputs": [
        {
          "output_type": "error",
          "ename": "AttributeError",
          "evalue": "type object 'pwskills4' has no attribute 'phone_number'",
          "traceback": [
            "\u001b[0;31m---------------------------------------------------------------------------\u001b[0m",
            "\u001b[0;31mAttributeError\u001b[0m                            Traceback (most recent call last)",
            "\u001b[0;32m<ipython-input-83-5dd0c24bb57a>\u001b[0m in \u001b[0;36m<cell line: 0>\u001b[0;34m()\u001b[0m\n\u001b[0;32m----> 1\u001b[0;31m \u001b[0mpwskills4\u001b[0m\u001b[0;34m.\u001b[0m\u001b[0mphone_number\u001b[0m\u001b[0;34m\u001b[0m\u001b[0;34m\u001b[0m\u001b[0m\n\u001b[0m",
            "\u001b[0;31mAttributeError\u001b[0m: type object 'pwskills4' has no attribute 'phone_number'"
          ]
        }
      ]
    },
    {
      "cell_type": "code",
      "source": [],
      "metadata": {
        "id": "zuFOlOu-cQo3"
      },
      "execution_count": null,
      "outputs": []
    },
    {
      "cell_type": "code",
      "source": [],
      "metadata": {
        "id": "YMbMjaEFcQr3"
      },
      "execution_count": null,
      "outputs": []
    }
  ]
}
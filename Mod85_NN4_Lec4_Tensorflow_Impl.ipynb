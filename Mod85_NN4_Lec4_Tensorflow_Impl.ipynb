{
  "nbformat": 4,
  "nbformat_minor": 0,
  "metadata": {
    "colab": {
      "provenance": [],
      "gpuType": "T4"
    },
    "kernelspec": {
      "name": "python3",
      "display_name": "Python 3"
    },
    "language_info": {
      "name": "python"
    },
    "accelerator": "GPU"
  },
  "cells": [
    {
      "cell_type": "markdown",
      "source": [
        "# Tensorflow Implementation"
      ],
      "metadata": {
        "id": "ncbH0_ScrdVR"
      }
    },
    {
      "cell_type": "code",
      "execution_count": 102,
      "metadata": {
        "colab": {
          "base_uri": "https://localhost:8080/"
        },
        "id": "iraPLNNzrCGJ",
        "outputId": "6da93eff-d3c0-4f25-91ae-d4cceb947dde"
      },
      "outputs": [
        {
          "output_type": "stream",
          "name": "stdout",
          "text": [
            "Tensorflow version: 2.18.0\n",
            "Eager execution: True\n",
            "Keras version: 3.8.0\n"
          ]
        }
      ],
      "source": [
        "import tensorflow as tf\n",
        "\n",
        "print(\"Tensorflow version: {}\".format(tf.__version__))\n",
        "print(\"Eager execution: {}\".format(tf.executing_eagerly()))\n",
        "print(\"Keras version: {}\".format(tf.keras.__version__))"
      ]
    },
    {
      "cell_type": "code",
      "source": [],
      "metadata": {
        "id": "oXbTLBGPrNLk"
      },
      "execution_count": 102,
      "outputs": []
    },
    {
      "cell_type": "code",
      "source": [
        "if tf.test.is_gpu_available():\n",
        "    print(\"Running on GPU\")\n",
        "else:\n",
        "    print(\"Running on CPU\")\n"
      ],
      "metadata": {
        "colab": {
          "base_uri": "https://localhost:8080/"
        },
        "id": "X0whgRa1rNOZ",
        "outputId": "65aa8cc8-ae15-4797-ff63-4c44b37f8ee5"
      },
      "execution_count": 103,
      "outputs": [
        {
          "output_type": "stream",
          "name": "stdout",
          "text": [
            "Running on CPU\n"
          ]
        }
      ]
    },
    {
      "cell_type": "code",
      "source": [
        "tf.config.list_physical_devices('CPU')"
      ],
      "metadata": {
        "colab": {
          "base_uri": "https://localhost:8080/"
        },
        "id": "FK2b57brrNRh",
        "outputId": "65d13af1-2a68-4457-e3e1-a566859eee02"
      },
      "execution_count": 104,
      "outputs": [
        {
          "output_type": "execute_result",
          "data": {
            "text/plain": [
              "[PhysicalDevice(name='/physical_device:CPU:0', device_type='CPU')]"
            ]
          },
          "metadata": {},
          "execution_count": 104
        }
      ]
    },
    {
      "cell_type": "code",
      "source": [
        "tf.config.list_physical_devices('GPU')"
      ],
      "metadata": {
        "colab": {
          "base_uri": "https://localhost:8080/"
        },
        "id": "BZM6DSLYrNUU",
        "outputId": "75245111-6f3c-4830-e3a8-3c881f9f1888"
      },
      "execution_count": 105,
      "outputs": [
        {
          "output_type": "execute_result",
          "data": {
            "text/plain": [
              "[]"
            ]
          },
          "metadata": {},
          "execution_count": 105
        }
      ]
    },
    {
      "cell_type": "code",
      "source": [],
      "metadata": {
        "id": "vqhhvLPvrNWt"
      },
      "execution_count": 105,
      "outputs": []
    },
    {
      "cell_type": "markdown",
      "source": [
        "# Tensor constant"
      ],
      "metadata": {
        "id": "jgIqfpnZ0f7c"
      }
    },
    {
      "cell_type": "code",
      "source": [
        "num = tf.constant(42)"
      ],
      "metadata": {
        "id": "OumQrZR3rNZt"
      },
      "execution_count": 106,
      "outputs": []
    },
    {
      "cell_type": "code",
      "source": [
        "num"
      ],
      "metadata": {
        "colab": {
          "base_uri": "https://localhost:8080/"
        },
        "id": "hslLazyVrNdJ",
        "outputId": "5c68cfc4-8140-4c06-9d72-ca75166c96e9"
      },
      "execution_count": 107,
      "outputs": [
        {
          "output_type": "execute_result",
          "data": {
            "text/plain": [
              "<tf.Tensor: shape=(), dtype=int32, numpy=42>"
            ]
          },
          "metadata": {},
          "execution_count": 107
        }
      ]
    },
    {
      "cell_type": "code",
      "source": [
        "num.numpy()"
      ],
      "metadata": {
        "colab": {
          "base_uri": "https://localhost:8080/"
        },
        "id": "uVsxZhjOrbsk",
        "outputId": "070d9205-ee64-4b97-d0c7-eef9dd8e46e8"
      },
      "execution_count": 108,
      "outputs": [
        {
          "output_type": "execute_result",
          "data": {
            "text/plain": [
              "np.int32(42)"
            ]
          },
          "metadata": {},
          "execution_count": 108
        }
      ]
    },
    {
      "cell_type": "code",
      "source": [
        "num1 = tf.constant(1, dtype = tf.int64)\n",
        "num1"
      ],
      "metadata": {
        "colab": {
          "base_uri": "https://localhost:8080/"
        },
        "id": "xol68YvorbvY",
        "outputId": "ff850b45-048e-4339-8216-c2d9fa2107c1"
      },
      "execution_count": 109,
      "outputs": [
        {
          "output_type": "execute_result",
          "data": {
            "text/plain": [
              "<tf.Tensor: shape=(), dtype=int64, numpy=1>"
            ]
          },
          "metadata": {},
          "execution_count": 109
        }
      ]
    },
    {
      "cell_type": "code",
      "source": [
        "num_array = tf.constant([[10,20] , [30,40]])\n",
        "print(num_array)"
      ],
      "metadata": {
        "colab": {
          "base_uri": "https://localhost:8080/"
        },
        "id": "HeMq6DDwrbyK",
        "outputId": "f4e04900-0611-4c10-b80c-84da81a2bb82"
      },
      "execution_count": 110,
      "outputs": [
        {
          "output_type": "stream",
          "name": "stdout",
          "text": [
            "tf.Tensor(\n",
            "[[10 20]\n",
            " [30 40]], shape=(2, 2), dtype=int32)\n"
          ]
        }
      ]
    },
    {
      "cell_type": "code",
      "source": [
        "num_array.numpy()"
      ],
      "metadata": {
        "colab": {
          "base_uri": "https://localhost:8080/"
        },
        "id": "MgwSju3Brb1H",
        "outputId": "2178e8a6-3d51-442f-d016-0dde774b1b41"
      },
      "execution_count": 111,
      "outputs": [
        {
          "output_type": "execute_result",
          "data": {
            "text/plain": [
              "array([[10, 20],\n",
              "       [30, 40]], dtype=int32)"
            ]
          },
          "metadata": {},
          "execution_count": 111
        }
      ]
    },
    {
      "cell_type": "code",
      "source": [],
      "metadata": {
        "id": "bUsdOzuerb4X"
      },
      "execution_count": 111,
      "outputs": []
    },
    {
      "cell_type": "markdown",
      "source": [
        "# To make arrays of 0s and 1s"
      ],
      "metadata": {
        "id": "kOyV-RiQWRCd"
      }
    },
    {
      "cell_type": "code",
      "source": [
        "print(tf.ones(shape = (2, 3)))"
      ],
      "metadata": {
        "id": "Rllypzwx5ySQ",
        "colab": {
          "base_uri": "https://localhost:8080/"
        },
        "outputId": "614a4c23-717f-4bce-9337-e1e9b91c02cc"
      },
      "execution_count": 112,
      "outputs": [
        {
          "output_type": "stream",
          "name": "stdout",
          "text": [
            "tf.Tensor(\n",
            "[[1. 1. 1.]\n",
            " [1. 1. 1.]], shape=(2, 3), dtype=float32)\n"
          ]
        }
      ]
    },
    {
      "cell_type": "code",
      "source": [
        "print(tf.zeros(shape = (3,2)))"
      ],
      "metadata": {
        "id": "YhsNTv8z5yVZ",
        "colab": {
          "base_uri": "https://localhost:8080/"
        },
        "outputId": "acb9158a-08df-4452-f6cd-b03a6393d01d"
      },
      "execution_count": 113,
      "outputs": [
        {
          "output_type": "stream",
          "name": "stdout",
          "text": [
            "tf.Tensor(\n",
            "[[0. 0.]\n",
            " [0. 0.]\n",
            " [0. 0.]], shape=(3, 2), dtype=float32)\n"
          ]
        }
      ]
    },
    {
      "cell_type": "code",
      "source": [],
      "metadata": {
        "id": "uORvnghb5yYQ"
      },
      "execution_count": 113,
      "outputs": []
    },
    {
      "cell_type": "code",
      "source": [
        "cons1 = tf.constant([[1, 2, 3], [4, 5, 6]])\n",
        "cons2 = tf.constant([[10, 20, 30], [40, 50, 60]])\n",
        "result = tf.add(cons1, cons2)\n",
        "\n",
        "print(result)"
      ],
      "metadata": {
        "id": "j70IZ8fs5ybU",
        "colab": {
          "base_uri": "https://localhost:8080/"
        },
        "outputId": "30d7916b-f0f4-4e86-a25c-34211aa94cc5"
      },
      "execution_count": 114,
      "outputs": [
        {
          "output_type": "stream",
          "name": "stdout",
          "text": [
            "tf.Tensor(\n",
            "[[11 22 33]\n",
            " [44 55 66]], shape=(2, 3), dtype=int32)\n"
          ]
        }
      ]
    },
    {
      "cell_type": "code",
      "source": [],
      "metadata": {
        "id": "-2uL180u5yd9"
      },
      "execution_count": 114,
      "outputs": []
    },
    {
      "cell_type": "markdown",
      "source": [
        "# Random constant"
      ],
      "metadata": {
        "id": "BcdNw-5CYJoC"
      }
    },
    {
      "cell_type": "code",
      "source": [
        "tf.random.normal(shape = (2,2), mean= 0, stddev = 1.0)"
      ],
      "metadata": {
        "colab": {
          "base_uri": "https://localhost:8080/"
        },
        "id": "4D0_JdHyYHh_",
        "outputId": "088d05ef-adcd-4b18-cd58-5c8e5b6549b2"
      },
      "execution_count": 115,
      "outputs": [
        {
          "output_type": "execute_result",
          "data": {
            "text/plain": [
              "<tf.Tensor: shape=(2, 2), dtype=float32, numpy=\n",
              "array([[-1.8384007 , -0.47512755],\n",
              "       [ 0.38359565, -0.74579424]], dtype=float32)>"
            ]
          },
          "metadata": {},
          "execution_count": 115
        }
      ]
    },
    {
      "cell_type": "code",
      "source": [
        "tf.random.uniform(shape = (3, 3), minval= 0, maxval = 10, dtype = tf.int32)"
      ],
      "metadata": {
        "colab": {
          "base_uri": "https://localhost:8080/"
        },
        "id": "BcbM4RNWYHkv",
        "outputId": "b8e55184-8f88-4338-ec98-138c825fdc75"
      },
      "execution_count": 116,
      "outputs": [
        {
          "output_type": "execute_result",
          "data": {
            "text/plain": [
              "<tf.Tensor: shape=(3, 3), dtype=int32, numpy=\n",
              "array([[0, 1, 2],\n",
              "       [2, 1, 6],\n",
              "       [5, 0, 0]], dtype=int32)>"
            ]
          },
          "metadata": {},
          "execution_count": 116
        }
      ]
    },
    {
      "cell_type": "code",
      "source": [],
      "metadata": {
        "id": "ftTQ0X40YhEb"
      },
      "execution_count": 116,
      "outputs": []
    },
    {
      "cell_type": "markdown",
      "source": [
        "## Variables"
      ],
      "metadata": {
        "id": "AOVpf2MSYZxf"
      }
    },
    {
      "cell_type": "code",
      "source": [
        "var = 33\n",
        "var0 = tf.Variable(42)      # Rank0 tensor\n",
        "var3 = tf.Variable([ [ [1,2,100], [3,4,200] ], [ [5,6,300],[7,8,400] ] ])     # Rank3 tensor"
      ],
      "metadata": {
        "id": "q5QKJjD7YHnl"
      },
      "execution_count": 117,
      "outputs": []
    },
    {
      "cell_type": "code",
      "source": [
        "print(\"Python variable: \", var)\n",
        "print(\"\\nRank0 variable: \", var0)\n",
        "print(\"\\nRank3 variable: \", var3)"
      ],
      "metadata": {
        "colab": {
          "base_uri": "https://localhost:8080/"
        },
        "id": "8GxLuf6RYHqU",
        "outputId": "2b1b8903-7e75-45f1-dddf-3db11e0c0938"
      },
      "execution_count": 118,
      "outputs": [
        {
          "output_type": "stream",
          "name": "stdout",
          "text": [
            "Python variable:  33\n",
            "\n",
            "Rank0 variable:  <tf.Variable 'Variable:0' shape=() dtype=int32, numpy=42>\n",
            "\n",
            "Rank3 variable:  <tf.Variable 'Variable:0' shape=(2, 2, 3) dtype=int32, numpy=\n",
            "array([[[  1,   2, 100],\n",
            "        [  3,   4, 200]],\n",
            "\n",
            "       [[  5,   6, 300],\n",
            "        [  7,   8, 400]]], dtype=int32)>\n"
          ]
        }
      ]
    },
    {
      "cell_type": "code",
      "source": [],
      "metadata": {
        "id": "KSaIFf2KYHs4"
      },
      "execution_count": 118,
      "outputs": []
    },
    {
      "cell_type": "markdown",
      "source": [
        "## Explicitly satisfying the datatype"
      ],
      "metadata": {
        "id": "82HKQW6Mcpc5"
      }
    },
    {
      "cell_type": "code",
      "source": [
        "float_var64 = tf.Variable(100, dtype = tf.float64)\n",
        "float_var64.dtype"
      ],
      "metadata": {
        "colab": {
          "base_uri": "https://localhost:8080/"
        },
        "id": "obYlwWSUYHvZ",
        "outputId": "329de9c5-517e-4d4c-99b5-3452c02df1d9"
      },
      "execution_count": 119,
      "outputs": [
        {
          "output_type": "execute_result",
          "data": {
            "text/plain": [
              "tf.float64"
            ]
          },
          "metadata": {},
          "execution_count": 119
        }
      ]
    },
    {
      "cell_type": "code",
      "source": [],
      "metadata": {
        "id": "6OkPgRvNYHyR"
      },
      "execution_count": 119,
      "outputs": []
    },
    {
      "cell_type": "markdown",
      "source": [
        "## Reassigning a variable"
      ],
      "metadata": {
        "id": "X9kjekUboSCY"
      }
    },
    {
      "cell_type": "code",
      "source": [
        "var1 = tf.Variable(100)\n",
        "var1"
      ],
      "metadata": {
        "colab": {
          "base_uri": "https://localhost:8080/"
        },
        "id": "uXbjes8tYH07",
        "outputId": "824cb610-fe13-41c8-b199-9d9670fc5ca3"
      },
      "execution_count": 120,
      "outputs": [
        {
          "output_type": "execute_result",
          "data": {
            "text/plain": [
              "<tf.Variable 'Variable:0' shape=() dtype=int32, numpy=100>"
            ]
          },
          "metadata": {},
          "execution_count": 120
        }
      ]
    },
    {
      "cell_type": "code",
      "source": [
        "var1.assign(200)\n",
        "var1"
      ],
      "metadata": {
        "colab": {
          "base_uri": "https://localhost:8080/"
        },
        "id": "uduLsBoLYH3h",
        "outputId": "c24f8115-aa4a-4d51-8196-8a7cd606879e"
      },
      "execution_count": 121,
      "outputs": [
        {
          "output_type": "execute_result",
          "data": {
            "text/plain": [
              "<tf.Variable 'Variable:0' shape=() dtype=int32, numpy=200>"
            ]
          },
          "metadata": {},
          "execution_count": 121
        }
      ]
    },
    {
      "cell_type": "code",
      "source": [
        "initital_val = tf.random.normal(shape = (2,3))\n",
        "print(initital_val)\n",
        "\n",
        "a = tf.Variable(initital_val)\n",
        "print(a)"
      ],
      "metadata": {
        "colab": {
          "base_uri": "https://localhost:8080/"
        },
        "id": "QNQAGFGlYH6J",
        "outputId": "35cbcba3-5aba-419a-f403-7f77579e2f03"
      },
      "execution_count": 122,
      "outputs": [
        {
          "output_type": "stream",
          "name": "stdout",
          "text": [
            "tf.Tensor(\n",
            "[[ 0.345975   -0.7813318  -2.1645963 ]\n",
            " [ 0.44911915  1.5323876   1.3402948 ]], shape=(2, 3), dtype=float32)\n",
            "<tf.Variable 'Variable:0' shape=(2, 3) dtype=float32, numpy=\n",
            "array([[ 0.345975  , -0.7813318 , -2.1645963 ],\n",
            "       [ 0.44911915,  1.5323876 ,  1.3402948 ]], dtype=float32)>\n"
          ]
        }
      ]
    },
    {
      "cell_type": "code",
      "source": [],
      "metadata": {
        "id": "ySEoTillYH9M"
      },
      "execution_count": 122,
      "outputs": []
    },
    {
      "cell_type": "markdown",
      "source": [
        "NOTE: We can assign \"=\" with assign(value) or assign_add(value) with \"+=\" or assign_sub(value) with \"-=\""
      ],
      "metadata": {
        "id": "5fkb7JtmPcqS"
      }
    },
    {
      "cell_type": "code",
      "source": [
        "new_val = tf.random.normal(shape=(2,3))\n",
        "a.assign(new_val)\n",
        "\n",
        "for i in range(2):\n",
        "  for j in range(2):\n",
        "    assert a[i,j] == new_val[i,j]"
      ],
      "metadata": {
        "id": "Jl4KugTDYH_1"
      },
      "execution_count": 123,
      "outputs": []
    },
    {
      "cell_type": "code",
      "source": [],
      "metadata": {
        "id": "ctE0iezsJU7E"
      },
      "execution_count": 123,
      "outputs": []
    },
    {
      "cell_type": "markdown",
      "source": [
        "# Shaping a tensor"
      ],
      "metadata": {
        "id": "3eMPOM-lohnp"
      }
    },
    {
      "cell_type": "code",
      "source": [
        "tensor = tf.Variable([ [ [1 ,2, 100], [3, 4, 200] ], [ [5, 6, 300], [7, 8, 400] ] ])\n",
        "tensor"
      ],
      "metadata": {
        "id": "srIkak1wYICr",
        "colab": {
          "base_uri": "https://localhost:8080/"
        },
        "outputId": "d76cbf93-2329-4e39-f91b-251cc4a98d0e"
      },
      "execution_count": 124,
      "outputs": [
        {
          "output_type": "execute_result",
          "data": {
            "text/plain": [
              "<tf.Variable 'Variable:0' shape=(2, 2, 3) dtype=int32, numpy=\n",
              "array([[[  1,   2, 100],\n",
              "        [  3,   4, 200]],\n",
              "\n",
              "       [[  5,   6, 300],\n",
              "        [  7,   8, 400]]], dtype=int32)>"
            ]
          },
          "metadata": {},
          "execution_count": 124
        }
      ]
    },
    {
      "cell_type": "code",
      "source": [
        "tensor.shape"
      ],
      "metadata": {
        "id": "HVOXftqyYIFb",
        "colab": {
          "base_uri": "https://localhost:8080/"
        },
        "outputId": "aa660797-3929-417b-80a7-21f78a08b2b6"
      },
      "execution_count": 125,
      "outputs": [
        {
          "output_type": "execute_result",
          "data": {
            "text/plain": [
              "TensorShape([2, 2, 3])"
            ]
          },
          "metadata": {},
          "execution_count": 125
        }
      ]
    },
    {
      "cell_type": "code",
      "source": [],
      "metadata": {
        "id": "2g4EmgpbYIIu"
      },
      "execution_count": 125,
      "outputs": []
    },
    {
      "cell_type": "markdown",
      "source": [
        "NOTE: Tensors may be reshaped and retain the same values, as is often required for constructing neural networks."
      ],
      "metadata": {
        "id": "80sFOKdCpUTD"
      }
    },
    {
      "cell_type": "code",
      "source": [
        "tensor1 = tf.reshape(tensor, [1, 12]) # one row, 8 columns\n",
        "tensor1"
      ],
      "metadata": {
        "id": "lwnNmszuYINZ",
        "colab": {
          "base_uri": "https://localhost:8080/"
        },
        "outputId": "44a191a0-7183-4c15-b7f1-2b518ae6c51f"
      },
      "execution_count": 126,
      "outputs": [
        {
          "output_type": "execute_result",
          "data": {
            "text/plain": [
              "<tf.Tensor: shape=(1, 12), dtype=int32, numpy=\n",
              "array([[  1,   2, 100,   3,   4, 200,   5,   6, 300,   7,   8, 400]],\n",
              "      dtype=int32)>"
            ]
          },
          "metadata": {},
          "execution_count": 126
        }
      ]
    },
    {
      "cell_type": "code",
      "source": [
        "tensor2 = tf.reshape(tensor, [3, 4])\n",
        "tensor2"
      ],
      "metadata": {
        "id": "_mdpEzpKYIQU",
        "colab": {
          "base_uri": "https://localhost:8080/"
        },
        "outputId": "a2e4684b-d8d3-4eaa-fb8e-34e31f0f8986"
      },
      "execution_count": 127,
      "outputs": [
        {
          "output_type": "execute_result",
          "data": {
            "text/plain": [
              "<tf.Tensor: shape=(3, 4), dtype=int32, numpy=\n",
              "array([[  1,   2, 100,   3],\n",
              "       [  4, 200,   5,   6],\n",
              "       [300,   7,   8, 400]], dtype=int32)>"
            ]
          },
          "metadata": {},
          "execution_count": 127
        }
      ]
    },
    {
      "cell_type": "code",
      "source": [],
      "metadata": {
        "id": "z8O01idWYITw"
      },
      "execution_count": 127,
      "outputs": []
    },
    {
      "cell_type": "markdown",
      "source": [
        "# Rank of a tensor\n",
        "\n",
        "No. of dimensions it has. i. e. the number of indices that are required to specify any particular element of that tensor."
      ],
      "metadata": {
        "id": "czVbm6GLHguX"
      }
    },
    {
      "cell_type": "code",
      "source": [
        "tf.rank(tensor)\n",
        "# the shape =() because the O/P here is a scaler value"
      ],
      "metadata": {
        "id": "C6K8s-ll5yhI",
        "colab": {
          "base_uri": "https://localhost:8080/"
        },
        "outputId": "2588b952-0b64-43e8-9539-6d0a91c28586"
      },
      "execution_count": 128,
      "outputs": [
        {
          "output_type": "execute_result",
          "data": {
            "text/plain": [
              "<tf.Tensor: shape=(), dtype=int32, numpy=3>"
            ]
          },
          "metadata": {},
          "execution_count": 128
        }
      ]
    },
    {
      "cell_type": "code",
      "source": [],
      "metadata": {
        "id": "EN7EUfud5yj8"
      },
      "execution_count": 128,
      "outputs": []
    },
    {
      "cell_type": "markdown",
      "source": [
        "# Specifying an element of a tensor"
      ],
      "metadata": {
        "id": "KsLiN0ZdIRv7"
      }
    },
    {
      "cell_type": "code",
      "source": [
        "tensor3 = tensor[1, 0, 1]\n",
        "tensor3"
      ],
      "metadata": {
        "id": "VCdZIWf65ymg",
        "colab": {
          "base_uri": "https://localhost:8080/"
        },
        "outputId": "975adbdf-0fa9-4b42-97aa-d29774daf233"
      },
      "execution_count": 129,
      "outputs": [
        {
          "output_type": "execute_result",
          "data": {
            "text/plain": [
              "<tf.Tensor: shape=(), dtype=int32, numpy=6>"
            ]
          },
          "metadata": {},
          "execution_count": 129
        }
      ]
    },
    {
      "cell_type": "code",
      "source": [],
      "metadata": {
        "id": "X097oh3X5yp-"
      },
      "execution_count": 129,
      "outputs": []
    },
    {
      "cell_type": "markdown",
      "source": [
        "# Casting a tensor to a Numpy / Python variable"
      ],
      "metadata": {
        "id": "QkMLEVL4JCeq"
      }
    },
    {
      "cell_type": "code",
      "source": [
        "print(tensor.numpy())"
      ],
      "metadata": {
        "id": "o22qPQMS5ytZ",
        "colab": {
          "base_uri": "https://localhost:8080/"
        },
        "outputId": "d682ca98-3e5b-40e3-c0af-ead1789055e1"
      },
      "execution_count": 130,
      "outputs": [
        {
          "output_type": "stream",
          "name": "stdout",
          "text": [
            "[[[  1   2 100]\n",
            "  [  3   4 200]]\n",
            "\n",
            " [[  5   6 300]\n",
            "  [  7   8 400]]]\n"
          ]
        }
      ]
    },
    {
      "cell_type": "code",
      "source": [
        "print(tensor[1, 0, 1].numpy())"
      ],
      "metadata": {
        "colab": {
          "base_uri": "https://localhost:8080/"
        },
        "id": "8OcrnPRGJJvt",
        "outputId": "72421b94-5d0e-458e-9a06-a9e5fbc245a8"
      },
      "execution_count": 131,
      "outputs": [
        {
          "output_type": "stream",
          "name": "stdout",
          "text": [
            "6\n"
          ]
        }
      ]
    },
    {
      "cell_type": "code",
      "source": [],
      "metadata": {
        "id": "OpB8Vap6JJy6"
      },
      "execution_count": 131,
      "outputs": []
    },
    {
      "cell_type": "markdown",
      "source": [
        "# Finding the size of a tensor"
      ],
      "metadata": {
        "id": "7hQMsLonKDWw"
      }
    },
    {
      "cell_type": "code",
      "source": [
        "tf.size(input = tensor)"
      ],
      "metadata": {
        "colab": {
          "base_uri": "https://localhost:8080/"
        },
        "id": "pRAqeTlPJJ2U",
        "outputId": "4300fa7c-e2f3-477e-a138-e750e119184b"
      },
      "execution_count": 132,
      "outputs": [
        {
          "output_type": "execute_result",
          "data": {
            "text/plain": [
              "<tf.Tensor: shape=(), dtype=int32, numpy=12>"
            ]
          },
          "metadata": {},
          "execution_count": 132
        }
      ]
    },
    {
      "cell_type": "code",
      "source": [
        "tf.size(input = tensor).numpy()"
      ],
      "metadata": {
        "colab": {
          "base_uri": "https://localhost:8080/"
        },
        "id": "mNdltpRNJJ5b",
        "outputId": "4c879030-7d7e-48c6-fc8e-4cf3ae5b0fb6"
      },
      "execution_count": 133,
      "outputs": [
        {
          "output_type": "execute_result",
          "data": {
            "text/plain": [
              "np.int32(12)"
            ]
          },
          "metadata": {},
          "execution_count": 133
        }
      ]
    },
    {
      "cell_type": "code",
      "source": [],
      "metadata": {
        "id": "fDaa8mGiJJ9E"
      },
      "execution_count": 133,
      "outputs": []
    },
    {
      "cell_type": "markdown",
      "source": [
        "# Datatype of a tensor"
      ],
      "metadata": {
        "id": "hmdv_ms9KYLX"
      }
    },
    {
      "cell_type": "code",
      "source": [
        "tensor2"
      ],
      "metadata": {
        "colab": {
          "base_uri": "https://localhost:8080/"
        },
        "id": "jvzGPsC3JJ_7",
        "outputId": "4e95dd86-b337-403c-f711-61f05f587d5a"
      },
      "execution_count": 134,
      "outputs": [
        {
          "output_type": "execute_result",
          "data": {
            "text/plain": [
              "<tf.Tensor: shape=(3, 4), dtype=int32, numpy=\n",
              "array([[  1,   2, 100,   3],\n",
              "       [  4, 200,   5,   6],\n",
              "       [300,   7,   8, 400]], dtype=int32)>"
            ]
          },
          "metadata": {},
          "execution_count": 134
        }
      ]
    },
    {
      "cell_type": "code",
      "source": [
        "tensor2.dtype"
      ],
      "metadata": {
        "colab": {
          "base_uri": "https://localhost:8080/"
        },
        "id": "rtIJqBZBKcC-",
        "outputId": "a608206c-b096-497e-bfe0-217b30c971a0"
      },
      "execution_count": 135,
      "outputs": [
        {
          "output_type": "execute_result",
          "data": {
            "text/plain": [
              "tf.int32"
            ]
          },
          "metadata": {},
          "execution_count": 135
        }
      ]
    },
    {
      "cell_type": "code",
      "source": [],
      "metadata": {
        "id": "DGI8ZUyYKcF3"
      },
      "execution_count": 135,
      "outputs": []
    },
    {
      "cell_type": "markdown",
      "source": [
        "# Tensorflow Mathematical operations\n",
        "\n",
        "Can be used as numpy for artificial operations. Tensorflow can not execute these operations on the GPU or TPU."
      ],
      "metadata": {
        "id": "3LQCq6b_KntD"
      }
    },
    {
      "cell_type": "code",
      "source": [
        "a = tf.random.normal(shape = (2,2))\n",
        "b = tf.random.normal(shape = (2,2))\n",
        "c = a + b\n",
        "d = tf.square(c)\n",
        "e = tf.exp(c)\n",
        "\n",
        "print(\"a -> \", a)\n",
        "print(\"\\nb -> \", b)\n",
        "print(\"\\nc -> \", c)\n",
        "print(\"\\nd -> \", d)\n",
        "print(\"\\ne -> \", e)\n",
        "\n"
      ],
      "metadata": {
        "colab": {
          "base_uri": "https://localhost:8080/"
        },
        "id": "cUgZtVM_KcJp",
        "outputId": "3475d8c7-1877-40d5-fc11-438780ea7964"
      },
      "execution_count": 136,
      "outputs": [
        {
          "output_type": "stream",
          "name": "stdout",
          "text": [
            "a ->  tf.Tensor(\n",
            "[[-0.6373305  2.7589011]\n",
            " [ 1.026495   3.3563783]], shape=(2, 2), dtype=float32)\n",
            "\n",
            "b ->  tf.Tensor(\n",
            "[[ 2.1393998  1.7028176]\n",
            " [-1.4468794  1.5833094]], shape=(2, 2), dtype=float32)\n",
            "\n",
            "c ->  tf.Tensor(\n",
            "[[ 1.5020692  4.4617186]\n",
            " [-0.4203844  4.9396877]], shape=(2, 2), dtype=float32)\n",
            "\n",
            "d ->  tf.Tensor(\n",
            "[[ 2.256212   19.906933  ]\n",
            " [ 0.17672305 24.400515  ]], shape=(2, 2), dtype=float32)\n",
            "\n",
            "e ->  tf.Tensor(\n",
            "[[  4.4909725  86.63627  ]\n",
            " [  0.6567943 139.72661  ]], shape=(2, 2), dtype=float32)\n"
          ]
        }
      ]
    },
    {
      "cell_type": "code",
      "source": [],
      "metadata": {
        "id": "xnyN0mGcKcMa"
      },
      "execution_count": 136,
      "outputs": []
    },
    {
      "cell_type": "markdown",
      "source": [
        "# Performing element-wise primitive tensor operations"
      ],
      "metadata": {
        "id": "fXlQNVlgMQkL"
      }
    },
    {
      "cell_type": "code",
      "source": [
        "tensor"
      ],
      "metadata": {
        "colab": {
          "base_uri": "https://localhost:8080/"
        },
        "id": "3eR84toiKcPL",
        "outputId": "721d6d16-7baa-4eec-f74e-0d4c8dbd2d4f"
      },
      "execution_count": 137,
      "outputs": [
        {
          "output_type": "execute_result",
          "data": {
            "text/plain": [
              "<tf.Variable 'Variable:0' shape=(2, 2, 3) dtype=int32, numpy=\n",
              "array([[[  1,   2, 100],\n",
              "        [  3,   4, 200]],\n",
              "\n",
              "       [[  5,   6, 300],\n",
              "        [  7,   8, 400]]], dtype=int32)>"
            ]
          },
          "metadata": {},
          "execution_count": 137
        }
      ]
    },
    {
      "cell_type": "code",
      "source": [
        "tensor * tensor"
      ],
      "metadata": {
        "colab": {
          "base_uri": "https://localhost:8080/"
        },
        "id": "bkcNzYmEKcR1",
        "outputId": "6104402d-17f0-4f2b-e6f7-803721c171f0"
      },
      "execution_count": 138,
      "outputs": [
        {
          "output_type": "execute_result",
          "data": {
            "text/plain": [
              "<tf.Tensor: shape=(2, 2, 3), dtype=int32, numpy=\n",
              "array([[[     1,      4,  10000],\n",
              "        [     9,     16,  40000]],\n",
              "\n",
              "       [[    25,     36,  90000],\n",
              "        [    49,     64, 160000]]], dtype=int32)>"
            ]
          },
          "metadata": {},
          "execution_count": 138
        }
      ]
    },
    {
      "cell_type": "code",
      "source": [
        "tensor - tensor"
      ],
      "metadata": {
        "colab": {
          "base_uri": "https://localhost:8080/"
        },
        "id": "3ydMoZJaKcU5",
        "outputId": "132c7cb3-8721-4597-86ca-e5366fa90cb0"
      },
      "execution_count": 139,
      "outputs": [
        {
          "output_type": "execute_result",
          "data": {
            "text/plain": [
              "<tf.Tensor: shape=(2, 2, 3), dtype=int32, numpy=\n",
              "array([[[0, 0, 0],\n",
              "        [0, 0, 0]],\n",
              "\n",
              "       [[0, 0, 0],\n",
              "        [0, 0, 0]]], dtype=int32)>"
            ]
          },
          "metadata": {},
          "execution_count": 139
        }
      ]
    },
    {
      "cell_type": "code",
      "source": [],
      "metadata": {
        "id": "DSMdpQfYKcYX"
      },
      "execution_count": 139,
      "outputs": []
    },
    {
      "cell_type": "markdown",
      "source": [
        "# Broadcasting\n",
        "\n",
        "Element -wise tensor operations support broadcasting in the same way that Numpy arrays do.\n",
        "\n",
        "The simplest example is that of multiplying a tensor by a scaler."
      ],
      "metadata": {
        "id": "NdslK7qwNHjo"
      }
    },
    {
      "cell_type": "code",
      "source": [
        "tensor4 = tensor * 4\n",
        "tensor4"
      ],
      "metadata": {
        "colab": {
          "base_uri": "https://localhost:8080/"
        },
        "id": "LQNILMKFKchZ",
        "outputId": "cb315592-dc29-499b-ecba-742a194e26d7"
      },
      "execution_count": 140,
      "outputs": [
        {
          "output_type": "execute_result",
          "data": {
            "text/plain": [
              "<tf.Tensor: shape=(2, 2, 3), dtype=int32, numpy=\n",
              "array([[[   4,    8,  400],\n",
              "        [  12,   16,  800]],\n",
              "\n",
              "       [[  20,   24, 1200],\n",
              "        [  28,   32, 1600]]], dtype=int32)>"
            ]
          },
          "metadata": {},
          "execution_count": 140
        }
      ]
    },
    {
      "cell_type": "code",
      "source": [],
      "metadata": {
        "id": "UqM6lkWHrb7L"
      },
      "execution_count": 140,
      "outputs": []
    },
    {
      "cell_type": "markdown",
      "source": [
        "# Transpose Matrix multiplication"
      ],
      "metadata": {
        "id": "M0nVWxlwN-b5"
      }
    },
    {
      "cell_type": "code",
      "source": [
        "matrix_u = tf.constant([[3,4,3]])\n",
        "matrix_v = tf.constant([[1,2,1]])\n",
        "\n",
        "tf.matmul(matrix_u, tf.transpose(a = matrix_v))"
      ],
      "metadata": {
        "colab": {
          "base_uri": "https://localhost:8080/"
        },
        "id": "vtyP7kq0MzCU",
        "outputId": "bf4bb52f-b20e-4fae-cdb2-f684ab22be0e"
      },
      "execution_count": 141,
      "outputs": [
        {
          "output_type": "execute_result",
          "data": {
            "text/plain": [
              "<tf.Tensor: shape=(1, 1), dtype=int32, numpy=array([[14]], dtype=int32)>"
            ]
          },
          "metadata": {},
          "execution_count": 141
        }
      ]
    },
    {
      "cell_type": "code",
      "source": [],
      "metadata": {
        "id": "EljAZboGMzFR"
      },
      "execution_count": 141,
      "outputs": []
    },
    {
      "cell_type": "markdown",
      "source": [
        "# Casting a Tensor to another (tensor) datatype"
      ],
      "metadata": {
        "id": "7M6akJf-VSFu"
      }
    },
    {
      "cell_type": "code",
      "source": [
        "i = tf.cast(tensor1, dtype = tf.float64)\n",
        "i"
      ],
      "metadata": {
        "id": "msnnHB46MzID",
        "colab": {
          "base_uri": "https://localhost:8080/"
        },
        "outputId": "3f554eb9-0c3a-4ed4-f780-f1a01dca2dc7"
      },
      "execution_count": 142,
      "outputs": [
        {
          "output_type": "execute_result",
          "data": {
            "text/plain": [
              "<tf.Tensor: shape=(1, 12), dtype=float64, numpy=\n",
              "array([[  1.,   2., 100.,   3.,   4., 200.,   5.,   6., 300.,   7.,   8.,\n",
              "        400.]])>"
            ]
          },
          "metadata": {},
          "execution_count": 142
        }
      ]
    },
    {
      "cell_type": "code",
      "source": [],
      "metadata": {
        "id": "1m5G_otkMzKs"
      },
      "execution_count": 142,
      "outputs": []
    },
    {
      "cell_type": "markdown",
      "source": [
        "# With truncation"
      ],
      "metadata": {
        "id": "_4d4sT6RWcya"
      }
    },
    {
      "cell_type": "code",
      "source": [
        "j = tf.cast(tf.constant(5.332423), dtype = tf.int64)\n",
        "j"
      ],
      "metadata": {
        "id": "iA2Cgp_2MzNg",
        "colab": {
          "base_uri": "https://localhost:8080/"
        },
        "outputId": "4404c065-035b-4d7d-9e94-1b5cd56fb08b"
      },
      "execution_count": 143,
      "outputs": [
        {
          "output_type": "execute_result",
          "data": {
            "text/plain": [
              "<tf.Tensor: shape=(), dtype=int64, numpy=5>"
            ]
          },
          "metadata": {},
          "execution_count": 143
        }
      ]
    },
    {
      "cell_type": "code",
      "source": [],
      "metadata": {
        "id": "mVwU50p9MzQ5"
      },
      "execution_count": 143,
      "outputs": []
    },
    {
      "cell_type": "markdown",
      "source": [
        "# Declaring Ragged tensors\n",
        "\n",
        "A ragged tensor is a tensor with on eor more rageed dimensions.\n",
        "\n",
        "Rageed dimensions are dimensions that have slices that may have differernt lengths.\n",
        "\n",
        "There are a variety of methods for declaring ragged arrays, the simplest being a constant ragged array.\n"
      ],
      "metadata": {
        "id": "EAY1ZlxBW9wO"
      }
    },
    {
      "cell_type": "code",
      "source": [
        "# Declaring a constatn ragged array and the lengths of the individual slices\n",
        "\n",
        "ragged = tf.ragged.constant([ [1,2,3,4], [], [5,6,7], [8], [9,10] ])\n",
        "ragged"
      ],
      "metadata": {
        "id": "4N_Oh36WMzhm",
        "colab": {
          "base_uri": "https://localhost:8080/"
        },
        "outputId": "bb4d234b-e2aa-4f66-ca43-c626a3c1a2ce"
      },
      "execution_count": 144,
      "outputs": [
        {
          "output_type": "execute_result",
          "data": {
            "text/plain": [
              "<tf.RaggedTensor [[1, 2, 3, 4], [], [5, 6, 7], [8], [9, 10]]>"
            ]
          },
          "metadata": {},
          "execution_count": 144
        }
      ]
    },
    {
      "cell_type": "code",
      "source": [
        "print(ragged)\n",
        "print(ragged[0, :])\n",
        "print(ragged[1, :])\n",
        "print(ragged[2, :])\n",
        "print(ragged[3, :])\n",
        "print(ragged[4, :])"
      ],
      "metadata": {
        "colab": {
          "base_uri": "https://localhost:8080/"
        },
        "id": "lXtDe65JYUSZ",
        "outputId": "0d3f74b3-ef5d-4bf7-d240-d70376b8864d"
      },
      "execution_count": 145,
      "outputs": [
        {
          "output_type": "stream",
          "name": "stdout",
          "text": [
            "<tf.RaggedTensor [[1, 2, 3, 4], [], [5, 6, 7], [8], [9, 10]]>\n",
            "tf.Tensor([1 2 3 4], shape=(4,), dtype=int32)\n",
            "tf.Tensor([], shape=(0,), dtype=int32)\n",
            "tf.Tensor([5 6 7], shape=(3,), dtype=int32)\n",
            "tf.Tensor([8], shape=(1,), dtype=int32)\n",
            "tf.Tensor([ 9 10], shape=(2,), dtype=int32)\n"
          ]
        }
      ]
    },
    {
      "cell_type": "code",
      "source": [],
      "metadata": {
        "id": "MqclZ1YnYUHz"
      },
      "execution_count": 145,
      "outputs": []
    },
    {
      "cell_type": "markdown",
      "source": [
        "# Finding squared difference between 2 tensors"
      ],
      "metadata": {
        "id": "-bsRn3kjYS2P"
      }
    },
    {
      "cell_type": "code",
      "source": [
        "# diff and then squared\n",
        "\n",
        "x = [1,3,5,7,9]\n",
        "y = 5\n",
        "\n",
        "z = tf.math.squared_difference(x,y)\n",
        "z"
      ],
      "metadata": {
        "colab": {
          "base_uri": "https://localhost:8080/"
        },
        "id": "YZyHfRg0VJmY",
        "outputId": "2b4f2c02-caf2-45e4-c337-d01f66a78841"
      },
      "execution_count": 146,
      "outputs": [
        {
          "output_type": "execute_result",
          "data": {
            "text/plain": [
              "<tf.Tensor: shape=(5,), dtype=int32, numpy=array([16,  4,  0,  4, 16], dtype=int32)>"
            ]
          },
          "metadata": {},
          "execution_count": 146
        }
      ]
    },
    {
      "cell_type": "markdown",
      "source": [
        "NOTE: Here, the python variables , x and y, are cast into tensors and that y i s then broadcast across x in this example.\n",
        "\n",
        "E.g: the first calculation is (1-5)^2 = 16"
      ],
      "metadata": {
        "id": "AfXCPOSykfeS"
      }
    },
    {
      "cell_type": "code",
      "source": [],
      "metadata": {
        "id": "FBWSZyL7VJpR"
      },
      "execution_count": 146,
      "outputs": []
    },
    {
      "cell_type": "markdown",
      "source": [
        "# Finding mean\n",
        "\n",
        "*'tf.reduce_mean()'* is equivalent to np.mean, except that it infers the return datatype from the input tensor, whereas np.mean allows you to spicify the output type (default to float64):\n",
        "\n",
        "```\n",
        "tf.reduce_mean(input_tensor, axis= None, Keepdims= None, name= None)\n",
        "```"
      ],
      "metadata": {
        "id": "Yaljo0zalDAZ"
      }
    },
    {
      "cell_type": "code",
      "source": [
        "num = tf.constant([ [1.,2.,3.], [4.,5.,6.] ])"
      ],
      "metadata": {
        "id": "W9P-g-ElVJsM"
      },
      "execution_count": 147,
      "outputs": []
    },
    {
      "cell_type": "markdown",
      "source": [
        "### i.) Mean across all axes (use default axis = None)"
      ],
      "metadata": {
        "id": "x5fJPc__n3OU"
      }
    },
    {
      "cell_type": "code",
      "source": [
        "tf.reduce_mean(input_tensor = num)"
      ],
      "metadata": {
        "colab": {
          "base_uri": "https://localhost:8080/"
        },
        "id": "OzW5RuW9VJu0",
        "outputId": "b10a5cb6-3706-45f1-b61f-5cae34c8d8c9"
      },
      "execution_count": 148,
      "outputs": [
        {
          "output_type": "execute_result",
          "data": {
            "text/plain": [
              "<tf.Tensor: shape=(), dtype=float32, numpy=3.5>"
            ]
          },
          "metadata": {},
          "execution_count": 148
        }
      ]
    },
    {
      "cell_type": "markdown",
      "source": [
        "### ii.) Mean column-wise(i.e. reduce rows)"
      ],
      "metadata": {
        "id": "Wwt1lD13nkYW"
      }
    },
    {
      "cell_type": "code",
      "source": [
        "tf.reduce_mean(input_tensor = num, axis = 0)"
      ],
      "metadata": {
        "colab": {
          "base_uri": "https://localhost:8080/"
        },
        "id": "Tc4uTpSxVJxo",
        "outputId": "b1bc8dc8-641a-4d58-f53c-a2cd8c588a62"
      },
      "execution_count": 149,
      "outputs": [
        {
          "output_type": "execute_result",
          "data": {
            "text/plain": [
              "<tf.Tensor: shape=(3,), dtype=float32, numpy=array([2.5, 3.5, 4.5], dtype=float32)>"
            ]
          },
          "metadata": {},
          "execution_count": 149
        }
      ]
    },
    {
      "cell_type": "code",
      "source": [],
      "metadata": {
        "id": "Lye7llYnVJ0r"
      },
      "execution_count": 149,
      "outputs": []
    },
    {
      "cell_type": "markdown",
      "source": [
        "### iii.) When keepdims = True, the reduce axis is retained with a length of 1\n",
        "\n",
        "The dimensions won't change even after the mean is calculated."
      ],
      "metadata": {
        "id": "8ZiQ36LIEKR_"
      }
    },
    {
      "cell_type": "code",
      "source": [
        "tf.reduce_mean(input_tensor = num, axis = 0, keepdims = True)"
      ],
      "metadata": {
        "colab": {
          "base_uri": "https://localhost:8080/"
        },
        "id": "i_Fs8N6oVJ3_",
        "outputId": "418306a0-0e64-44e5-bc4d-85ef7b670eeb"
      },
      "execution_count": 150,
      "outputs": [
        {
          "output_type": "execute_result",
          "data": {
            "text/plain": [
              "<tf.Tensor: shape=(1, 3), dtype=float32, numpy=array([[2.5, 3.5, 4.5]], dtype=float32)>"
            ]
          },
          "metadata": {},
          "execution_count": 150
        }
      ]
    },
    {
      "cell_type": "code",
      "source": [],
      "metadata": {
        "id": "dsth0pktVJ7J"
      },
      "execution_count": 150,
      "outputs": []
    },
    {
      "cell_type": "code",
      "source": [
        "num"
      ],
      "metadata": {
        "colab": {
          "base_uri": "https://localhost:8080/"
        },
        "id": "JSE0QTc8Nea9",
        "outputId": "5ffc8605-fa93-42df-aa60-150d344abe2d"
      },
      "execution_count": 151,
      "outputs": [
        {
          "output_type": "execute_result",
          "data": {
            "text/plain": [
              "<tf.Tensor: shape=(2, 3), dtype=float32, numpy=\n",
              "array([[1., 2., 3.],\n",
              "       [4., 5., 6.]], dtype=float32)>"
            ]
          },
          "metadata": {},
          "execution_count": 151
        }
      ]
    },
    {
      "cell_type": "code",
      "source": [],
      "metadata": {
        "id": "qfcPP_AZNgjp"
      },
      "execution_count": 151,
      "outputs": []
    },
    {
      "cell_type": "markdown",
      "source": [
        "### iv.) Mean row-wise(i.e. reduce columns)"
      ],
      "metadata": {
        "id": "JW6F9nuSMAP8"
      }
    },
    {
      "cell_type": "code",
      "source": [
        "tf.reduce_mean(input_tensor = num, axis = 1)\n",
        "# (1+2+3)/3 = 2 and (4+5+6)/3 = 5"
      ],
      "metadata": {
        "colab": {
          "base_uri": "https://localhost:8080/"
        },
        "id": "b77-y4EiVJ-N",
        "outputId": "6f37fd85-adcd-4c0d-f84d-3ab13ed165aa"
      },
      "execution_count": 152,
      "outputs": [
        {
          "output_type": "execute_result",
          "data": {
            "text/plain": [
              "<tf.Tensor: shape=(2,), dtype=float32, numpy=array([2., 5.], dtype=float32)>"
            ]
          },
          "metadata": {},
          "execution_count": 152
        }
      ]
    },
    {
      "cell_type": "code",
      "source": [],
      "metadata": {
        "id": "89Ea0orRN2EW"
      },
      "execution_count": 152,
      "outputs": []
    },
    {
      "cell_type": "markdown",
      "source": [
        "### v.) When keepdims = True, the reduce axis is retained with a length of 1"
      ],
      "metadata": {
        "id": "-BWMUtHRN2ei"
      }
    },
    {
      "cell_type": "code",
      "source": [
        "tf.reduce_mean(input_tensor = num, axis = 1, keepdims = True)"
      ],
      "metadata": {
        "colab": {
          "base_uri": "https://localhost:8080/"
        },
        "id": "DLfZhHv7VKBJ",
        "outputId": "c2faa455-8994-4d6f-9eb6-9cb83d3a159f"
      },
      "execution_count": 153,
      "outputs": [
        {
          "output_type": "execute_result",
          "data": {
            "text/plain": [
              "<tf.Tensor: shape=(2, 1), dtype=float32, numpy=\n",
              "array([[2.],\n",
              "       [5.]], dtype=float32)>"
            ]
          },
          "metadata": {},
          "execution_count": 153
        }
      ]
    },
    {
      "cell_type": "code",
      "source": [],
      "metadata": {
        "id": "jyrD5pFTVKEP"
      },
      "execution_count": 153,
      "outputs": []
    },
    {
      "cell_type": "markdown",
      "source": [
        "## Generating tensors with random values\n",
        "\n",
        "## 1.) *tf.random.normal()*\n",
        "It gives a tensor of the given shape fileed with values of the data type from a normal distribution.\n",
        "\n",
        "```\n",
        "tf.random.normal(shape = (3,2), mean = 10, stdev = 2, dtype= tf.float32, seed = None)\n",
        "```"
      ],
      "metadata": {
        "id": "N_qtxa5gOBSB"
      }
    },
    {
      "cell_type": "code",
      "source": [
        "tf.random.normal(shape = (3,2), mean = 10, stddev = 2, dtype = tf.float32, seed= None, name = None)"
      ],
      "metadata": {
        "colab": {
          "base_uri": "https://localhost:8080/"
        },
        "id": "X57p3zviVKHp",
        "outputId": "19d78a35-fb48-4b6b-b0bb-cc7bd97680dd"
      },
      "execution_count": 154,
      "outputs": [
        {
          "output_type": "execute_result",
          "data": {
            "text/plain": [
              "<tf.Tensor: shape=(3, 2), dtype=float32, numpy=\n",
              "array([[11.571223,  9.047942],\n",
              "       [12.517892, 13.297017],\n",
              "       [ 8.748987, 14.913409]], dtype=float32)>"
            ]
          },
          "metadata": {},
          "execution_count": 154
        }
      ]
    },
    {
      "cell_type": "code",
      "source": [
        "ran = tf.random.normal(shape = (3,2), mean = 10.0, stddev = 2.0)\n",
        "print(ran)"
      ],
      "metadata": {
        "colab": {
          "base_uri": "https://localhost:8080/"
        },
        "id": "og5zuu5FVKKp",
        "outputId": "2c66517f-0276-4fc2-960e-a9d5745e287f"
      },
      "execution_count": 155,
      "outputs": [
        {
          "output_type": "stream",
          "name": "stdout",
          "text": [
            "tf.Tensor(\n",
            "[[10.0239525  9.939883 ]\n",
            " [ 7.615965   9.684287 ]\n",
            " [11.651227   8.022402 ]], shape=(3, 2), dtype=float32)\n"
          ]
        }
      ]
    },
    {
      "cell_type": "code",
      "source": [],
      "metadata": {
        "id": "La2hZUkiVKNu"
      },
      "execution_count": 155,
      "outputs": []
    },
    {
      "cell_type": "code",
      "source": [],
      "metadata": {
        "id": "OOpnbe8SVKRL"
      },
      "execution_count": 155,
      "outputs": []
    },
    {
      "cell_type": "markdown",
      "source": [
        "### 2.)*tf.random.uniform()*\n",
        "\n",
        "It gives tensor of given shape filled with values from a uniform distribution in the range minval to maxval, where the lower bound is exclusive but the upper bound isn't.\n",
        "\n",
        "```\n",
        "tf.random.uniform(shape, minval = 0, maxval = None, dtype = tf.float64, seed = None, name = None)\n",
        "```"
      ],
      "metadata": {
        "id": "pf2dBnT8PU3p"
      }
    },
    {
      "cell_type": "code",
      "source": [
        "tf.random.uniform(shape = (4,5), minval= 0, maxval = None, dtype=tf.float32, seed = None, name = None)"
      ],
      "metadata": {
        "colab": {
          "base_uri": "https://localhost:8080/"
        },
        "id": "e90rP3tjVKUX",
        "outputId": "14854fad-05e6-4e4d-e608-3a6ac7ed5c9e"
      },
      "execution_count": 156,
      "outputs": [
        {
          "output_type": "execute_result",
          "data": {
            "text/plain": [
              "<tf.Tensor: shape=(4, 5), dtype=float32, numpy=\n",
              "array([[0.5413332 , 0.33799112, 0.01585352, 0.93062353, 0.5455812 ],\n",
              "       [0.22052121, 0.05683291, 0.5539501 , 0.904762  , 0.4581194 ],\n",
              "       [0.49991095, 0.13799798, 0.8336041 , 0.7827532 , 0.38813984],\n",
              "       [0.09010267, 0.47759664, 0.532905  , 0.9187825 , 0.8928335 ]],\n",
              "      dtype=float32)>"
            ]
          },
          "metadata": {},
          "execution_count": 156
        }
      ]
    },
    {
      "cell_type": "code",
      "source": [],
      "metadata": {
        "id": "UyYw3KMmVKY6"
      },
      "execution_count": 156,
      "outputs": []
    },
    {
      "cell_type": "markdown",
      "source": [
        "## Setting the seed\n",
        "\n",
        "To get the same random values"
      ],
      "metadata": {
        "id": "PFbyyFAkSVVc"
      }
    },
    {
      "cell_type": "code",
      "source": [
        "tf.random.set_seed(11)\n",
        "\n",
        "ran1 = tf.random.uniform(shape = (2,2), maxval = 10, dtype= tf.int32)\n",
        "ran2 = tf.random.uniform(shape = (2,2), maxval = 10, dtype= tf.int32)\n",
        "\n",
        "print(ran1)\n",
        "print(ran2)"
      ],
      "metadata": {
        "colab": {
          "base_uri": "https://localhost:8080/"
        },
        "id": "EYVB3lAXVKbV",
        "outputId": "87ea70e6-ac76-4eef-93d7-b68763050d32"
      },
      "execution_count": 157,
      "outputs": [
        {
          "output_type": "stream",
          "name": "stdout",
          "text": [
            "tf.Tensor(\n",
            "[[4 6]\n",
            " [5 2]], shape=(2, 2), dtype=int32)\n",
            "tf.Tensor(\n",
            "[[9 7]\n",
            " [9 4]], shape=(2, 2), dtype=int32)\n"
          ]
        }
      ]
    },
    {
      "cell_type": "code",
      "source": [],
      "metadata": {
        "id": "rBg3lRXFVKeA"
      },
      "execution_count": 157,
      "outputs": []
    },
    {
      "cell_type": "code",
      "source": [
        "tf.random.set_seed(11)\n",
        "\n",
        "ran3 = tf.random.uniform(shape = (2,2), maxval = 10, dtype= tf.int32)\n",
        "ran4 = tf.random.uniform(shape = (2,2), maxval = 10, dtype= tf.int32)\n",
        "\n",
        "print(ran3)\n",
        "print(ran4)"
      ],
      "metadata": {
        "colab": {
          "base_uri": "https://localhost:8080/"
        },
        "id": "1pXcSUeaVKhE",
        "outputId": "acb751ce-1ed5-46fa-9408-112d881be435"
      },
      "execution_count": 158,
      "outputs": [
        {
          "output_type": "stream",
          "name": "stdout",
          "text": [
            "tf.Tensor(\n",
            "[[4 6]\n",
            " [5 2]], shape=(2, 2), dtype=int32)\n",
            "tf.Tensor(\n",
            "[[9 7]\n",
            " [9 4]], shape=(2, 2), dtype=int32)\n"
          ]
        }
      ]
    },
    {
      "cell_type": "code",
      "source": [
        "tf.random.set_seed(12)\n",
        "\n",
        "ran5 = tf.random.uniform(shape = (2,2), maxval = 10, dtype= tf.int32)\n",
        "ran6 = tf.random.uniform(shape = (2,2), maxval = 10, dtype= tf.int32)\n",
        "\n",
        "print(ran5)\n",
        "print(ran6)"
      ],
      "metadata": {
        "colab": {
          "base_uri": "https://localhost:8080/"
        },
        "id": "upBq1xhIVKkM",
        "outputId": "4b2bbb04-faa9-49d6-fef2-be41774aa1c0"
      },
      "execution_count": 159,
      "outputs": [
        {
          "output_type": "stream",
          "name": "stdout",
          "text": [
            "tf.Tensor(\n",
            "[[2 2]\n",
            " [6 2]], shape=(2, 2), dtype=int32)\n",
            "tf.Tensor(\n",
            "[[8 2]\n",
            " [2 2]], shape=(2, 2), dtype=int32)\n"
          ]
        }
      ]
    },
    {
      "cell_type": "markdown",
      "source": [
        "Analysis:\n",
        "\n",
        "1.) ran1 and ran2 are same as ran3 and ran4 respectively as the seed value is same(i.e. 11).\n",
        "\n",
        "2.) ran5 and ran6 are differnt that ran1 and ran2 respectively as they have different seed value(i.e. 12)."
      ],
      "metadata": {
        "id": "aLXfkM9glXez"
      }
    },
    {
      "cell_type": "code",
      "source": [],
      "metadata": {
        "id": "wLQLKc0vVKne"
      },
      "execution_count": 159,
      "outputs": []
    },
    {
      "cell_type": "markdown",
      "source": [
        "# Practical example of random values using dices"
      ],
      "metadata": {
        "id": "uosaK3jSmAlG"
      }
    },
    {
      "cell_type": "code",
      "source": [
        "dice1= tf.Variable(tf.random.uniform([10,1], minval= 1, maxval= 7, dtype= tf.int32))\n",
        "\n",
        "dice2 = tf.Variable(tf.random.uniform([10,1], minval= 1, maxval= 7, dtype= tf.int32))\n",
        "\n",
        "print(\"dice1\", dice1)\n",
        "print(\"\\ndice2\", dice2)"
      ],
      "metadata": {
        "colab": {
          "base_uri": "https://localhost:8080/"
        },
        "id": "mKlna-6tVKqy",
        "outputId": "13a3c7b0-7a5c-44e1-a771-aceefebb35b8"
      },
      "execution_count": 160,
      "outputs": [
        {
          "output_type": "stream",
          "name": "stdout",
          "text": [
            "dice1 <tf.Variable 'Variable:0' shape=(10, 1) dtype=int32, numpy=\n",
            "array([[3],\n",
            "       [3],\n",
            "       [4],\n",
            "       [1],\n",
            "       [1],\n",
            "       [4],\n",
            "       [3],\n",
            "       [2],\n",
            "       [2],\n",
            "       [4]], dtype=int32)>\n",
            "\n",
            "dice2 <tf.Variable 'Variable:0' shape=(10, 1) dtype=int32, numpy=\n",
            "array([[6],\n",
            "       [3],\n",
            "       [6],\n",
            "       [1],\n",
            "       [6],\n",
            "       [4],\n",
            "       [6],\n",
            "       [2],\n",
            "       [1],\n",
            "       [2]], dtype=int32)>\n"
          ]
        }
      ]
    },
    {
      "cell_type": "code",
      "source": [],
      "metadata": {
        "id": "4neX1DrgVKuD"
      },
      "execution_count": 160,
      "outputs": []
    },
    {
      "cell_type": "markdown",
      "source": [
        "## Addition of dices\n",
        "\n",
        "As dice1 and dice2 have same size and shape, we can ad them"
      ],
      "metadata": {
        "id": "5Nz7SKt2nDP2"
      }
    },
    {
      "cell_type": "code",
      "source": [
        "dice3 = dice1 + dice2\n",
        "dice3"
      ],
      "metadata": {
        "colab": {
          "base_uri": "https://localhost:8080/"
        },
        "id": "JNt0DejrVKxI",
        "outputId": "333a1257-256b-473f-bd0c-5654843c27c7"
      },
      "execution_count": 161,
      "outputs": [
        {
          "output_type": "execute_result",
          "data": {
            "text/plain": [
              "<tf.Tensor: shape=(10, 1), dtype=int32, numpy=\n",
              "array([[ 9],\n",
              "       [ 6],\n",
              "       [10],\n",
              "       [ 2],\n",
              "       [ 7],\n",
              "       [ 8],\n",
              "       [ 9],\n",
              "       [ 4],\n",
              "       [ 3],\n",
              "       [ 6]], dtype=int32)>"
            ]
          },
          "metadata": {},
          "execution_count": 161
        }
      ]
    },
    {
      "cell_type": "code",
      "source": [],
      "metadata": {
        "id": "vwrQ5dNwVK0C"
      },
      "execution_count": 161,
      "outputs": []
    },
    {
      "cell_type": "markdown",
      "source": [
        "## Analysis:\n",
        "\n",
        "Now, we have 3 separate 10*1 matrices.\n",
        "\n",
        "To produce a single 10*3 matrix, we will concatenate them along dimension 1."
      ],
      "metadata": {
        "id": "07E7IT2cnoqW"
      }
    },
    {
      "cell_type": "code",
      "source": [
        "res_matrix = tf.concat(values = [dice1, dice2, dice3], axis= 1)\n",
        "print(res_matrix)"
      ],
      "metadata": {
        "colab": {
          "base_uri": "https://localhost:8080/"
        },
        "id": "wZpL8A1iVK3S",
        "outputId": "52523719-ecc5-4dd5-a457-03b935399801"
      },
      "execution_count": 162,
      "outputs": [
        {
          "output_type": "stream",
          "name": "stdout",
          "text": [
            "tf.Tensor(\n",
            "[[ 3  6  9]\n",
            " [ 3  3  6]\n",
            " [ 4  6 10]\n",
            " [ 1  1  2]\n",
            " [ 1  6  7]\n",
            " [ 4  4  8]\n",
            " [ 3  6  9]\n",
            " [ 2  2  4]\n",
            " [ 2  1  3]\n",
            " [ 4  2  6]], shape=(10, 3), dtype=int32)\n"
          ]
        }
      ]
    },
    {
      "cell_type": "code",
      "source": [
        "dice4 = tf.Variable(tf.random.uniform([5,1], minval= 1, maxval= 7, dtype= tf.int32))\n",
        "dice5 = tf.concat(values= [res_matrix, dice4], axis= 1)\n",
        "dice5"
      ],
      "metadata": {
        "colab": {
          "base_uri": "https://localhost:8080/",
          "height": 353
        },
        "id": "_brhuIJsVK6u",
        "outputId": "0d1e5bd8-9180-44ff-fc25-83d8cd18e926"
      },
      "execution_count": 163,
      "outputs": [
        {
          "output_type": "error",
          "ename": "InvalidArgumentError",
          "evalue": "{{function_node __wrapped__ConcatV2_N_2_device_/job:localhost/replica:0/task:0/device:CPU:0}} ConcatOp : Dimension 0 in both shapes must be equal: shape[0] = [10,3] vs. shape[1] = [5,1] [Op:ConcatV2] name: concat",
          "traceback": [
            "\u001b[0;31m---------------------------------------------------------------------------\u001b[0m",
            "\u001b[0;31mInvalidArgumentError\u001b[0m                      Traceback (most recent call last)",
            "\u001b[0;32m<ipython-input-163-a4791d351f4b>\u001b[0m in \u001b[0;36m<cell line: 0>\u001b[0;34m()\u001b[0m\n\u001b[1;32m      1\u001b[0m \u001b[0mdice4\u001b[0m \u001b[0;34m=\u001b[0m \u001b[0mtf\u001b[0m\u001b[0;34m.\u001b[0m\u001b[0mVariable\u001b[0m\u001b[0;34m(\u001b[0m\u001b[0mtf\u001b[0m\u001b[0;34m.\u001b[0m\u001b[0mrandom\u001b[0m\u001b[0;34m.\u001b[0m\u001b[0muniform\u001b[0m\u001b[0;34m(\u001b[0m\u001b[0;34m[\u001b[0m\u001b[0;36m5\u001b[0m\u001b[0;34m,\u001b[0m\u001b[0;36m1\u001b[0m\u001b[0;34m]\u001b[0m\u001b[0;34m,\u001b[0m \u001b[0mminval\u001b[0m\u001b[0;34m=\u001b[0m \u001b[0;36m1\u001b[0m\u001b[0;34m,\u001b[0m \u001b[0mmaxval\u001b[0m\u001b[0;34m=\u001b[0m \u001b[0;36m7\u001b[0m\u001b[0;34m,\u001b[0m \u001b[0mdtype\u001b[0m\u001b[0;34m=\u001b[0m \u001b[0mtf\u001b[0m\u001b[0;34m.\u001b[0m\u001b[0mint32\u001b[0m\u001b[0;34m)\u001b[0m\u001b[0;34m)\u001b[0m\u001b[0;34m\u001b[0m\u001b[0;34m\u001b[0m\u001b[0m\n\u001b[0;32m----> 2\u001b[0;31m \u001b[0mdice5\u001b[0m \u001b[0;34m=\u001b[0m \u001b[0mtf\u001b[0m\u001b[0;34m.\u001b[0m\u001b[0mconcat\u001b[0m\u001b[0;34m(\u001b[0m\u001b[0mvalues\u001b[0m\u001b[0;34m=\u001b[0m \u001b[0;34m[\u001b[0m\u001b[0mres_matrix\u001b[0m\u001b[0;34m,\u001b[0m \u001b[0mdice4\u001b[0m\u001b[0;34m]\u001b[0m\u001b[0;34m,\u001b[0m \u001b[0maxis\u001b[0m\u001b[0;34m=\u001b[0m \u001b[0;36m1\u001b[0m\u001b[0;34m)\u001b[0m\u001b[0;34m\u001b[0m\u001b[0;34m\u001b[0m\u001b[0m\n\u001b[0m\u001b[1;32m      3\u001b[0m \u001b[0mdice5\u001b[0m\u001b[0;34m\u001b[0m\u001b[0;34m\u001b[0m\u001b[0m\n",
            "\u001b[0;32m/usr/local/lib/python3.11/dist-packages/tensorflow/python/util/traceback_utils.py\u001b[0m in \u001b[0;36merror_handler\u001b[0;34m(*args, **kwargs)\u001b[0m\n\u001b[1;32m    151\u001b[0m     \u001b[0;32mexcept\u001b[0m \u001b[0mException\u001b[0m \u001b[0;32mas\u001b[0m \u001b[0me\u001b[0m\u001b[0;34m:\u001b[0m\u001b[0;34m\u001b[0m\u001b[0;34m\u001b[0m\u001b[0m\n\u001b[1;32m    152\u001b[0m       \u001b[0mfiltered_tb\u001b[0m \u001b[0;34m=\u001b[0m \u001b[0m_process_traceback_frames\u001b[0m\u001b[0;34m(\u001b[0m\u001b[0me\u001b[0m\u001b[0;34m.\u001b[0m\u001b[0m__traceback__\u001b[0m\u001b[0;34m)\u001b[0m\u001b[0;34m\u001b[0m\u001b[0;34m\u001b[0m\u001b[0m\n\u001b[0;32m--> 153\u001b[0;31m       \u001b[0;32mraise\u001b[0m \u001b[0me\u001b[0m\u001b[0;34m.\u001b[0m\u001b[0mwith_traceback\u001b[0m\u001b[0;34m(\u001b[0m\u001b[0mfiltered_tb\u001b[0m\u001b[0;34m)\u001b[0m \u001b[0;32mfrom\u001b[0m \u001b[0;32mNone\u001b[0m\u001b[0;34m\u001b[0m\u001b[0;34m\u001b[0m\u001b[0m\n\u001b[0m\u001b[1;32m    154\u001b[0m     \u001b[0;32mfinally\u001b[0m\u001b[0;34m:\u001b[0m\u001b[0;34m\u001b[0m\u001b[0;34m\u001b[0m\u001b[0m\n\u001b[1;32m    155\u001b[0m       \u001b[0;32mdel\u001b[0m \u001b[0mfiltered_tb\u001b[0m\u001b[0;34m\u001b[0m\u001b[0;34m\u001b[0m\u001b[0m\n",
            "\u001b[0;32m/usr/local/lib/python3.11/dist-packages/tensorflow/python/framework/ops.py\u001b[0m in \u001b[0;36mraise_from_not_ok_status\u001b[0;34m(e, name)\u001b[0m\n\u001b[1;32m   6000\u001b[0m \u001b[0;32mdef\u001b[0m \u001b[0mraise_from_not_ok_status\u001b[0m\u001b[0;34m(\u001b[0m\u001b[0me\u001b[0m\u001b[0;34m,\u001b[0m \u001b[0mname\u001b[0m\u001b[0;34m)\u001b[0m \u001b[0;34m->\u001b[0m \u001b[0mNoReturn\u001b[0m\u001b[0;34m:\u001b[0m\u001b[0;34m\u001b[0m\u001b[0;34m\u001b[0m\u001b[0m\n\u001b[1;32m   6001\u001b[0m   \u001b[0me\u001b[0m\u001b[0;34m.\u001b[0m\u001b[0mmessage\u001b[0m \u001b[0;34m+=\u001b[0m \u001b[0;34m(\u001b[0m\u001b[0;34m\" name: \"\u001b[0m \u001b[0;34m+\u001b[0m \u001b[0mstr\u001b[0m\u001b[0;34m(\u001b[0m\u001b[0mname\u001b[0m \u001b[0;32mif\u001b[0m \u001b[0mname\u001b[0m \u001b[0;32mis\u001b[0m \u001b[0;32mnot\u001b[0m \u001b[0;32mNone\u001b[0m \u001b[0;32melse\u001b[0m \u001b[0;34m\"\"\u001b[0m\u001b[0;34m)\u001b[0m\u001b[0;34m)\u001b[0m\u001b[0;34m\u001b[0m\u001b[0;34m\u001b[0m\u001b[0m\n\u001b[0;32m-> 6002\u001b[0;31m   \u001b[0;32mraise\u001b[0m \u001b[0mcore\u001b[0m\u001b[0;34m.\u001b[0m\u001b[0m_status_to_exception\u001b[0m\u001b[0;34m(\u001b[0m\u001b[0me\u001b[0m\u001b[0;34m)\u001b[0m \u001b[0;32mfrom\u001b[0m \u001b[0;32mNone\u001b[0m  \u001b[0;31m# pylint: disable=protected-access\u001b[0m\u001b[0;34m\u001b[0m\u001b[0;34m\u001b[0m\u001b[0m\n\u001b[0m\u001b[1;32m   6003\u001b[0m \u001b[0;34m\u001b[0m\u001b[0m\n\u001b[1;32m   6004\u001b[0m \u001b[0;34m\u001b[0m\u001b[0m\n",
            "\u001b[0;31mInvalidArgumentError\u001b[0m: {{function_node __wrapped__ConcatV2_N_2_device_/job:localhost/replica:0/task:0/device:CPU:0}} ConcatOp : Dimension 0 in both shapes must be equal: shape[0] = [10,3] vs. shape[1] = [5,1] [Op:ConcatV2] name: concat"
          ]
        }
      ]
    },
    {
      "cell_type": "code",
      "source": [],
      "metadata": {
        "id": "pmnU2GdpVK98"
      },
      "execution_count": null,
      "outputs": []
    },
    {
      "cell_type": "markdown",
      "source": [
        "# Finding indices of the largest and smallest element"
      ],
      "metadata": {
        "id": "bcilg2jQpSx_"
      }
    },
    {
      "cell_type": "code",
      "source": [
        "# 1-D tensor\n",
        "\n",
        "t1= tf.constant([2, 11, 5, 200, 6, -6, -3, -100, 0])\n",
        "print(t1)"
      ],
      "metadata": {
        "colab": {
          "base_uri": "https://localhost:8080/"
        },
        "id": "ycovRaLeVLBV",
        "outputId": "9b8424f8-40a6-4613-c80e-9fa4d1fa577e"
      },
      "execution_count": 164,
      "outputs": [
        {
          "output_type": "stream",
          "name": "stdout",
          "text": [
            "tf.Tensor([   2   11    5  200    6   -6   -3 -100    0], shape=(9,), dtype=int32)\n"
          ]
        }
      ]
    },
    {
      "cell_type": "code",
      "source": [
        "lar_ind = tf.argmax(input= t1)\n",
        "print(\"Index of largest element-> \", lar_ind)\n",
        "print(\"\\nLargest element->\", t1[lar_ind].numpy())\n",
        "\n",
        "sml_ind = tf.argmin(input= t1)\n",
        "print(\"Index of smallest element-> \", sml_ind)\n",
        "print(\"\\nSmallest element->\", t1[sml_ind].numpy())"
      ],
      "metadata": {
        "colab": {
          "base_uri": "https://localhost:8080/"
        },
        "id": "4-dpc5MZVLEW",
        "outputId": "25177d86-8abd-4c20-c471-aa1fcf8b6630"
      },
      "execution_count": 165,
      "outputs": [
        {
          "output_type": "stream",
          "name": "stdout",
          "text": [
            "Index of largest element->  tf.Tensor(3, shape=(), dtype=int64)\n",
            "\n",
            "Largest element-> 200\n",
            "Index of smallest element->  tf.Tensor(7, shape=(), dtype=int64)\n",
            "\n",
            "Smallest element-> -100\n"
          ]
        }
      ]
    },
    {
      "cell_type": "code",
      "source": [
        "# 2-D tensor\n",
        "\n",
        "t2= tf.reshape(t1, [3,3])\n",
        "print(t2)"
      ],
      "metadata": {
        "colab": {
          "base_uri": "https://localhost:8080/"
        },
        "id": "vQELLvCHVLHu",
        "outputId": "93d6d36c-8342-4f0a-8e5f-348933e949fa"
      },
      "execution_count": 166,
      "outputs": [
        {
          "output_type": "stream",
          "name": "stdout",
          "text": [
            "tf.Tensor(\n",
            "[[   2   11    5]\n",
            " [ 200    6   -6]\n",
            " [  -3 -100    0]], shape=(3, 3), dtype=int32)\n"
          ]
        }
      ]
    },
    {
      "cell_type": "code",
      "source": [
        "print(\"ROW-WISE\")\n",
        "\n",
        "lar_ind = tf.argmax(input= t2, axis= 0).numpy()\n",
        "print(\"Index of largest element-> \", lar_ind)\n",
        "#print(\"\\nLargest element->\", t1[lar_ind].numpy())\n",
        "\n",
        "sml_ind = tf.argmin(input= t2, axis= 0).numpy()\n",
        "print(\"Index of smallest element-> \", sml_ind)\n",
        "#print(\"\\nSmallest element->\", t1[sml_ind].numpy())\n"
      ],
      "metadata": {
        "colab": {
          "base_uri": "https://localhost:8080/"
        },
        "id": "8b15nLHYVLKo",
        "outputId": "4dbddb99-8fc5-4c16-ff04-588b7623e3b4"
      },
      "execution_count": 167,
      "outputs": [
        {
          "output_type": "stream",
          "name": "stdout",
          "text": [
            "ROW-WISE\n",
            "Index of largest element->  [1 0 0]\n",
            "Index of smallest element->  [2 2 1]\n"
          ]
        }
      ]
    },
    {
      "cell_type": "markdown",
      "source": [
        "Explanation:\n",
        "\n",
        "```\n",
        "In t2 matrix, for ROW-WISE\n",
        "\n",
        "ROW1-> max_ind= 1, min_ind= 2\n",
        "ROW2-> max_ind= 0, min_ind= 2\n",
        "ROW3-> max_ind= 0, min_ind= 1\n",
        "\n",
        "max = [1,0,0], i.e. elements are [200, 11, 5]\n",
        "min = [2,2,1], i.e. elements are [-3, -100, -6]\n",
        "```"
      ],
      "metadata": {
        "id": "iI6S_kVW2nUi"
      }
    },
    {
      "cell_type": "code",
      "source": [
        "print(t2)"
      ],
      "metadata": {
        "colab": {
          "base_uri": "https://localhost:8080/"
        },
        "id": "I4z51dRR4JdM",
        "outputId": "0c18361d-a4df-4032-dcc2-bc6dc382ca0b"
      },
      "execution_count": 168,
      "outputs": [
        {
          "output_type": "stream",
          "name": "stdout",
          "text": [
            "tf.Tensor(\n",
            "[[   2   11    5]\n",
            " [ 200    6   -6]\n",
            " [  -3 -100    0]], shape=(3, 3), dtype=int32)\n"
          ]
        }
      ]
    },
    {
      "cell_type": "code",
      "source": [
        "print(\"COLUMN-WISE\")\n",
        "\n",
        "lar_ind = tf.argmax(input= t2, axis= 1).numpy()\n",
        "print(\"Index of largest element-> \", lar_ind)\n",
        "#print(\"\\nLargest element->\", t1[lar_ind].numpy())\n",
        "\n",
        "sml_ind = tf.argmin(input= t2, axis= 1).numpy()\n",
        "print(\"Index of smallest element-> \", sml_ind)\n",
        "#print(\"\\nSmallest element->\", t1[sml_ind].numpy())"
      ],
      "metadata": {
        "colab": {
          "base_uri": "https://localhost:8080/"
        },
        "id": "MAMpjnATVLN_",
        "outputId": "6e8ba2f5-e5d9-41c8-80d6-da8f5ea9fef6"
      },
      "execution_count": 169,
      "outputs": [
        {
          "output_type": "stream",
          "name": "stdout",
          "text": [
            "COLUMN-WISE\n",
            "Index of largest element->  [1 0 2]\n",
            "Index of smallest element->  [0 2 1]\n"
          ]
        }
      ]
    },
    {
      "cell_type": "markdown",
      "source": [
        "Explanation:\n",
        "\n",
        "```\n",
        "In t2 matrix, for COLUMN-WISE\n",
        "\n",
        "COL1-> max_ind= 1, min_ind= 0  \n",
        "COL2-> max_ind= 0, min_ind= 2\n",
        "COL3-> max_ind= 2, min_ind= 1\n",
        "\n",
        "max = [1,0,2], i.e. elements are [11, 200, 0]\n",
        "min = [0,2,1], i.e. elements are [2, -6, -100]\n",
        "```"
      ],
      "metadata": {
        "id": "00Crb_nY349K"
      }
    },
    {
      "cell_type": "code",
      "source": [],
      "metadata": {
        "id": "W1uRbQb0VLQ7"
      },
      "execution_count": 169,
      "outputs": []
    },
    {
      "cell_type": "markdown",
      "source": [
        "# Saving and restoring tensor value using Checkpoint"
      ],
      "metadata": {
        "id": "CPBPZJ-t62ca"
      }
    },
    {
      "cell_type": "code",
      "source": [
        "var1 = tf.Variable([ [1,3,5,7], [100,300,500,700] ])\n",
        "checkpoint = tf.train.Checkpoint(var= var1)\n",
        "var1"
      ],
      "metadata": {
        "colab": {
          "base_uri": "https://localhost:8080/"
        },
        "id": "W9CgE6lgVLT7",
        "outputId": "ec6d9766-f10d-4806-fa2a-b22d4c1e09d0"
      },
      "execution_count": 170,
      "outputs": [
        {
          "output_type": "execute_result",
          "data": {
            "text/plain": [
              "<tf.Variable 'Variable:0' shape=(2, 4) dtype=int32, numpy=\n",
              "array([[  1,   3,   5,   7],\n",
              "       [100, 300, 500, 700]], dtype=int32)>"
            ]
          },
          "metadata": {},
          "execution_count": 170
        }
      ]
    },
    {
      "cell_type": "code",
      "source": [
        "save_path = checkpoint.save('./vars')\n",
        "var1.assign( [ [0,0,0,0] ,[0,0,0,0] ] )\n",
        "var1"
      ],
      "metadata": {
        "colab": {
          "base_uri": "https://localhost:8080/"
        },
        "id": "kCovJQ8oVLXa",
        "outputId": "58411cbb-f9cf-462b-c45e-196bd96557ae"
      },
      "execution_count": 171,
      "outputs": [
        {
          "output_type": "execute_result",
          "data": {
            "text/plain": [
              "<tf.Variable 'Variable:0' shape=(2, 4) dtype=int32, numpy=\n",
              "array([[0, 0, 0, 0],\n",
              "       [0, 0, 0, 0]], dtype=int32)>"
            ]
          },
          "metadata": {},
          "execution_count": 171
        }
      ]
    },
    {
      "cell_type": "code",
      "source": [
        "checkpoint.restore(save_path)\n",
        "var1"
      ],
      "metadata": {
        "colab": {
          "base_uri": "https://localhost:8080/"
        },
        "id": "wUmlYkwiVPD8",
        "outputId": "a6397b62-890f-4b3d-abd9-b2ada2c9afff"
      },
      "execution_count": 172,
      "outputs": [
        {
          "output_type": "execute_result",
          "data": {
            "text/plain": [
              "<tf.Variable 'Variable:0' shape=(2, 4) dtype=int32, numpy=\n",
              "array([[  1,   3,   5,   7],\n",
              "       [100, 300, 500, 700]], dtype=int32)>"
            ]
          },
          "metadata": {},
          "execution_count": 172
        }
      ]
    },
    {
      "cell_type": "markdown",
      "source": [
        "**NOTE:** The old matrix get restored using the checkpoint."
      ],
      "metadata": {
        "id": "eZ9GQPMpALyR"
      }
    },
    {
      "cell_type": "code",
      "source": [],
      "metadata": {
        "id": "BMuv2K6NVPG9"
      },
      "execution_count": 172,
      "outputs": []
    },
    {
      "cell_type": "markdown",
      "source": [
        "# Functions\n",
        "\n",
        "*tf.function* is a fucntion that will that will take a python function and return a Tensorflow graph. The advantages of this is that graphs can apply optimizations and exploit parallelism in the Pyhton function(func).\n",
        "\n",
        "*tf.function* is new to **Tensorflow 2**\n",
        "\n",
        "```\n",
        "tf.function(func= None, input_signature= None, autograph= True, experimental_autograph_options= None)\n",
        "```"
      ],
      "metadata": {
        "id": "HBJ08msuA8AQ"
      }
    },
    {
      "cell_type": "code",
      "source": [
        "def f1(x,y):\n",
        "  return tf.reduce_mean(input_tensor = tf.multiply(x**2, 5) + y**2)\n",
        "\n",
        "f2 = tf.function(f1)\n",
        "x = tf.constant([4,-5])\n",
        "y = tf.constant([2,3])\n",
        "\n",
        "assert f1(x,y).numpy() == f2(x,y).numpy()   # the assrt passes,so there is no O/P"
      ],
      "metadata": {
        "id": "wHG54thvVPKN"
      },
      "execution_count": 173,
      "outputs": []
    },
    {
      "cell_type": "markdown",
      "source": [
        "**NOTE:** f1 and f2 return the same value but f2 executes as a Tensorflow graph."
      ],
      "metadata": {
        "id": "ywfea05tCjlp"
      }
    },
    {
      "cell_type": "code",
      "source": [],
      "metadata": {
        "id": "j2NG0z8vVPNf"
      },
      "execution_count": 173,
      "outputs": []
    },
    {
      "cell_type": "markdown",
      "source": [
        "# Calculate the gradient\n",
        "\n",
        "##Gradient Tape:\n",
        "\n",
        "Another difference from Numpy is that it can automatically track the gradient of any variable.\n",
        "\n",
        "Open one Gradient Tape and tape.watch() track varaibles through."
      ],
      "metadata": {
        "id": "XTPGqR44DHmM"
      }
    },
    {
      "cell_type": "code",
      "source": [
        "a = tf.random.normal(shape=(2,2))\n",
        "b = tf.random.normal(shape=(2,2))\n",
        "\n",
        "with tf.GradientTape() as tape:\n",
        "  tape.watch(a)\n",
        "  c = tf.sqrt(tf.square(a) + tf.square(b))\n",
        "  dc_da = tape.gradient(c,a)\n",
        "  print(dc_da)\n",
        "\n",
        "# It gives partial differentiation of function 'c' w.r.t var 'a'."
      ],
      "metadata": {
        "colab": {
          "base_uri": "https://localhost:8080/"
        },
        "id": "2x2sN-qnVPQw",
        "outputId": "266009f7-c349-4e1c-eded-0d2c6d33a6e8"
      },
      "execution_count": 174,
      "outputs": [
        {
          "output_type": "stream",
          "name": "stdout",
          "text": [
            "tf.Tensor(\n",
            "[[ 0.8503445  -0.06113244]\n",
            " [-0.7449737  -0.40131947]], shape=(2, 2), dtype=float32)\n"
          ]
        }
      ]
    },
    {
      "cell_type": "markdown",
      "source": [
        "Note: For all varaibles, the calculation is tracked by default and used to find the gradient, so do not use ```tape.watch()```."
      ],
      "metadata": {
        "id": "I9pCH1uyGWxs"
      }
    },
    {
      "cell_type": "code",
      "source": [
        "# Another method to write the above\n",
        "\n",
        "a_new = tf.Variable(a)\n",
        "\n",
        "with tf.GradientTape() as tape:\n",
        "  c = tf.sqrt(tf.square(a_new) + tf.square(b))\n",
        "  dc_da = tape.gradient(c, a_new)\n",
        "  print(dc_da)\n",
        "\n",
        "# We can see that here, if we take \"a\" as a variable, then there is no need to use tape.watch(a)."
      ],
      "metadata": {
        "colab": {
          "base_uri": "https://localhost:8080/"
        },
        "id": "OWtE2Zd2VPTt",
        "outputId": "7e5786ae-5b6b-418c-ea06-04be316a5e4a"
      },
      "execution_count": 175,
      "outputs": [
        {
          "output_type": "stream",
          "name": "stdout",
          "text": [
            "tf.Tensor(\n",
            "[[ 0.8503445  -0.06113244]\n",
            " [-0.7449737  -0.40131947]], shape=(2, 2), dtype=float32)\n"
          ]
        }
      ]
    },
    {
      "cell_type": "code",
      "source": [],
      "metadata": {
        "id": "DHZ1iZnVVPXG"
      },
      "execution_count": 175,
      "outputs": []
    },
    {
      "cell_type": "markdown",
      "source": [
        "### GradientTape to find higher order derivatives by opening a few more."
      ],
      "metadata": {
        "id": "IfXLMeZtH4y1"
      }
    },
    {
      "cell_type": "code",
      "source": [
        "a = tf.Variable(a)\n",
        "\n",
        "with tf.GradientTape() as outer_tape:\n",
        "  with tf.GradientTape() as tape:\n",
        "    c = tf.sqrt(tf.square(a) + tf.square(b))\n",
        "    dc_da = tape.gradient(c,a)\n",
        "  d2c_da2 = outer_tape.gradient(dc_da,a)\n",
        "\n",
        "  print(d2c_da2)\n",
        ""
      ],
      "metadata": {
        "colab": {
          "base_uri": "https://localhost:8080/"
        },
        "id": "ePwS1bTEVPaS",
        "outputId": "5d351f0b-a1eb-4778-ac7d-0f56f573f902"
      },
      "execution_count": 176,
      "outputs": [
        {
          "output_type": "stream",
          "name": "stdout",
          "text": [
            "tf.Tensor(\n",
            "[[0.41935146 0.9715245 ]\n",
            " [0.1766931  0.72649866]], shape=(2, 2), dtype=float32)\n"
          ]
        }
      ]
    },
    {
      "cell_type": "code",
      "source": [],
      "metadata": {
        "id": "03s7lbGaVPdh"
      },
      "execution_count": 176,
      "outputs": []
    },
    {
      "cell_type": "code",
      "source": [],
      "metadata": {
        "id": "GR8rJgsEVPgo"
      },
      "execution_count": 176,
      "outputs": []
    }
  ]
}
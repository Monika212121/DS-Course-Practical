{
  "nbformat": 4,
  "nbformat_minor": 0,
  "metadata": {
    "colab": {
      "provenance": []
    },
    "kernelspec": {
      "name": "python3",
      "display_name": "Python 3"
    },
    "language_info": {
      "name": "python"
    }
  },
  "cells": [
    {
      "cell_type": "markdown",
      "source": [
        "# Annotation Creation\n",
        "\n",
        "- Annotations creation in Natural Language Processing (NLP) refers to the process of labeling or tagging raw textual data with specific information to make it understandable and usable for machine learning algorithms.\n",
        "\n",
        "- This annotated data serves as training material for NLP models, enabling them to learn patterns, relationships, and meanings within human language."
      ],
      "metadata": {
        "id": "10Qw1H9j9ELU"
      }
    },
    {
      "cell_type": "code",
      "execution_count": null,
      "metadata": {
        "id": "cfRFn0NLyZzg"
      },
      "outputs": [],
      "source": [
        "sample_data = [\n",
        "    (\"I love this product!\", \"positive\"),\n",
        "    (\"This is not what I expected.\", \"negative\"),\n",
        "    (\"The customer service was excellent.\", \"positive\"),\n",
        "    (\"The quality of the item is poor.\", \"negative\")\n",
        "]"
      ]
    },
    {
      "cell_type": "code",
      "source": [
        "type(sample_data[0])"
      ],
      "metadata": {
        "colab": {
          "base_uri": "https://localhost:8080/"
        },
        "id": "ggjfHusu9OXJ",
        "outputId": "1db58531-a71f-48f2-dfeb-901f646397e1"
      },
      "execution_count": null,
      "outputs": [
        {
          "output_type": "execute_result",
          "data": {
            "text/plain": [
              "tuple"
            ]
          },
          "metadata": {},
          "execution_count": 3
        }
      ]
    },
    {
      "cell_type": "markdown",
      "source": [
        "NOTE: Here, sample_data is list of tuples of strings."
      ],
      "metadata": {
        "id": "ajI0iqlh9ptp"
      }
    },
    {
      "cell_type": "code",
      "source": [
        "sample_data[0]"
      ],
      "metadata": {
        "colab": {
          "base_uri": "https://localhost:8080/"
        },
        "id": "9jiZfmV79osV",
        "outputId": "dc0e0d4c-bfdf-407a-a3a1-d56b4b5545dd"
      },
      "execution_count": null,
      "outputs": [
        {
          "output_type": "execute_result",
          "data": {
            "text/plain": [
              "('I love this product!', 'positive')"
            ]
          },
          "metadata": {},
          "execution_count": 4
        }
      ]
    },
    {
      "cell_type": "code",
      "source": [],
      "metadata": {
        "id": "A376L2At9zed"
      },
      "execution_count": null,
      "outputs": []
    },
    {
      "cell_type": "markdown",
      "source": [
        "## Define the Annotator"
      ],
      "metadata": {
        "id": "sT9mHflX9VQ-"
      }
    },
    {
      "cell_type": "code",
      "source": [
        "def annotate_data(data):\n",
        "  annotated_data = []\n",
        "  for text, label in data:\n",
        "    annotated_data.append((text, label))\n",
        "  return annotated_data\n"
      ],
      "metadata": {
        "id": "xKDodQC99OZo"
      },
      "execution_count": null,
      "outputs": []
    },
    {
      "cell_type": "code",
      "source": [],
      "metadata": {
        "id": "ghCRw0Yn9Oci"
      },
      "execution_count": null,
      "outputs": []
    },
    {
      "cell_type": "markdown",
      "source": [
        "## Annotate the data"
      ],
      "metadata": {
        "id": "aTGjQL5v-t3r"
      }
    },
    {
      "cell_type": "code",
      "source": [
        "annotated_data = annotate_data(sample_data)\n",
        "\n",
        "for text, label in annotated_data:\n",
        "  print(f\"Text: {text}\\t\\t\\t Label: {label}\")"
      ],
      "metadata": {
        "colab": {
          "base_uri": "https://localhost:8080/"
        },
        "id": "UF_JIO2e9OfN",
        "outputId": "c10c6dd3-e877-4c08-bc1f-baf95a0f1b51"
      },
      "execution_count": null,
      "outputs": [
        {
          "output_type": "stream",
          "name": "stdout",
          "text": [
            "Text: I love this product!\t\t\t Label: positive\n",
            "Text: This is not what I expected.\t\t\t Label: negative\n",
            "Text: The customer service was excellent.\t\t\t Label: positive\n",
            "Text: The quality of the item is poor.\t\t\t Label: negative\n"
          ]
        }
      ]
    },
    {
      "cell_type": "code",
      "source": [],
      "metadata": {
        "id": "N_rmT3X-9Oh1"
      },
      "execution_count": null,
      "outputs": []
    },
    {
      "cell_type": "code",
      "source": [],
      "metadata": {
        "id": "NchKNWb99Okq"
      },
      "execution_count": null,
      "outputs": []
    }
  ]
}
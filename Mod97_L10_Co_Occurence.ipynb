{
  "nbformat": 4,
  "nbformat_minor": 0,
  "metadata": {
    "colab": {
      "provenance": []
    },
    "kernelspec": {
      "name": "python3",
      "display_name": "Python 3"
    },
    "language_info": {
      "name": "python"
    }
  },
  "cells": [
    {
      "cell_type": "markdown",
      "source": [
        "# Co- Occurence"
      ],
      "metadata": {
        "id": "P1sXdAe3gp3f"
      }
    },
    {
      "cell_type": "code",
      "execution_count": 1,
      "metadata": {
        "id": "Ep7T5Sohgh6Q"
      },
      "outputs": [],
      "source": [
        "import numpy as np\n",
        "from collections import defaultdict\n",
        "import nltk\n",
        "from nltk.tokenize import word_tokenize, sent_tokenize"
      ]
    },
    {
      "cell_type": "code",
      "source": [
        "nltk.download('punkt_tab')"
      ],
      "metadata": {
        "colab": {
          "base_uri": "https://localhost:8080/"
        },
        "id": "fgrcUf1Sgnp1",
        "outputId": "76d801e5-c577-4993-d241-ad06cbc22399"
      },
      "execution_count": 2,
      "outputs": [
        {
          "output_type": "stream",
          "name": "stderr",
          "text": [
            "[nltk_data] Downloading package punkt_tab to /root/nltk_data...\n",
            "[nltk_data]   Package punkt_tab is already up-to-date!\n"
          ]
        },
        {
          "output_type": "execute_result",
          "data": {
            "text/plain": [
              "True"
            ]
          },
          "metadata": {},
          "execution_count": 2
        }
      ]
    },
    {
      "cell_type": "code",
      "source": [
        "sample_txt = \"Alice is a very pretty girl . She  is shy , smart , brilliant , positive , optimistic woman . Aakaasa is her twin sister . She is bold , fearless , pessimistic , beautiful , gorgeous . \""
      ],
      "metadata": {
        "id": "vplGPukEgnsN"
      },
      "execution_count": 16,
      "outputs": []
    },
    {
      "cell_type": "code",
      "source": [],
      "metadata": {
        "id": "6cp65j3BgnvD"
      },
      "execution_count": 3,
      "outputs": []
    },
    {
      "cell_type": "markdown",
      "source": [
        "# Tokenize into words and sentences"
      ],
      "metadata": {
        "id": "BADf0pk1hQ-G"
      }
    },
    {
      "cell_type": "code",
      "source": [
        "sentences = sent_tokenize(sample_txt)"
      ],
      "metadata": {
        "id": "qPJWft5Qgnxz"
      },
      "execution_count": 17,
      "outputs": []
    },
    {
      "cell_type": "code",
      "source": [
        "sentences"
      ],
      "metadata": {
        "colab": {
          "base_uri": "https://localhost:8080/"
        },
        "id": "ySX3rFD1gn0b",
        "outputId": "162e1691-802c-474c-bc27-d6adb22dad39"
      },
      "execution_count": 18,
      "outputs": [
        {
          "output_type": "execute_result",
          "data": {
            "text/plain": [
              "['Alice is a very pretty girl .',\n",
              " 'She  is shy , smart , brilliant , positive , optimistic woman .',\n",
              " 'Aakaasa is her twin sister .',\n",
              " 'She is bold , fearless , pessimistic , beautiful , gorgeous .']"
            ]
          },
          "metadata": {},
          "execution_count": 18
        }
      ]
    },
    {
      "cell_type": "code",
      "source": [
        "words_in_sentence = [word_tokenize(sentence.lower()) for sentence in sentences]"
      ],
      "metadata": {
        "id": "-alPptWvgn3F"
      },
      "execution_count": 19,
      "outputs": []
    },
    {
      "cell_type": "code",
      "source": [
        "words_in_sentence"
      ],
      "metadata": {
        "colab": {
          "base_uri": "https://localhost:8080/"
        },
        "id": "RD03dDkBgn5y",
        "outputId": "3944326b-80e8-4cb1-c3b5-a6cee3644a13"
      },
      "execution_count": 20,
      "outputs": [
        {
          "output_type": "execute_result",
          "data": {
            "text/plain": [
              "[['alice', 'is', 'a', 'very', 'pretty', 'girl', '.'],\n",
              " ['she',\n",
              "  'is',\n",
              "  'shy',\n",
              "  ',',\n",
              "  'smart',\n",
              "  ',',\n",
              "  'brilliant',\n",
              "  ',',\n",
              "  'positive',\n",
              "  ',',\n",
              "  'optimistic',\n",
              "  'woman',\n",
              "  '.'],\n",
              " ['aakaasa', 'is', 'her', 'twin', 'sister', '.'],\n",
              " ['she',\n",
              "  'is',\n",
              "  'bold',\n",
              "  ',',\n",
              "  'fearless',\n",
              "  ',',\n",
              "  'pessimistic',\n",
              "  ',',\n",
              "  'beautiful',\n",
              "  ',',\n",
              "  'gorgeous',\n",
              "  '.']]"
            ]
          },
          "metadata": {},
          "execution_count": 20
        }
      ]
    },
    {
      "cell_type": "code",
      "source": [],
      "metadata": {
        "id": "2WpVhzpjgn8j"
      },
      "execution_count": 14,
      "outputs": []
    },
    {
      "cell_type": "markdown",
      "source": [
        "# Build Co-occurence matrix"
      ],
      "metadata": {
        "id": "TWSnyF2Hh8qs"
      }
    },
    {
      "cell_type": "code",
      "source": [
        "from collections import defaultdict\n",
        "import pandas as pd\n",
        "\n",
        "print(\"Build co-occurrence matrix\")\n",
        "\n",
        "window_size = 2\n",
        "co_occurrence_matrix = defaultdict(lambda: defaultdict(int))\n",
        "\n",
        "for sentence in words_in_sentence:\n",
        "    for i, target_word in enumerate(sentence):\n",
        "        for j in range(max(0, i - window_size), min(len(sentence), i + window_size + 1)):\n",
        "            if i != j:\n",
        "                context_word = sentence[j]\n",
        "                co_occurrence_matrix[target_word][context_word] += 1\n",
        "\n",
        "unique_words = sorted({w for sent in words_in_sentence for w in sent})\n",
        "matrix_df = pd.DataFrame(index=unique_words, columns=unique_words).fillna(0)\n",
        "\n",
        "for target_word, contexts in co_occurrence_matrix.items():\n",
        "    for context_word, count in contexts.items():\n",
        "        matrix_df.at[target_word, context_word] = count\n",
        "\n",
        "print(matrix_df)\n"
      ],
      "metadata": {
        "colab": {
          "base_uri": "https://localhost:8080/"
        },
        "id": "o9-rKR7WgoHc",
        "outputId": "724f4f2f-b295-416c-ad31-0b25dc13f3c6"
      },
      "execution_count": 21,
      "outputs": [
        {
          "output_type": "stream",
          "name": "stdout",
          "text": [
            "Build co-occurrence matrix\n",
            "              ,  .  a  aakaasa  alice  beautiful  bold  brilliant  fearless  \\\n",
            ",            12  1  0        0      0          2     1          2         2   \n",
            ".             1  0  0        0      0          0     0          0         0   \n",
            "a             0  0  0        0      1          0     0          0         0   \n",
            "aakaasa       0  0  0        0      0          0     0          0         0   \n",
            "alice         0  0  1        0      0          0     0          0         0   \n",
            "beautiful     2  0  0        0      0          0     0          0         0   \n",
            "bold          1  0  0        0      0          0     0          0         1   \n",
            "brilliant     2  0  0        0      0          0     0          0         0   \n",
            "fearless      2  0  0        0      0          0     1          0         0   \n",
            "girl          0  1  0        0      0          0     0          0         0   \n",
            "gorgeous      1  1  0        0      0          1     0          0         0   \n",
            "her           0  0  0        1      0          0     0          0         0   \n",
            "is            2  0  1        1      1          0     1          0         0   \n",
            "optimistic    1  1  0        0      0          0     0          0         0   \n",
            "pessimistic   2  0  0        0      0          1     0          0         1   \n",
            "positive      2  0  0        0      0          0     0          1         0   \n",
            "pretty        0  1  1        0      0          0     0          0         0   \n",
            "she           0  0  0        0      0          0     1          0         0   \n",
            "shy           1  0  0        0      0          0     0          0         0   \n",
            "sister        0  1  0        0      0          0     0          0         0   \n",
            "smart         2  0  0        0      0          0     0          1         0   \n",
            "twin          0  1  0        0      0          0     0          0         0   \n",
            "very          0  0  1        0      0          0     0          0         0   \n",
            "woman         1  1  0        0      0          0     0          0         0   \n",
            "\n",
            "             girl  ...  pessimistic  positive  pretty  she  shy  sister  \\\n",
            ",               0  ...            2         2       0    0    1       0   \n",
            ".               1  ...            0         0       1    0    0       1   \n",
            "a               0  ...            0         0       1    0    0       0   \n",
            "aakaasa         0  ...            0         0       0    0    0       0   \n",
            "alice           0  ...            0         0       0    0    0       0   \n",
            "beautiful       0  ...            1         0       0    0    0       0   \n",
            "bold            0  ...            0         0       0    1    0       0   \n",
            "brilliant       0  ...            0         1       0    0    0       0   \n",
            "fearless        0  ...            1         0       0    0    0       0   \n",
            "girl            0  ...            0         0       1    0    0       0   \n",
            "gorgeous        0  ...            0         0       0    0    0       0   \n",
            "her             0  ...            0         0       0    0    0       1   \n",
            "is              0  ...            0         0       0    2    1       0   \n",
            "optimistic      0  ...            0         1       0    0    0       0   \n",
            "pessimistic     0  ...            0         0       0    0    0       0   \n",
            "positive        0  ...            0         0       0    0    0       0   \n",
            "pretty          1  ...            0         0       0    0    0       0   \n",
            "she             0  ...            0         0       0    0    1       0   \n",
            "shy             0  ...            0         0       0    1    0       0   \n",
            "sister          0  ...            0         0       0    0    0       0   \n",
            "smart           0  ...            0         0       0    0    1       0   \n",
            "twin            0  ...            0         0       0    0    0       1   \n",
            "very            1  ...            0         0       1    0    0       0   \n",
            "woman           0  ...            0         0       0    0    0       0   \n",
            "\n",
            "             smart  twin  very  woman  \n",
            ",                2     0     0      1  \n",
            ".                0     1     0      1  \n",
            "a                0     0     1      0  \n",
            "aakaasa          0     0     0      0  \n",
            "alice            0     0     0      0  \n",
            "beautiful        0     0     0      0  \n",
            "bold             0     0     0      0  \n",
            "brilliant        1     0     0      0  \n",
            "fearless         0     0     0      0  \n",
            "girl             0     0     1      0  \n",
            "gorgeous         0     0     0      0  \n",
            "her              0     1     0      0  \n",
            "is               0     1     1      0  \n",
            "optimistic       0     0     0      1  \n",
            "pessimistic      0     0     0      0  \n",
            "positive         0     0     0      0  \n",
            "pretty           0     0     1      0  \n",
            "she              0     0     0      0  \n",
            "shy              1     0     0      0  \n",
            "sister           0     1     0      0  \n",
            "smart            0     0     0      0  \n",
            "twin             0     0     0      0  \n",
            "very             0     0     0      0  \n",
            "woman            0     0     0      0  \n",
            "\n",
            "[24 rows x 24 columns]\n"
          ]
        },
        {
          "output_type": "stream",
          "name": "stderr",
          "text": [
            "/tmp/ipython-input-3897247104.py:17: FutureWarning: Downcasting object dtype arrays on .fillna, .ffill, .bfill is deprecated and will change in a future version. Call result.infer_objects(copy=False) instead. To opt-in to the future behavior, set `pd.set_option('future.no_silent_downcasting', True)`\n",
            "  matrix_df = pd.DataFrame(index=unique_words, columns=unique_words).fillna(0)\n"
          ]
        }
      ]
    },
    {
      "cell_type": "code",
      "source": [],
      "metadata": {
        "id": "kWRXBfa-goJs"
      },
      "execution_count": 8,
      "outputs": []
    },
    {
      "cell_type": "markdown",
      "source": [
        "## Another example"
      ],
      "metadata": {
        "id": "91lT6sNwnyb6"
      }
    },
    {
      "cell_type": "code",
      "source": [
        "from collections import defaultdict\n",
        "import pandas as pd\n",
        "\n",
        "words_in_sentence = [\n",
        "    [\"i\", \"love\", \"machine\", \"learning\"],\n",
        "    [\"machine\", \"learning\", \"is\", \"fun\"],\n",
        "    [\"i\", \"love\", \"python\"]\n",
        "]\n",
        "\n",
        "window_size = 2\n",
        "co_occurrence_matrix = defaultdict(lambda: defaultdict(int))\n",
        "\n",
        "for sentence in words_in_sentence:\n",
        "    for i, target_word in enumerate(sentence):\n",
        "        for j in range(max(0, i - window_size), min(len(sentence), i + window_size + 1)):\n",
        "            if i != j:\n",
        "                context_word = sentence[j]\n",
        "                co_occurrence_matrix[target_word][context_word] += 1\n",
        "\n",
        "unique_words = sorted({w for sent in words_in_sentence for w in sent})\n",
        "matrix_df = pd.DataFrame(index=unique_words, columns=unique_words).fillna(0)\n",
        "\n",
        "for target_word, contexts in co_occurrence_matrix.items():\n",
        "    for context_word, count in contexts.items():\n",
        "        matrix_df.at[target_word, context_word] = count\n",
        "\n",
        "print(matrix_df)\n"
      ],
      "metadata": {
        "colab": {
          "base_uri": "https://localhost:8080/"
        },
        "id": "hnD2qwGtnvqu",
        "outputId": "7c835d27-ccdb-426c-a214-8c438909894b"
      },
      "execution_count": 23,
      "outputs": [
        {
          "output_type": "stream",
          "name": "stdout",
          "text": [
            "          fun  i  is  learning  love  machine  python\n",
            "fun         0  0   1         1     0        0       0\n",
            "i           0  0   0         0     2        1       1\n",
            "is          1  0   0         1     0        1       0\n",
            "learning    1  0   1         0     1        2       0\n",
            "love        0  2   0         1     0        1       1\n",
            "machine     0  1   1         2     1        0       0\n",
            "python      0  1   0         0     1        0       0\n"
          ]
        },
        {
          "output_type": "stream",
          "name": "stderr",
          "text": [
            "/tmp/ipython-input-592842623.py:21: FutureWarning: Downcasting object dtype arrays on .fillna, .ffill, .bfill is deprecated and will change in a future version. Call result.infer_objects(copy=False) instead. To opt-in to the future behavior, set `pd.set_option('future.no_silent_downcasting', True)`\n",
            "  matrix_df = pd.DataFrame(index=unique_words, columns=unique_words).fillna(0)\n"
          ]
        }
      ]
    },
    {
      "cell_type": "code",
      "source": [],
      "metadata": {
        "id": "YMkPreLMnvnR"
      },
      "execution_count": null,
      "outputs": []
    },
    {
      "cell_type": "code",
      "source": [],
      "metadata": {
        "id": "9ejvRH4onvke"
      },
      "execution_count": null,
      "outputs": []
    }
  ]
}
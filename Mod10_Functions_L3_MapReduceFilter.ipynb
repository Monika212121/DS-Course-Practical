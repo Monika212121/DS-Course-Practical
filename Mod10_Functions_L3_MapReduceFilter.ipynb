{
  "nbformat": 4,
  "nbformat_minor": 0,
  "metadata": {
    "colab": {
      "provenance": []
    },
    "kernelspec": {
      "name": "python3",
      "display_name": "Python 3"
    },
    "language_info": {
      "name": "python"
    }
  },
  "cells": [
    {
      "cell_type": "markdown",
      "source": [
        "# Map, Reduce and Filter function"
      ],
      "metadata": {
        "id": "VdKmAH9vuVvr"
      }
    },
    {
      "cell_type": "markdown",
      "source": [
        "# Map function\n",
        "\n",
        "The map() function is used to apply a given function to every item of an iterable, such as a list or tuple, and returns a map object (which is an iterator)."
      ],
      "metadata": {
        "id": "rLMX_FRbg6fK"
      }
    },
    {
      "cell_type": "code",
      "execution_count": 1,
      "metadata": {
        "id": "F0M5XUjcuOSf",
        "colab": {
          "base_uri": "https://localhost:8080/"
        },
        "outputId": "902e6a69-fb1d-4c7f-aeb0-3724bde16e4f"
      },
      "outputs": [
        {
          "output_type": "execute_result",
          "data": {
            "text/plain": [
              "[1, 4, 9, 16, 25]"
            ]
          },
          "metadata": {},
          "execution_count": 1
        }
      ],
      "source": [
        "l = [1, 2, 3, 4, 5]\n",
        "\n",
        "def getSquare(list):\n",
        "  l1 = []\n",
        "  for i in list:\n",
        "    l1.append(i**2)\n",
        "\n",
        "  return l1\n",
        "\n",
        "getSquare(l)"
      ]
    },
    {
      "cell_type": "code",
      "source": [
        "# Using map()\n",
        "\n",
        "def sq(num):\n",
        "  return num**2"
      ],
      "metadata": {
        "id": "jV1lsC_cudCl"
      },
      "execution_count": 2,
      "outputs": []
    },
    {
      "cell_type": "code",
      "source": [
        "map(sq, l)"
      ],
      "metadata": {
        "id": "o1f_MYwOudFT",
        "colab": {
          "base_uri": "https://localhost:8080/"
        },
        "outputId": "541f6c02-383f-4d58-af77-ed1d6ea1df5e"
      },
      "execution_count": 3,
      "outputs": [
        {
          "output_type": "execute_result",
          "data": {
            "text/plain": [
              "<map at 0x7f4a9160a620>"
            ]
          },
          "metadata": {},
          "execution_count": 3
        }
      ]
    },
    {
      "cell_type": "code",
      "source": [
        "list(map(sq, l))"
      ],
      "metadata": {
        "id": "bl24u8F7udID",
        "colab": {
          "base_uri": "https://localhost:8080/"
        },
        "outputId": "d5c08016-ca79-45d8-bde7-244c213ca469"
      },
      "execution_count": 4,
      "outputs": [
        {
          "output_type": "execute_result",
          "data": {
            "text/plain": [
              "[1, 4, 9, 16, 25]"
            ]
          },
          "metadata": {},
          "execution_count": 4
        }
      ]
    },
    {
      "cell_type": "code",
      "source": [
        "# map() with lambda\n",
        "# When the function is simple, we can use lambda()\n",
        "\n",
        "list(map(lambda x:x**2, l))"
      ],
      "metadata": {
        "id": "kFmZ99rpudK-",
        "colab": {
          "base_uri": "https://localhost:8080/"
        },
        "outputId": "331e3406-dc20-4a3b-d82d-9c8938c2cb44"
      },
      "execution_count": 5,
      "outputs": [
        {
          "output_type": "execute_result",
          "data": {
            "text/plain": [
              "[1, 4, 9, 16, 25]"
            ]
          },
          "metadata": {},
          "execution_count": 5
        }
      ]
    },
    {
      "cell_type": "code",
      "source": [],
      "metadata": {
        "id": "78pRc9MsudN5"
      },
      "execution_count": 5,
      "outputs": []
    },
    {
      "cell_type": "code",
      "source": [
        "# map() with 2 iterables(list)\n",
        "\n",
        "l1 = [10, 20, 30, 40, 50]\n",
        "l2 = [60, 70, 80, 90, 100]\n",
        "\n",
        "list(map(lambda x,y:x+y, l1, l2))"
      ],
      "metadata": {
        "id": "nVIAykpxudQk",
        "colab": {
          "base_uri": "https://localhost:8080/"
        },
        "outputId": "b359defc-ee42-4991-a5cb-dffd29909ee5"
      },
      "execution_count": 6,
      "outputs": [
        {
          "output_type": "execute_result",
          "data": {
            "text/plain": [
              "[70, 90, 110, 130, 150]"
            ]
          },
          "metadata": {},
          "execution_count": 6
        }
      ]
    },
    {
      "cell_type": "code",
      "source": [
        "# Same program with external function.\n",
        "\n",
        "def add(x, y):\n",
        "  return x+y"
      ],
      "metadata": {
        "id": "1C1OSWThudTq"
      },
      "execution_count": 7,
      "outputs": []
    },
    {
      "cell_type": "code",
      "source": [
        "list(map(add, l1, l2))\n",
        "\n",
        "# Don't use parenthesis while calling \"add\" function."
      ],
      "metadata": {
        "id": "x6T46wGGudWj",
        "colab": {
          "base_uri": "https://localhost:8080/"
        },
        "outputId": "45c524e5-3cb7-4377-ddad-e08e8190df4d"
      },
      "execution_count": 8,
      "outputs": [
        {
          "output_type": "execute_result",
          "data": {
            "text/plain": [
              "[70, 90, 110, 130, 150]"
            ]
          },
          "metadata": {},
          "execution_count": 8
        }
      ]
    },
    {
      "cell_type": "code",
      "source": [],
      "metadata": {
        "id": "I1eWo4evudZE"
      },
      "execution_count": 8,
      "outputs": []
    },
    {
      "cell_type": "code",
      "source": [
        "# Map() with string\n",
        "\n",
        "name = \"monika\"\n",
        "\n",
        "list(map(lambda s: s.upper(), name))"
      ],
      "metadata": {
        "id": "jUyIb1Bbudbs",
        "colab": {
          "base_uri": "https://localhost:8080/"
        },
        "outputId": "61a168e2-abaf-4dc6-8185-acda7b04e7c5"
      },
      "execution_count": 9,
      "outputs": [
        {
          "output_type": "execute_result",
          "data": {
            "text/plain": [
              "['M', 'O', 'N', 'I', 'K', 'A']"
            ]
          },
          "metadata": {},
          "execution_count": 9
        }
      ]
    },
    {
      "cell_type": "code",
      "source": [],
      "metadata": {
        "id": "Ot92Khb3udfG"
      },
      "execution_count": 9,
      "outputs": []
    },
    {
      "cell_type": "markdown",
      "source": [
        "# Reduce()\n",
        "\n",
        "The reduce(fun,seq) function is used to apply a particular function passed in its argument to all of the list elements mentioned in the sequence passed along. This function is defined in “functools” module."
      ],
      "metadata": {
        "id": "Mo1e5EikwcZ5"
      }
    },
    {
      "cell_type": "code",
      "source": [
        "from functools import reduce\n",
        "# as reduce() is not present by default, we need to import it from the above package."
      ],
      "metadata": {
        "id": "Vih1EU7FwgJI"
      },
      "execution_count": 10,
      "outputs": []
    },
    {
      "cell_type": "code",
      "source": [
        "li = [1, 2, 3, 4, 5]\n",
        "\n",
        "reduce(lambda x,y:x+y, li)"
      ],
      "metadata": {
        "colab": {
          "base_uri": "https://localhost:8080/"
        },
        "id": "rkDQ1-4iwk0M",
        "outputId": "1a4675f2-0393-4f64-e018-733c23209de7"
      },
      "execution_count": 11,
      "outputs": [
        {
          "output_type": "execute_result",
          "data": {
            "text/plain": [
              "15"
            ]
          },
          "metadata": {},
          "execution_count": 11
        }
      ]
    },
    {
      "cell_type": "markdown",
      "source": [
        "**NOTE:** By default reduce() is written for accepting 2 variables, not 3 variables.\n",
        "\n",
        "This is bcz if we take 3 variables, then while iterating and adding the numbers, there will be a time(at last) when the second last number will be 'y' and before that summation of numbers will be 'x' and then 'z' variable will be out of range in the list which throws error."
      ],
      "metadata": {
        "id": "gEjqiJyb34Js"
      }
    },
    {
      "cell_type": "code",
      "source": [
        "reduce(lambda x,y:x+y, [1,2,3])"
      ],
      "metadata": {
        "colab": {
          "base_uri": "https://localhost:8080/"
        },
        "id": "661R7oHQwk6G",
        "outputId": "04db2541-7f5d-464a-c975-7144c3fa9f09"
      },
      "execution_count": 12,
      "outputs": [
        {
          "output_type": "execute_result",
          "data": {
            "text/plain": [
              "6"
            ]
          },
          "metadata": {},
          "execution_count": 12
        }
      ]
    },
    {
      "cell_type": "code",
      "source": [
        "reduce(lambda x,y:x+y, [])"
      ],
      "metadata": {
        "colab": {
          "base_uri": "https://localhost:8080/",
          "height": 141
        },
        "id": "Be-QoM65wk9L",
        "outputId": "94c200bc-6d64-403d-ce82-7d56e9430264"
      },
      "execution_count": 13,
      "outputs": [
        {
          "output_type": "error",
          "ename": "TypeError",
          "evalue": "reduce() of empty iterable with no initial value",
          "traceback": [
            "\u001b[0;31m---------------------------------------------------------------------------\u001b[0m",
            "\u001b[0;31mTypeError\u001b[0m                                 Traceback (most recent call last)",
            "\u001b[0;32m<ipython-input-13-f275c21819db>\u001b[0m in \u001b[0;36m<cell line: 1>\u001b[0;34m()\u001b[0m\n\u001b[0;32m----> 1\u001b[0;31m \u001b[0mreduce\u001b[0m\u001b[0;34m(\u001b[0m\u001b[0;32mlambda\u001b[0m \u001b[0mx\u001b[0m\u001b[0;34m,\u001b[0m\u001b[0my\u001b[0m\u001b[0;34m:\u001b[0m\u001b[0mx\u001b[0m\u001b[0;34m+\u001b[0m\u001b[0my\u001b[0m\u001b[0;34m,\u001b[0m \u001b[0;34m[\u001b[0m\u001b[0;34m]\u001b[0m\u001b[0;34m)\u001b[0m\u001b[0;34m\u001b[0m\u001b[0;34m\u001b[0m\u001b[0m\n\u001b[0m",
            "\u001b[0;31mTypeError\u001b[0m: reduce() of empty iterable with no initial value"
          ]
        }
      ]
    },
    {
      "cell_type": "markdown",
      "source": [
        "Exception case:"
      ],
      "metadata": {
        "id": "lxTCqT7LVcdJ"
      }
    },
    {
      "cell_type": "code",
      "source": [
        "reduce(lambda x,y:x+y, [1])"
      ],
      "metadata": {
        "colab": {
          "base_uri": "https://localhost:8080/"
        },
        "id": "wcEqACH_wk_1",
        "outputId": "3810a330-9658-4920-ff55-47e98cd467f8"
      },
      "execution_count": 14,
      "outputs": [
        {
          "output_type": "execute_result",
          "data": {
            "text/plain": [
              "1"
            ]
          },
          "metadata": {},
          "execution_count": 14
        }
      ]
    },
    {
      "cell_type": "code",
      "source": [
        "reduce(lambda x,y:x+y, [1000])"
      ],
      "metadata": {
        "colab": {
          "base_uri": "https://localhost:8080/"
        },
        "id": "xfskuwNrwlCN",
        "outputId": "e376b28d-3df3-4066-ae79-52d7998e05e0"
      },
      "execution_count": 16,
      "outputs": [
        {
          "output_type": "execute_result",
          "data": {
            "text/plain": [
              "1000"
            ]
          },
          "metadata": {},
          "execution_count": 16
        }
      ]
    },
    {
      "cell_type": "code",
      "source": [
        "reduce(lambda x,y:x*y, li)"
      ],
      "metadata": {
        "colab": {
          "base_uri": "https://localhost:8080/"
        },
        "id": "7Z1mh8B3wlFN",
        "outputId": "4fe57961-c2df-4188-ca88-b911f2b315b6"
      },
      "execution_count": 17,
      "outputs": [
        {
          "output_type": "execute_result",
          "data": {
            "text/plain": [
              "120"
            ]
          },
          "metadata": {},
          "execution_count": 17
        }
      ]
    },
    {
      "cell_type": "code",
      "source": [],
      "metadata": {
        "id": "DtQfLwhfwlHd"
      },
      "execution_count": 11,
      "outputs": []
    },
    {
      "cell_type": "code",
      "source": [
        "# To get the maximum number from the list.\n",
        "\n",
        "l2 = [10, 20, 30, 40, 40, 50]\n",
        "reduce(lambda x,y: x if x>y else y, l2)"
      ],
      "metadata": {
        "colab": {
          "base_uri": "https://localhost:8080/"
        },
        "id": "F-JE7iEBwlKB",
        "outputId": "97ffd6cd-18c7-464b-d15c-35e6060eb5f7"
      },
      "execution_count": 20,
      "outputs": [
        {
          "output_type": "execute_result",
          "data": {
            "text/plain": [
              "50"
            ]
          },
          "metadata": {},
          "execution_count": 20
        }
      ]
    },
    {
      "cell_type": "code",
      "source": [],
      "metadata": {
        "id": "_WzD30hswlM5"
      },
      "execution_count": 11,
      "outputs": []
    },
    {
      "cell_type": "markdown",
      "source": [
        "# Filter()\n",
        "\n",
        "The filter() function returns an iterator where the items are filtered through a function to test if the item is accepted or not."
      ],
      "metadata": {
        "id": "CvK_aGl5Wux1"
      }
    },
    {
      "cell_type": "code",
      "source": [
        "# to filter even numbers from the list.\n",
        "\n",
        "l3 = [1,2,3,4,5,6,7,8,9,10]\n",
        "\n",
        "list(filter(lambda x: x%2 == 0, l3))"
      ],
      "metadata": {
        "colab": {
          "base_uri": "https://localhost:8080/"
        },
        "id": "zp0YefaUwlPU",
        "outputId": "b3cfc0f6-d55d-45c7-a104-42b8df3ddbdb"
      },
      "execution_count": 23,
      "outputs": [
        {
          "output_type": "execute_result",
          "data": {
            "text/plain": [
              "[2, 4, 6, 8, 10]"
            ]
          },
          "metadata": {},
          "execution_count": 23
        }
      ]
    },
    {
      "cell_type": "code",
      "source": [
        "# to filter odd numbers from the list.\n",
        "\n",
        "list(filter(lambda x: x%2 != 0, l3))"
      ],
      "metadata": {
        "colab": {
          "base_uri": "https://localhost:8080/"
        },
        "id": "QYYeZPpewlS7",
        "outputId": "6b775df9-b441-4b3f-ff89-71d84d28e0fa"
      },
      "execution_count": 24,
      "outputs": [
        {
          "output_type": "execute_result",
          "data": {
            "text/plain": [
              "[1, 3, 5, 7, 9]"
            ]
          },
          "metadata": {},
          "execution_count": 24
        }
      ]
    },
    {
      "cell_type": "code",
      "source": [],
      "metadata": {
        "id": "fD-XzUvrX7mm"
      },
      "execution_count": null,
      "outputs": []
    },
    {
      "cell_type": "code",
      "source": [
        "# to filter negative numbers from the list.\n",
        "\n",
        "l4 = [2, 4,-2, -5, -7, -8, 1, 3, 6, 100, -5000, -6]\n",
        "\n",
        "list(filter(lambda x: x < 0, l4))"
      ],
      "metadata": {
        "colab": {
          "base_uri": "https://localhost:8080/"
        },
        "id": "s_mQOYagYD0-",
        "outputId": "185e0294-8e19-422b-c3cc-6e03edcad21f"
      },
      "execution_count": 29,
      "outputs": [
        {
          "output_type": "execute_result",
          "data": {
            "text/plain": [
              "[-2, -5, -7, -8, -5000, -6]"
            ]
          },
          "metadata": {},
          "execution_count": 29
        }
      ]
    },
    {
      "cell_type": "code",
      "source": [],
      "metadata": {
        "id": "dOKjjrTWYD4H"
      },
      "execution_count": null,
      "outputs": []
    },
    {
      "cell_type": "code",
      "source": [
        "# to filter the strings whose lemgth is less tahn 6.\n",
        "\n",
        "l5 = [\"so\", \"Monika\", \"you're\", \"Amazing\", \"really\", \"wonderfull\", \"supernova\"]\n",
        "\n",
        "list(filter(lambda s: len(s) > 6, l5))"
      ],
      "metadata": {
        "colab": {
          "base_uri": "https://localhost:8080/"
        },
        "id": "jH26jwrjYD6v",
        "outputId": "e805986c-e67d-4829-91cb-4c290fdd3b22"
      },
      "execution_count": 30,
      "outputs": [
        {
          "output_type": "execute_result",
          "data": {
            "text/plain": [
              "['Amazing', 'wonderfull', 'supernova']"
            ]
          },
          "metadata": {},
          "execution_count": 30
        }
      ]
    },
    {
      "cell_type": "code",
      "source": [],
      "metadata": {
        "id": "bs6j9fqGYD8n"
      },
      "execution_count": null,
      "outputs": []
    }
  ]
}
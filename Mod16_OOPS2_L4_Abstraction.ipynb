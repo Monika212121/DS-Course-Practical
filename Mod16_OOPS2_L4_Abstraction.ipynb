{
  "nbformat": 4,
  "nbformat_minor": 0,
  "metadata": {
    "colab": {
      "provenance": []
    },
    "kernelspec": {
      "name": "python3",
      "display_name": "Python 3"
    },
    "language_info": {
      "name": "python"
    }
  },
  "cells": [
    {
      "cell_type": "markdown",
      "source": [
        "# Abstraction\n",
        "\n",
        "Abstraction is used to hide irrelevant details from the user and show the details that are relevant to the users."
      ],
      "metadata": {
        "id": "-81u1t7TTgfv"
      }
    },
    {
      "cell_type": "markdown",
      "source": [
        "We create skeleton of a class and mention the functions needs in it.\n",
        "\n",
        "Then anyone can inherit from this parent abstracted class and can define those functions accordingly to their own class."
      ],
      "metadata": {
        "id": "Mw2KfL_jZTB5"
      }
    },
    {
      "cell_type": "markdown",
      "source": [
        "# Key notes :-\n",
        "\n",
        "1.) Abstraction hides implementation details, Encapsulation protects data.\n",
        "\n",
        "2.) The abc module enforces abstraction.\n",
        "\n",
        "3.) We cannot instantiate an abstract class directly.\n",
        "\n",
        "4.) Data abstraction can be achieved through abstract classes, access modifiers, and properties."
      ],
      "metadata": {
        "id": "-JGxo6Afnv7n"
      }
    },
    {
      "cell_type": "code",
      "execution_count": null,
      "metadata": {
        "id": "_dkkOS0GTbgn"
      },
      "outputs": [],
      "source": [
        "import abc\n",
        "\n",
        "class pwskills :                      # Skeleton\n",
        "\n",
        "  @abc.abstractmethod\n",
        "  def student_details(self) :\n",
        "    pass\n",
        "\n",
        "  @abc.abstractmethod\n",
        "  def student_assignment(self) :\n",
        "    pass\n",
        "\n",
        "  @abc.abstractmethod\n",
        "  def student_marks(self) :\n",
        "    pass\n"
      ]
    },
    {
      "cell_type": "code",
      "source": [
        "class students(pwskills) :\n",
        "\n",
        "  def student_details(self):\n",
        "    return \"All student details\"\n",
        "\n",
        "  def student_marks(self):\n",
        "    return \"All student marks\"\n"
      ],
      "metadata": {
        "id": "Y2SPuua4Ti3U"
      },
      "execution_count": null,
      "outputs": []
    },
    {
      "cell_type": "code",
      "source": [
        "class data_science_batch(pwskills) :\n",
        "\n",
        "  def student_details(self):\n",
        "    return \"All data science batch student details\"\n",
        "\n",
        "  def student_assignment(self):\n",
        "    return \"All data science batch student Assignment\"\n",
        "\n",
        "  def student_marks(self):\n",
        "    return \"All data science batch student marks\"\n"
      ],
      "metadata": {
        "id": "um4x4hTWTi6H"
      },
      "execution_count": null,
      "outputs": []
    },
    {
      "cell_type": "code",
      "source": [
        "class GenAI_batch(pwskills) :\n",
        "\n",
        "  def student_details(self):\n",
        "    return \"All GenAI batch student details\"\n"
      ],
      "metadata": {
        "id": "KUpuIVikTi9H"
      },
      "execution_count": null,
      "outputs": []
    },
    {
      "cell_type": "code",
      "source": [
        "stu = students()"
      ],
      "metadata": {
        "id": "eiY1Xr_nTi__"
      },
      "execution_count": null,
      "outputs": []
    },
    {
      "cell_type": "code",
      "source": [
        "stu.student_details()"
      ],
      "metadata": {
        "colab": {
          "base_uri": "https://localhost:8080/",
          "height": 36
        },
        "id": "VJelJCnoTjCu",
        "outputId": "8028298c-c33b-4749-ef88-012c0f6aced4"
      },
      "execution_count": null,
      "outputs": [
        {
          "output_type": "execute_result",
          "data": {
            "text/plain": [
              "'All student details'"
            ],
            "application/vnd.google.colaboratory.intrinsic+json": {
              "type": "string"
            }
          },
          "metadata": {},
          "execution_count": 7
        }
      ]
    },
    {
      "cell_type": "code",
      "source": [
        "genAi = GenAI_batch()"
      ],
      "metadata": {
        "id": "6L-pdc1XTjIb"
      },
      "execution_count": null,
      "outputs": []
    },
    {
      "cell_type": "code",
      "source": [],
      "metadata": {
        "id": "LK-wR-txTjFj"
      },
      "execution_count": null,
      "outputs": []
    },
    {
      "cell_type": "code",
      "source": [
        "genAi.student_assignment()"
      ],
      "metadata": {
        "id": "dzbMWYY5TjLC"
      },
      "execution_count": null,
      "outputs": []
    },
    {
      "cell_type": "code",
      "source": [
        "genAi.student_marks()"
      ],
      "metadata": {
        "id": "Xr-GJHFfTjQ5"
      },
      "execution_count": null,
      "outputs": []
    },
    {
      "cell_type": "code",
      "source": [
        "stu.student_assignment()"
      ],
      "metadata": {
        "id": "EqQVkN_Qcxpl"
      },
      "execution_count": null,
      "outputs": []
    },
    {
      "cell_type": "markdown",
      "source": [
        "**NOTE:** Here, in 'GenAI_batch' class, I didn't defined Student Assignment but then also I can execute it without error but there is no O/P."
      ],
      "metadata": {
        "id": "82oW6hMfcCoN"
      }
    },
    {
      "cell_type": "code",
      "source": [
        "genAi.student_details()"
      ],
      "metadata": {
        "colab": {
          "base_uri": "https://localhost:8080/",
          "height": 36
        },
        "id": "AlBsbg2ATjN4",
        "outputId": "4e5e4858-ae39-4029-a667-3bcec663cddc"
      },
      "execution_count": null,
      "outputs": [
        {
          "output_type": "execute_result",
          "data": {
            "text/plain": [
              "'All GenAI batch student details'"
            ],
            "application/vnd.google.colaboratory.intrinsic+json": {
              "type": "string"
            }
          },
          "metadata": {},
          "execution_count": 11
        }
      ]
    },
    {
      "cell_type": "code",
      "source": [],
      "metadata": {
        "id": "E7MwMa5rTjUL"
      },
      "execution_count": null,
      "outputs": []
    },
    {
      "cell_type": "markdown",
      "source": [
        "# Another example(own)"
      ],
      "metadata": {
        "id": "IGJ5H2_SdOli"
      }
    },
    {
      "cell_type": "code",
      "source": [
        "class food_menu :\n",
        "\n",
        "  @abc.abstractmethod\n",
        "  def day_breakfast(self):\n",
        "    pass\n",
        "\n",
        "  @abc.abstractmethod\n",
        "  def day_lunch(self):\n",
        "    pass\n",
        "\n",
        "  @abc.abstractmethod\n",
        "  def day_dinner(self):\n",
        "    pass\n"
      ],
      "metadata": {
        "id": "7Q2i_z_vcrxN"
      },
      "execution_count": null,
      "outputs": []
    },
    {
      "cell_type": "code",
      "source": [
        "class middle_class(food_menu) :\n",
        "\n",
        "  def day_breakfast(self):\n",
        "    return \"aloo paratha\"\n",
        "\n",
        "  def day_lunch(self):\n",
        "    return \"Rice dal potato\"\n",
        "\n",
        "  def day_dinner(self):\n",
        "    return \"Roti dal\"\n"
      ],
      "metadata": {
        "id": "Ci3_3_d8dRDs"
      },
      "execution_count": null,
      "outputs": []
    },
    {
      "cell_type": "code",
      "source": [
        "class rich_class(food_menu) :\n",
        "\n",
        "  def day_breakfast(self):\n",
        "    return \"avacado toast\"\n",
        "\n",
        "  def day_dinner(self):\n",
        "    return \"spagetti\"\n"
      ],
      "metadata": {
        "id": "PIGy5_zjdRGP"
      },
      "execution_count": null,
      "outputs": []
    },
    {
      "cell_type": "code",
      "source": [
        "md = middle_class()"
      ],
      "metadata": {
        "id": "bIrwHiWfdRI5"
      },
      "execution_count": null,
      "outputs": []
    },
    {
      "cell_type": "code",
      "source": [
        "md.day_lunch()"
      ],
      "metadata": {
        "colab": {
          "base_uri": "https://localhost:8080/",
          "height": 36
        },
        "id": "o0tyY10OdRLn",
        "outputId": "a46aabff-9680-4e1e-b958-82771cbf91f8"
      },
      "execution_count": null,
      "outputs": [
        {
          "output_type": "execute_result",
          "data": {
            "text/plain": [
              "'Rice dal potato'"
            ],
            "application/vnd.google.colaboratory.intrinsic+json": {
              "type": "string"
            }
          },
          "metadata": {},
          "execution_count": 14
        }
      ]
    },
    {
      "cell_type": "code",
      "source": [
        "md.day_breakfast()"
      ],
      "metadata": {
        "colab": {
          "base_uri": "https://localhost:8080/",
          "height": 36
        },
        "id": "ki37mLJHdRPY",
        "outputId": "e54b82ba-65d6-44a3-952b-061ff9940ee3"
      },
      "execution_count": null,
      "outputs": [
        {
          "output_type": "execute_result",
          "data": {
            "text/plain": [
              "'aloo paratha'"
            ],
            "application/vnd.google.colaboratory.intrinsic+json": {
              "type": "string"
            }
          },
          "metadata": {},
          "execution_count": 15
        }
      ]
    },
    {
      "cell_type": "code",
      "source": [],
      "metadata": {
        "id": "G7eJgHR5faEl"
      },
      "execution_count": null,
      "outputs": []
    },
    {
      "cell_type": "code",
      "source": [
        "rc = rich_class()"
      ],
      "metadata": {
        "id": "yVv7ZgrwetEk"
      },
      "execution_count": null,
      "outputs": []
    },
    {
      "cell_type": "code",
      "source": [
        "rc.day_breakfast()"
      ],
      "metadata": {
        "colab": {
          "base_uri": "https://localhost:8080/",
          "height": 36
        },
        "id": "sgghAgpKetBH",
        "outputId": "a2a6e42f-96b7-4279-8dd6-54de586a9fb1"
      },
      "execution_count": null,
      "outputs": [
        {
          "output_type": "execute_result",
          "data": {
            "text/plain": [
              "'avacado toast'"
            ],
            "application/vnd.google.colaboratory.intrinsic+json": {
              "type": "string"
            }
          },
          "metadata": {},
          "execution_count": 22
        }
      ]
    },
    {
      "cell_type": "code",
      "source": [
        "rc.day_lunch()"
      ],
      "metadata": {
        "id": "mvnYUJGHe5En"
      },
      "execution_count": null,
      "outputs": []
    },
    {
      "cell_type": "code",
      "source": [
        "rc.day_dinner()"
      ],
      "metadata": {
        "colab": {
          "base_uri": "https://localhost:8080/",
          "height": 36
        },
        "id": "Jet3gQbxfFFo",
        "outputId": "e141a3dd-3489-45c8-8f9c-8f45142df568"
      },
      "execution_count": null,
      "outputs": [
        {
          "output_type": "execute_result",
          "data": {
            "text/plain": [
              "'spagetti'"
            ],
            "application/vnd.google.colaboratory.intrinsic+json": {
              "type": "string"
            }
          },
          "metadata": {},
          "execution_count": 24
        }
      ]
    },
    {
      "cell_type": "code",
      "source": [],
      "metadata": {
        "id": "WHC256FFfIff"
      },
      "execution_count": null,
      "outputs": []
    },
    {
      "cell_type": "code",
      "source": [],
      "metadata": {
        "id": "9LrNKPQFgz0a"
      },
      "execution_count": null,
      "outputs": []
    }
  ]
}

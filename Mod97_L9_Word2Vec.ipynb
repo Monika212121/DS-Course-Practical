{
  "nbformat": 4,
  "nbformat_minor": 0,
  "metadata": {
    "colab": {
      "provenance": []
    },
    "kernelspec": {
      "name": "python3",
      "display_name": "Python 3"
    },
    "language_info": {
      "name": "python"
    }
  },
  "cells": [
    {
      "cell_type": "markdown",
      "source": [
        "# Word2Vec"
      ],
      "metadata": {
        "id": "4RiiA0ORjTFc"
      }
    },
    {
      "cell_type": "code",
      "source": [
        "!pip install gensim"
      ],
      "metadata": {
        "colab": {
          "base_uri": "https://localhost:8080/",
          "height": 669
        },
        "id": "boplth4VjoYC",
        "outputId": "0125f49e-3396-440b-8bbd-eb9a5da1e8ec"
      },
      "execution_count": 2,
      "outputs": [
        {
          "output_type": "stream",
          "name": "stdout",
          "text": [
            "Collecting gensim\n",
            "  Downloading gensim-4.3.3-cp312-cp312-manylinux_2_17_x86_64.manylinux2014_x86_64.whl.metadata (8.1 kB)\n",
            "Collecting numpy<2.0,>=1.18.5 (from gensim)\n",
            "  Downloading numpy-1.26.4-cp312-cp312-manylinux_2_17_x86_64.manylinux2014_x86_64.whl.metadata (61 kB)\n",
            "\u001b[2K     \u001b[90m━━━━━━━━━━━━━━━━━━━━━━━━━━━━━━━━━━━━━━━━\u001b[0m \u001b[32m61.0/61.0 kB\u001b[0m \u001b[31m2.0 MB/s\u001b[0m eta \u001b[36m0:00:00\u001b[0m\n",
            "\u001b[?25hCollecting scipy<1.14.0,>=1.7.0 (from gensim)\n",
            "  Downloading scipy-1.13.1-cp312-cp312-manylinux_2_17_x86_64.manylinux2014_x86_64.whl.metadata (60 kB)\n",
            "\u001b[2K     \u001b[90m━━━━━━━━━━━━━━━━━━━━━━━━━━━━━━━━━━━━━━━━\u001b[0m \u001b[32m60.6/60.6 kB\u001b[0m \u001b[31m2.3 MB/s\u001b[0m eta \u001b[36m0:00:00\u001b[0m\n",
            "\u001b[?25hRequirement already satisfied: smart-open>=1.8.1 in /usr/local/lib/python3.12/dist-packages (from gensim) (7.3.0.post1)\n",
            "Requirement already satisfied: wrapt in /usr/local/lib/python3.12/dist-packages (from smart-open>=1.8.1->gensim) (1.17.3)\n",
            "Downloading gensim-4.3.3-cp312-cp312-manylinux_2_17_x86_64.manylinux2014_x86_64.whl (26.6 MB)\n",
            "\u001b[2K   \u001b[90m━━━━━━━━━━━━━━━━━━━━━━━━━━━━━━━━━━━━━━━━\u001b[0m \u001b[32m26.6/26.6 MB\u001b[0m \u001b[31m65.2 MB/s\u001b[0m eta \u001b[36m0:00:00\u001b[0m\n",
            "\u001b[?25hDownloading numpy-1.26.4-cp312-cp312-manylinux_2_17_x86_64.manylinux2014_x86_64.whl (18.0 MB)\n",
            "\u001b[2K   \u001b[90m━━━━━━━━━━━━━━━━━━━━━━━━━━━━━━━━━━━━━━━━\u001b[0m \u001b[32m18.0/18.0 MB\u001b[0m \u001b[31m49.9 MB/s\u001b[0m eta \u001b[36m0:00:00\u001b[0m\n",
            "\u001b[?25hDownloading scipy-1.13.1-cp312-cp312-manylinux_2_17_x86_64.manylinux2014_x86_64.whl (38.2 MB)\n",
            "\u001b[2K   \u001b[90m━━━━━━━━━━━━━━━━━━━━━━━━━━━━━━━━━━━━━━━━\u001b[0m \u001b[32m38.2/38.2 MB\u001b[0m \u001b[31m16.4 MB/s\u001b[0m eta \u001b[36m0:00:00\u001b[0m\n",
            "\u001b[?25hInstalling collected packages: numpy, scipy, gensim\n",
            "  Attempting uninstall: numpy\n",
            "    Found existing installation: numpy 2.0.2\n",
            "    Uninstalling numpy-2.0.2:\n",
            "      Successfully uninstalled numpy-2.0.2\n",
            "  Attempting uninstall: scipy\n",
            "    Found existing installation: scipy 1.16.1\n",
            "    Uninstalling scipy-1.16.1:\n",
            "      Successfully uninstalled scipy-1.16.1\n",
            "\u001b[31mERROR: pip's dependency resolver does not currently take into account all the packages that are installed. This behaviour is the source of the following dependency conflicts.\n",
            "opencv-contrib-python 4.12.0.88 requires numpy<2.3.0,>=2; python_version >= \"3.9\", but you have numpy 1.26.4 which is incompatible.\n",
            "opencv-python 4.12.0.88 requires numpy<2.3.0,>=2; python_version >= \"3.9\", but you have numpy 1.26.4 which is incompatible.\n",
            "tsfresh 0.21.1 requires scipy>=1.14.0; python_version >= \"3.10\", but you have scipy 1.13.1 which is incompatible.\n",
            "thinc 8.3.6 requires numpy<3.0.0,>=2.0.0, but you have numpy 1.26.4 which is incompatible.\n",
            "opencv-python-headless 4.12.0.88 requires numpy<2.3.0,>=2; python_version >= \"3.9\", but you have numpy 1.26.4 which is incompatible.\u001b[0m\u001b[31m\n",
            "\u001b[0mSuccessfully installed gensim-4.3.3 numpy-1.26.4 scipy-1.13.1\n"
          ]
        },
        {
          "output_type": "display_data",
          "data": {
            "application/vnd.colab-display-data+json": {
              "pip_warning": {
                "packages": [
                  "numpy",
                  "scipy"
                ]
              },
              "id": "44545564f2be452bbc58fc4e8d918ff2"
            }
          },
          "metadata": {}
        }
      ]
    },
    {
      "cell_type": "code",
      "execution_count": 2,
      "metadata": {
        "id": "H98NMSrvjCef"
      },
      "outputs": [],
      "source": [
        "import nltk\n",
        "from gensim.models import Word2Vec\n",
        "from nltk.tokenize import word_tokenize, sent_tokenize"
      ]
    },
    {
      "cell_type": "code",
      "source": [
        "nltk.download('punkt_tab')"
      ],
      "metadata": {
        "colab": {
          "base_uri": "https://localhost:8080/"
        },
        "id": "eE-M67_AjKrJ",
        "outputId": "6597c1c3-7fe3-4351-a04b-a20b83283314"
      },
      "execution_count": 8,
      "outputs": [
        {
          "output_type": "stream",
          "name": "stderr",
          "text": [
            "[nltk_data] Downloading package punkt_tab to /root/nltk_data...\n",
            "[nltk_data]   Unzipping tokenizers/punkt_tab.zip.\n"
          ]
        },
        {
          "output_type": "execute_result",
          "data": {
            "text/plain": [
              "True"
            ]
          },
          "metadata": {},
          "execution_count": 8
        }
      ]
    },
    {
      "cell_type": "code",
      "source": [
        "sample_txt = \"Alice is a very pretty girl . She  is shy , smart , brilliant , intellectual , bright-skinned , cheerful , positive , optimistic woman . Aakaasa is her twin sister . She is also special like Alice but in a different way . She is muscular , bold , fearless , pessimistic , beautiful , gorgeous, clever , dark-skinned . Both girls love each other a lot .\""
      ],
      "metadata": {
        "id": "WH_xGr2ojKt9"
      },
      "execution_count": 25,
      "outputs": []
    },
    {
      "cell_type": "code",
      "source": [],
      "metadata": {
        "id": "BI5y6v2njKwm"
      },
      "execution_count": null,
      "outputs": []
    },
    {
      "cell_type": "markdown",
      "source": [
        "## Tokeinze into words and sentences\n",
        "\n",
        "NOTE: Always download `punkt_tab` to perform tokenization using command in line no.8 ."
      ],
      "metadata": {
        "id": "7QrA13RSlrgv"
      }
    },
    {
      "cell_type": "code",
      "source": [
        "sentences = sent_tokenize(sample_txt)"
      ],
      "metadata": {
        "id": "i1DPgOuzjKzT"
      },
      "execution_count": 26,
      "outputs": []
    },
    {
      "cell_type": "code",
      "source": [
        "len(sentences)"
      ],
      "metadata": {
        "colab": {
          "base_uri": "https://localhost:8080/"
        },
        "id": "FViKiUEUjK17",
        "outputId": "2cee527c-e4b6-4d77-f12f-741980b852c9"
      },
      "execution_count": 27,
      "outputs": [
        {
          "output_type": "execute_result",
          "data": {
            "text/plain": [
              "6"
            ]
          },
          "metadata": {},
          "execution_count": 27
        }
      ]
    },
    {
      "cell_type": "code",
      "source": [
        "sentences"
      ],
      "metadata": {
        "colab": {
          "base_uri": "https://localhost:8080/"
        },
        "id": "Ephfx7cUjK4p",
        "outputId": "e656590e-f163-4475-8fd6-0798f5b649a1"
      },
      "execution_count": 28,
      "outputs": [
        {
          "output_type": "execute_result",
          "data": {
            "text/plain": [
              "['Alice is a very pretty girl .',\n",
              " 'She  is shy , smart , brilliant , intellectual , bright-skinned , cheerful , positive , optimistic woman .',\n",
              " 'Aakaasa is her twin sister .',\n",
              " 'She is also special like Alice but in a different way .',\n",
              " 'She is muscular , bold , fearless , pessimistic , beautiful , gorgeous, clever , dark-skinned .',\n",
              " 'Both girls love each other a lot .']"
            ]
          },
          "metadata": {},
          "execution_count": 28
        }
      ]
    },
    {
      "cell_type": "code",
      "source": [
        "words = [word_tokenize(sentence.lower()) for sentence in sentences]"
      ],
      "metadata": {
        "id": "I2HADxx1jK7R"
      },
      "execution_count": 29,
      "outputs": []
    },
    {
      "cell_type": "code",
      "source": [
        "len(words)"
      ],
      "metadata": {
        "colab": {
          "base_uri": "https://localhost:8080/"
        },
        "id": "xcXKPeZNseZ9",
        "outputId": "06494f8d-8b14-4af2-f3fb-81acefb74e35"
      },
      "execution_count": 31,
      "outputs": [
        {
          "output_type": "execute_result",
          "data": {
            "text/plain": [
              "6"
            ]
          },
          "metadata": {},
          "execution_count": 31
        }
      ]
    },
    {
      "cell_type": "code",
      "source": [
        "words[0]"
      ],
      "metadata": {
        "colab": {
          "base_uri": "https://localhost:8080/"
        },
        "id": "pppPY4YujK-G",
        "outputId": "bacbe7ec-2d4a-4482-e191-acb49682ad09"
      },
      "execution_count": 32,
      "outputs": [
        {
          "output_type": "execute_result",
          "data": {
            "text/plain": [
              "['alice', 'is', 'a', 'very', 'pretty', 'girl', '.']"
            ]
          },
          "metadata": {},
          "execution_count": 32
        }
      ]
    },
    {
      "cell_type": "code",
      "source": [
        "totalWords = 0\n",
        "for i in range(len(words)):\n",
        "  totalWords += len(words[i])\n",
        "  print(f\"Number of words in line {i+1}\", len(words[i]))\n",
        "\n",
        "print(\"Total words in ssample_txt : \", totalWords)"
      ],
      "metadata": {
        "colab": {
          "base_uri": "https://localhost:8080/"
        },
        "id": "DtvVyldLjLAk",
        "outputId": "78cae81d-2e08-4c3a-c8cb-bf7c10a0f2a4"
      },
      "execution_count": 35,
      "outputs": [
        {
          "output_type": "stream",
          "name": "stdout",
          "text": [
            "Number of words in line 1 7\n",
            "Number of words in line 2 19\n",
            "Number of words in line 3 6\n",
            "Number of words in line 4 12\n",
            "Number of words in line 5 18\n",
            "Number of words in line 6 8\n",
            "Total words in ssample_txt :  70\n"
          ]
        }
      ]
    },
    {
      "cell_type": "code",
      "source": [],
      "metadata": {
        "id": "N6JP3Ve-tOgb"
      },
      "execution_count": null,
      "outputs": []
    },
    {
      "cell_type": "markdown",
      "source": [
        "## Train the Word2Vec model"
      ],
      "metadata": {
        "id": "OGcPfmJpqop-"
      }
    },
    {
      "cell_type": "code",
      "source": [
        "model = Word2Vec(words, vector_size = 100, window = 5, min_count = 1, sg = 0)\n",
        "\n",
        "print(\"Model trained successfully\")"
      ],
      "metadata": {
        "colab": {
          "base_uri": "https://localhost:8080/"
        },
        "id": "fww_r9FejLDP",
        "outputId": "178721e7-f9d6-4d79-9162-4606a3a5f5d8"
      },
      "execution_count": 36,
      "outputs": [
        {
          "output_type": "stream",
          "name": "stdout",
          "text": [
            "Model trained successfully\n"
          ]
        }
      ]
    },
    {
      "cell_type": "code",
      "source": [
        "model"
      ],
      "metadata": {
        "colab": {
          "base_uri": "https://localhost:8080/"
        },
        "id": "mgYyBrPmjLGR",
        "outputId": "87219644-92e8-480a-8251-fd898990dfac"
      },
      "execution_count": 37,
      "outputs": [
        {
          "output_type": "execute_result",
          "data": {
            "text/plain": [
              "<gensim.models.word2vec.Word2Vec at 0x79c92e8ba540>"
            ]
          },
          "metadata": {},
          "execution_count": 37
        }
      ]
    },
    {
      "cell_type": "code",
      "source": [],
      "metadata": {
        "id": "Q9z7_g1VjLJA"
      },
      "execution_count": null,
      "outputs": []
    },
    {
      "cell_type": "markdown",
      "source": [
        "## Access word vectors"
      ],
      "metadata": {
        "id": "NeAK4ZoarGKF"
      }
    },
    {
      "cell_type": "code",
      "source": [
        "word_vectors = model.wv"
      ],
      "metadata": {
        "id": "zODo2y0GjLLq"
      },
      "execution_count": 38,
      "outputs": []
    },
    {
      "cell_type": "code",
      "source": [
        "word_vectors"
      ],
      "metadata": {
        "colab": {
          "base_uri": "https://localhost:8080/"
        },
        "id": "iN88kqi-jLOg",
        "outputId": "42686f05-4f81-4272-81e3-507938b6d6a2"
      },
      "execution_count": 39,
      "outputs": [
        {
          "output_type": "execute_result",
          "data": {
            "text/plain": [
              "<gensim.models.keyedvectors.KeyedVectors at 0x79c92e8c85c0>"
            ]
          },
          "metadata": {},
          "execution_count": 39
        }
      ]
    },
    {
      "cell_type": "code",
      "source": [
        "vector = word_vectors['girl']\n",
        "vector"
      ],
      "metadata": {
        "colab": {
          "base_uri": "https://localhost:8080/"
        },
        "id": "oW-FrFK4jLR5",
        "outputId": "aca1bb04-736b-4305-8259-c5de3ede2b5b"
      },
      "execution_count": 40,
      "outputs": [
        {
          "output_type": "execute_result",
          "data": {
            "text/plain": [
              "array([ 8.1312936e-03, -4.4561769e-03, -1.0688415e-03,  1.0050591e-03,\n",
              "       -1.9045531e-04,  1.1479197e-03,  6.1148056e-03, -1.9911738e-05,\n",
              "       -3.2464024e-03, -1.5108855e-03,  5.8983420e-03,  1.5113046e-03,\n",
              "       -7.2258606e-04,  9.3350047e-03, -4.9215890e-03, -8.4047974e-04,\n",
              "        9.1783628e-03,  6.7482674e-03,  1.5029100e-03, -8.8847019e-03,\n",
              "        1.1503820e-03, -2.2869704e-03,  9.3711279e-03,  1.2098574e-03,\n",
              "        1.4879648e-03,  2.4063380e-03, -1.8370774e-03, -4.9990751e-03,\n",
              "        2.3162985e-04, -2.0147359e-03,  6.6026417e-03,  8.9393258e-03,\n",
              "       -6.7465118e-04,  2.9746022e-03, -6.1085210e-03,  1.6997498e-03,\n",
              "       -6.9252313e-03, -8.6922608e-03, -5.9015006e-03, -8.9564770e-03,\n",
              "        7.2775008e-03, -5.7727299e-03,  8.2759289e-03, -7.2438302e-03,\n",
              "        3.4223588e-03,  9.6732248e-03, -7.7870917e-03, -9.9462420e-03,\n",
              "       -4.3282015e-03, -2.6828852e-03, -2.7045945e-04, -8.8313222e-03,\n",
              "       -8.6165778e-03,  2.7989533e-03, -8.2063116e-03, -9.0704616e-03,\n",
              "       -2.3384853e-03, -8.6315768e-03, -7.0567098e-03, -8.4023699e-03,\n",
              "       -3.0260731e-04, -4.5677605e-03,  6.6291238e-03,  1.5277639e-03,\n",
              "       -3.3443675e-03,  6.1101550e-03, -6.0149333e-03, -4.6566548e-03,\n",
              "       -7.2093438e-03, -4.3342998e-03, -1.8089528e-03,  6.4911135e-03,\n",
              "       -2.7693540e-03,  4.9201492e-03,  6.9057839e-03, -7.4638138e-03,\n",
              "        4.5657372e-03,  6.1279600e-03, -2.9562488e-03,  6.6255629e-03,\n",
              "        6.1230180e-03, -6.4439392e-03, -6.7643272e-03,  2.5406692e-03,\n",
              "       -1.6245004e-03, -6.0662143e-03,  9.4993422e-03, -5.1281010e-03,\n",
              "       -6.5541165e-03, -1.1766591e-04, -2.6994608e-03,  4.4456252e-04,\n",
              "       -3.5362975e-03, -4.2222353e-04, -7.0726348e-04,  8.2364207e-04,\n",
              "        8.1976978e-03, -5.7361047e-03, -1.6597501e-03,  5.5713449e-03],\n",
              "      dtype=float32)"
            ]
          },
          "metadata": {},
          "execution_count": 40
        }
      ]
    },
    {
      "cell_type": "code",
      "source": [],
      "metadata": {
        "id": "D1XKNrUtjLT9"
      },
      "execution_count": null,
      "outputs": []
    },
    {
      "cell_type": "markdown",
      "source": [
        "## Find similar words"
      ],
      "metadata": {
        "id": "s5792jMyricw"
      }
    },
    {
      "cell_type": "code",
      "source": [
        "similar_words = word_vectors.most_similar('girl', topn = 5)\n",
        "similar_words"
      ],
      "metadata": {
        "colab": {
          "base_uri": "https://localhost:8080/"
        },
        "id": "nVqAvdYSjLWT",
        "outputId": "4ce6f46a-bd07-4f72-a2d7-f9bba7bdc966"
      },
      "execution_count": 41,
      "outputs": [
        {
          "output_type": "execute_result",
          "data": {
            "text/plain": [
              "[('different', 0.3496050238609314),\n",
              " ('dark-skinned', 0.30473265051841736),\n",
              " ('girls', 0.1777089238166809),\n",
              " ('positive', 0.16392557322978973),\n",
              " ('love', 0.16266442835330963)]"
            ]
          },
          "metadata": {},
          "execution_count": 41
        }
      ]
    },
    {
      "cell_type": "code",
      "source": [],
      "metadata": {
        "id": "a2Gtk7l5jLZr"
      },
      "execution_count": null,
      "outputs": []
    },
    {
      "cell_type": "code",
      "source": [
        "sw2 = word_vectors.most_similar('pretty', topn = 5)\n",
        "sw2"
      ],
      "metadata": {
        "colab": {
          "base_uri": "https://localhost:8080/"
        },
        "id": "50FS4TH0rmUE",
        "outputId": "73966218-05c9-442f-be87-3439d3f328ae"
      },
      "execution_count": 45,
      "outputs": [
        {
          "output_type": "execute_result",
          "data": {
            "text/plain": [
              "[('aakaasa', 0.3190183937549591),\n",
              " ('different', 0.20350281894207),\n",
              " ('positive', 0.17486226558685303),\n",
              " ('beautiful', 0.12750540673732758),\n",
              " ('optimistic', 0.11938723176717758)]"
            ]
          },
          "metadata": {},
          "execution_count": 45
        }
      ]
    },
    {
      "cell_type": "code",
      "source": [],
      "metadata": {
        "id": "6z-geviVrmWt"
      },
      "execution_count": null,
      "outputs": []
    },
    {
      "cell_type": "markdown",
      "source": [
        "NOTE: My observation is that Wod2Vec is not accurate. For word `pretty`, just one similar word came but there are many simialr words in the sample_txt."
      ],
      "metadata": {
        "id": "HNRVamI6toWn"
      }
    },
    {
      "cell_type": "code",
      "source": [],
      "metadata": {
        "id": "I8ICl61-rmZY"
      },
      "execution_count": null,
      "outputs": []
    },
    {
      "cell_type": "code",
      "source": [],
      "metadata": {
        "id": "cW2llXu8rmcx"
      },
      "execution_count": null,
      "outputs": []
    }
  ]
}
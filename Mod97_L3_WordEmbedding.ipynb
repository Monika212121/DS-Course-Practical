{
  "nbformat": 4,
  "nbformat_minor": 0,
  "metadata": {
    "colab": {
      "provenance": [],
      "gpuType": "T4"
    },
    "kernelspec": {
      "name": "python3",
      "display_name": "Python 3"
    },
    "language_info": {
      "name": "python"
    },
    "accelerator": "GPU"
  },
  "cells": [
    {
      "cell_type": "markdown",
      "source": [
        "# Word Embedding\n",
        "\n",
        "- Word2vec is a technique in natural language processing for obtaining vector representations of words.\n",
        "\n",
        "- These vectors capture information about the meaning of the word based on the surrounding words.\n",
        "\n",
        "- The word2vec algorithm estimates these representations by modeling text in a large corpus."
      ],
      "metadata": {
        "id": "dO5kdO-SjSTs"
      }
    },
    {
      "cell_type": "code",
      "source": [
        "!pip install gensim"
      ],
      "metadata": {
        "colab": {
          "base_uri": "https://localhost:8080/",
          "height": 669
        },
        "id": "wHIYfBezj3AI",
        "outputId": "103dbb25-d7bb-42d1-c0ac-692756b817ae"
      },
      "execution_count": null,
      "outputs": [
        {
          "output_type": "stream",
          "name": "stdout",
          "text": [
            "Collecting gensim\n",
            "  Downloading gensim-4.3.3-cp312-cp312-manylinux_2_17_x86_64.manylinux2014_x86_64.whl.metadata (8.1 kB)\n",
            "Collecting numpy<2.0,>=1.18.5 (from gensim)\n",
            "  Downloading numpy-1.26.4-cp312-cp312-manylinux_2_17_x86_64.manylinux2014_x86_64.whl.metadata (61 kB)\n",
            "\u001b[2K     \u001b[90m━━━━━━━━━━━━━━━━━━━━━━━━━━━━━━━━━━━━━━━━\u001b[0m \u001b[32m61.0/61.0 kB\u001b[0m \u001b[31m5.2 MB/s\u001b[0m eta \u001b[36m0:00:00\u001b[0m\n",
            "\u001b[?25hCollecting scipy<1.14.0,>=1.7.0 (from gensim)\n",
            "  Downloading scipy-1.13.1-cp312-cp312-manylinux_2_17_x86_64.manylinux2014_x86_64.whl.metadata (60 kB)\n",
            "\u001b[2K     \u001b[90m━━━━━━━━━━━━━━━━━━━━━━━━━━━━━━━━━━━━━━━━\u001b[0m \u001b[32m60.6/60.6 kB\u001b[0m \u001b[31m5.0 MB/s\u001b[0m eta \u001b[36m0:00:00\u001b[0m\n",
            "\u001b[?25hRequirement already satisfied: smart-open>=1.8.1 in /usr/local/lib/python3.12/dist-packages (from gensim) (7.3.0.post1)\n",
            "Requirement already satisfied: wrapt in /usr/local/lib/python3.12/dist-packages (from smart-open>=1.8.1->gensim) (1.17.3)\n",
            "Downloading gensim-4.3.3-cp312-cp312-manylinux_2_17_x86_64.manylinux2014_x86_64.whl (26.6 MB)\n",
            "\u001b[2K   \u001b[90m━━━━━━━━━━━━━━━━━━━━━━━━━━━━━━━━━━━━━━━━\u001b[0m \u001b[32m26.6/26.6 MB\u001b[0m \u001b[31m80.4 MB/s\u001b[0m eta \u001b[36m0:00:00\u001b[0m\n",
            "\u001b[?25hDownloading numpy-1.26.4-cp312-cp312-manylinux_2_17_x86_64.manylinux2014_x86_64.whl (18.0 MB)\n",
            "\u001b[2K   \u001b[90m━━━━━━━━━━━━━━━━━━━━━━━━━━━━━━━━━━━━━━━━\u001b[0m \u001b[32m18.0/18.0 MB\u001b[0m \u001b[31m114.9 MB/s\u001b[0m eta \u001b[36m0:00:00\u001b[0m\n",
            "\u001b[?25hDownloading scipy-1.13.1-cp312-cp312-manylinux_2_17_x86_64.manylinux2014_x86_64.whl (38.2 MB)\n",
            "\u001b[2K   \u001b[90m━━━━━━━━━━━━━━━━━━━━━━━━━━━━━━━━━━━━━━━━\u001b[0m \u001b[32m38.2/38.2 MB\u001b[0m \u001b[31m17.1 MB/s\u001b[0m eta \u001b[36m0:00:00\u001b[0m\n",
            "\u001b[?25hInstalling collected packages: numpy, scipy, gensim\n",
            "  Attempting uninstall: numpy\n",
            "    Found existing installation: numpy 2.0.2\n",
            "    Uninstalling numpy-2.0.2:\n",
            "      Successfully uninstalled numpy-2.0.2\n",
            "  Attempting uninstall: scipy\n",
            "    Found existing installation: scipy 1.16.1\n",
            "    Uninstalling scipy-1.16.1:\n",
            "      Successfully uninstalled scipy-1.16.1\n",
            "\u001b[31mERROR: pip's dependency resolver does not currently take into account all the packages that are installed. This behaviour is the source of the following dependency conflicts.\n",
            "thinc 8.3.6 requires numpy<3.0.0,>=2.0.0, but you have numpy 1.26.4 which is incompatible.\n",
            "opencv-python-headless 4.12.0.88 requires numpy<2.3.0,>=2; python_version >= \"3.9\", but you have numpy 1.26.4 which is incompatible.\n",
            "tsfresh 0.21.0 requires scipy>=1.14.0; python_version >= \"3.10\", but you have scipy 1.13.1 which is incompatible.\n",
            "opencv-python 4.12.0.88 requires numpy<2.3.0,>=2; python_version >= \"3.9\", but you have numpy 1.26.4 which is incompatible.\n",
            "opencv-contrib-python 4.12.0.88 requires numpy<2.3.0,>=2; python_version >= \"3.9\", but you have numpy 1.26.4 which is incompatible.\u001b[0m\u001b[31m\n",
            "\u001b[0mSuccessfully installed gensim-4.3.3 numpy-1.26.4 scipy-1.13.1\n"
          ]
        },
        {
          "output_type": "display_data",
          "data": {
            "application/vnd.colab-display-data+json": {
              "pip_warning": {
                "packages": [
                  "numpy"
                ]
              },
              "id": "d2409dc52cc94238ab16b0d2dc04e27e"
            }
          },
          "metadata": {}
        }
      ]
    },
    {
      "cell_type": "code",
      "execution_count": null,
      "metadata": {
        "id": "WsgBUsbQU1uP"
      },
      "outputs": [],
      "source": [
        "from gensim.models import Word2Vec\n",
        "import nltk\n",
        "from nltk.tokenize import word_tokenize, sent_tokenize"
      ]
    },
    {
      "cell_type": "code",
      "source": [
        "sample_txt= \"Word2vec is a technique in natural language processing for obtaining vector representations of words. These vectors capture information about the meaning of the word based on the surrounding words. The word2vec algorithm estimates these representations by modeling text in a large corpus.\""
      ],
      "metadata": {
        "id": "wP2ZxpROjRaN"
      },
      "execution_count": null,
      "outputs": []
    },
    {
      "cell_type": "code",
      "source": [],
      "metadata": {
        "id": "-IBeGvfxjRdR"
      },
      "execution_count": null,
      "outputs": []
    },
    {
      "cell_type": "markdown",
      "source": [
        "# Tokeinize into sentence and words"
      ],
      "metadata": {
        "id": "s9xdAJSIki5_"
      }
    },
    {
      "cell_type": "code",
      "source": [
        "nltk.download('punkt_tab')"
      ],
      "metadata": {
        "colab": {
          "base_uri": "https://localhost:8080/"
        },
        "id": "rkRzWTlylBOW",
        "outputId": "f37a2497-ad50-4d6f-9b10-56403cc8f0f7"
      },
      "execution_count": null,
      "outputs": [
        {
          "output_type": "stream",
          "name": "stderr",
          "text": [
            "[nltk_data] Downloading package punkt_tab to /root/nltk_data...\n",
            "[nltk_data]   Unzipping tokenizers/punkt_tab.zip.\n"
          ]
        },
        {
          "output_type": "execute_result",
          "data": {
            "text/plain": [
              "True"
            ]
          },
          "metadata": {},
          "execution_count": 5
        }
      ]
    },
    {
      "cell_type": "code",
      "source": [
        "sentences = sent_tokenize(sample_txt)\n",
        "sentences"
      ],
      "metadata": {
        "colab": {
          "base_uri": "https://localhost:8080/"
        },
        "id": "sN3y3trqjRf_",
        "outputId": "77cf1809-ffcf-4b60-b4e9-bcd0ba6b7c9a"
      },
      "execution_count": null,
      "outputs": [
        {
          "output_type": "execute_result",
          "data": {
            "text/plain": [
              "['Word2vec is a technique in natural language processing for obtaining vector representations of words.',\n",
              " 'These vectors capture information about the meaning of the word based on the surrounding words.',\n",
              " 'The word2vec algorithm estimates these representations by modeling text in a large corpus.']"
            ]
          },
          "metadata": {},
          "execution_count": 6
        }
      ]
    },
    {
      "cell_type": "code",
      "source": [
        "len(sentences)"
      ],
      "metadata": {
        "colab": {
          "base_uri": "https://localhost:8080/"
        },
        "id": "9cOwB-d1jRjE",
        "outputId": "8f98d8b8-9000-4b13-80fe-2c10a465628a"
      },
      "execution_count": null,
      "outputs": [
        {
          "output_type": "execute_result",
          "data": {
            "text/plain": [
              "3"
            ]
          },
          "metadata": {},
          "execution_count": 8
        }
      ]
    },
    {
      "cell_type": "code",
      "source": [
        "words = [word_tokenize(sentence.lower()) for sentence in sentences]\n",
        "words"
      ],
      "metadata": {
        "colab": {
          "base_uri": "https://localhost:8080/"
        },
        "id": "jd6KqwEejRmF",
        "outputId": "a8d38d75-bb49-48a5-deae-b5a27ba306ca"
      },
      "execution_count": null,
      "outputs": [
        {
          "output_type": "execute_result",
          "data": {
            "text/plain": [
              "[['word2vec',\n",
              "  'is',\n",
              "  'a',\n",
              "  'technique',\n",
              "  'in',\n",
              "  'natural',\n",
              "  'language',\n",
              "  'processing',\n",
              "  'for',\n",
              "  'obtaining',\n",
              "  'vector',\n",
              "  'representations',\n",
              "  'of',\n",
              "  'words',\n",
              "  '.'],\n",
              " ['these',\n",
              "  'vectors',\n",
              "  'capture',\n",
              "  'information',\n",
              "  'about',\n",
              "  'the',\n",
              "  'meaning',\n",
              "  'of',\n",
              "  'the',\n",
              "  'word',\n",
              "  'based',\n",
              "  'on',\n",
              "  'the',\n",
              "  'surrounding',\n",
              "  'words',\n",
              "  '.'],\n",
              " ['the',\n",
              "  'word2vec',\n",
              "  'algorithm',\n",
              "  'estimates',\n",
              "  'these',\n",
              "  'representations',\n",
              "  'by',\n",
              "  'modeling',\n",
              "  'text',\n",
              "  'in',\n",
              "  'a',\n",
              "  'large',\n",
              "  'corpus',\n",
              "  '.']]"
            ]
          },
          "metadata": {},
          "execution_count": 9
        }
      ]
    },
    {
      "cell_type": "code",
      "source": [
        "print(\"words in first sentence: \", len(words[0]))\n",
        "print(\"words in second sentence: \", len(words[1]))\n",
        "print(\"words in third sentence: \", len(words[2]))"
      ],
      "metadata": {
        "colab": {
          "base_uri": "https://localhost:8080/"
        },
        "id": "EpNCUlPajRoR",
        "outputId": "d63a40a2-3934-4722-d81d-e37fbb9c60c1"
      },
      "execution_count": null,
      "outputs": [
        {
          "output_type": "stream",
          "name": "stdout",
          "text": [
            "words in first sentence:  15\n",
            "words in second sentence:  16\n",
            "words in third sentence:  14\n"
          ]
        }
      ]
    },
    {
      "cell_type": "code",
      "source": [],
      "metadata": {
        "id": "OB9QelbSjRrO"
      },
      "execution_count": null,
      "outputs": []
    },
    {
      "cell_type": "markdown",
      "source": [
        "# Training the Word2Vec model"
      ],
      "metadata": {
        "id": "qNQpHk2BmDmI"
      }
    },
    {
      "cell_type": "code",
      "source": [
        "model = Word2Vec(words, vector_size = 100, window = 5, min_count = 1, sg = 0)"
      ],
      "metadata": {
        "id": "FIsl50TKjRtq"
      },
      "execution_count": null,
      "outputs": []
    },
    {
      "cell_type": "code",
      "source": [
        "model"
      ],
      "metadata": {
        "colab": {
          "base_uri": "https://localhost:8080/"
        },
        "id": "yiSKfIRKjRwf",
        "outputId": "589f24c5-2f48-4dba-c9fa-8dc8366a91d6"
      },
      "execution_count": null,
      "outputs": [
        {
          "output_type": "execute_result",
          "data": {
            "text/plain": [
              "<gensim.models.word2vec.Word2Vec at 0x7b7ad1c76a50>"
            ]
          },
          "metadata": {},
          "execution_count": 19
        }
      ]
    },
    {
      "cell_type": "markdown",
      "source": [
        "Model is trained successfully"
      ],
      "metadata": {
        "id": "d9rgbQVxsun4"
      }
    },
    {
      "cell_type": "code",
      "source": [],
      "metadata": {
        "id": "LgMDQdtLjRzN"
      },
      "execution_count": null,
      "outputs": []
    },
    {
      "cell_type": "markdown",
      "source": [
        "# Access word vectors"
      ],
      "metadata": {
        "id": "-nY07Kdgsy4K"
      }
    },
    {
      "cell_type": "code",
      "source": [
        "word_vectors = model.wv\n",
        "word_vectors"
      ],
      "metadata": {
        "colab": {
          "base_uri": "https://localhost:8080/"
        },
        "id": "Ny2uRQlJjR2u",
        "outputId": "a4058ac2-6f26-4706-a6f1-21fe797f7fd8"
      },
      "execution_count": null,
      "outputs": [
        {
          "output_type": "execute_result",
          "data": {
            "text/plain": [
              "<gensim.models.keyedvectors.KeyedVectors at 0x7b7ad1c769c0>"
            ]
          },
          "metadata": {},
          "execution_count": 21
        }
      ]
    },
    {
      "cell_type": "code",
      "source": [
        "word_vectors['word2vec']"
      ],
      "metadata": {
        "colab": {
          "base_uri": "https://localhost:8080/"
        },
        "id": "z6dcG1Yrs2we",
        "outputId": "8b0d8923-2bed-4007-aaa2-b7f445ce938e"
      },
      "execution_count": null,
      "outputs": [
        {
          "output_type": "execute_result",
          "data": {
            "text/plain": [
              "array([-8.2428372e-03,  9.2984429e-03, -1.9998940e-04, -1.9658776e-03,\n",
              "        4.6030493e-03, -4.0925085e-03,  2.7440235e-03,  6.9394079e-03,\n",
              "        6.0658003e-03, -7.5076558e-03,  9.3803490e-03,  4.6709334e-03,\n",
              "        3.9668530e-03, -6.2403916e-03,  8.4562693e-03, -2.1501984e-03,\n",
              "        8.8250125e-03, -5.3604059e-03, -8.1277974e-03,  6.8243071e-03,\n",
              "        1.6724035e-03, -2.1985143e-03,  9.5138298e-03,  9.4973259e-03,\n",
              "       -9.7736456e-03,  2.5039108e-03,  6.1575030e-03,  3.8735415e-03,\n",
              "        2.0208112e-03,  4.2975679e-04,  6.7557947e-04, -3.8203050e-03,\n",
              "       -7.1384548e-03, -2.0905063e-03,  3.9231577e-03,  8.8186925e-03,\n",
              "        9.2601432e-03, -5.9756017e-03, -9.4035622e-03,  9.7652040e-03,\n",
              "        3.4301660e-03,  5.1662601e-03,  6.2797749e-03, -2.8037310e-03,\n",
              "        7.3243217e-03,  2.8301962e-03,  2.8689492e-03, -2.3821539e-03,\n",
              "       -3.1270056e-03, -2.3705910e-03,  4.2752884e-03,  7.6377728e-05,\n",
              "       -9.5830159e-03, -9.6661020e-03, -6.1476883e-03, -1.2968633e-04,\n",
              "        1.9960413e-03,  9.4296178e-03,  5.5833324e-03, -4.2904243e-03,\n",
              "        2.7944561e-04,  4.9618091e-03,  7.6978672e-03, -1.1446433e-03,\n",
              "        4.3214406e-03, -5.8159446e-03, -8.0541254e-04,  8.0997832e-03,\n",
              "       -2.3581746e-03, -9.6608140e-03,  5.7788542e-03, -3.9307624e-03,\n",
              "       -1.2223525e-03,  9.9805705e-03, -2.2554393e-03, -4.7568693e-03,\n",
              "       -5.3291880e-03,  6.9813230e-03, -5.7091643e-03,  2.1126780e-03,\n",
              "       -5.2575134e-03,  6.1177243e-03,  4.3561477e-03,  2.6067549e-03,\n",
              "       -1.4951369e-03, -2.7471744e-03,  8.9946017e-03,  5.2152630e-03,\n",
              "       -2.1647192e-03, -9.4704991e-03, -7.4270624e-03, -1.0631776e-03,\n",
              "       -7.9477637e-04, -2.5645201e-03,  9.6818553e-03, -4.5954902e-04,\n",
              "        5.8740871e-03, -7.4472236e-03, -2.5041781e-03, -5.5479733e-03],\n",
              "      dtype=float32)"
            ]
          },
          "metadata": {},
          "execution_count": 25
        }
      ]
    },
    {
      "cell_type": "code",
      "source": [],
      "metadata": {
        "id": "mBBB-mlXs22k"
      },
      "execution_count": null,
      "outputs": []
    },
    {
      "cell_type": "code",
      "source": [
        "word_vectors['natural']"
      ],
      "metadata": {
        "colab": {
          "base_uri": "https://localhost:8080/"
        },
        "id": "TCK8DQqGxfTC",
        "outputId": "6a96af83-30ea-47b7-8cc3-395baf279870"
      },
      "execution_count": null,
      "outputs": [
        {
          "output_type": "execute_result",
          "data": {
            "text/plain": [
              "array([-4.2922487e-03, -9.3237376e-03, -1.8702546e-03, -3.7103512e-03,\n",
              "        9.1020716e-03,  2.9348901e-03, -5.9832372e-03, -3.3542465e-03,\n",
              "       -9.9078445e-03,  1.9436935e-03, -3.9885859e-03, -2.7072844e-03,\n",
              "        5.1666521e-03,  7.5955731e-03,  4.3889638e-03, -6.8260129e-03,\n",
              "        6.6934898e-03, -9.6287131e-03, -6.9871545e-03, -8.0079250e-03,\n",
              "       -2.2674531e-03,  4.7694563e-04, -3.7715556e-03,  1.8417817e-03,\n",
              "        9.2039034e-03,  6.6820821e-03, -1.0570971e-03,  9.0957126e-03,\n",
              "        1.5556883e-03, -1.9757692e-03, -6.5976209e-03,  6.4712954e-03,\n",
              "       -9.0731690e-03, -1.8934859e-03,  7.6980670e-03, -2.5881424e-03,\n",
              "        1.6043333e-03, -7.3458739e-03,  4.9790028e-03,  7.3755234e-03,\n",
              "       -9.3046091e-03, -3.2862977e-03,  7.8895260e-03,  2.9423626e-03,\n",
              "        1.4131000e-05,  3.4133767e-04, -9.8615531e-03,  9.9383350e-03,\n",
              "       -2.0010779e-03, -4.8948247e-03,  2.7553439e-03,  1.0292698e-03,\n",
              "       -5.9254053e-03,  5.7957410e-03, -2.5074147e-03, -6.1775139e-03,\n",
              "        7.2381650e-03,  6.4618443e-03,  8.8248672e-03,  1.1600381e-03,\n",
              "        5.0959823e-04, -7.9269726e-03,  4.6508447e-03,  9.3602994e-03,\n",
              "       -6.7415374e-04, -1.7601033e-03, -3.8037316e-03, -4.8368884e-04,\n",
              "       -7.6237922e-03,  5.6900787e-03,  1.4850727e-03,  9.2997281e-03,\n",
              "       -6.4278548e-03, -5.0895982e-03, -6.2311064e-03, -7.2681634e-03,\n",
              "        2.7547809e-03,  4.8991241e-03,  1.3479588e-03,  3.5355769e-03,\n",
              "       -9.3919281e-03, -1.0672220e-03, -7.7382093e-03,  2.9497296e-03,\n",
              "       -2.6828286e-03,  8.8849515e-03, -3.4362345e-03,  6.8367883e-03,\n",
              "        4.1170353e-03,  1.3668216e-03, -3.7500740e-05,  8.1702480e-03,\n",
              "        2.3639132e-03,  8.2576452e-03,  3.3377854e-03,  5.4236953e-03,\n",
              "        5.1093576e-03, -7.6225931e-03, -5.7933354e-03,  1.2340021e-03],\n",
              "      dtype=float32)"
            ]
          },
          "metadata": {},
          "execution_count": 33
        }
      ]
    },
    {
      "cell_type": "code",
      "source": [],
      "metadata": {
        "id": "98hILTd2xfPd"
      },
      "execution_count": null,
      "outputs": []
    },
    {
      "cell_type": "markdown",
      "source": [
        "# Finding similar words"
      ],
      "metadata": {
        "id": "eH25xT7YvNq2"
      }
    },
    {
      "cell_type": "code",
      "source": [
        "similar_words = word_vectors.most_similar('natural', topn = 5)\n",
        "similar_words"
      ],
      "metadata": {
        "colab": {
          "base_uri": "https://localhost:8080/"
        },
        "id": "gBB4h8HIs28P",
        "outputId": "1514efd9-c54e-4a5c-c9a2-f6136c17222a"
      },
      "execution_count": null,
      "outputs": [
        {
          "output_type": "execute_result",
          "data": {
            "text/plain": [
              "[('in', 0.17128004133701324),\n",
              " ('word', 0.13664701581001282),\n",
              " ('based', 0.13280262053012848),\n",
              " ('corpus', 0.10279709100723267),\n",
              " ('capture', 0.09614437818527222)]"
            ]
          },
          "metadata": {},
          "execution_count": 37
        }
      ]
    },
    {
      "cell_type": "code",
      "source": [],
      "metadata": {
        "id": "TESELws9s2_E"
      },
      "execution_count": null,
      "outputs": []
    },
    {
      "cell_type": "markdown",
      "source": [
        "# Another example:"
      ],
      "metadata": {
        "id": "Gij1kh3TyHE_"
      }
    },
    {
      "cell_type": "code",
      "source": [
        "sample_txt2 = \"I own a big garden. There are many different kinds of trees there. The garden has several kinds of fruits and vegetables in the garden. They were fresh and organic. Numerous people work there to help me make this garden beautiful and profitable.\""
      ],
      "metadata": {
        "id": "RIzEULC6s3CA"
      },
      "execution_count": null,
      "outputs": []
    },
    {
      "cell_type": "code",
      "source": [
        "sentences = sent_tokenize(sample_txt2)\n",
        "\n",
        "tokens = [word_tokenize(sentence.lower()) for sentence in sentences]\n",
        "tokens"
      ],
      "metadata": {
        "colab": {
          "base_uri": "https://localhost:8080/"
        },
        "id": "B_aMeBnVs3Ex",
        "outputId": "f69bfa4f-f95e-453d-f9eb-d40b381945cf"
      },
      "execution_count": null,
      "outputs": [
        {
          "output_type": "execute_result",
          "data": {
            "text/plain": [
              "[['i', 'own', 'a', 'big', 'garden', '.'],\n",
              " ['there', 'are', 'many', 'different', 'kinds', 'of', 'trees', 'there', '.'],\n",
              " ['the',\n",
              "  'garden',\n",
              "  'has',\n",
              "  'several',\n",
              "  'kinds',\n",
              "  'of',\n",
              "  'fruits',\n",
              "  'and',\n",
              "  'vegetables',\n",
              "  'in',\n",
              "  'the',\n",
              "  'garden',\n",
              "  '.'],\n",
              " ['they', 'were', 'fresh', 'and', 'organic', '.'],\n",
              " ['numerous',\n",
              "  'people',\n",
              "  'work',\n",
              "  'there',\n",
              "  'to',\n",
              "  'help',\n",
              "  'me',\n",
              "  'make',\n",
              "  'this',\n",
              "  'garden',\n",
              "  'beautiful',\n",
              "  'and',\n",
              "  'profitable',\n",
              "  '.']]"
            ]
          },
          "metadata": {},
          "execution_count": 41
        }
      ]
    },
    {
      "cell_type": "code",
      "source": [
        "model2 = Word2Vec(tokens, vector_size= 50, window = 5, min_count = 1, sg = 0)\n",
        "model2"
      ],
      "metadata": {
        "colab": {
          "base_uri": "https://localhost:8080/"
        },
        "id": "0Nvs5b03s3Hk",
        "outputId": "b03c5346-4f11-4db1-e0ec-3c851bf2aabf"
      },
      "execution_count": null,
      "outputs": [
        {
          "output_type": "execute_result",
          "data": {
            "text/plain": [
              "<gensim.models.word2vec.Word2Vec at 0x7b7ad189e840>"
            ]
          },
          "metadata": {},
          "execution_count": 44
        }
      ]
    },
    {
      "cell_type": "code",
      "source": [
        "word_vectors2 = model2.wv\n",
        "word_vectors2['fruits']"
      ],
      "metadata": {
        "colab": {
          "base_uri": "https://localhost:8080/"
        },
        "id": "IabIwgcbs3Kh",
        "outputId": "6270f305-1109-4b29-ab0c-37dec20265e0"
      },
      "execution_count": null,
      "outputs": [
        {
          "output_type": "execute_result",
          "data": {
            "text/plain": [
              "array([-0.01031249, -0.01333668, -0.01555367,  0.01662146, -0.00396468,\n",
              "       -0.01370993, -0.00830878,  0.01028825, -0.00573827, -0.00749932,\n",
              "        0.00324285, -0.00555259, -0.00316872,  0.00214898, -0.00595589,\n",
              "        0.01703857,  0.00782187, -0.01991773,  0.0125192 , -0.01350851,\n",
              "        0.00153887,  0.00880847, -0.01020675, -0.00422134,  0.01619096,\n",
              "       -0.00848759, -0.01527252,  0.01851583, -0.00431099, -0.00943886,\n",
              "        0.0171416 ,  0.00856668,  0.00864967,  0.01856903, -0.01690616,\n",
              "        0.01051064,  0.0040787 ,  0.00837656,  0.0033958 ,  0.00892827,\n",
              "        0.00897258,  0.01220904, -0.00640419, -0.00915146, -0.00085303,\n",
              "        0.00506747, -0.00652633,  0.01211544,  0.00830826,  0.01552918],\n",
              "      dtype=float32)"
            ]
          },
          "metadata": {},
          "execution_count": 57
        }
      ]
    },
    {
      "cell_type": "code",
      "source": [
        "word_vectors2['trees']"
      ],
      "metadata": {
        "colab": {
          "base_uri": "https://localhost:8080/"
        },
        "id": "sA3Z9-v-s3N1",
        "outputId": "d07d9874-0aa0-4c9b-c08c-2ab36877acbe"
      },
      "execution_count": null,
      "outputs": [
        {
          "output_type": "execute_result",
          "data": {
            "text/plain": [
              "array([-3.8936534e-03, -1.0540222e-02,  1.8900611e-02, -1.8591881e-02,\n",
              "        9.0011330e-03,  1.0807554e-02, -2.8076845e-03,  1.8007707e-02,\n",
              "        1.9757302e-02, -1.0961521e-02, -1.2041060e-02, -1.3502317e-02,\n",
              "       -1.5782792e-02, -6.1042244e-03, -1.1185234e-02, -1.6690802e-02,\n",
              "        1.5602552e-03,  5.9878849e-03,  1.2817775e-02, -5.2702357e-03,\n",
              "       -8.9121610e-03,  2.5099290e-03,  7.9417182e-04,  1.6235650e-02,\n",
              "        3.6568262e-04,  1.4463658e-02, -1.6534857e-02,  1.6872678e-02,\n",
              "       -3.7829380e-03,  1.7410109e-02, -1.5228156e-02,  3.5810855e-03,\n",
              "        2.1101360e-03,  8.8391454e-05, -1.0207213e-02, -1.8502278e-02,\n",
              "       -1.4527084e-02, -1.5901458e-02,  3.8224447e-03,  9.5161429e-04,\n",
              "       -3.6229535e-03,  1.4242809e-02, -4.9607265e-03, -2.6958315e-03,\n",
              "       -1.7797375e-02, -1.9858673e-02,  1.7902877e-02, -1.1511053e-02,\n",
              "       -1.2747886e-02,  1.0401206e-02], dtype=float32)"
            ]
          },
          "metadata": {},
          "execution_count": 58
        }
      ]
    },
    {
      "cell_type": "code",
      "source": [
        "similar_word2 = word_vectors2.most_similar('fruits', topn = 5)\n",
        "similar_word2"
      ],
      "metadata": {
        "colab": {
          "base_uri": "https://localhost:8080/"
        },
        "id": "vFwyPb9y0O4k",
        "outputId": "fe1de9e6-c0a5-4dc8-cfb9-9658d58a4d63"
      },
      "execution_count": null,
      "outputs": [
        {
          "output_type": "execute_result",
          "data": {
            "text/plain": [
              "[('.', 0.27068236470222473),\n",
              " ('make', 0.2674153745174408),\n",
              " ('they', 0.20419305562973022),\n",
              " ('and', 0.19622384011745453),\n",
              " ('different', 0.19218479096889496)]"
            ]
          },
          "metadata": {},
          "execution_count": 59
        }
      ]
    },
    {
      "cell_type": "code",
      "source": [
        "similar_word3 = model2.wv.most_similar('numerous', topn = 5)\n",
        "similar_word3"
      ],
      "metadata": {
        "colab": {
          "base_uri": "https://localhost:8080/"
        },
        "id": "x1XZ5aZm0O7T",
        "outputId": "8bb03cc0-7797-46d5-e6b9-3a4b9b9218c9"
      },
      "execution_count": null,
      "outputs": [
        {
          "output_type": "execute_result",
          "data": {
            "text/plain": [
              "[('are', 0.2576709985733032),\n",
              " ('beautiful', 0.23732392489910126),\n",
              " ('of', 0.16954173147678375),\n",
              " ('help', 0.16496333479881287),\n",
              " ('and', 0.12171069532632828)]"
            ]
          },
          "metadata": {},
          "execution_count": 63
        }
      ]
    },
    {
      "cell_type": "markdown",
      "source": [
        "NOTE: I don't know why the words like 'many', 'several' etc. didn't appear in similar words for 'numerous'."
      ],
      "metadata": {
        "id": "lhSbugVf2WFK"
      }
    },
    {
      "cell_type": "code",
      "source": [],
      "metadata": {
        "id": "SfgdtPMg0O-v"
      },
      "execution_count": null,
      "outputs": []
    },
    {
      "cell_type": "code",
      "source": [],
      "metadata": {
        "id": "NcbOy8mS2R7H"
      },
      "execution_count": null,
      "outputs": []
    }
  ]
}
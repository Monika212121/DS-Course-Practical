{
  "nbformat": 4,
  "nbformat_minor": 0,
  "metadata": {
    "colab": {
      "provenance": []
    },
    "kernelspec": {
      "name": "python3",
      "display_name": "Python 3"
    },
    "language_info": {
      "name": "python"
    }
  },
  "cells": [
    {
      "cell_type": "markdown",
      "source": [
        "# OOPS(Object Oriented Programming System)"
      ],
      "metadata": {
        "id": "BmuC1z37-2p6"
      }
    },
    {
      "cell_type": "code",
      "execution_count": null,
      "metadata": {
        "id": "a6wfcdFV-dbx"
      },
      "outputs": [],
      "source": [
        "a = 1"
      ]
    },
    {
      "cell_type": "code",
      "source": [
        "type(a)"
      ],
      "metadata": {
        "colab": {
          "base_uri": "https://localhost:8080/"
        },
        "id": "JWReAQJS-lzR",
        "outputId": "4044301a-8695-4d6e-ee57-a807061bd686"
      },
      "execution_count": null,
      "outputs": [
        {
          "output_type": "execute_result",
          "data": {
            "text/plain": [
              "int"
            ]
          },
          "metadata": {},
          "execution_count": 2
        }
      ]
    },
    {
      "cell_type": "code",
      "source": [
        "print(type(a))"
      ],
      "metadata": {
        "colab": {
          "base_uri": "https://localhost:8080/"
        },
        "id": "Lx76Z1FO_KOw",
        "outputId": "25ba8ec7-47f2-4c20-a8d2-e6099593b333"
      },
      "execution_count": null,
      "outputs": [
        {
          "output_type": "stream",
          "name": "stdout",
          "text": [
            "<class 'int'>\n"
          ]
        }
      ]
    },
    {
      "cell_type": "code",
      "source": [
        "str = \"Monika\""
      ],
      "metadata": {
        "id": "_cIz7m1_-l19"
      },
      "execution_count": null,
      "outputs": []
    },
    {
      "cell_type": "code",
      "source": [
        "type(str)"
      ],
      "metadata": {
        "colab": {
          "base_uri": "https://localhost:8080/"
        },
        "id": "nEBackKe-l47",
        "outputId": "df562527-7587-4830-b701-24919d0ba0c4"
      },
      "execution_count": null,
      "outputs": [
        {
          "output_type": "execute_result",
          "data": {
            "text/plain": [
              "str"
            ]
          },
          "metadata": {},
          "execution_count": 5
        }
      ]
    },
    {
      "cell_type": "code",
      "source": [
        "print(type(str))"
      ],
      "metadata": {
        "colab": {
          "base_uri": "https://localhost:8080/"
        },
        "id": "YwV6hIU3-l7z",
        "outputId": "fe0af014-419e-4b13-e4de-159254f115b3"
      },
      "execution_count": null,
      "outputs": [
        {
          "output_type": "stream",
          "name": "stdout",
          "text": [
            "<class 'str'>\n"
          ]
        }
      ]
    },
    {
      "cell_type": "markdown",
      "source": [
        "Here, 'a' is a variable/ object/ instance\n",
        "of class 'integer'.\n",
        "\n",
        "Here, 'str' is a object of class 'string'."
      ],
      "metadata": {
        "id": "ZtQaV66D_M-p"
      }
    },
    {
      "cell_type": "markdown",
      "source": [
        "1.) class -> Blueprint/ skeleton/ classification of a real-world entity but not specific to a real world entity.\n",
        "Eg: a car.\n",
        "\n",
        "2.) object -> A real world entity. Eg: Verna white color, XYZ model.\n"
      ],
      "metadata": {
        "id": "e6l6pf8O_p9i"
      }
    },
    {
      "cell_type": "markdown",
      "source": [
        "# How to create a class"
      ],
      "metadata": {
        "id": "9Zv001IxA0Fl"
      }
    },
    {
      "cell_type": "code",
      "source": [
        "class test:"
      ],
      "metadata": {
        "colab": {
          "base_uri": "https://localhost:8080/",
          "height": 106
        },
        "id": "kR9Y2TyQA3aw",
        "outputId": "af06c0a7-14e4-4de9-b2d3-150488b8fc23"
      },
      "execution_count": null,
      "outputs": [
        {
          "output_type": "error",
          "ename": "SyntaxError",
          "evalue": "incomplete input (<ipython-input-7-6ccad8358cd9>, line 1)",
          "traceback": [
            "\u001b[0;36m  File \u001b[0;32m\"<ipython-input-7-6ccad8358cd9>\"\u001b[0;36m, line \u001b[0;32m1\u001b[0m\n\u001b[0;31m    class test:\u001b[0m\n\u001b[0m               ^\u001b[0m\n\u001b[0;31mSyntaxError\u001b[0m\u001b[0;31m:\u001b[0m incomplete input\n"
          ]
        }
      ]
    },
    {
      "cell_type": "code",
      "source": [],
      "metadata": {
        "id": "fBXl643WBcab"
      },
      "execution_count": null,
      "outputs": []
    },
    {
      "cell_type": "code",
      "source": [
        "class test:\n",
        "  pass"
      ],
      "metadata": {
        "id": "4KoT361h-l-c"
      },
      "execution_count": null,
      "outputs": []
    },
    {
      "cell_type": "code",
      "source": [
        "t = test()"
      ],
      "metadata": {
        "id": "4fxsI6fN-mBB"
      },
      "execution_count": null,
      "outputs": []
    },
    {
      "cell_type": "code",
      "source": [
        "type(t)"
      ],
      "metadata": {
        "colab": {
          "base_uri": "https://localhost:8080/"
        },
        "id": "kwoF8gQK-mDk",
        "outputId": "b7dbd08c-ae5c-4a9d-9b34-ac24897f218e"
      },
      "execution_count": null,
      "outputs": [
        {
          "output_type": "execute_result",
          "data": {
            "text/plain": [
              "__main__.test"
            ]
          },
          "metadata": {},
          "execution_count": 11
        }
      ]
    },
    {
      "cell_type": "code",
      "source": [
        "print(type(t))"
      ],
      "metadata": {
        "colab": {
          "base_uri": "https://localhost:8080/"
        },
        "id": "Zvt_QZDI-mGK",
        "outputId": "071654a1-44ad-4f3f-fc4e-5a902e9b5a5a"
      },
      "execution_count": null,
      "outputs": [
        {
          "output_type": "stream",
          "name": "stdout",
          "text": [
            "<class '__main__.test'>\n"
          ]
        }
      ]
    },
    {
      "cell_type": "markdown",
      "source": [
        "Here, class = test, t = object of class test"
      ],
      "metadata": {
        "id": "3SxNq4r5BUzw"
      }
    },
    {
      "cell_type": "code",
      "source": [
        "class pwskills :\n",
        "\n",
        "  def welcome_msg():\n",
        "    print(\"Welcome to pwskills\")\n"
      ],
      "metadata": {
        "id": "7DTMz5jh-mI7"
      },
      "execution_count": null,
      "outputs": []
    },
    {
      "cell_type": "code",
      "source": [
        "monika = pwskills()"
      ],
      "metadata": {
        "id": "ivl_r5Pz-mLr"
      },
      "execution_count": null,
      "outputs": []
    },
    {
      "cell_type": "code",
      "source": [
        "print(type(monika))"
      ],
      "metadata": {
        "colab": {
          "base_uri": "https://localhost:8080/"
        },
        "id": "5VuvAcsx-mPM",
        "outputId": "1260487a-473a-4f94-8f29-71348c08a164"
      },
      "execution_count": null,
      "outputs": [
        {
          "output_type": "stream",
          "name": "stdout",
          "text": [
            "<class '__main__.pwskills'>\n"
          ]
        }
      ]
    },
    {
      "cell_type": "markdown",
      "source": [
        "Here, monika is object of pwskills class."
      ],
      "metadata": {
        "id": "r9s09cC_B0QI"
      }
    },
    {
      "cell_type": "code",
      "source": [
        "monika.welcome_msg()"
      ],
      "metadata": {
        "colab": {
          "base_uri": "https://localhost:8080/",
          "height": 141
        },
        "id": "lS8Z4RApBs6B",
        "outputId": "d2a7c068-ac49-49e0-d997-217e8b6259c1"
      },
      "execution_count": null,
      "outputs": [
        {
          "output_type": "error",
          "ename": "TypeError",
          "evalue": "pwskills.welcome_msg() takes 0 positional arguments but 1 was given",
          "traceback": [
            "\u001b[0;31m---------------------------------------------------------------------------\u001b[0m",
            "\u001b[0;31mTypeError\u001b[0m                                 Traceback (most recent call last)",
            "\u001b[0;32m<ipython-input-16-a4a7d0eedd85>\u001b[0m in \u001b[0;36m<cell line: 0>\u001b[0;34m()\u001b[0m\n\u001b[0;32m----> 1\u001b[0;31m \u001b[0mmonika\u001b[0m\u001b[0;34m.\u001b[0m\u001b[0mwelcome_msg\u001b[0m\u001b[0;34m(\u001b[0m\u001b[0;34m)\u001b[0m\u001b[0;34m\u001b[0m\u001b[0;34m\u001b[0m\u001b[0m\n\u001b[0m",
            "\u001b[0;31mTypeError\u001b[0m: pwskills.welcome_msg() takes 0 positional arguments but 1 was given"
          ]
        }
      ]
    },
    {
      "cell_type": "code",
      "source": [],
      "metadata": {
        "id": "6b6OR4VcBwyf"
      },
      "execution_count": null,
      "outputs": []
    },
    {
      "cell_type": "markdown",
      "source": [
        "**NOTE:** Whenever we define a class and any function or method inside it, we need to pass the first parameter as 'self', so that the function/method binds with the class."
      ],
      "metadata": {
        "id": "gUNbiYRTCErA"
      }
    },
    {
      "cell_type": "code",
      "source": [
        "class pwskills2 :\n",
        "\n",
        "  def welcome_msg2(self):\n",
        "    print(\"Welcome to pwskills\")\n"
      ],
      "metadata": {
        "id": "mY1Qgx0iBw1Y"
      },
      "execution_count": null,
      "outputs": []
    },
    {
      "cell_type": "code",
      "source": [
        "monika2 = pwskills2()"
      ],
      "metadata": {
        "id": "9vskVMwuBw4U"
      },
      "execution_count": null,
      "outputs": []
    },
    {
      "cell_type": "code",
      "source": [
        "monika2.welcome_msg2()"
      ],
      "metadata": {
        "colab": {
          "base_uri": "https://localhost:8080/"
        },
        "id": "BDjiobCkBw7G",
        "outputId": "5f7c4a32-be77-44bf-808d-e4a0b9770df6"
      },
      "execution_count": null,
      "outputs": [
        {
          "output_type": "stream",
          "name": "stdout",
          "text": [
            "Welcome to pwskills\n"
          ]
        }
      ]
    },
    {
      "cell_type": "code",
      "source": [
        "syama = pwskills2()"
      ],
      "metadata": {
        "id": "k27BqNdNBw9u"
      },
      "execution_count": null,
      "outputs": []
    },
    {
      "cell_type": "code",
      "source": [
        "syama.welcome_msg2()"
      ],
      "metadata": {
        "colab": {
          "base_uri": "https://localhost:8080/"
        },
        "id": "HKOXkiUdBxGJ",
        "outputId": "b7bde7f2-34d6-4dd9-9451-1c4a3de704f5"
      },
      "execution_count": null,
      "outputs": [
        {
          "output_type": "stream",
          "name": "stdout",
          "text": [
            "Welcome to pwskills\n"
          ]
        }
      ]
    },
    {
      "cell_type": "code",
      "source": [],
      "metadata": {
        "id": "HGTu6zvRBxO9"
      },
      "execution_count": null,
      "outputs": []
    },
    {
      "cell_type": "markdown",
      "source": [
        "### How to pass attributes of an object to a class"
      ],
      "metadata": {
        "id": "6_mwOkMJUTuI"
      }
    },
    {
      "cell_type": "markdown",
      "source": [
        "__init__ method is the constructor in Python, automatically called when a new object is created. It initializes the attributes of the class."
      ],
      "metadata": {
        "id": "rKSucu6uhys9"
      }
    },
    {
      "cell_type": "markdown",
      "source": [
        "**Using a constructor, \"__init__()\"**:\n",
        "\n",
        "It is init() job to ask for attributes.\n",
        "\n",
        "As we define a new object/variable of a class and pass parameters, the control directly goes to the __init__().\n"
      ],
      "metadata": {
        "id": "Vb_aMK8pUnif"
      }
    },
    {
      "cell_type": "code",
      "source": [
        "class ABCAcademy:\n",
        "\n",
        "  def __init__(self, gender, grade, age):\n",
        "    self.gender = gender\n",
        "    self.grade = grade\n",
        "    self.age = age\n",
        "\n",
        "  def return_stu_details(self):\n",
        "    return self.gender, self.grade, self.age\n"
      ],
      "metadata": {
        "id": "HvPv0ZSyDN04"
      },
      "execution_count": null,
      "outputs": []
    },
    {
      "cell_type": "markdown",
      "source": [
        "__init__: Special method used for initialization.\n",
        "\n",
        "self.gender and self.age: Instance attributes initialized in the constructor."
      ],
      "metadata": {
        "id": "RnCla3GZiPIG"
      }
    },
    {
      "cell_type": "markdown",
      "source": [
        "Here, we use 'self.gender' to bind the variable 'gender' to the class ABCAcademy."
      ],
      "metadata": {
        "id": "T4B68yXPE0Xa"
      }
    },
    {
      "cell_type": "code",
      "source": [
        "cassandra = ABCAcademy(\"Female\", \"B\", 15)"
      ],
      "metadata": {
        "id": "rfe46An0DN3t"
      },
      "execution_count": null,
      "outputs": []
    },
    {
      "cell_type": "code",
      "source": [
        "cassandra.return_stu_details()"
      ],
      "metadata": {
        "colab": {
          "base_uri": "https://localhost:8080/"
        },
        "id": "INaKho0WDN6j",
        "outputId": "183ff85e-52a4-4a24-927c-e05085893d7a"
      },
      "execution_count": null,
      "outputs": [
        {
          "output_type": "execute_result",
          "data": {
            "text/plain": [
              "('Female', 'B', 15)"
            ]
          },
          "metadata": {},
          "execution_count": 24
        }
      ]
    },
    {
      "cell_type": "code",
      "source": [],
      "metadata": {
        "id": "Wu-9kK-YBY9u"
      },
      "execution_count": null,
      "outputs": []
    },
    {
      "cell_type": "code",
      "source": [
        "mohana = ABCAcademy(\"Female\", \"A\", 16)"
      ],
      "metadata": {
        "id": "C87wN2pFDN9Q"
      },
      "execution_count": null,
      "outputs": []
    },
    {
      "cell_type": "code",
      "source": [
        "mohana.grade"
      ],
      "metadata": {
        "colab": {
          "base_uri": "https://localhost:8080/",
          "height": 36
        },
        "id": "e2qwCTGZDN_4",
        "outputId": "0824ad40-414e-4cd0-d848-c313b057f6f5"
      },
      "execution_count": null,
      "outputs": [
        {
          "output_type": "execute_result",
          "data": {
            "text/plain": [
              "'A'"
            ],
            "application/vnd.google.colaboratory.intrinsic+json": {
              "type": "string"
            }
          },
          "metadata": {},
          "execution_count": 26
        }
      ]
    },
    {
      "cell_type": "code",
      "source": [
        "mohana.age"
      ],
      "metadata": {
        "colab": {
          "base_uri": "https://localhost:8080/"
        },
        "id": "N-RFpaANDOCv",
        "outputId": "ce949294-c8f3-4d2b-a476-8b8343eac6ce"
      },
      "execution_count": null,
      "outputs": [
        {
          "output_type": "execute_result",
          "data": {
            "text/plain": [
              "16"
            ]
          },
          "metadata": {},
          "execution_count": 27
        }
      ]
    },
    {
      "cell_type": "code",
      "source": [
        "mohana.gender"
      ],
      "metadata": {
        "colab": {
          "base_uri": "https://localhost:8080/",
          "height": 36
        },
        "id": "U2nNxltbDOFp",
        "outputId": "6fd73a27-5323-40df-a09b-73b73b10ebf2"
      },
      "execution_count": null,
      "outputs": [
        {
          "output_type": "execute_result",
          "data": {
            "text/plain": [
              "'Female'"
            ],
            "application/vnd.google.colaboratory.intrinsic+json": {
              "type": "string"
            }
          },
          "metadata": {},
          "execution_count": 28
        }
      ]
    },
    {
      "cell_type": "code",
      "source": [
        "mohana.return_stu_details()"
      ],
      "metadata": {
        "colab": {
          "base_uri": "https://localhost:8080/"
        },
        "id": "RRvRZHF8DOJL",
        "outputId": "dd972ed5-1e84-4392-ecdb-d4420faa9f2a"
      },
      "execution_count": null,
      "outputs": [
        {
          "output_type": "execute_result",
          "data": {
            "text/plain": [
              "('Female', 'A', 16)"
            ]
          },
          "metadata": {},
          "execution_count": 30
        }
      ]
    },
    {
      "cell_type": "markdown",
      "source": [
        "**NOTE:** We can access the functions and even the parameters(class's variables) ideally."
      ],
      "metadata": {
        "id": "jR81ev4_BaSv"
      }
    },
    {
      "cell_type": "code",
      "source": [],
      "metadata": {
        "id": "0zsG39MuBVFv"
      },
      "execution_count": null,
      "outputs": []
    },
    {
      "cell_type": "code",
      "source": [
        "class ABCAcademy2:\n",
        "\n",
        "  def __init__(self, gender, grade, age):\n",
        "    self.gender1 = gender\n",
        "    self.grade1 = grade\n",
        "    self.age1 = age\n",
        "\n",
        "  def return_stu_details(self):\n",
        "    return self.gender1, self.grade1, self.age1\n"
      ],
      "metadata": {
        "id": "r4YHCsu_BtPZ"
      },
      "execution_count": null,
      "outputs": []
    },
    {
      "cell_type": "code",
      "source": [
        "Osana = ABCAcademy2(\"Female\", \"c\", 17)"
      ],
      "metadata": {
        "id": "CYKV7TwqBtSQ"
      },
      "execution_count": null,
      "outputs": []
    },
    {
      "cell_type": "code",
      "source": [
        "Osana.age"
      ],
      "metadata": {
        "colab": {
          "base_uri": "https://localhost:8080/",
          "height": 141
        },
        "id": "nRIfLv3LBtVH",
        "outputId": "97290527-3bdf-44f0-e00c-332c947abdad"
      },
      "execution_count": null,
      "outputs": [
        {
          "output_type": "error",
          "ename": "AttributeError",
          "evalue": "'ABCAcademy2' object has no attribute 'age'",
          "traceback": [
            "\u001b[0;31m---------------------------------------------------------------------------\u001b[0m",
            "\u001b[0;31mAttributeError\u001b[0m                            Traceback (most recent call last)",
            "\u001b[0;32m<ipython-input-35-6fb796dad09c>\u001b[0m in \u001b[0;36m<cell line: 0>\u001b[0;34m()\u001b[0m\n\u001b[0;32m----> 1\u001b[0;31m \u001b[0mOsana\u001b[0m\u001b[0;34m.\u001b[0m\u001b[0mage\u001b[0m\u001b[0;34m\u001b[0m\u001b[0;34m\u001b[0m\u001b[0m\n\u001b[0m",
            "\u001b[0;31mAttributeError\u001b[0m: 'ABCAcademy2' object has no attribute 'age'"
          ]
        }
      ]
    },
    {
      "cell_type": "code",
      "source": [],
      "metadata": {
        "id": "aP0pOUszDP3a"
      },
      "execution_count": null,
      "outputs": []
    },
    {
      "cell_type": "markdown",
      "source": [
        "**NOTE:** Here, the class's variable is 'age1' and the passed attribute varaible is 'age'.\n",
        "\n",
        "'age1' is bonded with the class through the 'self' keyword."
      ],
      "metadata": {
        "id": "6TzeKSBVDA4r"
      }
    },
    {
      "cell_type": "code",
      "source": [],
      "metadata": {
        "id": "gNB3g_pSBtX-"
      },
      "execution_count": null,
      "outputs": []
    },
    {
      "cell_type": "markdown",
      "source": [
        "# 'self' is not a reserved keyword.\n",
        "\n",
        "We can use any other variable to bind the functions and variables to the class."
      ],
      "metadata": {
        "id": "dt-3dYwKEIdD"
      }
    },
    {
      "cell_type": "code",
      "source": [
        "class ABCAcademy3:\n",
        "\n",
        "  def __init__(student, gender, grade, age):\n",
        "    student.gender1 = gender\n",
        "    student.grade1 = grade\n",
        "    student.age1 = age\n",
        "\n",
        "  def return_stu_details(student):\n",
        "    return student.gender1, student.grade1, student.age1\n"
      ],
      "metadata": {
        "id": "DgwoOvzABtbT"
      },
      "execution_count": null,
      "outputs": []
    },
    {
      "cell_type": "code",
      "source": [
        "Meera = ABCAcademy3(\"Female\", \"B\", 16)"
      ],
      "metadata": {
        "id": "dZXPFiO_Btfm"
      },
      "execution_count": null,
      "outputs": []
    },
    {
      "cell_type": "code",
      "source": [
        "Meera.age1"
      ],
      "metadata": {
        "colab": {
          "base_uri": "https://localhost:8080/"
        },
        "id": "lhF9ix1yBth5",
        "outputId": "6dcdd78d-61a2-433a-e630-36fb35f5cbe0"
      },
      "execution_count": null,
      "outputs": [
        {
          "output_type": "execute_result",
          "data": {
            "text/plain": [
              "16"
            ]
          },
          "metadata": {},
          "execution_count": 39
        }
      ]
    },
    {
      "cell_type": "code",
      "source": [
        "Meera.return_stu_details()"
      ],
      "metadata": {
        "colab": {
          "base_uri": "https://localhost:8080/"
        },
        "id": "ffBdnk_SBtj4",
        "outputId": "a0602b9e-6801-4136-a86c-fb85a3b9336c"
      },
      "execution_count": null,
      "outputs": [
        {
          "output_type": "execute_result",
          "data": {
            "text/plain": [
              "('Female', 'B', 16)"
            ]
          },
          "metadata": {},
          "execution_count": 40
        }
      ]
    },
    {
      "cell_type": "code",
      "source": [],
      "metadata": {
        "id": "WXszIAvtBtl-"
      },
      "execution_count": null,
      "outputs": []
    },
    {
      "cell_type": "code",
      "source": [],
      "metadata": {
        "id": "1RxemV88Btoz"
      },
      "execution_count": null,
      "outputs": []
    }
  ]
}
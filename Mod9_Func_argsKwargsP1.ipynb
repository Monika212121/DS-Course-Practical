{
  "nbformat": 4,
  "nbformat_minor": 0,
  "metadata": {
    "colab": {
      "provenance": []
    },
    "kernelspec": {
      "name": "python3",
      "display_name": "Python 3"
    },
    "language_info": {
      "name": "python"
    }
  },
  "cells": [
    {
      "cell_type": "markdown",
      "source": [
        "# Module9 Functions Part1"
      ],
      "metadata": {
        "id": "McrpLp1lzFII"
      }
    },
    {
      "cell_type": "markdown",
      "source": [
        "# *args\n",
        "\n",
        "It enables us to provide 'n' number of inputs(arguments) in the function.\n",
        "\n",
        "NOTE: 'args' is not a keyword, we can use any name instead of args, whereas asterisk represents the number of inputs to be dynamic."
      ],
      "metadata": {
        "id": "gY7JiBSAzZn6"
      }
    },
    {
      "cell_type": "code",
      "execution_count": 3,
      "metadata": {
        "id": "fdYC5GyizCmr"
      },
      "outputs": [],
      "source": [
        "def func1(*args):\n",
        "  return args"
      ]
    },
    {
      "cell_type": "code",
      "source": [
        "func1()"
      ],
      "metadata": {
        "colab": {
          "base_uri": "https://localhost:8080/"
        },
        "id": "X7H-NngxzQup",
        "outputId": "f1a3240d-e7fe-43b6-f7f5-51255e4d689c"
      },
      "execution_count": 4,
      "outputs": [
        {
          "output_type": "execute_result",
          "data": {
            "text/plain": [
              "()"
            ]
          },
          "metadata": {},
          "execution_count": 4
        }
      ]
    },
    {
      "cell_type": "code",
      "source": [
        "type(func1())"
      ],
      "metadata": {
        "colab": {
          "base_uri": "https://localhost:8080/"
        },
        "id": "OrQSgtetzQxB",
        "outputId": "ebb090d5-84c1-4a9d-9a03-12b037c4503a"
      },
      "execution_count": 5,
      "outputs": [
        {
          "output_type": "execute_result",
          "data": {
            "text/plain": [
              "tuple"
            ]
          },
          "metadata": {},
          "execution_count": 5
        }
      ]
    },
    {
      "cell_type": "code",
      "source": [
        "func1(\"monika\", \"is\", 100)"
      ],
      "metadata": {
        "colab": {
          "base_uri": "https://localhost:8080/"
        },
        "id": "eBCfItdl0w-m",
        "outputId": "343ed721-8293-4b3b-d150-20c52c6d0841"
      },
      "execution_count": 7,
      "outputs": [
        {
          "output_type": "execute_result",
          "data": {
            "text/plain": [
              "('monika', 'is', 100)"
            ]
          },
          "metadata": {},
          "execution_count": 7
        }
      ]
    },
    {
      "cell_type": "code",
      "source": [],
      "metadata": {
        "id": "_rcxzX2pcGF5"
      },
      "execution_count": null,
      "outputs": []
    },
    {
      "cell_type": "code",
      "source": [
        "def func2(*moni):\n",
        "  return moni"
      ],
      "metadata": {
        "id": "oZu4BqquzQzx"
      },
      "execution_count": 8,
      "outputs": []
    },
    {
      "cell_type": "code",
      "source": [
        "func2(10, 20, 40)"
      ],
      "metadata": {
        "colab": {
          "base_uri": "https://localhost:8080/"
        },
        "id": "wJZIKNW5zQ2s",
        "outputId": "50766434-80a0-4980-bc8b-654f6a23de6b"
      },
      "execution_count": 9,
      "outputs": [
        {
          "output_type": "execute_result",
          "data": {
            "text/plain": [
              "(10, 20, 40)"
            ]
          },
          "metadata": {},
          "execution_count": 9
        }
      ]
    },
    {
      "cell_type": "code",
      "source": [],
      "metadata": {
        "id": "RFV0AMr41Hkr"
      },
      "execution_count": null,
      "outputs": []
    },
    {
      "cell_type": "code",
      "source": [
        "def func3(*args, a):\n",
        "  return args, a"
      ],
      "metadata": {
        "id": "EWq0TnQ7zQ5v"
      },
      "execution_count": 10,
      "outputs": []
    },
    {
      "cell_type": "code",
      "source": [
        "func3(10, 20, 40, 30)\n",
        "\n",
        "# The error is due to the confusion the func3 gets, that till which value,\n",
        "# 'args' value is passed and from which value, the 'a' value is passed."
      ],
      "metadata": {
        "colab": {
          "base_uri": "https://localhost:8080/",
          "height": 193
        },
        "id": "TuHOVQKAzQ86",
        "outputId": "17d3919c-3225-4463-c54d-44e62fcad8df"
      },
      "execution_count": 14,
      "outputs": [
        {
          "output_type": "error",
          "ename": "TypeError",
          "evalue": "func3() missing 1 required keyword-only argument: 'a'",
          "traceback": [
            "\u001b[0;31m---------------------------------------------------------------------------\u001b[0m",
            "\u001b[0;31mTypeError\u001b[0m                                 Traceback (most recent call last)",
            "\u001b[0;32m<ipython-input-14-8b00db68f532>\u001b[0m in \u001b[0;36m<cell line: 1>\u001b[0;34m()\u001b[0m\n\u001b[0;32m----> 1\u001b[0;31m \u001b[0mfunc3\u001b[0m\u001b[0;34m(\u001b[0m\u001b[0;36m10\u001b[0m\u001b[0;34m,\u001b[0m \u001b[0;36m20\u001b[0m\u001b[0;34m,\u001b[0m \u001b[0;36m40\u001b[0m\u001b[0;34m,\u001b[0m \u001b[0;36m30\u001b[0m\u001b[0;34m)\u001b[0m\u001b[0;34m\u001b[0m\u001b[0;34m\u001b[0m\u001b[0m\n\u001b[0m\u001b[1;32m      2\u001b[0m \u001b[0;34m\u001b[0m\u001b[0m\n\u001b[1;32m      3\u001b[0m \u001b[0;31m# The error is due to the confusion the func3 gets, that till which value,\u001b[0m\u001b[0;34m\u001b[0m\u001b[0;34m\u001b[0m\u001b[0m\n\u001b[1;32m      4\u001b[0m \u001b[0;31m# 'args' value is passed and from which value, the 'a' value is passed.\u001b[0m\u001b[0;34m\u001b[0m\u001b[0;34m\u001b[0m\u001b[0m\n",
            "\u001b[0;31mTypeError\u001b[0m: func3() missing 1 required keyword-only argument: 'a'"
          ]
        }
      ]
    },
    {
      "cell_type": "code",
      "source": [
        "# This is a method to pass dynamic argument with another single argument.\n",
        "# While passing 'args' values, mention the single variable with its name like 'a'.\n",
        "\n",
        "func3(10, 20, 40, a= 30)"
      ],
      "metadata": {
        "colab": {
          "base_uri": "https://localhost:8080/"
        },
        "id": "uRtBVED3zQ_p",
        "outputId": "1b521335-2ba2-4321-e4bc-babd8353a5e3"
      },
      "execution_count": 13,
      "outputs": [
        {
          "output_type": "execute_result",
          "data": {
            "text/plain": [
              "((10, 20, 40), 30)"
            ]
          },
          "metadata": {},
          "execution_count": 13
        }
      ]
    },
    {
      "cell_type": "code",
      "source": [],
      "metadata": {
        "id": "x-GKtHcjzRCV"
      },
      "execution_count": 15,
      "outputs": []
    },
    {
      "cell_type": "code",
      "source": [
        "def func4(a= 10, b= 20, c, d):\n",
        "  return a,b,c,d"
      ],
      "metadata": {
        "colab": {
          "base_uri": "https://localhost:8080/",
          "height": 106
        },
        "id": "wwLN_GA8zRFB",
        "outputId": "32bed117-1289-4bbc-bb5c-acdc42c3b338"
      },
      "execution_count": 16,
      "outputs": [
        {
          "output_type": "error",
          "ename": "SyntaxError",
          "evalue": "non-default argument follows default argument (<ipython-input-16-251ccf9d21f1>, line 1)",
          "traceback": [
            "\u001b[0;36m  File \u001b[0;32m\"<ipython-input-16-251ccf9d21f1>\"\u001b[0;36m, line \u001b[0;32m1\u001b[0m\n\u001b[0;31m    def func4(a= 10, b= 20, c, d):\u001b[0m\n\u001b[0m                            ^\u001b[0m\n\u001b[0;31mSyntaxError\u001b[0m\u001b[0;31m:\u001b[0m non-default argument follows default argument\n"
          ]
        }
      ]
    },
    {
      "cell_type": "code",
      "source": [],
      "metadata": {
        "id": "ogy4MEFhcLi5"
      },
      "execution_count": null,
      "outputs": []
    },
    {
      "cell_type": "markdown",
      "source": [
        "NOTE: We need to pass non-default args after default args.\n",
        "\n",
        "Here, we need to pass known variables(a,b) after the unknown varaibles(c,d) ."
      ],
      "metadata": {
        "id": "FWutqfp3FMmA"
      }
    },
    {
      "cell_type": "code",
      "source": [
        "def func4(c, d, a= 10, b= 20):\n",
        "  return a,b,c,d"
      ],
      "metadata": {
        "id": "sQE_rn1KzRHr"
      },
      "execution_count": 17,
      "outputs": []
    },
    {
      "cell_type": "code",
      "source": [
        "func4()"
      ],
      "metadata": {
        "colab": {
          "base_uri": "https://localhost:8080/",
          "height": 141
        },
        "id": "tSZTIDw4zRLI",
        "outputId": "32c2bf1a-5dc2-473b-c2f9-c97b7e128045"
      },
      "execution_count": 18,
      "outputs": [
        {
          "output_type": "error",
          "ename": "TypeError",
          "evalue": "func4() missing 2 required positional arguments: 'c' and 'd'",
          "traceback": [
            "\u001b[0;31m---------------------------------------------------------------------------\u001b[0m",
            "\u001b[0;31mTypeError\u001b[0m                                 Traceback (most recent call last)",
            "\u001b[0;32m<ipython-input-18-0e6ad11a93c1>\u001b[0m in \u001b[0;36m<cell line: 1>\u001b[0;34m()\u001b[0m\n\u001b[0;32m----> 1\u001b[0;31m \u001b[0mfunc4\u001b[0m\u001b[0;34m(\u001b[0m\u001b[0;34m)\u001b[0m\u001b[0;34m\u001b[0m\u001b[0;34m\u001b[0m\u001b[0m\n\u001b[0m",
            "\u001b[0;31mTypeError\u001b[0m: func4() missing 2 required positional arguments: 'c' and 'd'"
          ]
        }
      ]
    },
    {
      "cell_type": "code",
      "source": [
        "func4(30, 40)"
      ],
      "metadata": {
        "colab": {
          "base_uri": "https://localhost:8080/"
        },
        "id": "njl7zYdUE8on",
        "outputId": "91c95586-a352-49bf-ddd0-54e3b102905d"
      },
      "execution_count": 20,
      "outputs": [
        {
          "output_type": "execute_result",
          "data": {
            "text/plain": [
              "(10, 20, 30, 40)"
            ]
          },
          "metadata": {},
          "execution_count": 20
        }
      ]
    },
    {
      "cell_type": "code",
      "source": [],
      "metadata": {
        "id": "YXN-RajUFG5_"
      },
      "execution_count": null,
      "outputs": []
    },
    {
      "cell_type": "markdown",
      "source": [
        "# Overiding the default argument."
      ],
      "metadata": {
        "id": "wlUxmXRiGEFn"
      }
    },
    {
      "cell_type": "code",
      "source": [
        "func4(30, 40, a= 500)"
      ],
      "metadata": {
        "colab": {
          "base_uri": "https://localhost:8080/"
        },
        "id": "MVESLnZuGKUP",
        "outputId": "a5101093-2d71-491f-c170-0400d65797ff"
      },
      "execution_count": 21,
      "outputs": [
        {
          "output_type": "execute_result",
          "data": {
            "text/plain": [
              "(500, 20, 30, 40)"
            ]
          },
          "metadata": {},
          "execution_count": 21
        }
      ]
    },
    {
      "cell_type": "code",
      "source": [],
      "metadata": {
        "id": "thIs4Q_dGUaZ"
      },
      "execution_count": null,
      "outputs": []
    },
    {
      "cell_type": "markdown",
      "source": [
        "# **kwargs\n",
        "\n",
        "If we want arguments to be passed in dictionary format, then we use **kwargs."
      ],
      "metadata": {
        "id": "zXT9oTpBaAZm"
      }
    },
    {
      "cell_type": "code",
      "source": [
        "def func5(**kwargs):\n",
        "  return kwargs"
      ],
      "metadata": {
        "id": "VslGTV7WaO09"
      },
      "execution_count": 22,
      "outputs": []
    },
    {
      "cell_type": "code",
      "source": [
        "func5()"
      ],
      "metadata": {
        "colab": {
          "base_uri": "https://localhost:8080/"
        },
        "id": "STcv4upRaR36",
        "outputId": "366b3b3d-940b-40d8-f264-33e2bf335daf"
      },
      "execution_count": 23,
      "outputs": [
        {
          "output_type": "execute_result",
          "data": {
            "text/plain": [
              "{}"
            ]
          },
          "metadata": {},
          "execution_count": 23
        }
      ]
    },
    {
      "cell_type": "code",
      "source": [
        "type(func5())"
      ],
      "metadata": {
        "colab": {
          "base_uri": "https://localhost:8080/"
        },
        "id": "97mRnH7eaR64",
        "outputId": "9d7de9b5-ea07-410e-e3d3-497ab5773efb"
      },
      "execution_count": 24,
      "outputs": [
        {
          "output_type": "execute_result",
          "data": {
            "text/plain": [
              "dict"
            ]
          },
          "metadata": {},
          "execution_count": 24
        }
      ]
    },
    {
      "cell_type": "code",
      "source": [
        "# Now when passing arguments in this function\n",
        "\n",
        "func5(a= [10, 20, 30], b= \"Monika\", c= 99.999)"
      ],
      "metadata": {
        "colab": {
          "base_uri": "https://localhost:8080/"
        },
        "id": "AJc8VDlzaR-O",
        "outputId": "56d1aff6-e728-4747-a303-9e5f812a414b"
      },
      "execution_count": 27,
      "outputs": [
        {
          "output_type": "execute_result",
          "data": {
            "text/plain": [
              "{'a': [10, 20, 30], 'b': 'Monika', 'c': 99.999}"
            ]
          },
          "metadata": {},
          "execution_count": 27
        }
      ]
    },
    {
      "cell_type": "code",
      "source": [],
      "metadata": {
        "id": "CQeF_CaMaSQW"
      },
      "execution_count": null,
      "outputs": []
    }
  ]
}
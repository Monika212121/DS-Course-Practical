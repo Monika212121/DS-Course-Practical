{
  "nbformat": 4,
  "nbformat_minor": 0,
  "metadata": {
    "colab": {
      "provenance": []
    },
    "kernelspec": {
      "name": "python3",
      "display_name": "Python 3"
    },
    "language_info": {
      "name": "python"
    }
  },
  "cells": [
    {
      "cell_type": "markdown",
      "source": [
        "# Frequency Distribution\n",
        "\n",
        "- A frequency distribution tells us the frequency of each vocabulary item in the text.\n",
        "\n",
        "- In general, it could count any kind of observable event.\n",
        "\n",
        "- It is a distribution because it tells us how the total number of word tokens in the text are distributed across the vocabulary items."
      ],
      "metadata": {
        "id": "26x_tnneQCnl"
      }
    },
    {
      "cell_type": "code",
      "execution_count": null,
      "metadata": {
        "id": "ZgdVj9BPP53X"
      },
      "outputs": [],
      "source": [
        "from collections import Counter"
      ]
    },
    {
      "cell_type": "code",
      "source": [
        "sample_txt = \"I own a big farm . There are many trees of different variety . Apple trees , mango trees , pomegranate trees , papaya trees , blueberry trees , strawberry trees . I love pomegranate . Pomegranate is my favourite .\""
      ],
      "metadata": {
        "id": "SydV11m6QAqh"
      },
      "execution_count": null,
      "outputs": []
    },
    {
      "cell_type": "markdown",
      "source": [
        "## Tokenization"
      ],
      "metadata": {
        "id": "DFdcQMePRVD9"
      }
    },
    {
      "cell_type": "code",
      "source": [
        "words = sample_txt.split()\n",
        "len(words)"
      ],
      "metadata": {
        "colab": {
          "base_uri": "https://localhost:8080/"
        },
        "id": "GBFqcwvVQAte",
        "outputId": "857fa08b-ed3e-440a-bfbe-0628f66bff1d"
      },
      "execution_count": null,
      "outputs": [
        {
          "output_type": "execute_result",
          "data": {
            "text/plain": [
              "41"
            ]
          },
          "metadata": {},
          "execution_count": 11
        }
      ]
    },
    {
      "cell_type": "code",
      "source": [
        "words"
      ],
      "metadata": {
        "colab": {
          "base_uri": "https://localhost:8080/"
        },
        "id": "lTlsKHU6QAwd",
        "outputId": "575f48cb-a1a3-442b-e355-257914776aea"
      },
      "execution_count": null,
      "outputs": [
        {
          "output_type": "execute_result",
          "data": {
            "text/plain": [
              "['I',\n",
              " 'own',\n",
              " 'a',\n",
              " 'big',\n",
              " 'farm',\n",
              " '.',\n",
              " 'There',\n",
              " 'are',\n",
              " 'many',\n",
              " 'trees',\n",
              " 'of',\n",
              " 'different',\n",
              " 'variety',\n",
              " '.',\n",
              " 'Apple',\n",
              " 'trees',\n",
              " ',',\n",
              " 'mango',\n",
              " 'trees',\n",
              " ',',\n",
              " 'pomegranate',\n",
              " 'trees',\n",
              " ',',\n",
              " 'papaya',\n",
              " 'trees',\n",
              " ',',\n",
              " 'blueberry',\n",
              " 'trees',\n",
              " ',',\n",
              " 'strawberry',\n",
              " 'trees',\n",
              " '.',\n",
              " 'I',\n",
              " 'love',\n",
              " 'pomegranate',\n",
              " '.',\n",
              " 'Pomegranate',\n",
              " 'is',\n",
              " 'my',\n",
              " 'favourite',\n",
              " '.']"
            ]
          },
          "metadata": {},
          "execution_count": 12
        }
      ]
    },
    {
      "cell_type": "code",
      "source": [],
      "metadata": {
        "id": "2VpsoTwgQAzi"
      },
      "execution_count": null,
      "outputs": []
    },
    {
      "cell_type": "markdown",
      "source": [
        "## Calculating word frequency"
      ],
      "metadata": {
        "id": "Ot0fRLlURcrh"
      }
    },
    {
      "cell_type": "code",
      "source": [
        "word_frequency = Counter(words)\n",
        "word_frequency"
      ],
      "metadata": {
        "colab": {
          "base_uri": "https://localhost:8080/"
        },
        "id": "VMw9OkxtQA2L",
        "outputId": "4d82f33d-c8ed-47fd-d86e-46e4f1f33997"
      },
      "execution_count": null,
      "outputs": [
        {
          "output_type": "execute_result",
          "data": {
            "text/plain": [
              "Counter({'I': 2,\n",
              "         'own': 1,\n",
              "         'a': 1,\n",
              "         'big': 1,\n",
              "         'farm': 1,\n",
              "         '.': 5,\n",
              "         'There': 1,\n",
              "         'are': 1,\n",
              "         'many': 1,\n",
              "         'trees': 7,\n",
              "         'of': 1,\n",
              "         'different': 1,\n",
              "         'variety': 1,\n",
              "         'Apple': 1,\n",
              "         ',': 5,\n",
              "         'mango': 1,\n",
              "         'pomegranate': 2,\n",
              "         'papaya': 1,\n",
              "         'blueberry': 1,\n",
              "         'strawberry': 1,\n",
              "         'love': 1,\n",
              "         'Pomegranate': 1,\n",
              "         'is': 1,\n",
              "         'my': 1,\n",
              "         'favourite': 1})"
            ]
          },
          "metadata": {},
          "execution_count": 13
        }
      ]
    },
    {
      "cell_type": "code",
      "source": [
        "type(word_frequency)"
      ],
      "metadata": {
        "colab": {
          "base_uri": "https://localhost:8080/",
          "height": 187
        },
        "id": "--yBsLIKTWoS",
        "outputId": "8fe9c31e-50f5-4230-cbda-d7d53d343322"
      },
      "execution_count": null,
      "outputs": [
        {
          "output_type": "execute_result",
          "data": {
            "text/plain": [
              "collections.Counter"
            ],
            "text/html": [
              "<div style=\"max-width:800px; border: 1px solid var(--colab-border-color);\"><style>\n",
              "      pre.function-repr-contents {\n",
              "        overflow-x: auto;\n",
              "        padding: 8px 12px;\n",
              "        max-height: 500px;\n",
              "      }\n",
              "\n",
              "      pre.function-repr-contents.function-repr-contents-collapsed {\n",
              "        cursor: pointer;\n",
              "        max-height: 100px;\n",
              "      }\n",
              "    </style>\n",
              "    <pre style=\"white-space: initial; background:\n",
              "         var(--colab-secondary-surface-color); padding: 8px 12px;\n",
              "         border-bottom: 1px solid var(--colab-border-color);\"><b>collections.Counter</b><br/>def __init__(self, iterable=None, /, **kwds)</pre><pre class=\"function-repr-contents function-repr-contents-collapsed\" style=\"\"><a class=\"filepath\" style=\"display:none\" href=\"#\">/usr/lib/python3.12/collections/__init__.py</a>Dict subclass for counting hashable items.  Sometimes called a bag\n",
              "or multiset.  Elements are stored as dictionary keys and their counts\n",
              "are stored as dictionary values.\n",
              "\n",
              "&gt;&gt;&gt; c = Counter(&#x27;abcdeabcdabcaba&#x27;)  # count elements from a string\n",
              "\n",
              "&gt;&gt;&gt; c.most_common(3)                # three most common elements\n",
              "[(&#x27;a&#x27;, 5), (&#x27;b&#x27;, 4), (&#x27;c&#x27;, 3)]\n",
              "&gt;&gt;&gt; sorted(c)                       # list all unique elements\n",
              "[&#x27;a&#x27;, &#x27;b&#x27;, &#x27;c&#x27;, &#x27;d&#x27;, &#x27;e&#x27;]\n",
              "&gt;&gt;&gt; &#x27;&#x27;.join(sorted(c.elements()))   # list elements with repetitions\n",
              "&#x27;aaaaabbbbcccdde&#x27;\n",
              "&gt;&gt;&gt; sum(c.values())                 # total of all counts\n",
              "15\n",
              "\n",
              "&gt;&gt;&gt; c[&#x27;a&#x27;]                          # count of letter &#x27;a&#x27;\n",
              "5\n",
              "&gt;&gt;&gt; for elem in &#x27;shazam&#x27;:           # update counts from an iterable\n",
              "...     c[elem] += 1                # by adding 1 to each element&#x27;s count\n",
              "&gt;&gt;&gt; c[&#x27;a&#x27;]                          # now there are seven &#x27;a&#x27;\n",
              "7\n",
              "&gt;&gt;&gt; del c[&#x27;b&#x27;]                      # remove all &#x27;b&#x27;\n",
              "&gt;&gt;&gt; c[&#x27;b&#x27;]                          # now there are zero &#x27;b&#x27;\n",
              "0\n",
              "\n",
              "&gt;&gt;&gt; d = Counter(&#x27;simsalabim&#x27;)       # make another counter\n",
              "&gt;&gt;&gt; c.update(d)                     # add in the second counter\n",
              "&gt;&gt;&gt; c[&#x27;a&#x27;]                          # now there are nine &#x27;a&#x27;\n",
              "9\n",
              "\n",
              "&gt;&gt;&gt; c.clear()                       # empty the counter\n",
              "&gt;&gt;&gt; c\n",
              "Counter()\n",
              "\n",
              "Note:  If a count is set to zero or reduced to zero, it will remain\n",
              "in the counter until the entry is deleted or the counter is cleared:\n",
              "\n",
              "&gt;&gt;&gt; c = Counter(&#x27;aaabbc&#x27;)\n",
              "&gt;&gt;&gt; c[&#x27;b&#x27;] -= 2                     # reduce the count of &#x27;b&#x27; by two\n",
              "&gt;&gt;&gt; c.most_common()                 # &#x27;b&#x27; is still in, but its count is zero\n",
              "[(&#x27;a&#x27;, 3), (&#x27;c&#x27;, 1), (&#x27;b&#x27;, 0)]</pre>\n",
              "      <script>\n",
              "      if (google.colab.kernel.accessAllowed && google.colab.files && google.colab.files.view) {\n",
              "        for (const element of document.querySelectorAll('.filepath')) {\n",
              "          element.style.display = 'block'\n",
              "          element.onclick = (event) => {\n",
              "            event.preventDefault();\n",
              "            event.stopPropagation();\n",
              "            google.colab.files.view(element.textContent, 544);\n",
              "          };\n",
              "        }\n",
              "      }\n",
              "      for (const element of document.querySelectorAll('.function-repr-contents')) {\n",
              "        element.onclick = (event) => {\n",
              "          event.preventDefault();\n",
              "          event.stopPropagation();\n",
              "          element.classList.toggle('function-repr-contents-collapsed');\n",
              "        };\n",
              "      }\n",
              "      </script>\n",
              "      </div>"
            ]
          },
          "metadata": {},
          "execution_count": 17
        }
      ]
    },
    {
      "cell_type": "code",
      "source": [
        "type(word_frequency.items())"
      ],
      "metadata": {
        "colab": {
          "base_uri": "https://localhost:8080/"
        },
        "id": "4vSUVbmxTN3n",
        "outputId": "b49f09f3-b882-4358-8364-a056bffabf9b"
      },
      "execution_count": null,
      "outputs": [
        {
          "output_type": "execute_result",
          "data": {
            "text/plain": [
              "dict_items"
            ]
          },
          "metadata": {},
          "execution_count": 24
        }
      ]
    },
    {
      "cell_type": "markdown",
      "source": [
        "NOTE: We can't traverse in counter, so we traverse in ```word_frequency.items()``` which is a ```dict items```."
      ],
      "metadata": {
        "id": "WlC_3AIwUI4z"
      }
    },
    {
      "cell_type": "code",
      "source": [
        "word_frequency.items()"
      ],
      "metadata": {
        "colab": {
          "base_uri": "https://localhost:8080/"
        },
        "id": "iNTrwor3TbZb",
        "outputId": "ef80e2fc-b214-4ec7-84db-f6aa06a7ccfe"
      },
      "execution_count": null,
      "outputs": [
        {
          "output_type": "execute_result",
          "data": {
            "text/plain": [
              "dict_items([('I', 2), ('own', 1), ('a', 1), ('big', 1), ('farm', 1), ('.', 5), ('There', 1), ('are', 1), ('many', 1), ('trees', 7), ('of', 1), ('different', 1), ('variety', 1), ('Apple', 1), (',', 5), ('mango', 1), ('pomegranate', 2), ('papaya', 1), ('blueberry', 1), ('strawberry', 1), ('love', 1), ('Pomegranate', 1), ('is', 1), ('my', 1), ('favourite', 1)])"
            ]
          },
          "metadata": {},
          "execution_count": 22
        }
      ]
    },
    {
      "cell_type": "code",
      "source": [],
      "metadata": {
        "id": "HrvHfA48TbV6"
      },
      "execution_count": null,
      "outputs": []
    },
    {
      "cell_type": "code",
      "source": [
        "print(\"Displaying the frequency distribution\")\n",
        "print(\"Word\\t\\tFrequency\")\n",
        "print(\"------------------------\")\n",
        "\n",
        "for word, frequency in word_frequency.items():\n",
        "  print(f\"{word}\\t\\t{frequency}\")\n"
      ],
      "metadata": {
        "colab": {
          "base_uri": "https://localhost:8080/"
        },
        "id": "0inSKEh8QA79",
        "outputId": "6750c3ee-4569-4dd8-f977-4463fbff8f00"
      },
      "execution_count": null,
      "outputs": [
        {
          "output_type": "stream",
          "name": "stdout",
          "text": [
            "Displaying the frequency distribution\n",
            "Word\t\tFrequency\n",
            "------------------------\n",
            "I\t\t2\n",
            "own\t\t1\n",
            "a\t\t1\n",
            "big\t\t1\n",
            "farm\t\t1\n",
            ".\t\t5\n",
            "There\t\t1\n",
            "are\t\t1\n",
            "many\t\t1\n",
            "trees\t\t7\n",
            "of\t\t1\n",
            "different\t\t1\n",
            "variety\t\t1\n",
            "Apple\t\t1\n",
            ",\t\t5\n",
            "mango\t\t1\n",
            "pomegranate\t\t2\n",
            "papaya\t\t1\n",
            "blueberry\t\t1\n",
            "strawberry\t\t1\n",
            "love\t\t1\n",
            "Pomegranate\t\t1\n",
            "is\t\t1\n",
            "my\t\t1\n",
            "favourite\t\t1\n"
          ]
        }
      ]
    },
    {
      "cell_type": "code",
      "source": [],
      "metadata": {
        "id": "bPI0VHnLQA_U"
      },
      "execution_count": null,
      "outputs": []
    },
    {
      "cell_type": "code",
      "source": [],
      "metadata": {
        "id": "gLvRh5jNQBCe"
      },
      "execution_count": null,
      "outputs": []
    }
  ]
}